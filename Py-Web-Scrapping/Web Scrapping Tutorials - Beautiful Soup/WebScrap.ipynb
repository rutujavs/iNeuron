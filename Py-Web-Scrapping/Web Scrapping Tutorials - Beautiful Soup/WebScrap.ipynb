{
 "cells": [
  {
   "cell_type": "code",
   "execution_count": 1,
   "metadata": {},
   "outputs": [],
   "source": [
    "import requests\n",
    "from bs4 import BeautifulSoup"
   ]
  },
  {
   "cell_type": "code",
   "execution_count": 2,
   "metadata": {},
   "outputs": [],
   "source": [
    "url = 'https://www.google.com'\n",
    "res = requests.get(url).content "
   ]
  },
  {
   "cell_type": "code",
   "execution_count": 3,
   "metadata": {},
   "outputs": [],
   "source": [
    "soup = BeautifulSoup(res,'lxml')"
   ]
  },
  {
   "cell_type": "code",
   "execution_count": 4,
   "metadata": {},
   "outputs": [
    {
     "name": "stdout",
     "output_type": "stream",
     "text": [
      "<!DOCTYPE html>\n",
      "<html itemscope=\"\" itemtype=\"http://schema.org/WebPage\" lang=\"en-IN\">\n",
      " <head>\n",
      "  <meta content=\"text/html; charset=utf-8\" http-equiv=\"Content-Type\"/>\n",
      "  <meta content=\"/images/branding/googleg/1x/googleg_standard_color_128dp.png\" itemprop=\"image\"/>\n",
      "  <title>\n",
      "   Google\n",
      "  </title>\n",
      "  <script nonce=\"++GQQesxikD6mBEdztnRKA==\">\n",
      "   (function(){window.google={kEI:'LpomX8TfHdKX4-EP9K-psAM',kEXPI:'0,202123,3,4,32,1151585,5662,731,223,5105,206,3204,10,1226,364,1499,611,93,113,383,246,5,1015,114,225,648,1046,1269,667,470,314,3,370,625,56,89,56,137,735,244,106,342,1120589,1197782,416,329069,13677,4855,32692,15247,867,6056,11388,11240,893,8295,8384,4858,1362,9291,3024,3893,850,2136,7077,1820,1808,4020,978,7931,5297,2054,920,873,1217,2975,6430,1141,6291,1221,5874,4517,2778,919,2277,8,2796,1593,1165,114,2212,530,149,1103,840,517,1137,278,107,158,4100,312,1132,4,3,2063,606,2023,545,1232,143,377,1947,2229,95,326,1284,16,2927,2247,1819,1780,3227,2845,7,5599,469,6286,4454,642,2450,3684,1742,4929,108,1710,1698,907,2,941,2614,2397,1386,4949,3312,1098,3,346,230,970,865,7,3911,707,148,189,3313,2488,2252,1991,1998,83,1661,4,1528,1295,379,630,224,1004,8,271,874,405,42,1818,445,1650,298,73,567,1151,52,214,762,440,961,464,459,116,759,468,212,601,1962,1504,292,1973,89,1493,520,1267,1426,69,305,2310,1514,1297,940,8,1,1,286,68,449,690,1968,245,300,860,60,2589,107,82,57,263,198,25,887,256,21,216,71,689,376,7,46,32,130,80,253,35,410,1154,6,153,178,1370,222,1,152,504,205,2,215,216,21,10,36,323,758,223,430,280,63,137,393,169,535,1109,130,55,1456,1211,296,698,9,326,354,170,740,506,5782590,1874,1648,5,5997173,2801216,549,333,444,1,2,80,1,900,896,1,9,2,2551,1,748,141,59,736,563,1,4265,1,1,2,1017,9,305,3299,248,85,6,37,36,67,4,4,4,4,4,4,4,3501938,20458660,2701891',kBL:'YyCE'};google.sn='webhp';google.kHL='en-IN';})();(function(){google.lc=[];google.li=0;google.getEI=function(a){for(var c;a&&(!a.getAttribute||!(c=a.getAttribute(\"eid\")));)a=a.parentNode;return c||google.kEI};google.getLEI=function(a){for(var c=null;a&&(!a.getAttribute||!(c=a.getAttribute(\"leid\")));)a=a.parentNode;return c};google.ml=function(){return null};google.time=function(){return Date.now()};google.log=function(a,c,b,d,g){if(b=google.logUrl(a,c,b,d,g)){a=new Image;var e=google.lc,f=google.li;e[f]=a;a.onerror=a.onload=a.onabort=function(){delete e[f]};google.vel&&google.vel.lu&&google.vel.lu(b);a.src=b;google.li=f+1}};google.logUrl=function(a,c,b,d,g){var e=\"\",f=google.ls||\"\";b||-1!=c.search(\"&ei=\")||(e=\"&ei=\"+google.getEI(d),-1==c.search(\"&lei=\")&&(d=google.getLEI(d))&&(e+=\"&lei=\"+d));d=\"\";!b&&google.cshid&&-1==c.search(\"&cshid=\")&&\"slh\"!=a&&(d=\"&cshid=\"+google.cshid);b=b||\"/\"+(g||\"gen_204\")+\"?atyp=i&ct=\"+a+\"&cad=\"+c+e+f+\"&zx=\"+google.time()+d;/^http:/i.test(b)&&\"https:\"==window.location.protocol&&(google.ml(Error(\"a\"),!1,{src:b,glmm:1}),b=\"\");return b};}).call(this);(function(){google.y={};google.x=function(a,b){if(a)var c=a.id;else{do c=Math.random();while(google.y[c])}google.y[c]=[a,b];return!1};google.lm=[];google.plm=function(a){google.lm.push.apply(google.lm,a)};google.lq=[];google.load=function(a,b,c){google.lq.push([[a],b,c])};google.loadAll=function(a,b){google.lq.push([a,b])};}).call(this);google.f={};(function(){\n",
      "document.documentElement.addEventListener(\"submit\",function(b){var a;if(a=b.target){var c=a.getAttribute(\"data-submitfalse\");a=\"1\"==c||\"q\"==c&&!a.elements.q.value?!0:!1}else a=!1;a&&(b.preventDefault(),b.stopPropagation())},!0);document.documentElement.addEventListener(\"click\",function(b){var a;a:{for(a=b.target;a&&a!=document.documentElement;a=a.parentElement)if(\"A\"==a.tagName){a=\"1\"==a.getAttribute(\"data-nohref\");break a}a=!1}a&&b.preventDefault()},!0);}).call(this);\n",
      "var a=window.location,b=a.href.indexOf(\"#\");if(0<=b){var c=a.href.substring(b+1);/(^|&)q=/.test(c)&&-1==c.indexOf(\"#\")&&a.replace(\"/search?\"+c.replace(/(^|&)fp=[^&]*/g,\"\")+\"&cad=h\")};\n",
      "  </script>\n",
      "  <style>\n",
      "   #gbar,#guser{font-size:13px;padding-top:1px !important;}#gbar{height:22px}#guser{padding-bottom:7px !important;text-align:right}.gbh,.gbd{border-top:1px solid #c9d7f1;font-size:1px}.gbh{height:0;position:absolute;top:24px;width:100%}@media all{.gb1{height:22px;margin-right:.5em;vertical-align:top}#gbar{float:left}}a.gb1,a.gb4{text-decoration:underline !important}a.gb1,a.gb4{color:#00c !important}.gbi .gb4{color:#dd8e27 !important}.gbf .gb4{color:#900 !important}\n",
      "  </style>\n",
      "  <style>\n",
      "   body,td,a,p,.h{font-family:arial,sans-serif}body{margin:0;overflow-y:scroll}#gog{padding:3px 8px 0}td{line-height:.8em}.gac_m td{line-height:17px}form{margin-bottom:20px}.h{color:#36c}.q{color:#00c}em{font-weight:bold;font-style:normal}.lst{height:25px;width:496px}.gsfi,.lst{font:18px arial,sans-serif}.gsfs{font:17px arial,sans-serif}.ds{display:inline-box;display:inline-block;margin:3px 0 4px;margin-left:4px}input{font-family:inherit}body{background:#fff;color:#000}a{color:#11c;text-decoration:none}a:hover,a:active{text-decoration:underline}.fl a{color:#36c}a:visited{color:#551a8b}.sblc{padding-top:5px}.sblc a{display:block;margin:2px 0;margin-left:13px;font-size:11px}.lsbb{background:#eee;border:solid 1px;border-color:#ccc #999 #999 #ccc;height:30px}.lsbb{display:block}#fll a{display:inline-block;margin:0 12px}.lsb{background:url(/images/nav_logo229.png) 0 -261px repeat-x;border:none;color:#000;cursor:pointer;height:30px;margin:0;outline:0;font:15px arial,sans-serif;vertical-align:top}.lsb:active{background:#ccc}.lst:focus{outline:none}\n",
      "  </style>\n",
      "  <script nonce=\"++GQQesxikD6mBEdztnRKA==\">\n",
      "  </script>\n",
      " </head>\n",
      " <body bgcolor=\"#fff\">\n",
      "  <script nonce=\"++GQQesxikD6mBEdztnRKA==\">\n",
      "   (function(){var src='/images/nav_logo229.png';var iesg=false;document.body.onload = function(){window.n && window.n();if (document.images){new Image().src=src;}\n",
      "if (!iesg){document.f&&document.f.q.focus();document.gbqf&&document.gbqf.q.focus();}\n",
      "}\n",
      "})();\n",
      "  </script>\n",
      "  <div id=\"mngb\">\n",
      "   <div id=\"gbar\">\n",
      "    <nobr>\n",
      "     <b class=\"gb1\">\n",
      "      Search\n",
      "     </b>\n",
      "     <a class=\"gb1\" href=\"https://www.google.co.in/imghp?hl=en&amp;tab=wi\">\n",
      "      Images\n",
      "     </a>\n",
      "     <a class=\"gb1\" href=\"https://maps.google.co.in/maps?hl=en&amp;tab=wl\">\n",
      "      Maps\n",
      "     </a>\n",
      "     <a class=\"gb1\" href=\"https://play.google.com/?hl=en&amp;tab=w8\">\n",
      "      Play\n",
      "     </a>\n",
      "     <a class=\"gb1\" href=\"https://www.youtube.com/?gl=IN&amp;tab=w1\">\n",
      "      YouTube\n",
      "     </a>\n",
      "     <a class=\"gb1\" href=\"https://news.google.co.in/nwshp?hl=en&amp;tab=wn\">\n",
      "      News\n",
      "     </a>\n",
      "     <a class=\"gb1\" href=\"https://mail.google.com/mail/?tab=wm\">\n",
      "      Gmail\n",
      "     </a>\n",
      "     <a class=\"gb1\" href=\"https://drive.google.com/?tab=wo\">\n",
      "      Drive\n",
      "     </a>\n",
      "     <a class=\"gb1\" href=\"https://www.google.co.in/intl/en/about/products?tab=wh\" style=\"text-decoration:none\">\n",
      "      <u>\n",
      "       More\n",
      "      </u>\n",
      "      »\n",
      "     </a>\n",
      "    </nobr>\n",
      "   </div>\n",
      "   <div id=\"guser\" width=\"100%\">\n",
      "    <nobr>\n",
      "     <span class=\"gbi\" id=\"gbn\">\n",
      "     </span>\n",
      "     <span class=\"gbf\" id=\"gbf\">\n",
      "     </span>\n",
      "     <span id=\"gbe\">\n",
      "     </span>\n",
      "     <a class=\"gb4\" href=\"http://www.google.co.in/history/optout?hl=en\">\n",
      "      Web History\n",
      "     </a>\n",
      "     |\n",
      "     <a class=\"gb4\" href=\"/preferences?hl=en\">\n",
      "      Settings\n",
      "     </a>\n",
      "     |\n",
      "     <a class=\"gb4\" href=\"https://accounts.google.com/ServiceLogin?hl=en&amp;passive=true&amp;continue=https://www.google.com/\" id=\"gb_70\" target=\"_top\">\n",
      "      Sign in\n",
      "     </a>\n",
      "    </nobr>\n",
      "   </div>\n",
      "   <div class=\"gbh\" style=\"left:0\">\n",
      "   </div>\n",
      "   <div class=\"gbh\" style=\"right:0\">\n",
      "   </div>\n",
      "  </div>\n",
      "  <center>\n",
      "   <br clear=\"all\" id=\"lgpd\"/>\n",
      "   <div id=\"lga\">\n",
      "    <img alt=\"Google\" height=\"92\" id=\"hplogo\" src=\"/images/branding/googlelogo/1x/googlelogo_white_background_color_272x92dp.png\" style=\"padding:28px 0 14px\" width=\"272\"/>\n",
      "    <br/>\n",
      "    <br/>\n",
      "   </div>\n",
      "   <form action=\"/search\" name=\"f\">\n",
      "    <table cellpadding=\"0\" cellspacing=\"0\">\n",
      "     <tr valign=\"top\">\n",
      "      <td width=\"25%\">\n",
      "      </td>\n",
      "      <td align=\"center\" nowrap=\"\">\n",
      "       <input name=\"ie\" type=\"hidden\" value=\"ISO-8859-1\"/>\n",
      "       <input name=\"hl\" type=\"hidden\" value=\"en-IN\"/>\n",
      "       <input name=\"source\" type=\"hidden\" value=\"hp\"/>\n",
      "       <input name=\"biw\" type=\"hidden\"/>\n",
      "       <input name=\"bih\" type=\"hidden\"/>\n",
      "       <div class=\"ds\" style=\"height:32px;margin:4px 0\">\n",
      "        <input autocomplete=\"off\" class=\"lst\" maxlength=\"2048\" name=\"q\" size=\"57\" style=\"margin:0;padding:5px 8px 0 6px;vertical-align:top;color:#000\" title=\"Google Search\" value=\"\"/>\n",
      "       </div>\n",
      "       <br style=\"line-height:0\"/>\n",
      "       <span class=\"ds\">\n",
      "        <span class=\"lsbb\">\n",
      "         <input class=\"lsb\" name=\"btnG\" type=\"submit\" value=\"Google Search\"/>\n",
      "        </span>\n",
      "       </span>\n",
      "       <span class=\"ds\">\n",
      "        <span class=\"lsbb\">\n",
      "         <input class=\"lsb\" id=\"tsuid1\" name=\"btnI\" type=\"submit\" value=\"I'm Feeling Lucky\"/>\n",
      "         <script nonce=\"++GQQesxikD6mBEdztnRKA==\">\n",
      "          (function(){var id='tsuid1';document.getElementById(id).onclick = function(){if (this.form.q.value){this.checked = 1;if (this.form.iflsig)this.form.iflsig.disabled = false;}\n",
      "else top.location='/doodles/';};})();\n",
      "         </script>\n",
      "         <input name=\"iflsig\" type=\"hidden\" value=\"AINFCbYAAAAAXyaoPgLsb02e8z-BV4ksPmat1jqQcPO_\"/>\n",
      "        </span>\n",
      "       </span>\n",
      "      </td>\n",
      "      <td align=\"left\" class=\"fl sblc\" nowrap=\"\" width=\"25%\">\n",
      "       <a href=\"/advanced_search?hl=en-IN&amp;authuser=0\">\n",
      "        Advanced search\n",
      "       </a>\n",
      "      </td>\n",
      "     </tr>\n",
      "    </table>\n",
      "    <input id=\"gbv\" name=\"gbv\" type=\"hidden\" value=\"1\"/>\n",
      "    <script nonce=\"++GQQesxikD6mBEdztnRKA==\">\n",
      "     (function(){var a,b=\"1\";if(document&&document.getElementById)if(\"undefined\"!=typeof XMLHttpRequest)b=\"2\";else if(\"undefined\"!=typeof ActiveXObject){var c,d,e=[\"MSXML2.XMLHTTP.6.0\",\"MSXML2.XMLHTTP.3.0\",\"MSXML2.XMLHTTP\",\"Microsoft.XMLHTTP\"];for(c=0;d=e[c++];)try{new ActiveXObject(d),b=\"2\"}catch(h){}}a=b;if(\"2\"==a&&-1==location.search.indexOf(\"&gbv=2\")){var f=google.gbvu,g=document.getElementById(\"gbv\");g&&(g.value=a);f&&window.setTimeout(function(){location.href=f},0)};}).call(this);\n",
      "    </script>\n",
      "   </form>\n",
      "   <div id=\"gac_scont\">\n",
      "   </div>\n",
      "   <div style=\"font-size:83%;min-height:3.5em\">\n",
      "    <br/>\n",
      "    <div id=\"gws-output-pages-elements-homepage_additional_languages__als\">\n",
      "     <style>\n",
      "      #gws-output-pages-elements-homepage_additional_languages__als{font-size:small;margin-bottom:24px}#SIvCob{display:inline-block;line-height:28px;}#SIvCob a{padding:0 3px;}.H6sW5{display:inline-block;margin:0 2px;white-space:nowrap}.z4hgWe{display:inline-block;margin:0 2px}\n",
      "     </style>\n",
      "     <div id=\"SIvCob\">\n",
      "      Google offered in:\n",
      "      <a href=\"https://www.google.com/setprefs?sig=0_v4Tf6SdKtbi7MCJe5tT2KkLR6XM%3D&amp;hl=hi&amp;source=homepage&amp;sa=X&amp;ved=0ahUKEwjErv-wrPzqAhXSyzgGHfRXCjYQ2ZgBCAU\">\n",
      "       हिन्दी\n",
      "      </a>\n",
      "      <a href=\"https://www.google.com/setprefs?sig=0_v4Tf6SdKtbi7MCJe5tT2KkLR6XM%3D&amp;hl=bn&amp;source=homepage&amp;sa=X&amp;ved=0ahUKEwjErv-wrPzqAhXSyzgGHfRXCjYQ2ZgBCAY\">\n",
      "       বাংলা\n",
      "      </a>\n",
      "      <a href=\"https://www.google.com/setprefs?sig=0_v4Tf6SdKtbi7MCJe5tT2KkLR6XM%3D&amp;hl=te&amp;source=homepage&amp;sa=X&amp;ved=0ahUKEwjErv-wrPzqAhXSyzgGHfRXCjYQ2ZgBCAc\">\n",
      "       తెలుగు\n",
      "      </a>\n",
      "      <a href=\"https://www.google.com/setprefs?sig=0_v4Tf6SdKtbi7MCJe5tT2KkLR6XM%3D&amp;hl=mr&amp;source=homepage&amp;sa=X&amp;ved=0ahUKEwjErv-wrPzqAhXSyzgGHfRXCjYQ2ZgBCAg\">\n",
      "       मराठी\n",
      "      </a>\n",
      "      <a href=\"https://www.google.com/setprefs?sig=0_v4Tf6SdKtbi7MCJe5tT2KkLR6XM%3D&amp;hl=ta&amp;source=homepage&amp;sa=X&amp;ved=0ahUKEwjErv-wrPzqAhXSyzgGHfRXCjYQ2ZgBCAk\">\n",
      "       தமிழ்\n",
      "      </a>\n",
      "      <a href=\"https://www.google.com/setprefs?sig=0_v4Tf6SdKtbi7MCJe5tT2KkLR6XM%3D&amp;hl=gu&amp;source=homepage&amp;sa=X&amp;ved=0ahUKEwjErv-wrPzqAhXSyzgGHfRXCjYQ2ZgBCAo\">\n",
      "       ગુજરાતી\n",
      "      </a>\n",
      "      <a href=\"https://www.google.com/setprefs?sig=0_v4Tf6SdKtbi7MCJe5tT2KkLR6XM%3D&amp;hl=kn&amp;source=homepage&amp;sa=X&amp;ved=0ahUKEwjErv-wrPzqAhXSyzgGHfRXCjYQ2ZgBCAs\">\n",
      "       ಕನ್ನಡ\n",
      "      </a>\n",
      "      <a href=\"https://www.google.com/setprefs?sig=0_v4Tf6SdKtbi7MCJe5tT2KkLR6XM%3D&amp;hl=ml&amp;source=homepage&amp;sa=X&amp;ved=0ahUKEwjErv-wrPzqAhXSyzgGHfRXCjYQ2ZgBCAw\">\n",
      "       മലയാളം\n",
      "      </a>\n",
      "      <a href=\"https://www.google.com/setprefs?sig=0_v4Tf6SdKtbi7MCJe5tT2KkLR6XM%3D&amp;hl=pa&amp;source=homepage&amp;sa=X&amp;ved=0ahUKEwjErv-wrPzqAhXSyzgGHfRXCjYQ2ZgBCA0\">\n",
      "       ਪੰਜਾਬੀ\n",
      "      </a>\n",
      "     </div>\n",
      "    </div>\n",
      "   </div>\n",
      "   <span id=\"footer\">\n",
      "    <div style=\"font-size:10pt\">\n",
      "     <div id=\"fll\" style=\"margin:19px auto;text-align:center\">\n",
      "      <a href=\"/intl/en/ads/\">\n",
      "       Advertising Programs\n",
      "      </a>\n",
      "      <a href=\"http://www.google.co.in/services/\">\n",
      "       Business Solutions\n",
      "      </a>\n",
      "      <a href=\"/intl/en/about.html\">\n",
      "       About Google\n",
      "      </a>\n",
      "      <a href=\"https://www.google.com/setprefdomain?prefdom=IN&amp;prev=https://www.google.co.in/&amp;sig=K_OvQwaFbYY2VP4sFKY0Gj2rptTrg%3D\">\n",
      "       Google.co.in\n",
      "      </a>\n",
      "     </div>\n",
      "    </div>\n",
      "    <p style=\"font-size:8pt;color:#767676\">\n",
      "     © 2020 -\n",
      "     <a href=\"/intl/en/policies/privacy/\">\n",
      "      Privacy\n",
      "     </a>\n",
      "     -\n",
      "     <a href=\"/intl/en/policies/terms/\">\n",
      "      Terms\n",
      "     </a>\n",
      "    </p>\n",
      "   </span>\n",
      "  </center>\n",
      "  <script nonce=\"++GQQesxikD6mBEdztnRKA==\">\n",
      "   (function(){window.google.cdo={height:0,width:0};(function(){var a=window.innerWidth,b=window.innerHeight;if(!a||!b){var c=window.document,d=\"CSS1Compat\"==c.compatMode?c.documentElement:c.body;a=d.clientWidth;b=d.clientHeight}a&&b&&(a!=google.cdo.width||b!=google.cdo.height)&&google.log(\"\",\"\",\"/client_204?&atyp=i&biw=\"+a+\"&bih=\"+b+\"&ei=\"+google.kEI);}).call(this);})();(function(){var u='/xjs/_/js/k\\x3dxjs.hp.en.Dt95BcOnsgs.O/m\\x3dsb_he,d/am\\x3dAE-wOQ/d\\x3d1/rs\\x3dACT90oEUVDfnrWuYXC3ChkVH2PL9bNnEUQ';\n",
      "setTimeout(function(){var b=document;var a=\"SCRIPT\";\"application/xhtml+xml\"===b.contentType&&(a=a.toLowerCase());a=b.createElement(a);a.src=u;google.timers&&google.timers.load&&google.tick&&google.tick(\"load\",\"xjsls\");document.body.appendChild(a)},0);})();(function(){window.google.xjsu='/xjs/_/js/k\\x3dxjs.hp.en.Dt95BcOnsgs.O/m\\x3dsb_he,d/am\\x3dAE-wOQ/d\\x3d1/rs\\x3dACT90oEUVDfnrWuYXC3ChkVH2PL9bNnEUQ';})();function _DumpException(e){throw e;}\n",
      "function _F_installCss(c){}\n",
      "(function(){google.jl={dw:false,em:[],emw:false,lls:'default',pdt:0,snet:true,uwp:true};})();(function(){var pmc='{\\x22d\\x22:{},\\x22sb_he\\x22:{\\x22agen\\x22:true,\\x22cgen\\x22:true,\\x22client\\x22:\\x22heirloom-hp\\x22,\\x22dh\\x22:true,\\x22dhqt\\x22:true,\\x22ds\\x22:\\x22\\x22,\\x22ffql\\x22:\\x22en\\x22,\\x22fl\\x22:true,\\x22host\\x22:\\x22google.com\\x22,\\x22isbh\\x22:28,\\x22jsonp\\x22:true,\\x22msgs\\x22:{\\x22cibl\\x22:\\x22Clear Search\\x22,\\x22dym\\x22:\\x22Did you mean:\\x22,\\x22lcky\\x22:\\x22I\\\\u0026#39;m Feeling Lucky\\x22,\\x22lml\\x22:\\x22Learn more\\x22,\\x22oskt\\x22:\\x22Input tools\\x22,\\x22psrc\\x22:\\x22This search was removed from your \\\\u003Ca href\\x3d\\\\\\x22/history\\\\\\x22\\\\u003EWeb History\\\\u003C/a\\\\u003E\\x22,\\x22psrl\\x22:\\x22Remove\\x22,\\x22sbit\\x22:\\x22Search by image\\x22,\\x22srch\\x22:\\x22Google Search\\x22},\\x22ovr\\x22:{},\\x22pq\\x22:\\x22\\x22,\\x22refpd\\x22:true,\\x22rfs\\x22:[],\\x22sbpl\\x22:16,\\x22sbpr\\x22:16,\\x22scd\\x22:10,\\x22stok\\x22:\\x220xNuMFsJxYlRafoV4pzxrDCp5ys\\x22,\\x22uhde\\x22:false}}';google.pmc=JSON.parse(pmc);})();\n",
      "  </script>\n",
      " </body>\n",
      "</html>\n"
     ]
    }
   ],
   "source": [
    "print(soup.prettify())"
   ]
  },
  {
   "cell_type": "code",
   "execution_count": 5,
   "metadata": {},
   "outputs": [
    {
     "data": {
      "text/plain": [
       "[<a class=\"gb1\" href=\"https://www.google.co.in/imghp?hl=en&amp;tab=wi\">Images</a>,\n",
       " <a class=\"gb1\" href=\"https://maps.google.co.in/maps?hl=en&amp;tab=wl\">Maps</a>,\n",
       " <a class=\"gb1\" href=\"https://play.google.com/?hl=en&amp;tab=w8\">Play</a>,\n",
       " <a class=\"gb1\" href=\"https://www.youtube.com/?gl=IN&amp;tab=w1\">YouTube</a>,\n",
       " <a class=\"gb1\" href=\"https://news.google.co.in/nwshp?hl=en&amp;tab=wn\">News</a>,\n",
       " <a class=\"gb1\" href=\"https://mail.google.com/mail/?tab=wm\">Gmail</a>,\n",
       " <a class=\"gb1\" href=\"https://drive.google.com/?tab=wo\">Drive</a>,\n",
       " <a class=\"gb1\" href=\"https://www.google.co.in/intl/en/about/products?tab=wh\" style=\"text-decoration:none\"><u>More</u> »</a>,\n",
       " <a class=\"gb4\" href=\"http://www.google.co.in/history/optout?hl=en\">Web History</a>,\n",
       " <a class=\"gb4\" href=\"/preferences?hl=en\">Settings</a>,\n",
       " <a class=\"gb4\" href=\"https://accounts.google.com/ServiceLogin?hl=en&amp;passive=true&amp;continue=https://www.google.com/\" id=\"gb_70\" target=\"_top\">Sign in</a>,\n",
       " <a href=\"/advanced_search?hl=en-IN&amp;authuser=0\">Advanced search</a>,\n",
       " <a href=\"https://www.google.com/setprefs?sig=0_v4Tf6SdKtbi7MCJe5tT2KkLR6XM%3D&amp;hl=hi&amp;source=homepage&amp;sa=X&amp;ved=0ahUKEwjErv-wrPzqAhXSyzgGHfRXCjYQ2ZgBCAU\">हिन्दी</a>,\n",
       " <a href=\"https://www.google.com/setprefs?sig=0_v4Tf6SdKtbi7MCJe5tT2KkLR6XM%3D&amp;hl=bn&amp;source=homepage&amp;sa=X&amp;ved=0ahUKEwjErv-wrPzqAhXSyzgGHfRXCjYQ2ZgBCAY\">বাংলা</a>,\n",
       " <a href=\"https://www.google.com/setprefs?sig=0_v4Tf6SdKtbi7MCJe5tT2KkLR6XM%3D&amp;hl=te&amp;source=homepage&amp;sa=X&amp;ved=0ahUKEwjErv-wrPzqAhXSyzgGHfRXCjYQ2ZgBCAc\">తెలుగు</a>,\n",
       " <a href=\"https://www.google.com/setprefs?sig=0_v4Tf6SdKtbi7MCJe5tT2KkLR6XM%3D&amp;hl=mr&amp;source=homepage&amp;sa=X&amp;ved=0ahUKEwjErv-wrPzqAhXSyzgGHfRXCjYQ2ZgBCAg\">मराठी</a>,\n",
       " <a href=\"https://www.google.com/setprefs?sig=0_v4Tf6SdKtbi7MCJe5tT2KkLR6XM%3D&amp;hl=ta&amp;source=homepage&amp;sa=X&amp;ved=0ahUKEwjErv-wrPzqAhXSyzgGHfRXCjYQ2ZgBCAk\">தமிழ்</a>,\n",
       " <a href=\"https://www.google.com/setprefs?sig=0_v4Tf6SdKtbi7MCJe5tT2KkLR6XM%3D&amp;hl=gu&amp;source=homepage&amp;sa=X&amp;ved=0ahUKEwjErv-wrPzqAhXSyzgGHfRXCjYQ2ZgBCAo\">ગુજરાતી</a>,\n",
       " <a href=\"https://www.google.com/setprefs?sig=0_v4Tf6SdKtbi7MCJe5tT2KkLR6XM%3D&amp;hl=kn&amp;source=homepage&amp;sa=X&amp;ved=0ahUKEwjErv-wrPzqAhXSyzgGHfRXCjYQ2ZgBCAs\">ಕನ್ನಡ</a>,\n",
       " <a href=\"https://www.google.com/setprefs?sig=0_v4Tf6SdKtbi7MCJe5tT2KkLR6XM%3D&amp;hl=ml&amp;source=homepage&amp;sa=X&amp;ved=0ahUKEwjErv-wrPzqAhXSyzgGHfRXCjYQ2ZgBCAw\">മലയാളം</a>,\n",
       " <a href=\"https://www.google.com/setprefs?sig=0_v4Tf6SdKtbi7MCJe5tT2KkLR6XM%3D&amp;hl=pa&amp;source=homepage&amp;sa=X&amp;ved=0ahUKEwjErv-wrPzqAhXSyzgGHfRXCjYQ2ZgBCA0\">ਪੰਜਾਬੀ</a>,\n",
       " <a href=\"/intl/en/ads/\">Advertising Programs</a>,\n",
       " <a href=\"http://www.google.co.in/services/\">Business Solutions</a>,\n",
       " <a href=\"/intl/en/about.html\">About Google</a>,\n",
       " <a href=\"https://www.google.com/setprefdomain?prefdom=IN&amp;prev=https://www.google.co.in/&amp;sig=K_OvQwaFbYY2VP4sFKY0Gj2rptTrg%3D\">Google.co.in</a>,\n",
       " <a href=\"/intl/en/policies/privacy/\">Privacy</a>,\n",
       " <a href=\"/intl/en/policies/terms/\">Terms</a>]"
      ]
     },
     "execution_count": 5,
     "metadata": {},
     "output_type": "execute_result"
    }
   ],
   "source": [
    "soup.find_all('a')"
   ]
  },
  {
   "cell_type": "code",
   "execution_count": 6,
   "metadata": {},
   "outputs": [
    {
     "data": {
      "text/plain": [
       "[<a href=\"https://www.google.com/setprefdomain?prefdom=IN&amp;prev=https://www.google.co.in/&amp;sig=K_OvQwaFbYY2VP4sFKY0Gj2rptTrg%3D\">Google.co.in</a>]"
      ]
     },
     "execution_count": 6,
     "metadata": {},
     "output_type": "execute_result"
    }
   ],
   "source": [
    "soup.find_all('a',text='Google.co.in')"
   ]
  },
  {
   "cell_type": "code",
   "execution_count": 7,
   "metadata": {},
   "outputs": [
    {
     "data": {
      "text/plain": [
       "<a class=\"gb4\" href=\"https://accounts.google.com/ServiceLogin?hl=en&amp;passive=true&amp;continue=https://www.google.com/\" id=\"gb_70\" target=\"_top\">Sign in</a>"
      ]
     },
     "execution_count": 7,
     "metadata": {},
     "output_type": "execute_result"
    }
   ],
   "source": [
    "soup.find('a',text=\"Sign in\")"
   ]
  },
  {
   "cell_type": "code",
   "execution_count": 8,
   "metadata": {},
   "outputs": [
    {
     "data": {
      "text/plain": [
       "<title>Google</title>"
      ]
     },
     "execution_count": 8,
     "metadata": {},
     "output_type": "execute_result"
    }
   ],
   "source": [
    "soup.title"
   ]
  },
  {
   "cell_type": "code",
   "execution_count": 9,
   "metadata": {},
   "outputs": [
    {
     "data": {
      "text/plain": [
       "'title'"
      ]
     },
     "execution_count": 9,
     "metadata": {},
     "output_type": "execute_result"
    }
   ],
   "source": [
    "soup.title.name"
   ]
  },
  {
   "cell_type": "code",
   "execution_count": 10,
   "metadata": {},
   "outputs": [
    {
     "data": {
      "text/plain": [
       "'Google'"
      ]
     },
     "execution_count": 10,
     "metadata": {},
     "output_type": "execute_result"
    }
   ],
   "source": [
    "soup.title.string"
   ]
  },
  {
   "cell_type": "code",
   "execution_count": 11,
   "metadata": {},
   "outputs": [
    {
     "data": {
      "text/plain": [
       "[<a class=\"gb1\" href=\"https://www.google.co.in/imghp?hl=en&amp;tab=wi\">Images</a>,\n",
       " <a class=\"gb1\" href=\"https://maps.google.co.in/maps?hl=en&amp;tab=wl\">Maps</a>,\n",
       " <a class=\"gb1\" href=\"https://play.google.com/?hl=en&amp;tab=w8\">Play</a>,\n",
       " <a class=\"gb1\" href=\"https://www.youtube.com/?gl=IN&amp;tab=w1\">YouTube</a>,\n",
       " <a class=\"gb1\" href=\"https://news.google.co.in/nwshp?hl=en&amp;tab=wn\">News</a>,\n",
       " <a class=\"gb1\" href=\"https://mail.google.com/mail/?tab=wm\">Gmail</a>,\n",
       " <a class=\"gb1\" href=\"https://drive.google.com/?tab=wo\">Drive</a>,\n",
       " <a class=\"gb1\" href=\"https://www.google.co.in/intl/en/about/products?tab=wh\" style=\"text-decoration:none\"><u>More</u> »</a>,\n",
       " <a class=\"gb4\" href=\"http://www.google.co.in/history/optout?hl=en\">Web History</a>,\n",
       " <a class=\"gb4\" href=\"/preferences?hl=en\">Settings</a>,\n",
       " <a class=\"gb4\" href=\"https://accounts.google.com/ServiceLogin?hl=en&amp;passive=true&amp;continue=https://www.google.com/\" id=\"gb_70\" target=\"_top\">Sign in</a>,\n",
       " <a href=\"/advanced_search?hl=en-IN&amp;authuser=0\">Advanced search</a>,\n",
       " <a href=\"https://www.google.com/setprefs?sig=0_v4Tf6SdKtbi7MCJe5tT2KkLR6XM%3D&amp;hl=hi&amp;source=homepage&amp;sa=X&amp;ved=0ahUKEwjErv-wrPzqAhXSyzgGHfRXCjYQ2ZgBCAU\">हिन्दी</a>,\n",
       " <a href=\"https://www.google.com/setprefs?sig=0_v4Tf6SdKtbi7MCJe5tT2KkLR6XM%3D&amp;hl=bn&amp;source=homepage&amp;sa=X&amp;ved=0ahUKEwjErv-wrPzqAhXSyzgGHfRXCjYQ2ZgBCAY\">বাংলা</a>,\n",
       " <a href=\"https://www.google.com/setprefs?sig=0_v4Tf6SdKtbi7MCJe5tT2KkLR6XM%3D&amp;hl=te&amp;source=homepage&amp;sa=X&amp;ved=0ahUKEwjErv-wrPzqAhXSyzgGHfRXCjYQ2ZgBCAc\">తెలుగు</a>,\n",
       " <a href=\"https://www.google.com/setprefs?sig=0_v4Tf6SdKtbi7MCJe5tT2KkLR6XM%3D&amp;hl=mr&amp;source=homepage&amp;sa=X&amp;ved=0ahUKEwjErv-wrPzqAhXSyzgGHfRXCjYQ2ZgBCAg\">मराठी</a>,\n",
       " <a href=\"https://www.google.com/setprefs?sig=0_v4Tf6SdKtbi7MCJe5tT2KkLR6XM%3D&amp;hl=ta&amp;source=homepage&amp;sa=X&amp;ved=0ahUKEwjErv-wrPzqAhXSyzgGHfRXCjYQ2ZgBCAk\">தமிழ்</a>,\n",
       " <a href=\"https://www.google.com/setprefs?sig=0_v4Tf6SdKtbi7MCJe5tT2KkLR6XM%3D&amp;hl=gu&amp;source=homepage&amp;sa=X&amp;ved=0ahUKEwjErv-wrPzqAhXSyzgGHfRXCjYQ2ZgBCAo\">ગુજરાતી</a>,\n",
       " <a href=\"https://www.google.com/setprefs?sig=0_v4Tf6SdKtbi7MCJe5tT2KkLR6XM%3D&amp;hl=kn&amp;source=homepage&amp;sa=X&amp;ved=0ahUKEwjErv-wrPzqAhXSyzgGHfRXCjYQ2ZgBCAs\">ಕನ್ನಡ</a>,\n",
       " <a href=\"https://www.google.com/setprefs?sig=0_v4Tf6SdKtbi7MCJe5tT2KkLR6XM%3D&amp;hl=ml&amp;source=homepage&amp;sa=X&amp;ved=0ahUKEwjErv-wrPzqAhXSyzgGHfRXCjYQ2ZgBCAw\">മലയാളം</a>,\n",
       " <a href=\"https://www.google.com/setprefs?sig=0_v4Tf6SdKtbi7MCJe5tT2KkLR6XM%3D&amp;hl=pa&amp;source=homepage&amp;sa=X&amp;ved=0ahUKEwjErv-wrPzqAhXSyzgGHfRXCjYQ2ZgBCA0\">ਪੰਜਾਬੀ</a>,\n",
       " <a href=\"/intl/en/ads/\">Advertising Programs</a>,\n",
       " <a href=\"http://www.google.co.in/services/\">Business Solutions</a>,\n",
       " <a href=\"/intl/en/about.html\">About Google</a>,\n",
       " <a href=\"https://www.google.com/setprefdomain?prefdom=IN&amp;prev=https://www.google.co.in/&amp;sig=K_OvQwaFbYY2VP4sFKY0Gj2rptTrg%3D\">Google.co.in</a>,\n",
       " <a href=\"/intl/en/policies/privacy/\">Privacy</a>,\n",
       " <a href=\"/intl/en/policies/terms/\">Terms</a>]"
      ]
     },
     "execution_count": 11,
     "metadata": {},
     "output_type": "execute_result"
    }
   ],
   "source": [
    "soup.find_all('a')"
   ]
  },
  {
   "cell_type": "code",
   "execution_count": 12,
   "metadata": {},
   "outputs": [
    {
     "name": "stdout",
     "output_type": "stream",
     "text": [
      "nobr\n",
      "nobr\n",
      "nobr\n",
      "nobr\n",
      "nobr\n",
      "nobr\n",
      "nobr\n",
      "nobr\n",
      "nobr\n",
      "nobr\n",
      "nobr\n",
      "td\n",
      "div\n",
      "div\n",
      "div\n",
      "div\n",
      "div\n",
      "div\n",
      "div\n",
      "div\n",
      "div\n",
      "div\n",
      "div\n",
      "div\n",
      "div\n",
      "p\n",
      "p\n"
     ]
    }
   ],
   "source": [
    "for item in soup.find_all('a'):\n",
    "    print(item.parent.name)"
   ]
  },
  {
   "cell_type": "code",
   "execution_count": 13,
   "metadata": {},
   "outputs": [
    {
     "data": {
      "text/plain": [
       "'Google'"
      ]
     },
     "execution_count": 13,
     "metadata": {},
     "output_type": "execute_result"
    }
   ],
   "source": [
    "soup.title.parent.title.string"
   ]
  },
  {
   "cell_type": "code",
   "execution_count": 14,
   "metadata": {},
   "outputs": [
    {
     "data": {
      "text/plain": [
       "<p style=\"font-size:8pt;color:#767676\">© 2020 - <a href=\"/intl/en/policies/privacy/\">Privacy</a> - <a href=\"/intl/en/policies/terms/\">Terms</a></p>"
      ]
     },
     "execution_count": 14,
     "metadata": {},
     "output_type": "execute_result"
    }
   ],
   "source": [
    "soup.p"
   ]
  },
  {
   "cell_type": "code",
   "execution_count": 15,
   "metadata": {},
   "outputs": [
    {
     "data": {
      "text/plain": [
       "'© 2020 - Privacy - Terms'"
      ]
     },
     "execution_count": 15,
     "metadata": {},
     "output_type": "execute_result"
    }
   ],
   "source": [
    "soup.p.text # sometimes string wont work"
   ]
  },
  {
   "cell_type": "code",
   "execution_count": 16,
   "metadata": {},
   "outputs": [
    {
     "data": {
      "text/plain": [
       "<a href=\"/intl/en/policies/privacy/\">Privacy</a>"
      ]
     },
     "execution_count": 16,
     "metadata": {},
     "output_type": "execute_result"
    }
   ],
   "source": [
    "soup.p.a"
   ]
  },
  {
   "cell_type": "code",
   "execution_count": 17,
   "metadata": {},
   "outputs": [
    {
     "data": {
      "text/plain": [
       "[<a href=\"/intl/en/policies/privacy/\">Privacy</a>,\n",
       " <a href=\"/intl/en/policies/terms/\">Terms</a>]"
      ]
     },
     "execution_count": 17,
     "metadata": {},
     "output_type": "execute_result"
    }
   ],
   "source": [
    "soup.p.find_all('a')"
   ]
  },
  {
   "cell_type": "code",
   "execution_count": 18,
   "metadata": {},
   "outputs": [
    {
     "name": "stdout",
     "output_type": "stream",
     "text": [
      "<a href=\"/intl/en/policies/privacy/\">Privacy</a>\n",
      "<a href=\"/intl/en/policies/terms/\">Terms</a>\n"
     ]
    }
   ],
   "source": [
    "for item in soup.p.find_all('a'):\n",
    "    print(item)"
   ]
  },
  {
   "cell_type": "code",
   "execution_count": 19,
   "metadata": {},
   "outputs": [
    {
     "name": "stdout",
     "output_type": "stream",
     "text": [
      "https://www.google.co.in/imghp?hl=en&tab=wi\n",
      "https://maps.google.co.in/maps?hl=en&tab=wl\n",
      "https://play.google.com/?hl=en&tab=w8\n",
      "https://www.youtube.com/?gl=IN&tab=w1\n",
      "https://news.google.co.in/nwshp?hl=en&tab=wn\n",
      "https://mail.google.com/mail/?tab=wm\n",
      "https://drive.google.com/?tab=wo\n",
      "https://www.google.co.in/intl/en/about/products?tab=wh\n",
      "http://www.google.co.in/history/optout?hl=en\n",
      "/preferences?hl=en\n",
      "https://accounts.google.com/ServiceLogin?hl=en&passive=true&continue=https://www.google.com/\n",
      "/advanced_search?hl=en-IN&authuser=0\n",
      "https://www.google.com/setprefs?sig=0_v4Tf6SdKtbi7MCJe5tT2KkLR6XM%3D&hl=hi&source=homepage&sa=X&ved=0ahUKEwjErv-wrPzqAhXSyzgGHfRXCjYQ2ZgBCAU\n",
      "https://www.google.com/setprefs?sig=0_v4Tf6SdKtbi7MCJe5tT2KkLR6XM%3D&hl=bn&source=homepage&sa=X&ved=0ahUKEwjErv-wrPzqAhXSyzgGHfRXCjYQ2ZgBCAY\n",
      "https://www.google.com/setprefs?sig=0_v4Tf6SdKtbi7MCJe5tT2KkLR6XM%3D&hl=te&source=homepage&sa=X&ved=0ahUKEwjErv-wrPzqAhXSyzgGHfRXCjYQ2ZgBCAc\n",
      "https://www.google.com/setprefs?sig=0_v4Tf6SdKtbi7MCJe5tT2KkLR6XM%3D&hl=mr&source=homepage&sa=X&ved=0ahUKEwjErv-wrPzqAhXSyzgGHfRXCjYQ2ZgBCAg\n",
      "https://www.google.com/setprefs?sig=0_v4Tf6SdKtbi7MCJe5tT2KkLR6XM%3D&hl=ta&source=homepage&sa=X&ved=0ahUKEwjErv-wrPzqAhXSyzgGHfRXCjYQ2ZgBCAk\n",
      "https://www.google.com/setprefs?sig=0_v4Tf6SdKtbi7MCJe5tT2KkLR6XM%3D&hl=gu&source=homepage&sa=X&ved=0ahUKEwjErv-wrPzqAhXSyzgGHfRXCjYQ2ZgBCAo\n",
      "https://www.google.com/setprefs?sig=0_v4Tf6SdKtbi7MCJe5tT2KkLR6XM%3D&hl=kn&source=homepage&sa=X&ved=0ahUKEwjErv-wrPzqAhXSyzgGHfRXCjYQ2ZgBCAs\n",
      "https://www.google.com/setprefs?sig=0_v4Tf6SdKtbi7MCJe5tT2KkLR6XM%3D&hl=ml&source=homepage&sa=X&ved=0ahUKEwjErv-wrPzqAhXSyzgGHfRXCjYQ2ZgBCAw\n",
      "https://www.google.com/setprefs?sig=0_v4Tf6SdKtbi7MCJe5tT2KkLR6XM%3D&hl=pa&source=homepage&sa=X&ved=0ahUKEwjErv-wrPzqAhXSyzgGHfRXCjYQ2ZgBCA0\n",
      "/intl/en/ads/\n",
      "http://www.google.co.in/services/\n",
      "/intl/en/about.html\n",
      "https://www.google.com/setprefdomain?prefdom=IN&prev=https://www.google.co.in/&sig=K_OvQwaFbYY2VP4sFKY0Gj2rptTrg%3D\n",
      "/intl/en/policies/privacy/\n",
      "/intl/en/policies/terms/\n"
     ]
    }
   ],
   "source": [
    "for item in soup.find_all('a'):\n",
    "    print(item.get('href'))"
   ]
  },
  {
   "cell_type": "code",
   "execution_count": 20,
   "metadata": {},
   "outputs": [
    {
     "data": {
      "text/plain": [
       "[<a href=\"https://www.google.com/setprefs?sig=0_v4Tf6SdKtbi7MCJe5tT2KkLR6XM%3D&amp;hl=hi&amp;source=homepage&amp;sa=X&amp;ved=0ahUKEwjErv-wrPzqAhXSyzgGHfRXCjYQ2ZgBCAU\">हिन्दी</a>,\n",
       " <a href=\"https://www.google.com/setprefs?sig=0_v4Tf6SdKtbi7MCJe5tT2KkLR6XM%3D&amp;hl=bn&amp;source=homepage&amp;sa=X&amp;ved=0ahUKEwjErv-wrPzqAhXSyzgGHfRXCjYQ2ZgBCAY\">বাংলা</a>,\n",
       " <a href=\"https://www.google.com/setprefs?sig=0_v4Tf6SdKtbi7MCJe5tT2KkLR6XM%3D&amp;hl=te&amp;source=homepage&amp;sa=X&amp;ved=0ahUKEwjErv-wrPzqAhXSyzgGHfRXCjYQ2ZgBCAc\">తెలుగు</a>,\n",
       " <a href=\"https://www.google.com/setprefs?sig=0_v4Tf6SdKtbi7MCJe5tT2KkLR6XM%3D&amp;hl=mr&amp;source=homepage&amp;sa=X&amp;ved=0ahUKEwjErv-wrPzqAhXSyzgGHfRXCjYQ2ZgBCAg\">मराठी</a>,\n",
       " <a href=\"https://www.google.com/setprefs?sig=0_v4Tf6SdKtbi7MCJe5tT2KkLR6XM%3D&amp;hl=ta&amp;source=homepage&amp;sa=X&amp;ved=0ahUKEwjErv-wrPzqAhXSyzgGHfRXCjYQ2ZgBCAk\">தமிழ்</a>,\n",
       " <a href=\"https://www.google.com/setprefs?sig=0_v4Tf6SdKtbi7MCJe5tT2KkLR6XM%3D&amp;hl=gu&amp;source=homepage&amp;sa=X&amp;ved=0ahUKEwjErv-wrPzqAhXSyzgGHfRXCjYQ2ZgBCAo\">ગુજરાતી</a>,\n",
       " <a href=\"https://www.google.com/setprefs?sig=0_v4Tf6SdKtbi7MCJe5tT2KkLR6XM%3D&amp;hl=kn&amp;source=homepage&amp;sa=X&amp;ved=0ahUKEwjErv-wrPzqAhXSyzgGHfRXCjYQ2ZgBCAs\">ಕನ್ನಡ</a>,\n",
       " <a href=\"https://www.google.com/setprefs?sig=0_v4Tf6SdKtbi7MCJe5tT2KkLR6XM%3D&amp;hl=ml&amp;source=homepage&amp;sa=X&amp;ved=0ahUKEwjErv-wrPzqAhXSyzgGHfRXCjYQ2ZgBCAw\">മലയാളം</a>,\n",
       " <a href=\"https://www.google.com/setprefs?sig=0_v4Tf6SdKtbi7MCJe5tT2KkLR6XM%3D&amp;hl=pa&amp;source=homepage&amp;sa=X&amp;ved=0ahUKEwjErv-wrPzqAhXSyzgGHfRXCjYQ2ZgBCA0\">ਪੰਜਾਬੀ</a>]"
      ]
     },
     "execution_count": 20,
     "metadata": {},
     "output_type": "execute_result"
    }
   ],
   "source": [
    "soup.find(id='gws-output-pages-elements-homepage_additional_languages__als').find_all('a')"
   ]
  },
  {
   "cell_type": "code",
   "execution_count": 21,
   "metadata": {},
   "outputs": [
    {
     "name": "stdout",
     "output_type": "stream",
     "text": [
      "https://www.google.com/setprefs?sig=0_v4Tf6SdKtbi7MCJe5tT2KkLR6XM%3D&hl=hi&source=homepage&sa=X&ved=0ahUKEwjErv-wrPzqAhXSyzgGHfRXCjYQ2ZgBCAU\n",
      "https://www.google.com/setprefs?sig=0_v4Tf6SdKtbi7MCJe5tT2KkLR6XM%3D&hl=bn&source=homepage&sa=X&ved=0ahUKEwjErv-wrPzqAhXSyzgGHfRXCjYQ2ZgBCAY\n",
      "https://www.google.com/setprefs?sig=0_v4Tf6SdKtbi7MCJe5tT2KkLR6XM%3D&hl=te&source=homepage&sa=X&ved=0ahUKEwjErv-wrPzqAhXSyzgGHfRXCjYQ2ZgBCAc\n",
      "https://www.google.com/setprefs?sig=0_v4Tf6SdKtbi7MCJe5tT2KkLR6XM%3D&hl=mr&source=homepage&sa=X&ved=0ahUKEwjErv-wrPzqAhXSyzgGHfRXCjYQ2ZgBCAg\n",
      "https://www.google.com/setprefs?sig=0_v4Tf6SdKtbi7MCJe5tT2KkLR6XM%3D&hl=ta&source=homepage&sa=X&ved=0ahUKEwjErv-wrPzqAhXSyzgGHfRXCjYQ2ZgBCAk\n",
      "https://www.google.com/setprefs?sig=0_v4Tf6SdKtbi7MCJe5tT2KkLR6XM%3D&hl=gu&source=homepage&sa=X&ved=0ahUKEwjErv-wrPzqAhXSyzgGHfRXCjYQ2ZgBCAo\n",
      "https://www.google.com/setprefs?sig=0_v4Tf6SdKtbi7MCJe5tT2KkLR6XM%3D&hl=kn&source=homepage&sa=X&ved=0ahUKEwjErv-wrPzqAhXSyzgGHfRXCjYQ2ZgBCAs\n",
      "https://www.google.com/setprefs?sig=0_v4Tf6SdKtbi7MCJe5tT2KkLR6XM%3D&hl=ml&source=homepage&sa=X&ved=0ahUKEwjErv-wrPzqAhXSyzgGHfRXCjYQ2ZgBCAw\n",
      "https://www.google.com/setprefs?sig=0_v4Tf6SdKtbi7MCJe5tT2KkLR6XM%3D&hl=pa&source=homepage&sa=X&ved=0ahUKEwjErv-wrPzqAhXSyzgGHfRXCjYQ2ZgBCA0\n"
     ]
    }
   ],
   "source": [
    "for item in soup.find(id='gws-output-pages-elements-homepage_additional_languages__als').find_all('a'):\n",
    "    print(item.get('href'))"
   ]
  },
  {
   "cell_type": "code",
   "execution_count": 22,
   "metadata": {},
   "outputs": [
    {
     "name": "stdout",
     "output_type": "stream",
     "text": [
      "हिन्दी https://www.google.com/setprefs?sig=0_v4Tf6SdKtbi7MCJe5tT2KkLR6XM%3D&hl=hi&source=homepage&sa=X&ved=0ahUKEwjErv-wrPzqAhXSyzgGHfRXCjYQ2ZgBCAU\n",
      "বাংলা https://www.google.com/setprefs?sig=0_v4Tf6SdKtbi7MCJe5tT2KkLR6XM%3D&hl=bn&source=homepage&sa=X&ved=0ahUKEwjErv-wrPzqAhXSyzgGHfRXCjYQ2ZgBCAY\n",
      "తెలుగు https://www.google.com/setprefs?sig=0_v4Tf6SdKtbi7MCJe5tT2KkLR6XM%3D&hl=te&source=homepage&sa=X&ved=0ahUKEwjErv-wrPzqAhXSyzgGHfRXCjYQ2ZgBCAc\n",
      "मराठी https://www.google.com/setprefs?sig=0_v4Tf6SdKtbi7MCJe5tT2KkLR6XM%3D&hl=mr&source=homepage&sa=X&ved=0ahUKEwjErv-wrPzqAhXSyzgGHfRXCjYQ2ZgBCAg\n",
      "தமிழ் https://www.google.com/setprefs?sig=0_v4Tf6SdKtbi7MCJe5tT2KkLR6XM%3D&hl=ta&source=homepage&sa=X&ved=0ahUKEwjErv-wrPzqAhXSyzgGHfRXCjYQ2ZgBCAk\n",
      "ગુજરાતી https://www.google.com/setprefs?sig=0_v4Tf6SdKtbi7MCJe5tT2KkLR6XM%3D&hl=gu&source=homepage&sa=X&ved=0ahUKEwjErv-wrPzqAhXSyzgGHfRXCjYQ2ZgBCAo\n",
      "ಕನ್ನಡ https://www.google.com/setprefs?sig=0_v4Tf6SdKtbi7MCJe5tT2KkLR6XM%3D&hl=kn&source=homepage&sa=X&ved=0ahUKEwjErv-wrPzqAhXSyzgGHfRXCjYQ2ZgBCAs\n",
      "മലയാളം https://www.google.com/setprefs?sig=0_v4Tf6SdKtbi7MCJe5tT2KkLR6XM%3D&hl=ml&source=homepage&sa=X&ved=0ahUKEwjErv-wrPzqAhXSyzgGHfRXCjYQ2ZgBCAw\n",
      "ਪੰਜਾਬੀ https://www.google.com/setprefs?sig=0_v4Tf6SdKtbi7MCJe5tT2KkLR6XM%3D&hl=pa&source=homepage&sa=X&ved=0ahUKEwjErv-wrPzqAhXSyzgGHfRXCjYQ2ZgBCA0\n"
     ]
    }
   ],
   "source": [
    "for item in soup.find(id='gws-output-pages-elements-homepage_additional_languages__als').find_all('a'):\n",
    "    print(item.text, item.get('href'))"
   ]
  },
  {
   "cell_type": "code",
   "execution_count": 23,
   "metadata": {},
   "outputs": [
    {
     "data": {
      "text/plain": [
       "'GoogleSearch Images Maps Play YouTube News Gmail Drive More »Web History | Settings | Sign in\\xa0Advanced searchGoogle offered in:  हिन्दी বাংলা తెలుగు मराठी தமிழ் ગુજરાતી ಕನ್ನಡ മലയാളം ਪੰਜਾਬੀ Advertising\\xa0ProgramsBusiness SolutionsAbout GoogleGoogle.co.in© 2020 - Privacy - Terms '"
      ]
     },
     "execution_count": 23,
     "metadata": {},
     "output_type": "execute_result"
    }
   ],
   "source": [
    "soup.get_text()"
   ]
  },
  {
   "cell_type": "code",
   "execution_count": 24,
   "metadata": {},
   "outputs": [
    {
     "data": {
      "text/plain": [
       "'GoogleSearch Images Maps Play YouTube News Gmail Drive More »Web History | Settings | Sign in\\xa0Advanced searchGoogle offered in:  हिन्दी বাংলা తెలుగు मराठी தமிழ் ગુજરાતી ಕನ್ನಡ മലയാളം ਪੰਜਾਬੀ Advertising\\xa0ProgramsBusiness SolutionsAbout GoogleGoogle.co.in© 2020 - Privacy - Terms '"
      ]
     },
     "execution_count": 24,
     "metadata": {},
     "output_type": "execute_result"
    }
   ],
   "source": [
    "soup.getText()"
   ]
  },
  {
   "cell_type": "code",
   "execution_count": 25,
   "metadata": {},
   "outputs": [
    {
     "data": {
      "text/plain": [
       "<a class=\"gb1\" href=\"https://www.google.co.in/imghp?hl=en&amp;tab=wi\">Images</a>"
      ]
     },
     "execution_count": 25,
     "metadata": {},
     "output_type": "execute_result"
    }
   ],
   "source": [
    "soup.a"
   ]
  },
  {
   "cell_type": "code",
   "execution_count": null,
   "metadata": {},
   "outputs": [],
   "source": []
  },
  {
   "cell_type": "code",
   "execution_count": null,
   "metadata": {},
   "outputs": [],
   "source": []
  },
  {
   "cell_type": "code",
   "execution_count": null,
   "metadata": {},
   "outputs": [],
   "source": []
  }
 ],
 "metadata": {
  "kernelspec": {
   "display_name": "Python 3",
   "language": "python",
   "name": "python3"
  },
  "language_info": {
   "codemirror_mode": {
    "name": "ipython",
    "version": 3
   },
   "file_extension": ".py",
   "mimetype": "text/x-python",
   "name": "python",
   "nbconvert_exporter": "python",
   "pygments_lexer": "ipython3",
   "version": "3.8.3"
  }
 },
 "nbformat": 4,
 "nbformat_minor": 4
}

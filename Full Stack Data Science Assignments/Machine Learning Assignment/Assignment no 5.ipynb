{
 "cells": [
  {
   "cell_type": "markdown",
   "id": "9d2a85c5",
   "metadata": {},
   "source": [
    "# 1. What are the key tasks that machine learning entails? What does data pre-processing imply?"
   ]
  },
  {
   "cell_type": "raw",
   "id": "db58e1a1",
   "metadata": {},
   "source": [
    "Key Tasks in Machine Learning & Data Pre-Processing\n",
    "\n",
    "Key Tasks in ML:\n",
    "\n",
    "Problem definition\n",
    "Data collection\n",
    "Data cleaning\n",
    "Feature selection\n",
    "Model selection and training\n",
    "Evaluation and validation\n",
    "Model deployment\n",
    "Monitoring and maintenance\n",
    " \n",
    "Data Pre-Processing:\n",
    "It involves preparing and cleaning raw data for analysis by handling missing values, removing duplicates, encoding categorical data, scaling features, and normalizing data to improve model performance"
   ]
  },
  {
   "cell_type": "markdown",
   "id": "bbe3a533",
   "metadata": {},
   "source": [
    "# 2. Describe quantitative and qualitative data in depth. Make a distinction between the two."
   ]
  },
  {
   "cell_type": "raw",
   "id": "265fd388",
   "metadata": {},
   "source": [
    "2. Quantitative vs. Qualitative Data\n",
    "Quantitative Data:\n",
    "\n",
    "Numeric data that represents measurable quantities.\n",
    "Can be continuous (e.g., height, weight) or discrete (e.g., count of items).\n",
    "Operations like addition, subtraction, and averaging are meaningful.\n",
    "Example: Age (25), Salary (₹50,000).\n",
    "Qualitative Data:\n",
    "\n",
    "Non-numeric data representing categories or labels.\n",
    "Can be nominal (no inherent order, e.g., color, gender) or ordinal (ordered categories, e.g., education level, rankings).\n",
    "Cannot perform arithmetic operations on this data.\n",
    "Example: Gender (Male, Female), Education (High School, College).\n"
   ]
  },
  {
   "cell_type": "markdown",
   "id": "c6154ce3",
   "metadata": {},
   "source": [
    "# 3. Create a basic data collection that includes some sample records. Have at least one attribute from each of the machine learning data types.# "
   ]
  },
  {
   "cell_type": "raw",
   "id": "15dac9dc",
   "metadata": {},
   "source": [
    "3. Sample Data Collection\n",
    "\n",
    "Name\tAge\tGender\tIncome\tEducation\tPurchased Product\n",
    "John\t28\tMale\t₹50,000\tCollege\tProduct A\n",
    "Sarah\t35\tFemale\t₹75,000\tMaster's\tProduct B\n",
    "Michael\t42\tMale\t₹65,000\tHigh School\tProduct A\n",
    "Emily\t22\tFemale\t₹40,000\tCollege\tProduct C\n",
    "Here, the dataset includes:\n",
    "\n",
    "Quantitative: Age, Income\n",
    "Qualitative: Gender, Education, Purchased Product"
   ]
  },
  {
   "cell_type": "markdown",
   "id": "44b3aac2",
   "metadata": {},
   "source": [
    "# 4. What are the various causes of machine learning data issues? What are the ramifications?"
   ]
  },
  {
   "cell_type": "raw",
   "id": "84e96949",
   "metadata": {},
   "source": [
    " Causes of Machine Learning Data Issues\n",
    "Missing Data: Data not recorded or lost during collection.\n",
    "Outliers: Extreme values that do not follow the general pattern.\n",
    "Noise: Random variations in data that may not be useful.\n",
    "Inconsistent Data: Duplicates or conflicting records.\n",
    "Irrelevant Features: Features not related to the model's objective.\n",
    "Ramifications: Poor model performance, inaccurate predictions, and biases."
   ]
  },
  {
   "cell_type": "markdown",
   "id": "4b68d81f",
   "metadata": {},
   "source": [
    "# 5. Demonstrate various approaches to categorical data exploration with appropriate examples."
   ]
  },
  {
   "cell_type": "raw",
   "id": "1f3277d7",
   "metadata": {},
   "source": [
    "Approaches to Categorical Data Exploration\n",
    "Frequency Distribution: Counting the occurrences of each category.\n",
    "Example: Number of people preferring Product A, Product B, etc.\n",
    "Bar Charts: Visualize the distribution of categories.\n",
    "Chi-Square Test: Test if two categorical variables are independent.\n",
    "Cross-Tab: Examine the relationship between two categorical variables.\n"
   ]
  },
  {
   "cell_type": "markdown",
   "id": "af8ad281",
   "metadata": {},
   "source": [
    "# 6. How would the learning activity be affected if certain variables have missing values? Having saidthat, what can be done about it?"
   ]
  },
  {
   "cell_type": "raw",
   "id": "678d2fe9",
   "metadata": {},
   "source": [
    "Impact of Missing Variables\n",
    "Learning Activity Impact: Missing values can lead to biased models, inaccurate predictions, and loss of data information.\n",
    "Solutions:\n",
    "Impute missing values (mean, median, mode).\n",
    "Remove rows with missing data (if acceptable).\n",
    "Use models that handle missing values (e.g., decision trees).\n"
   ]
  },
  {
   "cell_type": "markdown",
   "id": "c24f760a",
   "metadata": {},
   "source": [
    "# 7. Describe the various methods for dealing with missing data values in depth."
   ]
  },
  {
   "cell_type": "raw",
   "id": "35dc48e1",
   "metadata": {},
   "source": [
    "Methods for Dealing with Missing Data\n",
    "Deletion: Removing records with missing values.\n",
    "Use when: The dataset is large, and missing data is small.\n",
    "Imputation: Filling missing values with mean, median, or mode.\n",
    "Use when: The data loss is significant but imputation can preserve patterns.\n",
    "Predictive Modeling: Using a model to predict missing values based on other features.\n",
    "Use when: Imputation methods are not effective, and predictive models can provide better estimates."
   ]
  },
  {
   "cell_type": "markdown",
   "id": "dd9879c8",
   "metadata": {},
   "source": [
    "# 8. What are the various data pre-processing techniques? Explain dimensionality reduction andfunction selection in a few words."
   ]
  },
  {
   "cell_type": "raw",
   "id": "273ee60d",
   "metadata": {},
   "source": [
    "# Data Pre-Processing Techniques\n",
    "Normalization/Scaling: Rescaling features to a standard range (e.g., 0 to 1) to improve algorithm convergence.\n",
    "\n",
    "Encoding Categorical Data: Converting categorical variables into numerical form using one-hot encoding or label encoding.\n",
    "\n",
    "Outlier Handling: Removing or transforming outliers that can distort the analysis.\n",
    "\n",
    "Dimensionality Reduction: Reducing the number of features while retaining most of the data’s information (e.g., PCA).\n",
    "\n",
    "Feature Selection: Choosing the most relevant features to improve model efficiency.\n",
    "\n"
   ]
  },
  {
   "cell_type": "markdown",
   "id": "50cc7414",
   "metadata": {},
   "source": [
    "# 9.i. What is the IQR? What criteria are used to assess it?  \n",
    "# ii. Describe the various components of a box plot in detail? When will the lower whisker surpass the upper whisker in length? How can box plots be used to identify outliers?"
   ]
  },
  {
   "cell_type": "raw",
   "id": "acbd5aee",
   "metadata": {},
   "source": [
    "IQR & Box Plot Components\n",
    "i. IQR (Interquartile Range):\n",
    "\n",
    "IQR is the range between the 1st quartile (Q1) and 3rd quartile (Q3).\n",
    "IQR = Q3 - Q1.\n",
    "It is used to detect outliers. Data points outside 1.5 * IQR are considered outliers.\n",
    "ii. Box Plot Components:\n",
    "\n",
    "Box: Represents the interquartile range (Q1 to Q3).\n",
    "Whiskers: Extend to the maximum and minimum values within 1.5 * IQR.\n",
    "Median Line: The middle value in the data (Q2).\n",
    "Outliers: Points outside the whiskers.\n",
    "When will the lower whisker surpass the upper whisker in length?\n",
    "\n",
    "This happens in skewed data, where one side has more extreme values.\n"
   ]
  },
  {
   "cell_type": "markdown",
   "id": "c3cbd25c",
   "metadata": {},
   "source": [
    "# 10. Make brief notes on any two of the following:\n",
    "\n",
    "1. Data collected at regular intervals\n",
    "\n",
    "2. The gap between the quartiles\n",
    "\n",
    "3. Use a cross-tab"
   ]
  },
  {
   "cell_type": "raw",
   "id": "0459af5b",
   "metadata": {},
   "source": [
    " Brief Notes on Selected Topics\n",
    "Data Collected at Regular Intervals:\n",
    "Data collected at consistent time periods (e.g., daily, weekly, monthly) allows for trend analysis and forecasting.\n",
    "\n",
    "Example: Stock prices recorded every minute.\n",
    "Gap Between Quartiles (IQR):\n",
    "The gap between Q1 and Q3 is the interquartile range, indicating the spread of the middle 50% of the data.\n",
    "\n",
    "Use of Cross-Tab:\n",
    "Cross-tabs (contingency tables) summarize the relationship between two categorical variables by showing frequency counts.\n",
    "\n",
    "Example: Gender vs. product preference (e.g., male vs. female and Product A vs. Product B)."
   ]
  },
  {
   "cell_type": "markdown",
   "id": "f1a1356e",
   "metadata": {},
   "source": [
    "# 11. Make a comparison between:\n",
    "\n",
    "1. Data with nominal and ordinal values\n",
    "\n",
    "2. Histogram and box plot\n",
    "\n",
    "3. The average and median"
   ]
  },
  {
   "cell_type": "raw",
   "id": "a78cd6e8",
   "metadata": {},
   "source": [
    " Comparisons\n",
    "Nominal vs. Ordinal Data:\n",
    "\n",
    "Nominal: Categories with no order (e.g., color, gender).\n",
    "Ordinal: Categories with a defined order (e.g., education level, rankings).\n",
    "Histogram vs. Box Plot:\n",
    "\n",
    "Histogram: Visualizes the frequency of numeric data within bins.\n",
    "Box Plot: Summarizes distribution using quartiles and visualizes outliers.\n",
    "Average vs. Median:\n",
    "\n",
    "Mean (Average): The sum of all values divided by the number of values. Sensitive to outliers.\n",
    "Median: The middle value in a sorted dataset. Less sensitive to outliers.\n"
   ]
  }
 ],
 "metadata": {
  "kernelspec": {
   "display_name": "Python 3 (ipykernel)",
   "language": "python",
   "name": "python3"
  },
  "language_info": {
   "codemirror_mode": {
    "name": "ipython",
    "version": 3
   },
   "file_extension": ".py",
   "mimetype": "text/x-python",
   "name": "python",
   "nbconvert_exporter": "python",
   "pygments_lexer": "ipython3",
   "version": "3.9.7"
  }
 },
 "nbformat": 4,
 "nbformat_minor": 5
}

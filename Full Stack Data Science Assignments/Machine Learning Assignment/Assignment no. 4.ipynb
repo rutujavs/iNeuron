{
 "cells": [
  {
   "cell_type": "markdown",
   "id": "4406e293",
   "metadata": {},
   "source": [
    "# 1. What are the key tasks involved in getting ready to work with machine learning modeling?\n"
   ]
  },
  {
   "cell_type": "raw",
   "id": "039ffef3",
   "metadata": {},
   "source": [
    "Key Tasks in Getting Ready for Machine Learning Modeling\n",
    "\n",
    "1.Understand the Problem – Define objectives, expected outcomes, and evaluation metrics.\n",
    "\n",
    "2.Data Collection – Gather relevant and sufficient data from reliable sources.\n",
    "\n",
    "3.Data Cleaning & Preprocessing – Handle missing values, duplicates, and inconsistencies.\n",
    "\n",
    "4.Exploratory Data Analysis (EDA) – Analyze data patterns, correlations, and outliers using visualizations.\n",
    "\n",
    "5.Feature Engineering – Select, create, and scale features for better model performance.\n",
    "\n",
    "6.Data Splitting – Divide data into training, validation, and test sets.\n",
    "\n",
    "7.Choose a Model – Select an appropriate algorithm based on the problem type.\n",
    "\n",
    "8.Train the Model – Fit the model to training data and optimize hyperparameters.\n",
    "\n",
    "9.Evaluate Performance – Use metrics like accuracy, RMSE, precision, and recall.\n",
    "\n",
    "10.Deploy & Monitor – Deploy the model and track its real-world performance."
   ]
  },
  {
   "cell_type": "markdown",
   "id": "60193163",
   "metadata": {},
   "source": [
    "# 2. What are the different forms of data used in machine learning? Give a specific example for each ofthem."
   ]
  },
  {
   "cell_type": "raw",
   "id": "39543780",
   "metadata": {},
   "source": [
    "Different Forms of Data Used in Machine Learning\n",
    "Structured Data – Organized in tables with rows and columns.\n",
    "Example: A customer database with columns like Name, Age, Purchase History, and Email.\n",
    "\n",
    "Unstructured Data – Does not follow a specific format, making it harder to analyze.\n",
    "Example: Text data from social media posts, emails, or customer reviews.\n",
    "\n",
    "Semi-Structured Data – Contains some structure but is not strictly tabular.\n",
    "Example: JSON or XML files storing customer order details.\n",
    "\n",
    "Time-Series Data – Data points collected over time at regular intervals.\n",
    "Example: Stock prices recorded every minute or daily temperature readings.\n",
    "\n",
    "Spatial Data – Data related to geographic locations.\n",
    "Example: GPS coordinates of delivery locations or satellite images.\n",
    "\n",
    "Graph Data – Represents relationships between entities as nodes and edges.\n",
    "Example: Social network connections (e.g., Facebook friend suggestions).\n",
    "\n"
   ]
  },
  {
   "cell_type": "markdown",
   "id": "1f8946e6",
   "metadata": {},
   "source": [
    "# 3. Distinguish:\n",
    "\n",
    "1. Numeric vs. categorical attributes\n",
    "\n",
    "2. Feature selection vs. dimensionality reduction"
   ]
  },
  {
   "cell_type": "raw",
   "id": "ca90fd50",
   "metadata": {},
   "source": [
    "1. Numeric vs. Categorical Attributes-\n",
    "\n",
    "\n",
    "Numeric Attributes represent measurable quantities and can be either continuous (e.g., height, weight) or discrete (e.g., number of children, number of cars owned). These attributes allow mathematical operations such as addition, subtraction, and averaging.\n",
    "\n",
    "Example: Age (25, 30, 45), Salary (₹50,000), Temperature (35.6°C).\n",
    "\n",
    "\n",
    "2.Categorical Attributes -\n",
    "\n",
    "\n",
    "represent distinct categories or labels and are classified into nominal (no inherent order, e.g., colors, gender) and ordinal (ordered categories, e.g., education level, satisfaction rating). These attributes cannot be used for mathematical operations beyond logical grouping or comparison.\n",
    "\n",
    "Example: Gender (Male, Female), Car Brand (Toyota, Ford), Education Level (High School, Bachelor's, Master's).\n"
   ]
  },
  {
   "cell_type": "markdown",
   "id": "d5fb0f9f",
   "metadata": {},
   "source": [
    "# 4. Make quick notes on any two of the following:\n",
    "\n",
    "1. The histogram\n",
    "\n",
    "2. Use a scatter plot\n",
    "\n",
    "3.PCA (Personal Computer Aid)"
   ]
  },
  {
   "cell_type": "raw",
   "id": "78e1d976",
   "metadata": {},
   "source": [
    "1. The Histogram\n",
    "A histogram is a graphical representation of the distribution of a dataset. It consists of bars where:\n",
    "\n",
    "The x-axis represents data ranges (bins).\n",
    "The y-axis represents the frequency of data points in each bin.\n",
    "It helps identify patterns like skewness, peaks, and outliers.\n",
    "Example: A histogram of exam scores can show how many students scored within specific ranges (e.g., 0-10, 10-20, etc.).\n",
    "    \n",
    "    \n",
    "    \n",
    "2. Use of a Scatter Plot\n",
    "A scatter plot is used to visualize the relationship between two numerical variables.\n",
    "\n",
    "Each point represents an observation with its x and y coordinates.\n",
    "It helps detect correlations (positive, negative, or none) and outliers.\n",
    "Example: A scatter plot of study\n",
    "    \n",
    "    \n",
    "PCA (Principal Component Analysis)\n",
    "PCA is a dimensionality reduction technique used to simplify large datasets while retaining important information.\n",
    "\n",
    "It transforms original features into a smaller set of principal components that capture maximum variance.\n",
    "Helps in reducing computational complexity and removing noise from data.\n",
    "Commonly used in image compression, feature extraction, and visualization.\n",
    "Example: Reducing a dataset with 100 features to 2 principal components for visualization.\n",
    "    "
   ]
  },
  {
   "cell_type": "markdown",
   "id": "268d1a60",
   "metadata": {},
   "source": [
    "# 5. Why is it necessary to investigate data? Is there a discrepancy in how qualitative and quantitativedata are explored?"
   ]
  },
  {
   "cell_type": "raw",
   "id": "169e8f4e",
   "metadata": {},
   "source": [
    "Investigating data is essential to ensure accuracy, reliability, and meaningful insights in machine learning. The key reasons include:\n",
    "\n",
    "Detecting Errors & Inconsistencies – Identifies missing values, duplicates, and incorrect entries.\n",
    "Understanding Data Distribution – Helps recognize trends, patterns, and outliers.\n",
    "Feature Selection & Engineering – Determines important variables and improves model performance.\n",
    "Choosing the Right Model – Different models work better for different types of data.\n",
    "Avoiding Bias & Misinterpretation – Ensures data is representative and unbiased.\n",
    "Discrepancy in Exploring Qualitative vs. Quantitative Data\n",
    "Yes, qualitative and quantitative data require different exploration techniques:\n",
    "\n",
    "Qualitative Data (Categorical/Text-Based)\n",
    "\n",
    "Analyzed using text analysis, sentiment analysis, or thematic coding.\n",
    "Visualized through bar charts, word clouds, or frequency tables.\n",
    "Example: Analyzing customer reviews to identify common themes.\n",
    "Quantitative Data (Numerical)\n",
    "\n",
    "Explored using statistical methods like mean, median, standard deviation, and correlation.\n",
    "Visualized using histograms, scatter plots, box plots, and line graphs.\n",
    "Example: Studying sales data trends over time.\n",
    "Both types require different tools and techniques but are equally important for comprehensive data analysis."
   ]
  },
  {
   "cell_type": "markdown",
   "id": "eaa95181",
   "metadata": {},
   "source": [
    "# 6. What are the various histogram shapes? What exactly are ‘bins&#39;?"
   ]
  },
  {
   "cell_type": "raw",
   "id": "4e050587",
   "metadata": {},
   "source": [
    "Various Histogram Shapes\n",
    "Normal (Bell-Shaped) Distribution – Data is symmetrically distributed with a peak in the center (e.g., human height distribution).\n",
    "Skewed Right (Positively Skewed) – Tail extends to the right, meaning most values are on the lower end (e.g., income distribution).\n",
    "Skewed Left (Negatively Skewed) – Tail extends to the left, meaning most values are on the higher end (e.g., test scores where most students score high).\n",
    "Bimodal Distribution – Two distinct peaks, indicating two different groups in the data (e.g., exam scores of two different student groups).\n",
    "Uniform Distribution – All values occur with roughly the same frequency, forming a flat histogram (e.g., rolling a fair die multiple times).\n",
    "What are ‘Bins’ in a Histogram?\n",
    "Bins are intervals that divide the entire range of data into equal segments.\n",
    "Each bin represents the frequency of data points within that range.\n",
    "Choosing the right bin size is crucial—too few bins oversimplify the data, while too many bins can make it look noisy.\n",
    "Example: If a dataset has ages ranging from 0 to 100, bins can be set as 0-10, 10-20, 20-30, etc., to group age data effectively.\n"
   ]
  },
  {
   "cell_type": "markdown",
   "id": "86addca0",
   "metadata": {},
   "source": [
    "# 7. How do we deal with data outliers?"
   ]
  },
  {
   "cell_type": "raw",
   "id": "243f31c9",
   "metadata": {},
   "source": [
    "\n",
    "Dealing with Data Outliers\n",
    "Outliers are data points that significantly differ from the rest of the dataset. Handling them appropriately is important for improving model performance and avoiding skewed results. Here are common ways to deal with outliers:\n",
    "\n",
    "Identifying Outliers\n",
    "\n",
    "Visual Methods: Use box plots, histograms, or scatter plots to visually identify extreme values.\n",
    "Statistical Methods: Calculate the z-score (values beyond 3 standard deviations are outliers) or IQR (Interquartile Range) (values outside 1.5 * IQR above the third quartile or below the first quartile).\n",
    "Methods to Handle Outliers\n",
    "\n",
    "Remove Outliers: If the outliers are errors or irrelevant to the problem, they can be removed from the dataset.\n",
    "Transform the Data: Use transformations like logarithmic, square root, or box-cox transformations to reduce the effect of outliers.\n",
    "Cap or Floor the Values: Replace outliers with a defined value such as the maximum or minimum within an acceptable range (winsorization).\n",
    "Impute the Values: Replace the outlier values with the mean, median, or mode of the dataset, especially if the outliers are due to missing or erroneous data.\n",
    "Use Robust Models: Some models, like tree-based methods (e.g., Random Forests), are less sensitive to outliers and can handle them effectively.\n",
    "Leave Outliers if They Are Important\n",
    "\n",
    "If outliers represent important variations (e.g., fraud detection, rare disease diagnosis), they may need to be retained to capture relevant information."
   ]
  },
  {
   "cell_type": "markdown",
   "id": "2d9b8835",
   "metadata": {},
   "source": [
    "# 8. What are the various central inclination measures? Why does mean vary too much from median incertain data sets?"
   ]
  },
  {
   "cell_type": "raw",
   "id": "9b47bfbc",
   "metadata": {},
   "source": [
    "Various Central Tendency (Central Inclination) Measures\n",
    "Mean: The average of all data points, calculated by summing all values and dividing by the number of values.\n",
    "\n",
    "Formula: \n",
    "Mean\n",
    "=\n",
    "∑\n",
    "Values\n",
    "𝑛\n",
    "Mean= \n",
    "n\n",
    "∑Values\n",
    "​\n",
    " \n",
    "Use: Best for normally distributed data.\n",
    "Median: The middle value when data is sorted in ascending or descending order.\n",
    "\n",
    "Use: Best for skewed data or data with outliers.\n",
    "Mode: The value that occurs most frequently in a dataset.\n",
    "\n",
    "Use: Useful for categorical data or finding the most common value in a dataset.\n",
    "Geometric Mean: The nth root of the product of all values, often used for data that involves growth rates or percentages.\n",
    "\n",
    "Use: Common in finance or environmental studies.\n",
    "Harmonic Mean: The reciprocal of the arithmetic mean of the reciprocals of the data points.\n",
    "\n",
    "Use: Often used in calculating average speeds or rates.\n",
    "Why Does Mean Vary Too Much from Median in Certain Datasets?\n",
    "The mean can vary significantly from the median in datasets that are skewed or contain outliers. Here’s why:\n",
    "\n",
    "Skewed Distributions:\n",
    "\n",
    "In a right-skewed distribution (positively skewed), the mean is pulled toward the higher values, making it larger than the median.\n",
    "In a left-skewed distribution (negatively skewed), the mean is pulled toward the lower values, making it smaller than the median.\n",
    "Outliers:\n",
    "\n",
    "Outliers can disproportionately affect the mean because it involves summing all values. A few very high or very low values can \"drag\" the mean toward them, while the median remains unaffected because it only considers the middle value.\n"
   ]
  },
  {
   "cell_type": "markdown",
   "id": "2cc6be43",
   "metadata": {},
   "source": [
    "# 9. Describe how a scatter plot can be used to investigate bivariate relationships. Is it possible to findoutliers using a scatter plot?"
   ]
  },
  {
   "cell_type": "raw",
   "id": "7204ae73",
   "metadata": {},
   "source": [
    "Using a Scatter Plot to Investigate Bivariate Relationships\n",
    "A scatter plot is a powerful visualization tool to explore the relationship between two numerical variables. Each point on the plot represents a pair of values from the two variables. Here’s how it can be used:\n",
    "\n",
    "Identifying Correlations:\n",
    "\n",
    "Positive Correlation: If the points trend upward from left to right, it indicates a positive relationship (as one variable increases, so does the other).\n",
    "Negative Correlation: If the points trend downward from left to right, it suggests a negative relationship (as one variable increases, the other decreases).\n",
    "No Correlation: If the points are scattered randomly with no discernible pattern, it indicates little to no correlation between the variables.\n",
    "Visualizing Clusters:\n",
    "\n",
    "Clusters of points indicate subgroups or patterns in the data. This can help identify groups of observations that behave similarly.\n",
    "Exploring Trends:\n",
    "\n",
    "A scatter plot can also reveal linear or non-linear trends. Fitting a line (like linear regression) can help quantify the relationship between the variables.\n",
    "Finding Outliers Using a Scatter Plot\n",
    "Yes, a scatter plot can be used to detect outliers. Outliers appear as points that are far away from the general cluster of data points.\n",
    "\n",
    "Outliers in a Scatter Plot: If a data point is located far from the other points or lies on the edge of the distribution, it is likely an outlier.\n",
    "Outliers can be easily spotted visually when they do not follow the general trend or appear as extreme values far from the rest of the data.\n",
    "For example, in a scatter plot showing height vs. weight, a data point representing an individual with an unusually high weight but a normal height would appear as an outlier, distanced from the general cluster of points."
   ]
  },
  {
   "cell_type": "markdown",
   "id": "c97c8fcf",
   "metadata": {},
   "source": [
    "# 10. Describe how cross-tabs can be used to figure out how two variables are related."
   ]
  },
  {
   "cell_type": "raw",
   "id": "0f38e46e",
   "metadata": {},
   "source": [
    "\n",
    "Cross-Tabs (Contingency Tables) for Exploring Relationships\n",
    "A cross-tab summarizes the relationship between two categorical variables by displaying their joint frequency distribution in a table format.\n",
    "\n",
    "Rows: Categories of one variable\n",
    "Columns: Categories of the second variable\n",
    "Cells: Frequency count of each category combination\n",
    "Example: A cross-tab showing gender vs. product preference:\n",
    "\n",
    "Gender\tProduct A\tProduct B\n",
    "Male\t50\t30\n",
    "Female\t40\t60\n",
    "This helps identify if there's a relationship between the variables (e.g., if gender affects product preference)."
   ]
  }
 ],
 "metadata": {
  "kernelspec": {
   "display_name": "Python 3 (ipykernel)",
   "language": "python",
   "name": "python3"
  },
  "language_info": {
   "codemirror_mode": {
    "name": "ipython",
    "version": 3
   },
   "file_extension": ".py",
   "mimetype": "text/x-python",
   "name": "python",
   "nbconvert_exporter": "python",
   "pygments_lexer": "ipython3",
   "version": "3.9.7"
  }
 },
 "nbformat": 4,
 "nbformat_minor": 5
}

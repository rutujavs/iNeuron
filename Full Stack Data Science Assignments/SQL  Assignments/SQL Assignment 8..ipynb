{
 "cells": [
  {
   "cell_type": "code",
   "execution_count": null,
   "id": "3a704b0f",
   "metadata": {},
   "outputs": [],
   "source": [
    "#Q-15. Write an SQL query to fetch intersecting records of two tables.\n",
    "Ans-\n",
    "SELECT <Column_names> FROM table_1 INTERSECT SELECT <Column_names> FROM table_2;"
   ]
  },
  {
   "cell_type": "code",
   "execution_count": null,
   "id": "93973f84",
   "metadata": {},
   "outputs": [],
   "source": [
    "#Q-16. Write an SQL query to show records from one table that another table does not have.\n",
    "Ans-\n",
    "SELECT * FROM table_1 EXCEPT SELECT * FROM table_2;"
   ]
  }
 ],
 "metadata": {
  "kernelspec": {
   "display_name": "Python 3 (ipykernel)",
   "language": "python",
   "name": "python3"
  },
  "language_info": {
   "codemirror_mode": {
    "name": "ipython",
    "version": 3
   },
   "file_extension": ".py",
   "mimetype": "text/x-python",
   "name": "python",
   "nbconvert_exporter": "python",
   "pygments_lexer": "ipython3",
   "version": "3.9.7"
  }
 },
 "nbformat": 4,
 "nbformat_minor": 5
}

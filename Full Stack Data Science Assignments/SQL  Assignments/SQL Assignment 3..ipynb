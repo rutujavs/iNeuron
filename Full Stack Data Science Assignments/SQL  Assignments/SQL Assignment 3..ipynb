{
 "cells": [
  {
   "cell_type": "code",
   "execution_count": null,
   "id": "84508a64",
   "metadata": {},
   "outputs": [],
   "source": [
    "#Q-1. Write an SQL query to print the FIRST_NAME from Worker table after removing white spaces from the right side.\n",
    "Ans- SELECT RTRIM(FIRST_NAME) FROM Worker;"
   ]
  },
  {
   "cell_type": "code",
   "execution_count": null,
   "id": "8994d6a3",
   "metadata": {},
   "outputs": [],
   "source": [
    "#Q-2. Write an SQL query that fetches the unique values of DEPARTMENT from Worker table and prints its length.\n",
    "Ans-\n",
    "SELECT DISTINCT(DEPARTMENT),LEN(DEPARTMENT) FROM Worker;"
   ]
  },
  {
   "cell_type": "code",
   "execution_count": null,
   "id": "29147a55",
   "metadata": {},
   "outputs": [],
   "source": [
    "#Q-3. Write an SQL query to fetch nth max salaries from a table.\n",
    "Ans-\n",
    "SELECT DISTINCT(Salary) FROM Worker ORDER BY Salary DESC LIMIT 1 OFFSET n;"
   ]
  }
 ],
 "metadata": {
  "kernelspec": {
   "display_name": "Python 3 (ipykernel)",
   "language": "python",
   "name": "python3"
  },
  "language_info": {
   "codemirror_mode": {
    "name": "ipython",
    "version": 3
   },
   "file_extension": ".py",
   "mimetype": "text/x-python",
   "name": "python",
   "nbconvert_exporter": "python",
   "pygments_lexer": "ipython3",
   "version": "3.9.7"
  }
 },
 "nbformat": 4,
 "nbformat_minor": 5
}

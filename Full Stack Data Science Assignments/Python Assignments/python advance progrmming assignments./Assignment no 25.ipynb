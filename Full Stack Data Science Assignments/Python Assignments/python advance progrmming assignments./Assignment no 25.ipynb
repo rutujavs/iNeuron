{
 "cells": [
  {
   "cell_type": "raw",
   "id": "d2c2b815",
   "metadata": {},
   "source": [
    "1. Write four functions that directly mutate a list:\n",
    "1. repeat(lst, n): Repeat lst n times.\n",
    "2. add(lst, x): Adds x to the end of the lst.\n",
    "3. remove(lst, m, n): Removes all elements between indices m and n\n",
    "inclusive in lst.\n",
    "4. concat(lst, x): concatenates lst with x (another list).\n",
    "Examples\n",
    "lst = [1, 2, 3, 4]\n",
    "repeat(lst, 3) ➞ [1, 2, 3, 4, 1, 2, 3, 4, 1, 2, 3, 4]\n",
    "add(lst, 1) ➞ [1, 2, 3, 4, 1, 2, 3, 4, 1, 2, 3, 4, 1]\n",
    "remove(lst, 1, 12) ➞ [1]\n",
    "concat(lst, [3, 4]) ➞ [1, 3, 4]"
   ]
  },
  {
   "cell_type": "code",
   "execution_count": 1,
   "id": "e5b5ba42",
   "metadata": {},
   "outputs": [
    {
     "name": "stdout",
     "output_type": "stream",
     "text": [
      "[1, 2, 3, 4, 1, 2, 3, 4, 1, 2, 3, 4]\n",
      "[1, 2, 3, 4, 1]\n",
      "[1]\n",
      "[1, 3, 4]\n"
     ]
    }
   ],
   "source": [
    "def repeat(lst, n):\n",
    "    # Repeat lst n times by extending it\n",
    "    lst *= n\n",
    "\n",
    "def add(lst, x):\n",
    "    # Add x to the end of the list\n",
    "    lst.append(x)\n",
    "\n",
    "def remove(lst, m, n):\n",
    "    # Remove elements from index m to n (inclusive)\n",
    "    del lst[m:n+1]\n",
    "\n",
    "def concat(lst, x):\n",
    "    # Concatenate lst with another list x\n",
    "    lst.extend(x)\n",
    "\n",
    "# Test cases\n",
    "lst = [1, 2, 3, 4]\n",
    "repeat(lst, 3)\n",
    "print(lst)  # ➞ [1, 2, 3, 4, 1, 2, 3, 4, 1, 2, 3, 4]\n",
    "\n",
    "lst = [1, 2, 3, 4]\n",
    "add(lst, 1)\n",
    "print(lst)  # ➞ [1, 2, 3, 4, 1, 2, 3, 4, 1, 2, 3, 4, 1]\n",
    "\n",
    "lst = [1, 2, 3, 4, 5, 6, 7, 8, 9]\n",
    "remove(lst, 1, 12)\n",
    "print(lst)  # ➞ [1]\n",
    "\n",
    "lst = [1]\n",
    "concat(lst, [3, 4])\n",
    "print(lst)  # ➞ [1, 3, 4]\n"
   ]
  },
  {
   "cell_type": "raw",
   "id": "952195a7",
   "metadata": {},
   "source": [
    "2. The classic game of Mastermind is played on a tray on which the\n",
    "Mastermind conceals a code and the Guesser has 10 tries to guess it. The\n",
    "code is a sequence of 4 (or 6, sometimes more) pegs of different colors. Each\n",
    "guess is a corresponding sequence of 4 (or more) pegs of different colors. A\n",
    "guess is &quot;correct&quot; when the color of every peg in the guess exactly matches\n",
    "the corresponding peg in the Mastermind&#39;s code.\n",
    "After each guess by the Guesser, the Mastermind will give a score comprising\n",
    "black &amp; white pegs, not arranged in any order:\n",
    "- Black peg == guess peg matches the color of a code peg in the same\n",
    "position.\n",
    "- White peg == guess peg matches the color of a code peg in another\n",
    "position.\n",
    "Create a function that takes two strings, code and guess as arguments, and\n",
    "returns the score in a dictionary.\n",
    "- The code and guess are strings of numeric digits\n",
    "- The color of the pegs are represented by numeric digits\n",
    "- no &quot;peg&quot; may be double-scored\n",
    "Examples\n",
    "guess_score(&quot;1423&quot;, &quot;5678&quot;) ➞ {&quot;black&quot;: 0, &quot;white&quot;: 0}\n",
    "\n",
    "guess_score(&quot;1423&quot;, &quot;2222&quot;) ➞ {&quot;black&quot;: 1, &quot;white&quot;: 0}\n",
    "guess_score(&quot;1423&quot;, &quot;1234&quot;) ➞ {&quot;black&quot;: 1, &quot;white&quot;: 3}\n",
    "guess_score(&quot;1423&quot;, &quot;2211&quot;) ➞ {&quot;black&quot;: 0, &quot;white&quot;: 2}"
   ]
  },
  {
   "cell_type": "code",
   "execution_count": 2,
   "id": "7ec5cd72",
   "metadata": {},
   "outputs": [
    {
     "name": "stdout",
     "output_type": "stream",
     "text": [
      "{'black': 0, 'white': 0}\n",
      "{'black': 1, 'white': 0}\n",
      "{'black': 1, 'white': 3}\n",
      "{'black': 0, 'white': 2}\n"
     ]
    }
   ],
   "source": [
    "from collections import Counter\n",
    "\n",
    "def guess_score(code, guess):\n",
    "    # Initialize the black and white peg counters\n",
    "    black = 0\n",
    "    white = 0\n",
    "    \n",
    "    # Create lists to hold unmatched digits\n",
    "    code_unmatched = []\n",
    "    guess_unmatched = []\n",
    "    \n",
    "    # Count black pegs (exact matches)\n",
    "    for i in range(len(code)):\n",
    "        if code[i] == guess[i]:\n",
    "            black += 1\n",
    "        else:\n",
    "            code_unmatched.append(code[i])\n",
    "            guess_unmatched.append(guess[i])\n",
    "    \n",
    "    # Count white pegs (matches in different positions)\n",
    "    code_counter = Counter(code_unmatched)\n",
    "    guess_counter = Counter(guess_unmatched)\n",
    "    \n",
    "    # Calculate white pegs based on the intersection of unmatched digits\n",
    "    for digit in guess_counter:\n",
    "        if digit in code_counter:\n",
    "            white += min(guess_counter[digit], code_counter[digit])\n",
    "    \n",
    "    # Return the result as a dictionary\n",
    "    return {\"black\": black, \"white\": white}\n",
    "\n",
    "# Test cases\n",
    "print(guess_score(\"1423\", \"5678\"))  # ➞ {\"black\": 0, \"white\": 0}\n",
    "print(guess_score(\"1423\", \"2222\"))  # ➞ {\"black\": 1, \"white\": 0}\n",
    "print(guess_score(\"1423\", \"1234\"))  # ➞ {\"black\": 1, \"white\": 3}\n",
    "print(guess_score(\"1423\", \"2211\"))  # ➞ {\"black\": 0, \"white\": 2}\n"
   ]
  },
  {
   "cell_type": "raw",
   "id": "58ed37cf",
   "metadata": {},
   "source": [
    "3. Create a function that takes a list lst and a number N and returns a list of\n",
    "two integers from lst whose product equals N.\n",
    "Examples\n",
    "two_product([1, 2, -1, 4, 5], 20) ➞ [4, 5]\n",
    "two_product([1, 2, 3, 4, 5], 10) ➞ [2, 5]\n",
    "two_product([100, 12, 4, 1, 2], 15) ➞ None"
   ]
  },
  {
   "cell_type": "code",
   "execution_count": 3,
   "id": "7a3a64c2",
   "metadata": {},
   "outputs": [
    {
     "name": "stdout",
     "output_type": "stream",
     "text": [
      "[4, 5]\n",
      "[2, 5]\n",
      "None\n"
     ]
    }
   ],
   "source": [
    "def two_product(lst, N):\n",
    "    # Iterate through the list and check each pair\n",
    "    for i in range(len(lst)):\n",
    "        for j in range(i + 1, len(lst)):\n",
    "            if lst[i] * lst[j] == N:\n",
    "                return [lst[i], lst[j]]\n",
    "    \n",
    "    # Return None if no pair is found\n",
    "    return None\n",
    "\n",
    "# Test cases\n",
    "print(two_product([1, 2, -1, 4, 5], 20))  # ➞ [4, 5]\n",
    "print(two_product([1, 2, 3, 4, 5], 10))   # ➞ [2, 5]\n",
    "print(two_product([100, 12, 4, 1, 2], 15))  # ➞ None\n"
   ]
  },
  {
   "cell_type": "raw",
   "id": "419b47d4",
   "metadata": {},
   "source": [
    "4. In this challenge, sort a list containing a series of dates given as strings.\n",
    "Each date is given in the format DD-MM-YYYY_HH:MM:\n",
    "&quot;12-02-2012_13:44&quot;\n",
    "The priority of criteria used for sorting will be:\n",
    "- Year\n",
    "- Month\n",
    "- Day\n",
    "- Hours\n",
    "- Minutes\n",
    "Given a list lst and a string mode, implement a function that returns:\n",
    "- if mode is equal to &quot;ASC&quot;, the list lst sorted in ascending order.\n",
    "- if mode is equal to &quot;DSC&quot;, the list lst sorted in descending order.\n",
    "Examples\n",
    "sort_dates([&quot;10-02-2018_12:30&quot;, &quot;10-02-2016_12:30&quot;, &quot;10-02-2018_12:15&quot;],\n",
    "&quot;ASC&quot;) ➞ [&quot;10-02-2016_12:30&quot;, &quot;10-02-2018_12:15&quot;, &quot;10-02-2018_12:30&quot;]\n",
    "sort_dates([&quot;10-02-2018_12:30&quot;, &quot;10-02-2016_12:30&quot;, &quot;10-02-2018_12:15&quot;],\n",
    "&quot;DSC&quot;) ➞ [&quot;10-02-2018_12:30&quot;, &quot;10-02-2018_12:15&quot;, &quot;10-02-2016_12:30&quot;]\n",
    "\n",
    "sort_dates([&quot;09-02-2000_10:03&quot;, &quot;10-02-2000_18:29&quot;, &quot;01-01-1999_00:55&quot;],\n",
    "&quot;ASC&quot;) ➞ [&quot;01-01-1999_00:55&quot;, &quot;09-02-2000_10:03&quot;, &quot;10-02-2000_18:29&quot;]"
   ]
  },
  {
   "cell_type": "code",
   "execution_count": 4,
   "id": "25107e86",
   "metadata": {},
   "outputs": [
    {
     "name": "stdout",
     "output_type": "stream",
     "text": [
      "['10-02-2016_12:30', '10-02-2018_12:15', '10-02-2018_12:30']\n",
      "['10-02-2018_12:30', '10-02-2018_12:15', '10-02-2016_12:30']\n",
      "['01-01-1999_00:55', '09-02-2000_10:03', '10-02-2000_18:29']\n"
     ]
    }
   ],
   "source": [
    "from datetime import datetime\n",
    "\n",
    "def sort_dates(lst, mode):\n",
    "    # Function to convert date string to a tuple of integers for comparison\n",
    "    def date_to_tuple(date_str):\n",
    "        # Parse the date and time from the string\n",
    "        date_part, time_part = date_str.split('_')\n",
    "        day, month, year = map(int, date_part.split('-'))\n",
    "        hour, minute = map(int, time_part.split(':'))\n",
    "        return (year, month, day, hour, minute)\n",
    "    \n",
    "    # Sort the list based on the tuple representation of each date\n",
    "    lst.sort(key=date_to_tuple, reverse=(mode == \"DSC\"))\n",
    "    \n",
    "    return lst\n",
    "\n",
    "# Test cases\n",
    "print(sort_dates([\"10-02-2018_12:30\", \"10-02-2016_12:30\", \"10-02-2018_12:15\"], \"ASC\"))\n",
    "# ➞ [\"10-02-2016_12:30\", \"10-02-2018_12:15\", \"10-02-2018_12:30\"]\n",
    "\n",
    "print(sort_dates([\"10-02-2018_12:30\", \"10-02-2016_12:30\", \"10-02-2018_12:15\"], \"DSC\"))\n",
    "# ➞ [\"10-02-2018_12:30\", \"10-02-2018_12:15\", \"10-02-2016_12:30\"]\n",
    "\n",
    "print(sort_dates([\"09-02-2000_10:03\", \"10-02-2000_18:29\", \"01-01-1999_00:55\"], \"ASC\"))\n",
    "# ➞ [\"01-01-1999_00:55\", \"09-02-2000_10:03\", \"10-02-2000_18:29\"]\n"
   ]
  },
  {
   "cell_type": "raw",
   "id": "5029d999",
   "metadata": {},
   "source": [
    "5. Write a function that selects all words that have all the same vowels (in any\n",
    "order and/or number) as the first word, including the first word.\n",
    "Examples\n",
    "same_vowel_group([&quot;toe&quot;, &quot;ocelot&quot;, &quot;maniac&quot;]) ➞ [&quot;toe&quot;, &quot;ocelot&quot;]\n",
    "same_vowel_group([&quot;many&quot;, &quot;carriage&quot;, &quot;emit&quot;, &quot;apricot&quot;, &quot;animal&quot;]) ➞\n",
    "[&quot;many&quot;]\n",
    "same_vowel_group([&quot;hoops&quot;, &quot;chuff&quot;, &quot;bot&quot;, &quot;bottom&quot;]) ➞ [&quot;hoops&quot;, &quot;bot&quot;,\n",
    "&quot;bottom&quot;]\n",
    "6. Create a function that takes a list of more than three numbers and returns\n",
    "the Least Common Multiple (LCM).\n",
    "Examples\n",
    "lcm_of_list([1, 2, 3, 4, 5, 6, 7, 8, 9, 10]) ➞ 2520\n",
    "lcm_of_list([13, 6, 17, 18, 19, 20, 37]) ➞ 27965340\n",
    "lcm_of_list([44, 64, 12, 17, 65]) ➞ 2333760"
   ]
  },
  {
   "cell_type": "code",
   "execution_count": 5,
   "id": "ae8bd7ff",
   "metadata": {},
   "outputs": [
    {
     "name": "stdout",
     "output_type": "stream",
     "text": [
      "['toe', 'ocelot']\n",
      "['many']\n",
      "['hoops', 'bot', 'bottom']\n"
     ]
    }
   ],
   "source": [
    "def extract_vowels(word):\n",
    "    vowels = \"aeiou\"\n",
    "    return set([char for char in word if char in vowels])\n",
    "\n",
    "def same_vowel_group(lst):\n",
    "    first_word_vowels = extract_vowels(lst[0])\n",
    "    return [word for word in lst if extract_vowels(word) == first_word_vowels]\n",
    "\n",
    "# Test cases\n",
    "print(same_vowel_group([\"toe\", \"ocelot\", \"maniac\"]))  # ➞ [\"toe\", \"ocelot\"]\n",
    "print(same_vowel_group([\"many\", \"carriage\", \"emit\", \"apricot\", \"animal\"]))  # ➞ [\"many\"]\n",
    "print(same_vowel_group([\"hoops\", \"chuff\", \"bot\", \"bottom\"]))  # ➞ [\"hoops\", \"bot\", \"bottom\"]\n"
   ]
  }
 ],
 "metadata": {
  "kernelspec": {
   "display_name": "Python 3 (ipykernel)",
   "language": "python",
   "name": "python3"
  },
  "language_info": {
   "codemirror_mode": {
    "name": "ipython",
    "version": 3
   },
   "file_extension": ".py",
   "mimetype": "text/x-python",
   "name": "python",
   "nbconvert_exporter": "python",
   "pygments_lexer": "ipython3",
   "version": "3.9.7"
  }
 },
 "nbformat": 4,
 "nbformat_minor": 5
}

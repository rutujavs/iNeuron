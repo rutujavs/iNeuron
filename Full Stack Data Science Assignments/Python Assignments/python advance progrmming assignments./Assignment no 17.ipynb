{
 "cells": [
  {
   "cell_type": "markdown",
   "id": "d22469be",
   "metadata": {},
   "source": [
    "# 1. Create a function that transposes a 2D matrix.\n",
    "Examples\n",
    "transpose_matrix([\n",
    "[1, 1, 1],\n",
    "[2, 2, 2],\n",
    "[3, 3, 3]\n",
    "]) ➞ [\n",
    "[1, 2, 3],\n",
    "[1, 2, 3],\n",
    "[1, 2, 3]\n",
    "]\n",
    "transpose_matrix([\n",
    "[5, 5],\n",
    "[6, 7],\n",
    "[9, 1]\n",
    "]) ➞ [\n",
    "[5, 6, 9],\n",
    "[5, 7, 1]\n",
    "]\n"
   ]
  },
  {
   "cell_type": "code",
   "execution_count": 1,
   "id": "167329dc",
   "metadata": {},
   "outputs": [
    {
     "name": "stdout",
     "output_type": "stream",
     "text": [
      "[[1, 2, 3], [1, 2, 3], [1, 2, 3]]\n",
      "[[5, 6, 9], [5, 7, 1]]\n"
     ]
    }
   ],
   "source": [
    "def transpose_matrix(matrix):\n",
    "    return [list(row) for row in zip(*matrix)]\n",
    "\n",
    "# Test cases\n",
    "print(transpose_matrix([\n",
    "    [1, 1, 1],\n",
    "    [2, 2, 2],\n",
    "    [3, 3, 3]\n",
    "]))  # ➞ [[1, 2, 3], [1, 2, 3], [1, 2, 3]]\n",
    "\n",
    "print(transpose_matrix([\n",
    "    [5, 5],\n",
    "    [6, 7],\n",
    "    [9, 1]\n",
    "]))  # ➞ [[5, 6, 9], [5, 7, 1]]\n"
   ]
  },
  {
   "cell_type": "markdown",
   "id": "86722396",
   "metadata": {},
   "source": [
    "# 2. Create a function that determines whether a string is a valid hex code.\n",
    "A hex code must begin with a pound key # and is exactly 6 characters in\n",
    "length. Each character must be a digit from 0-9 or an alphabetic character\n",
    "from A-F. All alphabetic characters may be uppercase or lowercase.\n",
    "Examples\n",
    "is_valid_hex_code(&quot;#CD5C5C&quot;) ➞ True\n",
    "is_valid_hex_code(&quot;#EAECEE&quot;) ➞ True\n",
    "is_valid_hex_code(&quot;#eaecee&quot;) ➞ True\n",
    "is_valid_hex_code(&quot;#CD5C58C&quot;) ➞ False\n",
    "#Length exceeds 6\n",
    "is_valid_hex_code(&quot;#CD5C5Z&quot;) ➞ False\n",
    "#Not all alphabetic characters in A-F\n",
    "is_valid_hex_code(&quot;#CD5C&amp;C&quot;) ➞ False\n",
    "#Contains unacceptable character\n",
    "\n",
    "is_valid_hex_code(&quot;CD5C5C&quot;) ➞ False\n",
    "#Missing #"
   ]
  },
  {
   "cell_type": "code",
   "execution_count": 2,
   "id": "9636571c",
   "metadata": {},
   "outputs": [
    {
     "name": "stdout",
     "output_type": "stream",
     "text": [
      "True\n",
      "True\n",
      "True\n",
      "False\n",
      "False\n",
      "False\n",
      "False\n"
     ]
    }
   ],
   "source": [
    "import re\n",
    "\n",
    "def is_valid_hex_code(code):\n",
    "    return bool(re.match(r'^#[0-9A-Fa-f]{6}$', code))\n",
    "\n",
    "# Test cases\n",
    "print(is_valid_hex_code(\"#CD5C5C\"))  # ➞ True\n",
    "print(is_valid_hex_code(\"#EAECEE\"))  # ➞ True\n",
    "print(is_valid_hex_code(\"#eaecee\"))  # ➞ True\n",
    "print(is_valid_hex_code(\"#CD5C58C\"))  # ➞ False (Length exceeds 6)\n",
    "print(is_valid_hex_code(\"#CD5C5Z\"))  # ➞ False (Invalid character)\n",
    "print(is_valid_hex_code(\"#CD5C&C\"))  # ➞ False (Invalid character)\n",
    "print(is_valid_hex_code(\"CD5C5C\"))  # ➞ False (Missing #)\n"
   ]
  },
  {
   "cell_type": "markdown",
   "id": "7fb4452b",
   "metadata": {},
   "source": [
    "# 3. Given a list of math equations (given as strings), return the percentage of\n",
    "correct answers as a string. Round to the nearest whole number.\n",
    "Examples\n",
    "mark_maths([&quot;2+2=4&quot;, &quot;3+2=5&quot;, &quot;10-3=3&quot;, &quot;5+5=10&quot;]) ➞ &quot;75%&quot;\n",
    "mark_maths([&quot;1-2=-2&quot;]), &quot;0%&quot;\n",
    "mark_maths([&quot;2+3=5&quot;, &quot;4+4=9&quot;, &quot;3-1=2&quot;]) ➞ &quot;67%&quot;\n"
   ]
  },
  {
   "cell_type": "code",
   "execution_count": 3,
   "id": "c5df768e",
   "metadata": {},
   "outputs": [
    {
     "name": "stdout",
     "output_type": "stream",
     "text": [
      "75%\n",
      "0%\n",
      "67%\n"
     ]
    }
   ],
   "source": [
    "def mark_maths(equations):\n",
    "    correct = 0\n",
    "    for equation in equations:\n",
    "        try:\n",
    "            left, right = equation.split('=')\n",
    "            if eval(left.strip()) == int(right.strip()):\n",
    "                correct += 1\n",
    "        except:\n",
    "            continue\n",
    "    return f\"{round((correct / len(equations)) * 100)}%\"\n",
    "\n",
    "# Test cases\n",
    "print(mark_maths([\"2+2=4\", \"3+2=5\", \"10-3=3\", \"5+5=10\"]))  # ➞ \"75%\"\n",
    "print(mark_maths([\"1-2=-2\"]))  # ➞ \"0%\"\n",
    "print(mark_maths([\"2+3=5\", \"4+4=9\", \"3-1=2\"]))  # ➞ \"67%\"\n"
   ]
  },
  {
   "cell_type": "markdown",
   "id": "cc2a0bed",
   "metadata": {},
   "source": [
    "# 4. There are two players, Alice and Bob, each with a 3-by-3 grid. A referee\n",
    "tells Alice to fill out one particular row in the grid (say the second row) by\n",
    "putting either a 1 or a 0 in each box, such that the sum of the numbers in that\n",
    "row is odd. The referee tells Bob to fill out one column in the grid (say the first\n",
    "column) by putting either a 1 or a 0 in each box, such that the sum of the\n",
    "numbers in that column is even.\n",
    "Alice and Bob win the game if Alice’s numbers give an odd sum, Bob’s give\n",
    "an even sum, and (most important) they’ve each written down the same\n",
    "number in the one square where their row and column intersect.\n",
    "Examples\n",
    "magic_square_game([2, &quot;100&quot;], [1, &quot;101&quot;]) ➞ False\n",
    "magic_square_game([2, &quot;001&quot;], [1, &quot;101&quot;]) ➞ True\n",
    "magic_square_game([3, &quot;111&quot;], [2, &quot;011&quot;]) ➞ True\n",
    "magic_square_game([1, &quot;010&quot;], [3, &quot;101&quot;]) ➞ False\n",
    "#Two lists, Alice [row, &quot;her choice&quot;], Bob [column, &quot;his choice&quot;]\n"
   ]
  },
  {
   "cell_type": "code",
   "execution_count": 8,
   "id": "0c3148b9",
   "metadata": {},
   "outputs": [
    {
     "name": "stdout",
     "output_type": "stream",
     "text": [
      "False\n",
      "False\n",
      "False\n",
      "False\n"
     ]
    }
   ],
   "source": [
    "def magic_square_game(alice, bob):\n",
    "    row, alice_choices = alice\n",
    "    col, bob_choices = bob\n",
    "\n",
    "    # Ensure valid indices for row and column\n",
    "    if row not in [0, 1, 2] or col not in [0, 1, 2]:\n",
    "        return False\n",
    "\n",
    "    # Check if Alice's row has an odd sum\n",
    "    if sum(int(x) for x in alice_choices) % 2 != 1:\n",
    "        return False\n",
    "\n",
    "    # Check if Bob's column has an even sum\n",
    "    if sum(int(bob_choices[i]) for i in range(3)) % 2 != 0:\n",
    "        return False\n",
    "\n",
    "    # Check if the intersecting number is the same for both Alice and Bob\n",
    "    if alice_choices[col] != bob_choices[row]:\n",
    "        return False\n",
    "\n",
    "    return True\n",
    "\n",
    "# Test cases\n",
    "print(magic_square_game([2, \"100\"], [1, \"101\"]))  # ➞ False\n",
    "print(magic_square_game([2, \"001\"], [1, \"101\"]))  # ➞ True\n",
    "print(magic_square_game([3, \"111\"], [2, \"011\"]))  # ➞ True\n",
    "print(magic_square_game([1, \"010\"], [3, \"101\"]))  # ➞ False\n"
   ]
  },
  {
   "cell_type": "markdown",
   "id": "7f760c3e",
   "metadata": {},
   "source": [
    "# 5. From point A, an object is moving towards point B at constant velocity va\n",
    "(in km/hr). From point B, another object is moving towards point A at constant\n",
    "velocity vb (in km/hr). Knowing this and the distance between point A and B\n",
    "(in km), write a function that returns how much time passes until both objects\n",
    "meet.\n",
    "Format the output like this:\n",
    "\n",
    "&quot;2h 23min 34s&quot;\n",
    "Examples\n",
    "lets_meet(100, 10, 30) ➞ &quot;2h 30min 0s&quot;\n",
    "lets_meet(280, 70, 80) ➞ &quot;1h 52min 0s&quot;\n",
    "lets_meet(90, 75, 65) ➞ &quot;0h 38min 34s&quot;"
   ]
  },
  {
   "cell_type": "code",
   "execution_count": 9,
   "id": "47c31fac",
   "metadata": {},
   "outputs": [
    {
     "name": "stdout",
     "output_type": "stream",
     "text": [
      "0h 16min 21s\n",
      "0h 13min 42s\n",
      "0h 23min 38s\n"
     ]
    }
   ],
   "source": [
    "def lets_meet(va, vb, d):\n",
    "    # Time to meet in hours\n",
    "    time_in_hours = d / (va + vb)\n",
    "    \n",
    "    # Get the hours\n",
    "    hours = int(time_in_hours)\n",
    "    \n",
    "    # Get the minutes and seconds\n",
    "    minutes = int((time_in_hours - hours) * 60)\n",
    "    seconds = int((((time_in_hours - hours) * 60) - minutes) * 60)\n",
    "    \n",
    "    return f\"{hours}h {minutes}min {seconds}s\"\n",
    "\n",
    "# Test cases\n",
    "print(lets_meet(100, 10, 30))  # ➞ \"2h 30min 0s\"\n",
    "print(lets_meet(280, 70, 80))  # ➞ \"1h 52min 0s\"\n",
    "print(lets_meet(90, 75, 65))   # ➞ \"0h 38min 34s\"\n"
   ]
  }
 ],
 "metadata": {
  "kernelspec": {
   "display_name": "Python 3 (ipykernel)",
   "language": "python",
   "name": "python3"
  },
  "language_info": {
   "codemirror_mode": {
    "name": "ipython",
    "version": 3
   },
   "file_extension": ".py",
   "mimetype": "text/x-python",
   "name": "python",
   "nbconvert_exporter": "python",
   "pygments_lexer": "ipython3",
   "version": "3.9.7"
  }
 },
 "nbformat": 4,
 "nbformat_minor": 5
}

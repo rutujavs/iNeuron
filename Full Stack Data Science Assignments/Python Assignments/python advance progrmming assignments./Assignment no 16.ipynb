{
 "cells": [
  {
   "cell_type": "markdown",
   "id": "57e7dda3",
   "metadata": {},
   "source": [
    "# 1. Rondo Form is a type of musical structure, in which there is a recurring\n",
    "theme/refrain, notated as A. Here are the rules for valid rondo forms:\n",
    "- Rondo forms always start and end with an A section.\n",
    "- In between the A sections, there should be contrasting sections notated as\n",
    "B, then C, then D, etc... No letter should be skipped.\n",
    "- There shouldn&#39;t be any repeats in the sequence (such as ABBACCA).\n",
    "Create a function which validates whether a given string is a valid Rondo\n",
    "Form.\n",
    "Examples\n",
    "valid_rondo(&quot;ABACADAEAFAGAHAIAJA&quot;) ➞ True\n",
    "valid_rondo(&quot;ABA&quot;) ➞ True\n",
    "valid_rondo(&quot;ABBACCA&quot;) ➞ False\n",
    "valid_rondo(&quot;ACAC&quot;) ➞ False\n",
    "valid_rondo(&quot;A&quot;) ➞ False"
   ]
  },
  {
   "cell_type": "code",
   "execution_count": 1,
   "id": "bc66e024",
   "metadata": {},
   "outputs": [
    {
     "name": "stdout",
     "output_type": "stream",
     "text": [
      "True\n",
      "True\n",
      "True\n",
      "False\n",
      "True\n"
     ]
    }
   ],
   "source": [
    "def valid_rondo(form):\n",
    "    letters = 'ABCDEFGHIJKLMNOPQRSTUVWXYZ'\n",
    "    form = form.upper()\n",
    "    \n",
    "    # Check if the first and last characters are 'A'\n",
    "    if form[0] != 'A' or form[-1] != 'A':\n",
    "        return False\n",
    "    \n",
    "    # Check if the intermediate letters follow the correct order\n",
    "    used = set()\n",
    "    for i, char in enumerate(form):\n",
    "        if char not in used:\n",
    "            if char != letters[len(used)]:\n",
    "                return False\n",
    "            used.add(char)\n",
    "    return True\n",
    "\n",
    "# Test cases\n",
    "print(valid_rondo(\"ABACADAEAFAGAHAIAJA\"))  # ➞ True\n",
    "print(valid_rondo(\"ABA\"))  # ➞ True\n",
    "print(valid_rondo(\"ABBACCA\"))  # ➞ False\n",
    "print(valid_rondo(\"ACAC\"))  # ➞ False\n",
    "print(valid_rondo(\"A\"))  # ➞ False\n"
   ]
  },
  {
   "cell_type": "markdown",
   "id": "7e10d106",
   "metadata": {},
   "source": [
    "# 2. Create a function that returns the whole of the first sentence whichcontains a specific word. Include the full stop at the end of the sentence.\n",
    "Examples\n",
    "txt = &quot;I have a cat. I have a mat. Things are going swell.&quot;\n",
    "sentence_searcher(txt, &quot;have&quot;) ➞ &quot;I have a cat.&quot;\n",
    "sentence_searcher(txt, &quot;MAT&quot;) ➞ &quot;I have a mat.&quot;\n",
    "sentence_searcher(txt, &quot;things&quot;) ➞ &quot;Things are going swell.&quot;\n",
    "sentence_searcher(txt, &quot;flat&quot;) ➞ &quot;&quot;"
   ]
  },
  {
   "cell_type": "code",
   "execution_count": 2,
   "id": "cce99105",
   "metadata": {},
   "outputs": [
    {
     "name": "stdout",
     "output_type": "stream",
     "text": [
      "I have a cat.\n",
      "I have a mat.\n",
      "Things are going swell..\n",
      "\n"
     ]
    }
   ],
   "source": [
    "def sentence_searcher(txt, word):\n",
    "    sentences = txt.split('. ')\n",
    "    word = word.lower()\n",
    "    \n",
    "    for sentence in sentences:\n",
    "        if word.lower() in sentence.lower():\n",
    "            return sentence.strip() + '.'\n",
    "    return \"\"\n",
    "\n",
    "# Test cases\n",
    "txt = \"I have a cat. I have a mat. Things are going swell.\"\n",
    "print(sentence_searcher(txt, \"have\"))  # ➞ \"I have a cat.\"\n",
    "print(sentence_searcher(txt, \"MAT\"))  # ➞ \"I have a mat.\"\n",
    "print(sentence_searcher(txt, \"things\"))  # ➞ \"Things are going swell.\"\n",
    "print(sentence_searcher(txt, \"flat\"))  # ➞ \"\"\n"
   ]
  },
  {
   "cell_type": "markdown",
   "id": "932e1bfd",
   "metadata": {},
   "source": [
    "# 3. Given a number, find the &quot;round &quot;of each digit of the number. An integer iscalled &quot;round&quot; if all its digits except the leftmost (most significant) are equal tozero.\n",
    "- Round numbers: 4000, 1, 9, 800, 90\n",
    "- Not round numbers: 110, 707, 222, 1001\n",
    "\n",
    "Create a function that takes a number and returns the &quot;round&quot; of each digit\n",
    "(except if the digit is zero) as a string. Check out the following examples for\n",
    "more clarification.\n",
    "Examples\n",
    "sum_round(101) ➞ &quot;1 100&quot;\n",
    "sum_round(1234) ➞ &quot;4 30 200 1000&quot;\n",
    "sum_round(54210) ➞ &quot;10 200 4000 50000&quot;"
   ]
  },
  {
   "cell_type": "code",
   "execution_count": 3,
   "id": "2d8b73fd",
   "metadata": {},
   "outputs": [
    {
     "name": "stdout",
     "output_type": "stream",
     "text": [
      "100 1\n",
      "1000 200 30 4\n",
      "50000 4000 200 10\n"
     ]
    }
   ],
   "source": [
    "def sum_round(num):\n",
    "    num_str = str(num)\n",
    "    result = []\n",
    "    \n",
    "    for i, digit in enumerate(num_str):\n",
    "        if digit != '0':\n",
    "            result.append(str(int(digit) * 10**(len(num_str) - i - 1)))\n",
    "    \n",
    "    return ' '.join(result)\n",
    "\n",
    "# Test cases\n",
    "print(sum_round(101))  # ➞ \"1 100\"\n",
    "print(sum_round(1234))  # ➞ \"4 30 200 1000\"\n",
    "print(sum_round(54210))  # ➞ \"10 200 4000 50000\"\n"
   ]
  },
  {
   "cell_type": "markdown",
   "id": "be976055",
   "metadata": {},
   "source": [
    "# 4. Your task, is to create N x N multiplication table, of size n provided in parameter.\n",
    "For example, when n is 5, the multiplication table is:\n",
    "- 1, 2, 3, 4, 5\n",
    "- 2, 4, 6, 8, 10\n",
    "- 3, 6, 9, 12, 15\n",
    "- 4, 8, 12, 16, 20\n",
    "- 5, 10, 15, 20, 25\n",
    "This example will result in:\n",
    "[[1, 2, 3, 4, 5], [2, 4, 6, 8, 10], [3, 6, 9, 12, 15], [4, 8, 12, 16, 20], [5, 10, 15, 20,\n",
    "25]]\n",
    "Examples\n",
    "multiplication_table(1) ➞ [[1]]\n",
    "multiplication_table(3) ➞ [[1, 2, 3], [2, 4, 6], [3, 6, 9]]"
   ]
  },
  {
   "cell_type": "code",
   "execution_count": 4,
   "id": "b7353f3a",
   "metadata": {},
   "outputs": [
    {
     "name": "stdout",
     "output_type": "stream",
     "text": [
      "[[1]]\n",
      "[[1, 2, 3], [2, 4, 6], [3, 6, 9]]\n"
     ]
    }
   ],
   "source": [
    "def multiplication_table(n):\n",
    "    return [[(i + 1) * (j + 1) for j in range(n)] for i in range(n)]\n",
    "\n",
    "# Test cases\n",
    "print(multiplication_table(1))  # ➞ [[1]]\n",
    "print(multiplication_table(3))  # ➞ [[1, 2, 3], [2, 4, 6], [3, 6, 9]]\n"
   ]
  },
  {
   "cell_type": "markdown",
   "id": "58e49642",
   "metadata": {},
   "source": [
    "# 5. Create a function that returns True if two lines rhyme and False otherwise.For the purposes of this exercise, two lines rhyme if the last word from each sentence contains the same vowels.\n",
    "Examples\n",
    "does_rhyme(&quot;Sam I am!&quot;, &quot;Green eggs and ham.&quot;) ➞ True\n",
    "does_rhyme(&quot;Sam I am!&quot;, &quot;Green eggs and HAM.&quot;) ➞ True\n",
    "#Capitalization and punctuation should not matter.\n",
    "\n",
    "does_rhyme(&quot;You are off to the races&quot;, &quot;a splendid day.&quot;) ➞ False\n",
    "does_rhyme(&quot;and frequently do?&quot;, &quot;you gotta move.&quot;) ➞ False"
   ]
  },
  {
   "cell_type": "code",
   "execution_count": 5,
   "id": "5aaa05e7",
   "metadata": {},
   "outputs": [
    {
     "name": "stdout",
     "output_type": "stream",
     "text": [
      "True\n",
      "True\n",
      "False\n",
      "False\n"
     ]
    }
   ],
   "source": [
    "import re\n",
    "\n",
    "def does_rhyme(line1, line2):\n",
    "    vowels = \"aeiou\"\n",
    "    \n",
    "    # Extract the last word from each sentence (case insensitive, ignoring punctuation)\n",
    "    last_word1 = re.findall(r'\\w+', line1.lower())[-1]\n",
    "    last_word2 = re.findall(r'\\w+', line2.lower())[-1]\n",
    "    \n",
    "    # Extract the vowels from the last word\n",
    "    vowels1 = ''.join([char for char in last_word1 if char in vowels])\n",
    "    vowels2 = ''.join([char for char in last_word2 if char in vowels])\n",
    "    \n",
    "    return vowels1 == vowels2\n",
    "\n",
    "# Test cases\n",
    "print(does_rhyme(\"Sam I am!\", \"Green eggs and ham.\"))  # ➞ True\n",
    "print(does_rhyme(\"Sam I am!\", \"Green eggs and HAM.\"))  # ➞ True\n",
    "print(does_rhyme(\"You are off to the races\", \"a splendid day.\"))  # ➞ False\n",
    "print(does_rhyme(\"and frequently do?\", \"you gotta move.\"))  # ➞ False\n"
   ]
  }
 ],
 "metadata": {
  "kernelspec": {
   "display_name": "Python 3 (ipykernel)",
   "language": "python",
   "name": "python3"
  },
  "language_info": {
   "codemirror_mode": {
    "name": "ipython",
    "version": 3
   },
   "file_extension": ".py",
   "mimetype": "text/x-python",
   "name": "python",
   "nbconvert_exporter": "python",
   "pygments_lexer": "ipython3",
   "version": "3.9.7"
  }
 },
 "nbformat": 4,
 "nbformat_minor": 5
}

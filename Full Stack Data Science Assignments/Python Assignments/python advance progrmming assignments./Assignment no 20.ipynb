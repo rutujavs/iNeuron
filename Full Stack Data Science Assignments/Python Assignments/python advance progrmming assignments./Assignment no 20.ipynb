{
 "cells": [
  {
   "cell_type": "raw",
   "id": "95eec0ee",
   "metadata": {},
   "source": [
    "1. Create a function based on the input and output. Look at the examples,\n",
    "there is a pattern.\n",
    "Examples\n",
    "secret(&quot;p.one.two.three&quot;) ➞ &quot;&lt;p class=&#39;one two three&#39;&gt;&lt;/p&gt;&quot;\n",
    "secret(&quot;p.one&quot;) ➞ &quot;&lt;p class=&#39;one&#39;&gt;&lt;/p&gt;&quot;\n",
    "secret(&quot;p.four.five&quot;) ➞ &quot;&lt;p class=&#39;four five&#39;&gt;&lt;/p&gt;&quot;\n"
   ]
  },
  {
   "cell_type": "code",
   "execution_count": 1,
   "id": "07df4885",
   "metadata": {},
   "outputs": [
    {
     "name": "stdout",
     "output_type": "stream",
     "text": [
      "<p class='one two three'></p>\n",
      "<p class='one'></p>\n",
      "<p class='four five'></p>\n"
     ]
    }
   ],
   "source": [
    "def secret(s):\n",
    "    parts = s.split(\".\")\n",
    "    if len(parts) < 2:\n",
    "        return \"\"\n",
    "    class_name = \" \".join(parts[1:])\n",
    "    return f\"<{parts[0]} class='{class_name}'></{parts[0]}>\"\n",
    "\n",
    "# Test cases\n",
    "print(secret(\"p.one.two.three\"))  # ➞ \"<p class='one two three'></p>\"\n",
    "print(secret(\"p.one\"))  # ➞ \"<p class='one'></p>\"\n",
    "print(secret(\"p.four.five\"))  # ➞ \"<p class='four five'></p>\"\n"
   ]
  },
  {
   "cell_type": "raw",
   "id": "1ae4a541",
   "metadata": {},
   "source": [
    "2. Create a function which counts how many lone 1s appear in a given\n",
    "number. Lone means the number doesn&#39;t appear twice or more in a row.\n",
    "Examples\n",
    "count_lone_ones(101) ➞ 2\n",
    "count_lone_ones(1191) ➞ 1\n",
    "count_lone_ones(1111) ➞ 0\n",
    "count_lone_ones(462) ➞ 0\n"
   ]
  },
  {
   "cell_type": "code",
   "execution_count": 2,
   "id": "0befdbb6",
   "metadata": {},
   "outputs": [
    {
     "name": "stdout",
     "output_type": "stream",
     "text": [
      "2\n",
      "1\n",
      "0\n",
      "0\n"
     ]
    }
   ],
   "source": [
    "def count_lone_ones(n):\n",
    "    n_str = str(n)\n",
    "    count = 0\n",
    "    for i in range(1, len(n_str) - 1):\n",
    "        if n_str[i] == \"1\" and n_str[i-1] != \"1\" and n_str[i+1] != \"1\":\n",
    "            count += 1\n",
    "    if n_str[0] == \"1\" and n_str[1] != \"1\":\n",
    "        count += 1\n",
    "    if n_str[-1] == \"1\" and n_str[-2] != \"1\":\n",
    "        count += 1\n",
    "    return count\n",
    "\n",
    "# Test cases\n",
    "print(count_lone_ones(101))  # ➞ 2\n",
    "print(count_lone_ones(1191))  # ➞ 1\n",
    "print(count_lone_ones(1111))  # ➞ 0\n",
    "print(count_lone_ones(462))  # ➞ 0\n"
   ]
  },
  {
   "cell_type": "raw",
   "id": "cfa7c6dc",
   "metadata": {},
   "source": [
    "3. Write a method that accepts two integer parameters rows and cols. The\n",
    "output is a 2d array of numbers displayed in column-major order, meaning the\n",
    "numbers shown increase sequentially down each column and wrap to the top\n",
    "of the next column to the right once the bottom of the current column is\n",
    "reached.\n",
    "Examples\n",
    "printGrid(3, 6) ➞ [\n",
    "[1, 4, 7, 10, 13, 16],\n",
    "[2, 5, 8, 11, 14, 17],\n",
    "[3, 6, 9, 12, 15, 18]\n",
    "]\n",
    "printGrid(5, 3) ➞ [\n",
    "[1, 6, 11],\n",
    "[2, 7, 12],\n",
    "[3, 8, 13],\n",
    "[4, 9, 14],\n",
    "[5, 10, 15]\n",
    "]\n",
    "\n",
    "printGrid(4, 1) ➞ [\n",
    "[1],\n",
    "[2],\n",
    "[3],\n",
    "[4]\n",
    "]\n"
   ]
  },
  {
   "cell_type": "code",
   "execution_count": 3,
   "id": "68c90eb6",
   "metadata": {},
   "outputs": [
    {
     "name": "stdout",
     "output_type": "stream",
     "text": [
      "[[1, 4, 7, 10, 13, 16], [2, 5, 8, 11, 14, 17], [3, 6, 9, 12, 15, 18]]\n",
      "[[1, 6, 11], [2, 7, 12], [3, 8, 13], [4, 9, 14], [5, 10, 15]]\n",
      "[[1], [2], [3], [4]]\n"
     ]
    }
   ],
   "source": [
    "def printGrid(rows, cols):\n",
    "    grid = [[0] * cols for _ in range(rows)]\n",
    "    num = 1\n",
    "    for c in range(cols):\n",
    "        for r in range(rows):\n",
    "            grid[r][c] = num\n",
    "            num += 1\n",
    "    return grid\n",
    "\n",
    "# Test cases\n",
    "print(printGrid(3, 6))  # ➞ [[1, 4, 7, 10, 13, 16], [2, 5, 8, 11, 14, 17], [3, 6, 9, 12, 15, 18]]\n",
    "print(printGrid(5, 3))  # ➞ [[1, 6, 11], [2, 7, 12], [3, 8, 13], [4, 9, 14], [5, 10, 15]]\n",
    "print(printGrid(4, 1))  # ➞ [[1], [2], [3], [4]]\n"
   ]
  },
  {
   "cell_type": "raw",
   "id": "9a2dbdaa",
   "metadata": {},
   "source": [
    "4. Given a list of integers, return the smallest positive integer not present in\n",
    "the list.\n",
    "Here is a representative example. Consider the list:\n",
    "[-2, 6, 4, 5, 7, -1, 7, 1, 3, 6, 6, -2, 9, 10, 2, 2]\n",
    "After reordering, the list becomes:\n",
    "[-2, -2, -1, 1, 2, 2, 3, 4, 5, 6, 6, 6, 7, 7, 9, 10]\n",
    "from which we see that the smallest missing positive integer is 8.\n",
    "Examples\n",
    "min_miss_pos([-2, 6, 4, 5, 7, -1, 1, 3, 6, -2, 9, 10, 2, 2]) ➞ 8\n",
    "# After sorting, list becomes [-2, -2, -1, 1, 2, 2, 3, 4, 5, 6, 6, 7, 9, 10]\n",
    "# So the smallest missing positive integer is 8\n",
    "min_miss_pos([5, 9, -2, 0, 1, 3, 9, 3, 8, 9]) ➞ 2\n",
    "# After sorting, list becomes [-2, 0, 1, 3, 3, 5, 8, 9, 9, 9]\n",
    "# So the smallest missing positive integer is 2\n",
    "min_miss_pos([0, 4, 4, -1, 9, 4, 5, 2, 10, 7, 6, 3, 10, 9]) ➞ 1\n",
    "# After sorting, list becomes [-1, 0, 2, 3, 4, 4, 4, 5, 6, 7, 9, 9, 10, 10]\n",
    "# So the smallest missing positive integer is 1\n"
   ]
  },
  {
   "cell_type": "code",
   "execution_count": 4,
   "id": "267abd08",
   "metadata": {},
   "outputs": [
    {
     "name": "stdout",
     "output_type": "stream",
     "text": [
      "8\n",
      "2\n",
      "1\n"
     ]
    }
   ],
   "source": [
    "def min_miss_pos(lst):\n",
    "    lst = sorted(set(lst))  # Remove duplicates and sort\n",
    "    missing = 1\n",
    "    for num in lst:\n",
    "        if num == missing:\n",
    "            missing += 1\n",
    "    return missing\n",
    "\n",
    "# Test cases\n",
    "print(min_miss_pos([-2, 6, 4, 5, 7, -1, 1, 3, 6, -2, 9, 10, 2, 2]))  # ➞ 8\n",
    "print(min_miss_pos([5, 9, -2, 0, 1, 3, 9, 3, 8, 9]))  # ➞ 2\n",
    "print(min_miss_pos([0, 4, 4, -1, 9, 4, 5, 2, 10, 7, 6, 3, 10, 9]))  # ➞ 1\n"
   ]
  },
  {
   "cell_type": "raw",
   "id": "26b66fe8",
   "metadata": {},
   "source": [
    "5. Google is launching a network of autonomous pizza delivery drones and\n",
    "wants you to create a flexible rewards system (Pizza Points™) that can be\n",
    "tweaked in the future. The rules are simple: if a customer has made at least N\n",
    "orders of at least Y price, they get a FREE pizza!\n",
    "Create a function that takes a dictionary of customers, a minimum number of\n",
    "orders and a minimum order price. Return a list of customers that are eligible\n",
    "for a free pizza.\n",
    "Examples\n",
    "\n",
    "customers = {\n",
    "&quot;Batman&quot;: [22, 30, 11, 17, 15, 52, 27, 12],\n",
    "&quot;Spider-Man&quot;: [5, 17, 30, 33, 40, 22, 26, 10, 11, 45]\n",
    "}\n",
    "pizza_points(customers, 5, 20) ➞ [&quot;Spider-Man&quot;]\n",
    "pizza_points(customers, 3, 10) ➞ [&quot;Batman&quot;, &quot;Spider-Man&quot;]\n",
    "pizza_points(customers, 5, 100) ➞ []"
   ]
  },
  {
   "cell_type": "code",
   "execution_count": 5,
   "id": "63c1446f",
   "metadata": {},
   "outputs": [
    {
     "name": "stdout",
     "output_type": "stream",
     "text": [
      "['Spider-Man']\n",
      "['Batman', 'Spider-Man']\n",
      "[]\n"
     ]
    }
   ],
   "source": [
    "def pizza_points(customers, min_orders, min_price):\n",
    "    eligible_customers = []\n",
    "    for customer, orders in customers.items():\n",
    "        valid_orders = [order for order in orders if order >= min_price]\n",
    "        if len(valid_orders) >= min_orders:\n",
    "            eligible_customers.append(customer)\n",
    "    return eligible_customers\n",
    "\n",
    "# Test cases\n",
    "customers = {\n",
    "    \"Batman\": [22, 30, 11, 17, 15, 52, 27, 12],\n",
    "    \"Spider-Man\": [5, 17, 30, 33, 40, 22, 26, 10, 11, 45]\n",
    "}\n",
    "print(pizza_points(customers, 5, 20))  # ➞ [\"Spider-Man\"]\n",
    "print(pizza_points(customers, 3, 10))  # ➞ [\"Batman\", \"Spider-Man\"]\n",
    "print(pizza_points(customers, 5, 100))  # ➞ []\n"
   ]
  }
 ],
 "metadata": {
  "kernelspec": {
   "display_name": "Python 3 (ipykernel)",
   "language": "python",
   "name": "python3"
  },
  "language_info": {
   "codemirror_mode": {
    "name": "ipython",
    "version": 3
   },
   "file_extension": ".py",
   "mimetype": "text/x-python",
   "name": "python",
   "nbconvert_exporter": "python",
   "pygments_lexer": "ipython3",
   "version": "3.9.7"
  }
 },
 "nbformat": 4,
 "nbformat_minor": 5
}

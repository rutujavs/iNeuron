{
 "cells": [
  {
   "cell_type": "markdown",
   "id": "b60dea6d",
   "metadata": {},
   "source": [
    "# 1. Given a list of numbers, create a function that removes 25% from every\n",
    "number in the list except the smallest number, and adds the total amount\n",
    "removed to the smallest number.\n",
    "Examples\n",
    "show_the_love([4, 1, 4]) ➞ [3, 3, 3]\n",
    "show_the_love([16, 10, 8]) ➞ [12, 7.5, 14.5]\n",
    "show_the_love([2, 100]) ➞ [27, 75]"
   ]
  },
  {
   "cell_type": "code",
   "execution_count": 1,
   "id": "30483ac2",
   "metadata": {},
   "outputs": [
    {
     "name": "stdout",
     "output_type": "stream",
     "text": [
      "[3.0, 3.0, 3.0]\n",
      "[12.0, 7.5, 14.5]\n",
      "[27.0, 75.0]\n"
     ]
    }
   ],
   "source": [
    "def show_the_love(lst):\n",
    "    smallest = min(lst)\n",
    "    total_removed = 0\n",
    "    \n",
    "    for i in range(len(lst)):\n",
    "        if lst[i] != smallest:\n",
    "            removed = lst[i] * 0.25\n",
    "            total_removed += removed\n",
    "            lst[i] -= removed\n",
    "    \n",
    "    lst[lst.index(smallest)] += total_removed\n",
    "    return lst\n",
    "\n",
    "# Test cases\n",
    "print(show_the_love([4, 1, 4]))  # ➞ [3, 3, 3]\n",
    "print(show_the_love([16, 10, 8]))  # ➞ [12, 7.5, 14.5]\n",
    "print(show_the_love([2, 100]))  # ➞ [27, 75]\n"
   ]
  },
  {
   "cell_type": "markdown",
   "id": "b439d002",
   "metadata": {},
   "source": [
    "# 2. Create a function that takes in two words as input and returns a list of three\n",
    "elements, in the following order:\n",
    "1.Shared letters between two words.\n",
    "2.Letters unique to word 1.\n",
    "3.Letters unique to word 2.\n",
    "Each element should have unique letters, and have each letter be\n",
    "alphabetically sorted.\n",
    "Examples\n",
    "letters(&quot;sharp&quot;, &quot;soap&quot;) ➞ [&quot;aps&quot;, &quot;hr&quot;, &quot;o&quot;]\n",
    "letters(&quot;board&quot;, &quot;bored&quot;) ➞ [&quot;bdor&quot;, &quot;a&quot;, &quot;e&quot;]\n",
    "letters(&quot;happiness&quot;, &quot;envelope&quot;) ➞ [&quot;enp&quot;, &quot;ahis&quot;, &quot;lov&quot;]\n",
    "letters(&quot;kerfuffle&quot;, &quot;fluffy&quot;) ➞ [&quot;flu&quot;, &quot;ekr&quot;, &quot;y&quot;]\n",
    "#Even with multiple matching letters (e.g. 3 f&#39;s), there should\n",
    "#only exist a single &quot;f&quot; in your first element.\n",
    "letters(&quot;match&quot;, &quot;ham&quot;) ➞ [&quot;ahm&quot;, &quot;ct&quot;, &quot;&quot;]\n",
    "#&quot;ham&quot; does not contain any letters that are not found already\n",
    "#in &quot;match&quot;."
   ]
  },
  {
   "cell_type": "code",
   "execution_count": 2,
   "id": "9722170d",
   "metadata": {},
   "outputs": [
    {
     "name": "stdout",
     "output_type": "stream",
     "text": [
      "['aps', 'hr', 'o']\n",
      "['bdor', 'a', 'e']\n",
      "['enp', 'ahis', 'lov']\n",
      "['flu', 'ekr', 'y']\n",
      "['ahm', 'ct', '']\n"
     ]
    }
   ],
   "source": [
    "def letters(word1, word2):\n",
    "    shared = sorted(set(word1) & set(word2))  # Shared letters\n",
    "    unique1 = sorted(set(word1) - set(word2))  # Unique letters in word1\n",
    "    unique2 = sorted(set(word2) - set(word1))  # Unique letters in word2\n",
    "    \n",
    "    return [\"\".join(shared), \"\".join(unique1), \"\".join(unique2)]\n",
    "\n",
    "# Test cases\n",
    "print(letters(\"sharp\", \"soap\"))  # ➞ [\"aps\", \"hr\", \"o\"]\n",
    "print(letters(\"board\", \"bored\"))  # ➞ [\"bdor\", \"a\", \"e\"]\n",
    "print(letters(\"happiness\", \"envelope\"))  # ➞ [\"enp\", \"ahis\", \"lov\"]\n",
    "print(letters(\"kerfuffle\", \"fluffy\"))  # ➞ [\"flu\", \"ekr\", \"y\"]\n",
    "print(letters(\"match\", \"ham\"))  # ➞ [\"ahm\", \"ct\", \"\"]\n"
   ]
  },
  {
   "cell_type": "markdown",
   "id": "43ad275e",
   "metadata": {},
   "source": [
    "# 3. Write a function that pairs the first number in an array with the last, the\n",
    "second number with the second to last, etc.\n",
    "Examples\n",
    "pairs([1, 2, 3, 4, 5, 6, 7]) ➞ [[1, 7], [2, 6], [3, 5], [4, 4]]\n",
    "\n",
    "pairs([1, 2, 3, 4, 5, 6]) ➞ [[1, 6], [2, 5], [3, 4]]\n",
    "pairs([5, 9, 8, 1, 2]) ➞ [[5, 2], [9, 1], [8, 8]]\n",
    "pairs([]) ➞ []"
   ]
  },
  {
   "cell_type": "code",
   "execution_count": 3,
   "id": "7bb06588",
   "metadata": {},
   "outputs": [
    {
     "name": "stdout",
     "output_type": "stream",
     "text": [
      "[[1, 7], [2, 6], [3, 5]]\n",
      "[[1, 6], [2, 5], [3, 4]]\n",
      "[[5, 2], [9, 1]]\n",
      "[]\n"
     ]
    }
   ],
   "source": [
    "def pairs(lst):\n",
    "    return [[lst[i], lst[-(i+1)]] for i in range(len(lst) // 2)]\n",
    "\n",
    "# Test cases\n",
    "print(pairs([1, 2, 3, 4, 5, 6, 7]))  # ➞ [[1, 7], [2, 6], [3, 5], [4, 4]]\n",
    "print(pairs([1, 2, 3, 4, 5, 6]))  # ➞ [[1, 6], [2, 5], [3, 4]]\n",
    "print(pairs([5, 9, 8, 1, 2]))  # ➞ [[5, 2], [9, 1], [8, 8]]\n",
    "print(pairs([]))  # ➞ []\n"
   ]
  },
  {
   "cell_type": "markdown",
   "id": "ffea73cc",
   "metadata": {},
   "source": [
    "# 4. Write a function that adds two numbers. The catch, however, is that the\n",
    "numbers will be strings.\n",
    "Examples\n",
    "add_str_nums(&quot;4&quot;, &quot;5&quot;) ➞ &quot;9&quot;\n",
    "add_str_nums(&quot;abcdefg&quot;, &quot;3&quot;) ➞ &quot;-1&quot;\n",
    "add_str_nums(&quot;1&quot;, &quot;&quot;) ➞ &quot;1&quot;\n",
    "add_str_nums(&quot;1874682736267235927359283579235789257&quot;,\n",
    "&quot;32652983572985729&quot;) ➞ &quot;1874682736267235927391936562808774986&quot;"
   ]
  },
  {
   "cell_type": "code",
   "execution_count": 4,
   "id": "551f3688",
   "metadata": {},
   "outputs": [
    {
     "name": "stdout",
     "output_type": "stream",
     "text": [
      "9\n",
      "-1\n",
      "-1\n",
      "1874682736267235927391936562808774986\n"
     ]
    }
   ],
   "source": [
    "def add_str_nums(str1, str2):\n",
    "    try:\n",
    "        num1 = int(str1)\n",
    "        num2 = int(str2)\n",
    "        return str(num1 + num2)\n",
    "    except ValueError:\n",
    "        return \"-1\"\n",
    "\n",
    "# Test cases\n",
    "print(add_str_nums(\"4\", \"5\"))  # ➞ \"9\"\n",
    "print(add_str_nums(\"abcdefg\", \"3\"))  # ➞ \"-1\"\n",
    "print(add_str_nums(\"1\", \"\"))  # ➞ \"1\"\n",
    "print(add_str_nums(\"1874682736267235927359283579235789257\", \"32652983572985729\"))  # ➞ \"1874682736267235927391936562808774986\"\n"
   ]
  },
  {
   "cell_type": "markdown",
   "id": "caa94e9c",
   "metadata": {},
   "source": [
    "# 5. lPaeesh le pemu mnxit ehess rtnisg! Oh, sorry, that was supposed to say:\n",
    "Please help me unmix these strings!\n",
    "Somehow my strings have all become mixed up; every pair of characters has\n",
    "been swapped. Help me undo this so I can understand my strings again.\n",
    "Examples\n",
    "unmix(&quot;123456&quot;) ➞ &quot;214365&quot;\n",
    "unmix(&quot;hTsii s aimex dpus rtni.g&quot;) ➞ &quot;This is a mixed up string.&quot;\n",
    "unmix(&quot;badce&quot;) ➞ &quot;abcde&quot;"
   ]
  },
  {
   "cell_type": "code",
   "execution_count": 5,
   "id": "69ace345",
   "metadata": {},
   "outputs": [
    {
     "name": "stdout",
     "output_type": "stream",
     "text": [
      "214365\n",
      "This i siaem xpdsur nt.ig\n",
      "abcde\n"
     ]
    }
   ],
   "source": [
    "def unmix(string):\n",
    "    return \"\".join([string[i+1] + string[i] if i % 2 == 0 else '' for i in range(len(string)-1)]) + (string[-1] if len(string) % 2 != 0 else '')\n",
    "\n",
    "# Test cases\n",
    "print(unmix(\"123456\"))  # ➞ \"214365\"\n",
    "print(unmix(\"hTsii s aimex dpus rtni.g\"))  # ➞ \"This is a mixed up string.\"\n",
    "print(unmix(\"badce\"))  # ➞ \"abcde\"\n"
   ]
  }
 ],
 "metadata": {
  "kernelspec": {
   "display_name": "Python 3 (ipykernel)",
   "language": "python",
   "name": "python3"
  },
  "language_info": {
   "codemirror_mode": {
    "name": "ipython",
    "version": 3
   },
   "file_extension": ".py",
   "mimetype": "text/x-python",
   "name": "python",
   "nbconvert_exporter": "python",
   "pygments_lexer": "ipython3",
   "version": "3.9.7"
  }
 },
 "nbformat": 4,
 "nbformat_minor": 5
}

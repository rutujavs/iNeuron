{
 "cells": [
  {
   "cell_type": "markdown",
   "id": "e935dd85",
   "metadata": {},
   "source": [
    "# 1. For this challenge, forget how to add two numbers together. The best\n",
    "explanation on what to do for this function is this meme:\n",
    "\n",
    "Examples\n",
    "meme_sum(26, 39) ➞ 515\n",
    "#2+3 = 5, 6+9 = 15\n",
    "#26 + 39 = 515\n",
    "meme_sum(122, 81) ➞ 1103\n",
    "#1+0 = 1, 2+8 = 10, 2+1 = 3\n",
    "#122 + 81 = 1103\n",
    "meme_sum(1222, 30277) ➞ 31499"
   ]
  },
  {
   "cell_type": "code",
   "execution_count": 1,
   "id": "b856c2b3",
   "metadata": {},
   "outputs": [
    {
     "name": "stdout",
     "output_type": "stream",
     "text": [
      "515\n",
      "1103\n",
      "31499\n"
     ]
    }
   ],
   "source": [
    "def meme_sum(a, b):\n",
    "    a, b = str(a), str(b)\n",
    "    \n",
    "    max_len = max(len(a), len(b))\n",
    "    a, b = a.zfill(max_len), b.zfill(max_len)\n",
    "    \n",
    "    result = ''.join(str(int(x) + int(y)) for x, y in zip(a, b))\n",
    "    \n",
    "    return int(result)\n",
    "\n",
    "# Test cases\n",
    "print(meme_sum(26, 39))  # ➞ 515\n",
    "print(meme_sum(122, 81))  # ➞ 1103\n",
    "print(meme_sum(1222, 30277))  # ➞ 31499\n"
   ]
  },
  {
   "cell_type": "markdown",
   "id": "6f8970f5",
   "metadata": {},
   "source": [
    "# 2. Given an integer, create a function that returns the next prime. If the\n",
    "number is prime, return the number itself.\n",
    "Examples\n",
    "\n",
    "next_prime(12) ➞ 13\n",
    "next_prime(24) ➞ 29\n",
    "next_prime(11) ➞ 11\n",
    "#11 is a prime, so we return the number itself."
   ]
  },
  {
   "cell_type": "code",
   "execution_count": 2,
   "id": "b25d1ec4",
   "metadata": {},
   "outputs": [
    {
     "name": "stdout",
     "output_type": "stream",
     "text": [
      "13\n",
      "29\n",
      "11\n"
     ]
    }
   ],
   "source": [
    "def is_prime(n):\n",
    "    if n < 2:\n",
    "        return False\n",
    "    if n == 2:\n",
    "        return True\n",
    "    if n % 2 == 0:\n",
    "        return False\n",
    "    for i in range(3, int(n ** 0.5) + 1, 2):\n",
    "        if n % i == 0:\n",
    "            return False\n",
    "    return True\n",
    "\n",
    "def next_prime(n):\n",
    "    while not is_prime(n):\n",
    "        n += 1\n",
    "    return n\n",
    "\n",
    "# Test cases\n",
    "print(next_prime(12))  # ➞ 13\n",
    "print(next_prime(24))  # ➞ 29\n",
    "print(next_prime(11))  # ➞ 11\n"
   ]
  },
  {
   "cell_type": "markdown",
   "id": "64c89a5b",
   "metadata": {},
   "source": [
    "# 3. If a person traveled up a hill for 18mins at 20mph and then traveled back\n",
    "down the same path at 60mph then their average speed traveled was 30mph.\n",
    "Write a function that returns the average speed traveled given an uphill time,\n",
    "uphill rate and a downhill rate. Uphill time is given in minutes. Return the rate\n",
    "as an integer (mph). No rounding is necessary.\n",
    "\n",
    "Examples\n",
    "ave_spd(18, 20, 60) ➞ 30\n",
    "ave_spd(30, 10, 30) ➞ 15\n",
    "ave_spd(30, 8, 24) ➞ 12"
   ]
  },
  {
   "cell_type": "code",
   "execution_count": 3,
   "id": "2dba0218",
   "metadata": {},
   "outputs": [
    {
     "name": "stdout",
     "output_type": "stream",
     "text": [
      "30\n",
      "15\n",
      "12\n"
     ]
    }
   ],
   "source": [
    "def ave_spd(uphill_time, uphill_rate, downhill_rate):\n",
    "    uphill_time_hours = uphill_time / 60\n",
    "    distance = uphill_time_hours * uphill_rate\n",
    "    total_time = uphill_time_hours + (distance / downhill_rate)\n",
    "    return int((2 * distance) / total_time)\n",
    "\n",
    "# Test cases\n",
    "print(ave_spd(18, 20, 60))  # ➞ 30\n",
    "print(ave_spd(30, 10, 30))  # ➞ 15\n",
    "print(ave_spd(30, 8, 24))  # ➞ 12\n"
   ]
  },
  {
   "cell_type": "markdown",
   "id": "483b5212",
   "metadata": {},
   "source": [
    "# 4. The Kempner Function, applied to a composite number, permits to find the\n",
    "smallest integer greater than zero whose factorial is exactly divided by the\n",
    "number.\n",
    "kempner(6) ➞ 3\n",
    "1! = 1 % 6 &gt; 0\n",
    "2! = 2 % 6 &gt; 0\n",
    "3! = 6 % 6 === 0\n",
    "kempner(10) ➞ 5\n",
    "1! = 1 % 10 &gt; 0\n",
    "2! = 2 % 10 &gt; 0\n",
    "3! = 6 % 10 &gt; 0\n",
    "4! = 24 % 10 &gt; 0\n",
    "5! = 120 % 10 === 0\n",
    "A Kempner Function applied to a prime will always return the prime itself.\n",
    "kempner(2) ➞ 2\n",
    "kempner(5) ➞ 5\n",
    "\n",
    "Given an integer n, implement a Kempner Function.\n",
    "Examples\n",
    "kempner(6) ➞ 3\n",
    "kempner(10) ➞ 5\n",
    "kempner(2) ➞ 2"
   ]
  },
  {
   "cell_type": "code",
   "execution_count": 4,
   "id": "8a061986",
   "metadata": {},
   "outputs": [
    {
     "name": "stdout",
     "output_type": "stream",
     "text": [
      "3\n",
      "5\n",
      "2\n",
      "5\n"
     ]
    }
   ],
   "source": [
    "import math\n",
    "\n",
    "def kempner(n):\n",
    "    if n < 2:\n",
    "        return n\n",
    "    \n",
    "    factorial = 1\n",
    "    for i in range(1, n + 1):\n",
    "        factorial *= i\n",
    "        if factorial % n == 0:\n",
    "            return i\n",
    "    \n",
    "    return n  # Should never reach here for valid inputs\n",
    "\n",
    "# Test cases\n",
    "print(kempner(6))  # ➞ 3\n",
    "print(kempner(10))  # ➞ 5\n",
    "print(kempner(2))  # ➞ 2\n",
    "print(kempner(5))  # ➞ 5\n"
   ]
  },
  {
   "cell_type": "markdown",
   "id": "19cebbbf",
   "metadata": {},
   "source": [
    "# 5. You work in a factory, and your job is to take items from a conveyor belt\n",
    "and pack them into boxes. Each box can hold a maximum of 10 kgs. Given a\n",
    "list containing the weight (in kg) of each item, how many boxes would you\n",
    "need to pack all of the items?\n",
    "Example\n",
    "boxes([2, 1, 2, 5, 4, 3, 6, 1, 1, 9, 3, 2]) ➞ 5\n",
    "#Box 1 = [2, 1, 2, 5] (10kg)\n",
    "#Box 2 = [4, 3] (7kg)\n",
    "#Box 3 = [6, 1, 1] (8kg)\n",
    "#Box 4 = [9] (9kg)\n",
    "#Box 5 = [3, 2] (5kg)"
   ]
  },
  {
   "cell_type": "code",
   "execution_count": 5,
   "id": "7a1760b5",
   "metadata": {},
   "outputs": [
    {
     "name": "stdout",
     "output_type": "stream",
     "text": [
      "5\n"
     ]
    }
   ],
   "source": [
    "def boxes(items):\n",
    "    boxes_count = 0\n",
    "    current_box = 0\n",
    "    \n",
    "    for item in items:\n",
    "        if current_box + item > 10:\n",
    "            boxes_count += 1\n",
    "            current_box = item\n",
    "        else:\n",
    "            current_box += item\n",
    "    \n",
    "    if current_box > 0:\n",
    "        boxes_count += 1\n",
    "    \n",
    "    return boxes_count\n",
    "\n",
    "# Test cases\n",
    "print(boxes([2, 1, 2, 5, 4, 3, 6, 1, 1, 9, 3, 2]))  # ➞ 5\n"
   ]
  },
  {
   "cell_type": "code",
   "execution_count": null,
   "id": "05ded7fc",
   "metadata": {},
   "outputs": [],
   "source": []
  }
 ],
 "metadata": {
  "kernelspec": {
   "display_name": "Python 3 (ipykernel)",
   "language": "python",
   "name": "python3"
  },
  "language_info": {
   "codemirror_mode": {
    "name": "ipython",
    "version": 3
   },
   "file_extension": ".py",
   "mimetype": "text/x-python",
   "name": "python",
   "nbconvert_exporter": "python",
   "pygments_lexer": "ipython3",
   "version": "3.9.7"
  }
 },
 "nbformat": 4,
 "nbformat_minor": 5
}

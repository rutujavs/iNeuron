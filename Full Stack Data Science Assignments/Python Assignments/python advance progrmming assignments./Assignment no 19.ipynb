{
 "cells": [
  {
   "cell_type": "markdown",
   "id": "1abd419b",
   "metadata": {},
   "source": [
    "# 1. Create a checker board generator, which takes as inputs n and 2 elementsto generate an n x n checkerboard with those two elements as alternating squares.\n",
    "Examples\n",
    "checker_board(2, 7, 6) ➞ [\n",
    "[7, 6],\n",
    "[6, 7]\n",
    "]\n",
    "checker_board(3, &quot;A&quot;, &quot;B&quot;) ➞ [\n",
    "[&quot;A&quot;, &quot;B&quot;, &quot;A&quot;],\n",
    "[&quot;B&quot;, &quot;A&quot;, &quot;B&quot;],\n",
    "[&quot;A&quot;, &quot;B&quot;, &quot;A&quot;]\n",
    "]\n",
    "checker_board(4, &quot;c&quot;, &quot;d&quot;) ➞ [\n",
    "[&quot;c&quot;, &quot;d&quot;, &quot;c&quot;, &quot;d&quot;],\n",
    "[&quot;d&quot;, &quot;c&quot;, &quot;d&quot;, &quot;c&quot;],\n",
    "[&quot;c&quot;, &quot;d&quot;, &quot;c&quot;, &quot;d&quot;],\n",
    "[&quot;d&quot;, &quot;c&quot;, &quot;d&quot;, &quot;c&quot;]\n",
    "]\n",
    "checker_board(4, &quot;c&quot;, &quot;c&quot;) ➞ &quot;invalid&quot;\n"
   ]
  },
  {
   "cell_type": "code",
   "execution_count": 1,
   "id": "5847c265",
   "metadata": {},
   "outputs": [
    {
     "name": "stdout",
     "output_type": "stream",
     "text": [
      "[[7, 6], [6, 7]]\n",
      "[['A', 'B', 'A'], ['B', 'A', 'B'], ['A', 'B', 'A']]\n",
      "[['c', 'd', 'c', 'd'], ['d', 'c', 'd', 'c'], ['c', 'd', 'c', 'd'], ['d', 'c', 'd', 'c']]\n",
      "invalid\n"
     ]
    }
   ],
   "source": [
    "def checker_board(n, element1, element2):\n",
    "    if element1 == element2:\n",
    "        return \"invalid\"\n",
    "    \n",
    "    board = []\n",
    "    for i in range(n):\n",
    "        row = []\n",
    "        for j in range(n):\n",
    "            if (i + j) % 2 == 0:\n",
    "                row.append(element1)\n",
    "            else:\n",
    "                row.append(element2)\n",
    "        board.append(row)\n",
    "    \n",
    "    return board\n",
    "\n",
    "# Test cases\n",
    "print(checker_board(2, 7, 6))  # ➞ [[7, 6], [6, 7]]\n",
    "print(checker_board(3, \"A\", \"B\"))  # ➞ [[\"A\", \"B\", \"A\"], [\"B\", \"A\", \"B\"], [\"A\", \"B\", \"A\"]]\n",
    "print(checker_board(4, \"c\", \"d\"))  # ➞ [[\"c\", \"d\", \"c\", \"d\"], [\"d\", \"c\", \"d\", \"c\"], [\"c\", \"d\", \"c\", \"d\"], [\"d\", \"c\", \"d\", \"c\"]]\n",
    "print(checker_board(4, \"c\", \"c\"))  # ➞ \"invalid\"\n"
   ]
  },
  {
   "cell_type": "markdown",
   "id": "a5713ed3",
   "metadata": {},
   "source": [
    "# 2. A string is an almost-palindrome if, by changing only one character, youcan make it a palindrome. Create a function that returns True if a string is analmost-palindrome and False otherwise.\n",
    "Examples\n",
    "almost_palindrome(&quot;abcdcbg&quot;) ➞ True\n",
    "#Transformed to &quot;abcdcba&quot; by changing &quot;g&quot; to &quot;a&quot;.\n",
    "almost_palindrome(&quot;abccia&quot;) ➞ True\n",
    "#Transformed to &quot;abccba&quot; by changing &quot;i&quot; to &quot;b&quot;.\n",
    "almost_palindrome(&quot;abcdaaa&quot;) ➞ False\n",
    "#Can&#39;t be transformed to a palindrome in exactly 1 turn.\n",
    "almost_palindrome(&quot;1234312&quot;) ➞ False\n"
   ]
  },
  {
   "cell_type": "code",
   "execution_count": 2,
   "id": "62f96dc9",
   "metadata": {},
   "outputs": [
    {
     "name": "stdout",
     "output_type": "stream",
     "text": [
      "True\n",
      "True\n",
      "False\n",
      "False\n"
     ]
    }
   ],
   "source": [
    "def almost_palindrome(s):\n",
    "    mismatches = 0\n",
    "    for i in range(len(s) // 2):\n",
    "        if s[i] != s[-(i + 1)]:\n",
    "            mismatches += 1\n",
    "        if mismatches > 1:\n",
    "            return False\n",
    "    return mismatches == 1\n",
    "\n",
    "# Test cases\n",
    "print(almost_palindrome(\"abcdcbg\"))  # ➞ True\n",
    "print(almost_palindrome(\"abccia\"))  # ➞ True\n",
    "print(almost_palindrome(\"abcdaaa\"))  # ➞ False\n",
    "print(almost_palindrome(\"1234312\"))  # ➞ False\n"
   ]
  },
  {
   "cell_type": "markdown",
   "id": "f99f5c01",
   "metadata": {},
   "source": [
    "# 3. Create a function that finds how many prime numbers there are, up to the given integer.\n",
    "\n",
    "Examples\n",
    "prime_numbers(10) ➞ 4\n",
    "#2, 3, 5 and 7\n",
    "prime_numbers(20) ➞ 8\n",
    "#2, 3, 5, 7, 11, 13, 17 and 19\n",
    "prime_numbers(30) ➞ 10\n",
    "#2, 3, 5, 7, 11, 13, 17, 19, 23 and 29\n"
   ]
  },
  {
   "cell_type": "code",
   "execution_count": 3,
   "id": "73438a6e",
   "metadata": {},
   "outputs": [
    {
     "name": "stdout",
     "output_type": "stream",
     "text": [
      "4\n",
      "8\n",
      "10\n"
     ]
    }
   ],
   "source": [
    "def prime_numbers(n):\n",
    "    def is_prime(num):\n",
    "        if num < 2:\n",
    "            return False\n",
    "        for i in range(2, int(num ** 0.5) + 1):\n",
    "            if num % i == 0:\n",
    "                return False\n",
    "        return True\n",
    "    \n",
    "    count = 0\n",
    "    for i in range(2, n + 1):\n",
    "        if is_prime(i):\n",
    "            count += 1\n",
    "    \n",
    "    return count\n",
    "\n",
    "# Test cases\n",
    "print(prime_numbers(10))  # ➞ 4\n",
    "print(prime_numbers(20))  # ➞ 8\n",
    "print(prime_numbers(30))  # ➞ 10\n"
   ]
  },
  {
   "cell_type": "markdown",
   "id": "1f88f7fc",
   "metadata": {},
   "source": [
    "# 4. If today was Monday, in two days, it would be Wednesday. Create a function that takes in a list of days as input and the number of daysto increment by. Return a list of days after n number of days has passed.\n",
    "Examples\n",
    "after_n_days([&quot;Thursday&quot;, &quot;Monday&quot;], 4) ➞ [&quot;Monday&quot;, &quot;Friday&quot;]\n",
    "after_n_days([&quot;Sunday&quot;, &quot;Sunday&quot;, &quot;Sunday&quot;], 1) ➞ [&quot;Monday&quot;, &quot;Monday&quot;,\n",
    "&quot;Monday&quot;]\n",
    "after_n_days([&quot;Monday&quot;, &quot;Tuesday&quot;, &quot;Friday&quot;], 1) ➞ [&quot;Tuesday&quot;, &quot;Wednesday&quot;,\n",
    "&quot;Saturday&quot;]\n"
   ]
  },
  {
   "cell_type": "code",
   "execution_count": 4,
   "id": "306fbbb6",
   "metadata": {},
   "outputs": [
    {
     "name": "stdout",
     "output_type": "stream",
     "text": [
      "['Monday', 'Friday']\n",
      "['Monday', 'Monday', 'Monday']\n",
      "['Tuesday', 'Wednesday', 'Saturday']\n"
     ]
    }
   ],
   "source": [
    "def after_n_days(days, n):\n",
    "    week_days = [\"Monday\", \"Tuesday\", \"Wednesday\", \"Thursday\", \"Friday\", \"Saturday\", \"Sunday\"]\n",
    "    result = []\n",
    "    for day in days:\n",
    "        index = week_days.index(day)\n",
    "        result.append(week_days[(index + n) % 7])\n",
    "    return result\n",
    "\n",
    "# Test cases\n",
    "print(after_n_days([\"Thursday\", \"Monday\"], 4))  # ➞ [\"Monday\", \"Friday\"]\n",
    "print(after_n_days([\"Sunday\", \"Sunday\", \"Sunday\"], 1))  # ➞ [\"Monday\", \"Monday\", \"Monday\"]\n",
    "print(after_n_days([\"Monday\", \"Tuesday\", \"Friday\"], 1))  # ➞ [\"Tuesday\", \"Wednesday\", \"Saturday\"]\n"
   ]
  },
  {
   "cell_type": "markdown",
   "id": "f5eddb72",
   "metadata": {},
   "source": [
    "# 5. You are in the process of creating a chat application and want to add an anonymous name feature. This anonymous name feature will create an alias that consists of two capitalized words beginning with the same letter as the users first name. Create a function that determines if the list of users is mapped to a list ofanonymous names correctly.\n",
    "Examples\n",
    "is_correct_aliases([&quot;Adrian M.&quot;, &quot;Harriet S.&quot;, &quot;Mandy T.&quot;], [&quot;Amazing\n",
    "Artichoke&quot;, &quot;Hopeful Hedgehog&quot;, &quot;Marvelous Mouse&quot;]) ➞ True\n",
    "is_correct_aliases([&quot;Rachel F.&quot;, &quot;Pam G.&quot;, &quot;Fred Z.&quot;, &quot;Nancy K.&quot;],\n",
    "[&quot;Reassuring Rat&quot;, &quot;Peaceful Panda&quot;, &quot;Fantastic Frog&quot;, &quot;Notable Nickel&quot;]) ➞\n",
    "True\n",
    "is_correct_aliases([&quot;Beth T.&quot;], [&quot;Brandishing Mimosa&quot;]) ➞ False\n",
    "\n",
    "#Both words in &quot;Brandishing Mimosa&quot; should begin with a &quot;B&quot; - &quot;Brandishing\n",
    "Beaver&quot; would do the trick."
   ]
  },
  {
   "cell_type": "code",
   "execution_count": 5,
   "id": "8fa1768d",
   "metadata": {},
   "outputs": [
    {
     "name": "stdout",
     "output_type": "stream",
     "text": [
      "True\n",
      "True\n",
      "False\n"
     ]
    }
   ],
   "source": [
    "def is_correct_aliases(users, aliases):\n",
    "    for user, alias in zip(users, aliases):\n",
    "        user_initial = user[0]\n",
    "        alias_initials = alias.split()[0][0] + alias.split()[1][0]\n",
    "        if user_initial != alias_initials[0] or user_initial != alias_initials[1]:\n",
    "            return False\n",
    "    return True\n",
    "\n",
    "# Test cases\n",
    "print(is_correct_aliases([\"Adrian M.\", \"Harriet S.\", \"Mandy T.\"], [\"Amazing Artichoke\", \"Hopeful Hedgehog\", \"Marvelous Mouse\"]))  # ➞ True\n",
    "print(is_correct_aliases([\"Rachel F.\", \"Pam G.\", \"Fred Z.\", \"Nancy K.\"], [\"Reassuring Rat\", \"Peaceful Panda\", \"Fantastic Frog\", \"Notable Nickel\"]))  # ➞ True\n",
    "print(is_correct_aliases([\"Beth T.\"], [\"Brandishing Mimosa\"]))  # ➞ False\n"
   ]
  }
 ],
 "metadata": {
  "kernelspec": {
   "display_name": "Python 3 (ipykernel)",
   "language": "python",
   "name": "python3"
  },
  "language_info": {
   "codemirror_mode": {
    "name": "ipython",
    "version": 3
   },
   "file_extension": ".py",
   "mimetype": "text/x-python",
   "name": "python",
   "nbconvert_exporter": "python",
   "pygments_lexer": "ipython3",
   "version": "3.9.7"
  }
 },
 "nbformat": 4,
 "nbformat_minor": 5
}

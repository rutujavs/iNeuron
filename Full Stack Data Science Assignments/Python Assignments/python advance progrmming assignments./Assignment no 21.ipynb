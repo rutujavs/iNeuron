{
 "cells": [
  {
   "cell_type": "raw",
   "id": "49ca424c",
   "metadata": {},
   "source": [
    "1. Given a sentence, return the number of words which have the same first\n",
    "and last letter.\n",
    "Examples\n",
    "count_same_ends(&quot;Pop! goes the balloon&quot;) ➞ 1\n",
    "count_same_ends(&quot;And the crowd goes wild!&quot;) ➞ 0\n",
    "count_same_ends(&quot;No I am not in a gang.&quot;) ➞ 1\n",
    "\n",
    "\n"
   ]
  },
  {
   "cell_type": "code",
   "execution_count": 1,
   "id": "d564d169",
   "metadata": {},
   "outputs": [
    {
     "name": "stdout",
     "output_type": "stream",
     "text": [
      "1\n",
      "0\n",
      "3\n"
     ]
    }
   ],
   "source": [
    "def count_same_ends(sentence):\n",
    "    words = sentence.split()\n",
    "    count = 0\n",
    "    for word in words:\n",
    "        word = word.strip('!.,?')  # Remove punctuation\n",
    "        if word[0].lower() == word[-1].lower():\n",
    "            count += 1\n",
    "    return count\n",
    "\n",
    "# Test cases\n",
    "print(count_same_ends(\"Pop! goes the balloon\"))  # ➞ 1\n",
    "print(count_same_ends(\"And the crowd goes wild!\"))  # ➞ 0\n",
    "print(count_same_ends(\"No I am not in a gang.\"))  # ➞ 1\n"
   ]
  },
  {
   "cell_type": "raw",
   "id": "3c771e08",
   "metadata": {},
   "source": [
    "2. The Atbash cipher is an encryption method in which each letter of a word is\n",
    "replaced with its &quot;mirror&quot; letter in the alphabet: A &lt;=&gt; Z; B &lt;=&gt; Y; C &lt;=&gt; X;\n",
    "etc.\n",
    "Create a function that takes a string and applies the Atbash cipher to it.\n",
    "Examples\n",
    "atbash(&quot;apple&quot;) ➞ &quot;zkkov&quot;\n",
    "atbash(&quot;Hello world!&quot;) ➞ &quot;Svool dliow!&quot;\n",
    "atbash(&quot;Christmas is the 25th of December&quot;) ➞ &quot;Xsirhgnzh rh gsv 25gs lu\n",
    "Wvxvnyvi&quot;"
   ]
  },
  {
   "cell_type": "code",
   "execution_count": 2,
   "id": "5e866f58",
   "metadata": {},
   "outputs": [
    {
     "name": "stdout",
     "output_type": "stream",
     "text": [
      "zkkov\n",
      "3vool dliow!\n",
      "8sirhgnzh rh gsv 25gs lu 7vxvnyvi\n"
     ]
    }
   ],
   "source": [
    "def atbash(s):\n",
    "    result = []\n",
    "    for char in s:\n",
    "        if char.isalpha():\n",
    "            # Find the mirrored character in the alphabet\n",
    "            result.append(chr(219 - ord(char.lower())) if char.islower() else chr(155 - ord(char.lower())))\n",
    "        else:\n",
    "            result.append(char)\n",
    "    return ''.join(result)\n",
    "\n",
    "# Test cases\n",
    "print(atbash(\"apple\"))  # ➞ \"zkkov\"\n",
    "print(atbash(\"Hello world!\"))  # ➞ \"Svool dliow!\"\n",
    "print(atbash(\"Christmas is the 25th of December\"))  # ➞ \"Xsirhgnzh rh gsv 25gs lu Wvxvnyvi\"\n"
   ]
  },
  {
   "cell_type": "raw",
   "id": "b5d63344",
   "metadata": {},
   "source": [
    "3. Create a class Employee that will take a full name as argument, as well as\n",
    "a set of none, one or more keywords. Each instance should have a name and\n",
    "a lastname attributes plus one more attribute for each of the keywords, if any.\n",
    "Examples\n",
    "john = Employee(&quot;John Doe&quot;)\n",
    "mary = Employee(&quot;Mary Major&quot;, salary=120000)\n",
    "richard = Employee(&quot;Richard Roe&quot;, salary=110000, height=178)\n",
    "giancarlo = Employee(&quot;Giancarlo Rossi&quot;, salary=115000, height=182,\n",
    "nationality=&quot;Italian&quot;)\n",
    "john.name ➞ &quot;John&quot;\n",
    "mary.lastname ➞ &quot;Major&quot;\n",
    "richard.height ➞ 178\n",
    "giancarlo.nationality ➞ &quot;Italian&quot;\n"
   ]
  },
  {
   "cell_type": "code",
   "execution_count": 3,
   "id": "84e080c3",
   "metadata": {},
   "outputs": [
    {
     "name": "stdout",
     "output_type": "stream",
     "text": [
      "John\n",
      "Major\n",
      "178\n",
      "Italian\n"
     ]
    }
   ],
   "source": [
    "class Employee:\n",
    "    def __init__(self, full_name, **kwargs):\n",
    "        self.name, self.lastname = full_name.split()\n",
    "        for key, value in kwargs.items():\n",
    "            setattr(self, key, value)\n",
    "\n",
    "# Test cases\n",
    "john = Employee(\"John Doe\")\n",
    "mary = Employee(\"Mary Major\", salary=120000)\n",
    "richard = Employee(\"Richard Roe\", salary=110000, height=178)\n",
    "giancarlo = Employee(\"Giancarlo Rossi\", salary=115000, height=182, nationality=\"Italian\")\n",
    "\n",
    "# Accessing attributes\n",
    "print(john.name)  # ➞ \"John\"\n",
    "print(mary.lastname)  # ➞ \"Major\"\n",
    "print(richard.height)  # ➞ 178\n",
    "print(giancarlo.nationality)  # ➞ \"Italian\"\n",
    "\n"
   ]
  },
  {
   "cell_type": "raw",
   "id": "4e46daee",
   "metadata": {},
   "source": [
    "4. Create a function that determines whether each seat can &quot;see&quot; the front-\n",
    "stage. A number can &quot;see&quot; the front-stage if it is strictly greater than the\n",
    "number before it.\n",
    "Everyone can see the front-stage in the example below:\n",
    "# FRONT STAGE\n",
    "[[1, 2, 3, 2, 1, 1],\n",
    "[2, 4, 4, 3, 2, 2],\n",
    "[5, 5, 5, 5, 4, 4],\n",
    "[6, 6, 7, 6, 5, 5]]\n",
    "# Starting from the left, the 6 &gt; 5 &gt; 2 &gt; 1, so all numbers can see.\n",
    "# 6 &gt; 5 &gt; 4 &gt; 2 - so all numbers can see, etc.\n",
    "Not everyone can see the front-stage in the example below:\n",
    "# FRONT STAGE\n",
    "[[1, 2, 3, 2, 1, 1],\n",
    "[2, 4, 4, 3, 2, 2],\n",
    "[5, 5, 5, 10, 4, 4],\n",
    "[6, 6, 7, 6, 5, 5]]\n",
    "# The 10 is directly in front of the 6 and blocking its view.\n",
    "The function should return True if every number can see the front-stage, and\n",
    "False if even a single number cannot.\n",
    "Examples\n",
    "can_see_stage([\n",
    "[1, 2, 3],\n",
    "[4, 5, 6],\n",
    "[7, 8, 9]\n",
    "]) ➞ True\n",
    "can_see_stage([\n",
    "[0, 0, 0],\n",
    "[1, 1, 1],\n",
    "[2, 2, 2]\n",
    "]) ➞ True\n",
    "can_see_stage([\n",
    "[2, 0, 0],\n",
    "[1, 1, 1],\n",
    "\n",
    "[2, 2, 2]\n",
    "]) ➞ False\n",
    "can_see_stage([\n",
    "[1, 0, 0],\n",
    "[1, 1, 1],\n",
    "[2, 2, 2]\n",
    "]) ➞ False\n",
    "# Number must be strictly smaller than\n",
    "# the number directly behind it.\n"
   ]
  },
  {
   "cell_type": "code",
   "execution_count": 4,
   "id": "50bb5547",
   "metadata": {},
   "outputs": [
    {
     "name": "stdout",
     "output_type": "stream",
     "text": [
      "True\n",
      "True\n",
      "False\n",
      "False\n"
     ]
    }
   ],
   "source": [
    "def can_see_stage(seats):\n",
    "    for c in range(len(seats[0])):\n",
    "        for r in range(1, len(seats)):\n",
    "            if seats[r][c] <= seats[r - 1][c]:\n",
    "                return False\n",
    "    return True\n",
    "\n",
    "# Test cases\n",
    "print(can_see_stage([[1, 2, 3], [4, 5, 6], [7, 8, 9]]))  # ➞ True\n",
    "print(can_see_stage([[0, 0, 0], [1, 1, 1], [2, 2, 2]]))  # ➞ True\n",
    "print(can_see_stage([[2, 0, 0], [1, 1, 1], [2, 2, 2]]))  # ➞ False\n",
    "print(can_see_stage([[1, 0, 0], [1, 1, 1], [2, 2, 2]]))  # ➞ False\n"
   ]
  },
  {
   "cell_type": "raw",
   "id": "8206bd9e",
   "metadata": {},
   "source": [
    "5. Create a Pizza class with the attributes order_number and ingredients\n",
    "(which is given as a list). Only the ingredients will be given as input.\n",
    "You should also make it so that its possible to choose a ready made pizza\n",
    "flavour rather than typing out the ingredients manually! As well as creating\n",
    "this Pizza class, hard-code the following pizza flavours.\n",
    "Name Ingredients\n",
    "hawaiian ham, pineapple\n",
    "meat_festival beef, meatball, bacon\n",
    "garden_feast spinach, olives, mushroom\n",
    "Examples\n",
    "p1 = Pizza([&quot;bacon&quot;, &quot;parmesan&quot;, &quot;ham&quot;]) # order 1\n",
    "p2 = Pizza.garden_feast() # order 2\n",
    "p1.ingredients ➞ [&quot;bacon&quot;, &quot;parmesan&quot;, &quot;ham&quot;]\n",
    "p2.ingredients ➞ [&quot;spinach&quot;, &quot;olives&quot;, &quot;mushroom&quot;]\n",
    "p1.order_number ➞ 1\n",
    "p2.order_number ➞ 2"
   ]
  },
  {
   "cell_type": "code",
   "execution_count": 5,
   "id": "d418223c",
   "metadata": {},
   "outputs": [
    {
     "name": "stdout",
     "output_type": "stream",
     "text": [
      "['bacon', 'parmesan', 'ham']\n",
      "['spinach', 'olives', 'mushroom']\n",
      "1\n",
      "2\n"
     ]
    }
   ],
   "source": [
    "class Pizza:\n",
    "    order_count = 1\n",
    "    pizza_flavours = {\n",
    "        \"hawaiian\": [\"ham\", \"pineapple\"],\n",
    "        \"meat_festival\": [\"beef\", \"meatball\", \"bacon\"],\n",
    "        \"garden_feast\": [\"spinach\", \"olives\", \"mushroom\"]\n",
    "    }\n",
    "\n",
    "    def __init__(self, ingredients):\n",
    "        self.order_number = Pizza.order_count\n",
    "        Pizza.order_count += 1\n",
    "        self.ingredients = ingredients\n",
    "\n",
    "    @classmethod\n",
    "    def hawaiian(cls):\n",
    "        return cls(cls.pizza_flavours[\"hawaiian\"])\n",
    "\n",
    "    @classmethod\n",
    "    def meat_festival(cls):\n",
    "        return cls(cls.pizza_flavours[\"meat_festival\"])\n",
    "\n",
    "    @classmethod\n",
    "    def garden_feast(cls):\n",
    "        return cls(cls.pizza_flavours[\"garden_feast\"])\n",
    "\n",
    "# Test cases\n",
    "p1 = Pizza([\"bacon\", \"parmesan\", \"ham\"])  # order 1\n",
    "p2 = Pizza.garden_feast()  # order 2\n",
    "\n",
    "# Accessing attributes\n",
    "print(p1.ingredients)  # ➞ [\"bacon\", \"parmesan\", \"ham\"]\n",
    "print(p2.ingredients)  # ➞ [\"spinach\", \"olives\", \"mushroom\"]\n",
    "print(p1.order_number)  # ➞ 1\n",
    "print(p2.order_number)  # ➞ 2\n"
   ]
  }
 ],
 "metadata": {
  "kernelspec": {
   "display_name": "Python 3 (ipykernel)",
   "language": "python",
   "name": "python3"
  },
  "language_info": {
   "codemirror_mode": {
    "name": "ipython",
    "version": 3
   },
   "file_extension": ".py",
   "mimetype": "text/x-python",
   "name": "python",
   "nbconvert_exporter": "python",
   "pygments_lexer": "ipython3",
   "version": "3.9.7"
  }
 },
 "nbformat": 4,
 "nbformat_minor": 5
}

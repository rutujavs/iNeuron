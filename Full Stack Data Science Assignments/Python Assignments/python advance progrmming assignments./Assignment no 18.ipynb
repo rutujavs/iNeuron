{
 "cells": [
  {
   "cell_type": "markdown",
   "id": "a31dfecb",
   "metadata": {},
   "source": [
    "# 1. A robot has been given a list of movement instructions. Each instruction is\n",
    "either left, right, up or down, followed by a distance to move. The robot starts\n",
    "at [0, 0]. You want to calculate where the robot will end up and return its final\n",
    "position as a list.\n",
    "To illustrate, if the robot is given the following instructions:\n",
    "[&quot;right 10&quot;, &quot;up 50&quot;, &quot;left 30&quot;, &quot;down 10&quot;]\n",
    "It will end up 20 left and 40 up from where it started, so we return [-20, 40].\n",
    "Examples\n",
    "track_robot([&quot;right 10&quot;, &quot;up 50&quot;, &quot;left 30&quot;, &quot;down 10&quot;]) ➞ [-20, 40]\n",
    "track_robot([]) ➞ [0, 0]\n",
    "// If there are no instructions, the robot doesn&#39;t move.\n",
    "track_robot([&quot;right 100&quot;, &quot;right 100&quot;, &quot;up 500&quot;, &quot;up 10000&quot;]) ➞ [200, 10500]\n"
   ]
  },
  {
   "cell_type": "code",
   "execution_count": 1,
   "id": "dfd34f9b",
   "metadata": {},
   "outputs": [
    {
     "name": "stdout",
     "output_type": "stream",
     "text": [
      "[-20, 40]\n",
      "[0, 0]\n",
      "[200, 10500]\n"
     ]
    }
   ],
   "source": [
    "def track_robot(instructions):\n",
    "    position = [0, 0]\n",
    "    \n",
    "    for instruction in instructions:\n",
    "        direction, distance = instruction.split()\n",
    "        distance = int(distance)\n",
    "        \n",
    "        if direction == \"right\":\n",
    "            position[0] += distance\n",
    "        elif direction == \"left\":\n",
    "            position[0] -= distance\n",
    "        elif direction == \"up\":\n",
    "            position[1] += distance\n",
    "        elif direction == \"down\":\n",
    "            position[1] -= distance\n",
    "    \n",
    "    return position\n",
    "\n",
    "# Test cases\n",
    "print(track_robot([\"right 10\", \"up 50\", \"left 30\", \"down 10\"]))  # ➞ [-20, 40]\n",
    "print(track_robot([]))  # ➞ [0, 0]\n",
    "print(track_robot([\"right 100\", \"right 100\", \"up 500\", \"up 10000\"]))  # ➞ [200, 10500]\n"
   ]
  },
  {
   "cell_type": "markdown",
   "id": "9a3cbe6a",
   "metadata": {},
   "source": [
    "# 2. Write a function that will return the longest word in a sentence. In cases\n",
    "where more than one word is found, return the first one.\n",
    "Examples\n",
    "find_longest(&quot;A thing of beauty is a joy forever.&quot;) ➞ &quot;forever&quot;\n",
    "find_longest(&quot;Forgetfulness is by all means powerless!&quot;) ➞ &quot;forgetfulness&quot;\n",
    "find_longest(&quot;\\&quot;Strengths\\&quot; is the longest and most commonly used word that\n",
    "contains only a single vowel.&quot;) ➞ &quot;strengths&quot;\n"
   ]
  },
  {
   "cell_type": "code",
   "execution_count": 2,
   "id": "1a9e9296",
   "metadata": {},
   "outputs": [
    {
     "name": "stdout",
     "output_type": "stream",
     "text": [
      "forever.\n",
      "Forgetfulness\n",
      "\"Strengths\"\n"
     ]
    }
   ],
   "source": [
    "def find_longest(sentence):\n",
    "    words = sentence.split()\n",
    "    longest_word = max(words, key=len)\n",
    "    return longest_word\n",
    "\n",
    "# Test cases\n",
    "print(find_longest(\"A thing of beauty is a joy forever.\"))  # ➞ \"forever\"\n",
    "print(find_longest(\"Forgetfulness is by all means powerless!\"))  # ➞ \"forgetfulness\"\n",
    "print(find_longest(\"\\\"Strengths\\\" is the longest and most commonly used word that contains only a single vowel.\"))  # ➞ \"strengths\"\n"
   ]
  },
  {
   "cell_type": "markdown",
   "id": "11860625",
   "metadata": {},
   "source": [
    "# 3. Create a function to check if a candidate is qualified in an imaginary coding\n",
    "interview of an imaginary tech startup.\n",
    "The criteria for a candidate to be qualified in the coding interview is:\n",
    "1. The candidate should have complete all the questions.\n",
    "2. The maximum time given to complete the interview is 120 minutes.\n",
    "3. The maximum time given for very easy questions is 5 minutes each.\n",
    "4. The maximum time given for easy questions is 10 minutes each.\n",
    "5. The maximum time given for medium questions is 15 minutes each.\n",
    "6. The maximum time given for hard questions is 20 minutes each.\n",
    "\n",
    "If all the above conditions are satisfied, return &quot;qualified&quot;, else return\n",
    "&quot;disqualified&quot;.\n",
    "You will be given a list of time taken by a candidate to solve a particular\n",
    "question and the total time taken by the candidate to complete the interview.\n",
    "Given a list , in a true condition will always be in the format [very easy, very\n",
    "easy, easy, easy, medium, medium, hard, hard].\n",
    "The maximum time to complete the interview includes a buffer time of 20\n",
    "minutes.\n",
    "Examples\n",
    "interview([5, 5, 10, 10, 15, 15, 20, 20], 120) ➞ &quot;qualified&quot;\n",
    "interview([2, 3, 8, 6, 5, 12, 10, 18], 64) ➞ &quot;qualified&quot;\n",
    "interview([5, 5, 10, 10, 25, 15, 20, 20], 120) ➞ &quot;disqualified&quot;\n",
    "#Exceeded the time limit for a medium question.\n",
    "interview([5, 5, 10, 10, 15, 15, 20], 120) ➞ &quot;disqualified&quot;\n",
    "#Did not complete all the questions.\n",
    "interview([5, 5, 10, 10, 15, 15, 20, 20], 130) ➞ &quot;disqualified&quot;\n",
    "#Solved all the questions in their respected time limits but exceeded the total\n",
    "time limit of the interview.\n"
   ]
  },
  {
   "cell_type": "code",
   "execution_count": 3,
   "id": "8171f797",
   "metadata": {},
   "outputs": [
    {
     "name": "stdout",
     "output_type": "stream",
     "text": [
      "qualified\n",
      "qualified\n",
      "disqualified\n",
      "disqualified\n",
      "qualified\n"
     ]
    }
   ],
   "source": [
    "def interview(times, total_time):\n",
    "    max_times = [5, 5, 10, 10, 15, 15, 20, 20]\n",
    "    \n",
    "    if len(times) != 8:\n",
    "        return \"disqualified\"\n",
    "    \n",
    "    for i in range(8):\n",
    "        if times[i] > max_times[i]:\n",
    "            return \"disqualified\"\n",
    "    \n",
    "    if sum(times) > total_time:\n",
    "        return \"disqualified\"\n",
    "    \n",
    "    return \"qualified\"\n",
    "\n",
    "# Test cases\n",
    "print(interview([5, 5, 10, 10, 15, 15, 20, 20], 120))  # ➞ \"qualified\"\n",
    "print(interview([2, 3, 8, 6, 5, 12, 10, 18], 64))  # ➞ \"qualified\"\n",
    "print(interview([5, 5, 10, 10, 25, 15, 20, 20], 120))  # ➞ \"disqualified\"\n",
    "print(interview([5, 5, 10, 10, 15, 15, 20], 120))  # ➞ \"disqualified\"\n",
    "print(interview([5, 5, 10, 10, 15, 15, 20, 20], 130))  # ➞ \"disqualified\"\n"
   ]
  },
  {
   "cell_type": "markdown",
   "id": "1747396e",
   "metadata": {},
   "source": [
    "# 4. Write a function that divides a list into chunks of size n, where n is the\n",
    "length of each chunk.\n",
    "Examples\n",
    "chunkify([2, 3, 4, 5], 2) ➞ [[2, 3], [4, 5]]\n",
    "chunkify([2, 3, 4, 5, 6], 2) ➞ [[2, 3], [4, 5], [6]]\n",
    "chunkify([2, 3, 4, 5, 6, 7], 3) ➞ [[2, 3, 4], [5, 6, 7]]\n",
    "chunkify([2, 3, 4, 5, 6, 7], 1) ➞ [[2], [3], [4], [5], [6], [7]]\n",
    "chunkify([2, 3, 4, 5, 6, 7], 7) ➞ [[2, 3, 4, 5, 6, 7]]\n"
   ]
  },
  {
   "cell_type": "code",
   "execution_count": 4,
   "id": "8694f9be",
   "metadata": {},
   "outputs": [
    {
     "name": "stdout",
     "output_type": "stream",
     "text": [
      "[[2, 3], [4, 5]]\n",
      "[[2, 3], [4, 5], [6]]\n",
      "[[2, 3, 4], [5, 6, 7]]\n",
      "[[2], [3], [4], [5], [6], [7]]\n",
      "[[2, 3, 4, 5, 6, 7]]\n"
     ]
    }
   ],
   "source": [
    "def chunkify(lst, n):\n",
    "    return [lst[i:i+n] for i in range(0, len(lst), n)]\n",
    "\n",
    "# Test cases\n",
    "print(chunkify([2, 3, 4, 5], 2))  # ➞ [[2, 3], [4, 5]]\n",
    "print(chunkify([2, 3, 4, 5, 6], 2))  # ➞ [[2, 3], [4, 5], [6]]\n",
    "print(chunkify([2, 3, 4, 5, 6, 7], 3))  # ➞ [[2, 3, 4], [5, 6, 7]]\n",
    "print(chunkify([2, 3, 4, 5, 6, 7], 1))  # ➞ [[2], [3], [4], [5], [6], [7]]\n",
    "print(chunkify([2, 3, 4, 5, 6, 7], 7))  # ➞ [[2, 3, 4, 5, 6, 7]]\n"
   ]
  },
  {
   "cell_type": "markdown",
   "id": "481b9e5a",
   "metadata": {},
   "source": [
    "# 5. You are given a list of strings consisting of grocery items, with prices in\n",
    "parentheses. Return a list of prices in float format.\n",
    "\n",
    "Examples\n",
    "get_prices([&quot;salad ($4.99)&quot;]) ➞ [4.99]\n",
    "get_prices([\n",
    "&quot;artichokes ($1.99)&quot;,\n",
    "&quot;rotiserrie chicken ($5.99)&quot;,\n",
    "&quot;gum ($0.75)&quot;\n",
    "])\n",
    "➞ [1.99, 5.99, 0.75]\n",
    "get_prices([\n",
    "&quot;ice cream ($5.99)&quot;,\n",
    "&quot;banana ($0.20)&quot;,\n",
    "&quot;sandwich ($8.50)&quot;,\n",
    "&quot;soup ($1.99)&quot;\n",
    "])\n",
    "➞ [5.99, 0.2, 8.50, 1.99]"
   ]
  },
  {
   "cell_type": "code",
   "execution_count": 5,
   "id": "3be9f8f8",
   "metadata": {},
   "outputs": [
    {
     "name": "stdout",
     "output_type": "stream",
     "text": [
      "[4.99]\n",
      "[1.99, 5.99, 0.75]\n",
      "[5.99, 0.2, 8.5, 1.99]\n"
     ]
    }
   ],
   "source": [
    "import re\n",
    "\n",
    "def get_prices(items):\n",
    "    prices = []\n",
    "    for item in items:\n",
    "        price = re.search(r\"\\$([0-9.]+)\", item)\n",
    "        if price:\n",
    "            prices.append(float(price.group(1)))\n",
    "    return prices\n",
    "\n",
    "# Test cases\n",
    "print(get_prices([\"salad ($4.99)\"]))  # ➞ [4.99]\n",
    "print(get_prices([\n",
    "    \"artichokes ($1.99)\",\n",
    "    \"rotiserrie chicken ($5.99)\",\n",
    "    \"gum ($0.75)\"\n",
    "]))  # ➞ [1.99, 5.99, 0.75]\n",
    "print(get_prices([\n",
    "    \"ice cream ($5.99)\",\n",
    "    \"banana ($0.20)\",\n",
    "    \"sandwich ($8.50)\",\n",
    "    \"soup ($1.99)\"\n",
    "]))  # ➞ [5.99, 0.2, 8.50, 1.99]\n"
   ]
  }
 ],
 "metadata": {
  "kernelspec": {
   "display_name": "Python 3 (ipykernel)",
   "language": "python",
   "name": "python3"
  },
  "language_info": {
   "codemirror_mode": {
    "name": "ipython",
    "version": 3
   },
   "file_extension": ".py",
   "mimetype": "text/x-python",
   "name": "python",
   "nbconvert_exporter": "python",
   "pygments_lexer": "ipython3",
   "version": "3.9.7"
  }
 },
 "nbformat": 4,
 "nbformat_minor": 5
}

{
 "cells": [
  {
   "cell_type": "markdown",
   "id": "189c03bc",
   "metadata": {},
   "source": [
    "# 1. Create a function that takes a list and returns a new list containing only\n",
    "prime numbers.\n",
    "Examples\n",
    "filter_primes([7, 9, 3, 9, 10, 11, 27]) ➞ [7, 3, 11]\n",
    "filter_primes([10007, 1009, 1007, 27, 147, 77, 1001, 70]) ➞ [10007, 1009]\n",
    "filter_primes([1009, 10, 10, 10, 3, 33, 9, 4, 1, 61, 63, 69, 1087, 1091, 1093,\n",
    "1097]) ➞ [1009, 3, 61, 1087, 1091, 1093, 1097]"
   ]
  },
  {
   "cell_type": "code",
   "execution_count": 2,
   "id": "129d46a0",
   "metadata": {},
   "outputs": [
    {
     "name": "stdout",
     "output_type": "stream",
     "text": [
      "[7, 3, 11]\n",
      "[10007, 1009]\n",
      "[1009, 3, 61, 1087, 1091, 1093, 1097]\n"
     ]
    }
   ],
   "source": [
    "def is_prime(n):\n",
    "    if n < 2:\n",
    "        return False\n",
    "    if n == 2:\n",
    "        return True\n",
    "    if n % 2 == 0:\n",
    "        return False\n",
    "    for i in range(3, int(n ** 0.5) + 1, 2):\n",
    "        if n % i == 0:\n",
    "            return False\n",
    "    return True\n",
    "\n",
    "def filter_primes(lst):\n",
    "    return [num for num in lst if is_prime(num)]\n",
    "\n",
    "# Test cases\n",
    "print(filter_primes([7, 9, 3, 9, 10, 11, 27]))  # ➞ [7, 3, 11]\n",
    "print(filter_primes([10007, 1009, 1007, 27, 147, 77, 1001, 70]))  # ➞ [10007, 1009]\n",
    "print(filter_primes([1009, 10, 10, 10, 3, 33, 9, 4, 1, 61, 63, 69, 1087, 1091, 1093, 1097]))  # ➞ [1009, 3, 61, 1087, 1091, 1093, 1097]\n"
   ]
  },
  {
   "cell_type": "markdown",
   "id": "0c9d7d0d",
   "metadata": {},
   "source": [
    "# 2. Once a water balloon pops, is soaks the area around it. The ground gets\n",
    "drier the further away you travel from the balloon.\n",
    "The effect of a water balloon popping can be modeled using a list. Create a\n",
    "function that takes a list which takes the pre-pop state and returns the state\n",
    "after the balloon is popped. The pre-pop state will contain at most a single\n",
    "balloon, whose size is represented by the only non-zero element.\n",
    "\n",
    "\n",
    "Examples\n",
    "pop([0, 0, 0, 0, 4, 0, 0, 0, 0]) ➞ [0, 1, 2, 3, 4, 3, 2, 1, 0]\n",
    "pop([0, 0, 0, 3, 0, 0, 0]) ➞ [0, 1, 2, 3, 2, 1, 0]\n",
    "pop([0, 0, 2, 0, 0]) ➞ [0, 1, 2, 1, 0]\n",
    "pop([0]) ➞ [0]"
   ]
  },
  {
   "cell_type": "code",
   "execution_count": 3,
   "id": "ab30f76f",
   "metadata": {},
   "outputs": [
    {
     "name": "stdout",
     "output_type": "stream",
     "text": [
      "[0, 1, 2, 3, 4, 3, 2, 1, 0]\n",
      "[0, 1, 2, 3, 2, 1, 0]\n",
      "[0, 1, 2, 1, 0]\n",
      "[0]\n"
     ]
    }
   ],
   "source": [
    "def pop(lst):\n",
    "    if not lst or max(lst) == 0:\n",
    "        return lst\n",
    "    \n",
    "    max_val = max(lst)\n",
    "    max_index = lst.index(max_val)\n",
    "    \n",
    "    return [max_val - abs(i - max_index) for i in range(len(lst))]\n",
    "\n",
    "# Test cases\n",
    "print(pop([0, 0, 0, 0, 4, 0, 0, 0, 0]))  # ➞ [0, 1, 2, 3, 4, 3, 2, 1, 0]\n",
    "print(pop([0, 0, 0, 3, 0, 0, 0]))  # ➞ [0, 1, 2, 3, 2, 1, 0]\n",
    "print(pop([0, 0, 2, 0, 0]))  # ➞ [0, 1, 2, 1, 0]\n",
    "print(pop([0]))  # ➞ [0]\n"
   ]
  },
  {
   "cell_type": "markdown",
   "id": "eb702d74",
   "metadata": {},
   "source": [
    "# 3. &quot;Loves me, loves me not&quot; is a traditional game in which a person plucks off\n",
    "all the petals of a flower one by one, saying the phrase &quot;Loves me&quot; and\n",
    "&quot;Loves me not&quot; when determining whether the one that they love, loves them\n",
    "back.\n",
    "Given a number of petals, return a string which repeats the phrases &quot;Loves\n",
    "me&quot; and &quot;Loves me not&quot; for every alternating petal, and return the last phrase\n",
    "in all caps. Remember to put a comma and space between phrases.\n",
    "\n",
    "\n",
    "Examples\n",
    "loves_me(3) ➞ &quot;Loves me, Loves me not, LOVES ME&quot;\n",
    "loves_me(6) ➞ &quot;Loves me, Loves me not, Loves me, Loves me not, Loves\n",
    "me, LOVES ME NOT&quot;\n",
    "\n",
    "loves_me(1) ➞ &quot;LOVES ME&quot;"
   ]
  },
  {
   "cell_type": "code",
   "execution_count": 4,
   "id": "3c0058ff",
   "metadata": {},
   "outputs": [
    {
     "name": "stdout",
     "output_type": "stream",
     "text": [
      "Loves me, Loves me not, LOVES ME\n",
      "Loves me, Loves me not, Loves me, Loves me not, Loves me, LOVES ME NOT\n",
      "LOVES ME\n"
     ]
    }
   ],
   "source": [
    "def loves_me(petals):\n",
    "    phrases = [\"Loves me\" if i % 2 == 0 else \"Loves me not\" for i in range(petals)]\n",
    "    phrases[-1] = phrases[-1].upper()\n",
    "    return \", \".join(phrases)\n",
    "\n",
    "# Test cases\n",
    "print(loves_me(3))  # ➞ \"Loves me, Loves me not, LOVES ME\"\n",
    "print(loves_me(6))  # ➞ \"Loves me, Loves me not, Loves me, Loves me not, Loves me, LOVES ME NOT\"\n",
    "print(loves_me(1))  # ➞ \"LOVES ME\"\n"
   ]
  },
  {
   "cell_type": "markdown",
   "id": "fcbf7a48",
   "metadata": {},
   "source": [
    "# 4. Write a function that sorts each string in a list by the letter in alphabeticascending order (a-z).\n",
    "\n",
    "Examples\n",
    "sort_by_letter([&quot;932c&quot;, &quot;832u32&quot;, &quot;2344b&quot;])\n",
    "➞ [&quot;2344b&quot;, &quot;932c&quot;, &quot;832u32&quot;]\n",
    "sort_by_letter([&quot;99a&quot;, &quot;78b&quot;, &quot;c2345&quot;, &quot;11d&quot;])\n",
    "➞ [&quot;99a&quot;, &quot;78b&quot;, &quot;c2345&quot;, &quot;11d&quot;]\n",
    "sort_by_letter([&quot;572z&quot;, &quot;5y5&quot;, &quot;304q2&quot;])\n",
    "➞ [&quot;304q2&quot;, &quot;5y5&quot;, &quot;572z&quot;]\n",
    "sort_by_letter([])\n",
    "➞ []"
   ]
  },
  {
   "cell_type": "code",
   "execution_count": 5,
   "id": "fc1ee185",
   "metadata": {},
   "outputs": [
    {
     "name": "stdout",
     "output_type": "stream",
     "text": [
      "['2344b', '932c', '832u32']\n",
      "['99a', '78b', 'c2345', '11d']\n",
      "['304q2', '5y5', '572z']\n",
      "[]\n"
     ]
    }
   ],
   "source": [
    "import re\n",
    "\n",
    "def sort_by_letter(lst):\n",
    "    return sorted(lst, key=lambda x: re.search(\"[a-zA-Z]\", x).group())\n",
    "\n",
    "# Test cases\n",
    "print(sort_by_letter([\"932c\", \"832u32\", \"2344b\"]))  # ➞ [\"2344b\", \"932c\", \"832u32\"]\n",
    "print(sort_by_letter([\"99a\", \"78b\", \"c2345\", \"11d\"]))  # ➞ [\"99a\", \"78b\", \"c2345\", \"11d\"]\n",
    "print(sort_by_letter([\"572z\", \"5y5\", \"304q2\"]))  # ➞ [\"304q2\", \"5y5\", \"572z\"]\n",
    "print(sort_by_letter([]))  # ➞ []\n"
   ]
  },
  {
   "cell_type": "markdown",
   "id": "e1bffd8f",
   "metadata": {},
   "source": [
    "# 5. There are three cups on a table, at positions A, B, and C. At the start, there\n",
    "is a ball hidden under the cup at position B.\n",
    "\n",
    "However, I perform several swaps on the cups, which is notated as two\n",
    "letters. For example, if I swap the cups at positions A and B, I could notate\n",
    "this as AB or BA.\n",
    "Create a function that returns the letter position that the ball is at, once I finish\n",
    "swapping the cups. The swaps will be given to you as a list.\n",
    "\n",
    "Example\n",
    "cup_swapping([&quot;AB&quot;, &quot;CA&quot;, &quot;AB&quot;]) ➞ &quot;C&quot;\n",
    "\n",
    "#Ball begins at position B.\n",
    "\n",
    "#Cups A and B swap, so the ball is at position A.\n",
    "\n",
    "#Cups C and A swap, so the ball is at position C.\n",
    "\n",
    "#Cups A and B swap, but the ball is at position C, so it doesn&#39;t move."
   ]
  },
  {
   "cell_type": "code",
   "execution_count": 7,
   "id": "1883f771",
   "metadata": {},
   "outputs": [
    {
     "name": "stdout",
     "output_type": "stream",
     "text": [
      "C\n"
     ]
    }
   ],
   "source": [
    "def cup_swapping(swaps):\n",
    "    ball_position = 'B'\n",
    "    \n",
    "    for swap in swaps:\n",
    "        if ball_position in swap:\n",
    "            ball_position = swap.replace(ball_position, '')\n",
    "    \n",
    "    return ball_position\n",
    "\n",
    "# Test cases\n",
    "print(cup_swapping([\"AB\", \"CA\", \"AB\"]))  # ➞ \"C\"\n",
    "\n"
   ]
  },
  {
   "cell_type": "code",
   "execution_count": null,
   "id": "081a6563",
   "metadata": {},
   "outputs": [],
   "source": []
  }
 ],
 "metadata": {
  "kernelspec": {
   "display_name": "Python 3 (ipykernel)",
   "language": "python",
   "name": "python3"
  },
  "language_info": {
   "codemirror_mode": {
    "name": "ipython",
    "version": 3
   },
   "file_extension": ".py",
   "mimetype": "text/x-python",
   "name": "python",
   "nbconvert_exporter": "python",
   "pygments_lexer": "ipython3",
   "version": "3.9.7"
  }
 },
 "nbformat": 4,
 "nbformat_minor": 5
}

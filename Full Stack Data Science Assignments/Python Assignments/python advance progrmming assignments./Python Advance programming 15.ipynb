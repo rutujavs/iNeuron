{
 "cells": [
  {
   "cell_type": "markdown",
   "id": "c3bcf663",
   "metadata": {},
   "source": [
    "# 1. Write a function that returns True if a given name can generate an array of\n",
    "words.\n",
    "Examples\n",
    "anagram(&quot;Justin Bieber&quot;, [&quot;injures&quot;, &quot;ebb&quot;, &quot;it&quot;]) ➞ True\n",
    "anagram(&quot;Natalie Portman&quot;, [&quot;ornamental&quot;, &quot;pita&quot;]) ➞ True\n",
    "anagram(&quot;Chris Pratt&quot;, [&quot;chirps&quot;, &quot;rat&quot;]) ➞ False\n",
    "#Not all letters are used\n",
    "anagram(&quot;Jeff Goldblum&quot;, [&quot;jog&quot;, &quot;meld&quot;, &quot;bluffs&quot;]) ➞ False\n",
    "#&quot;s&quot; does not exist in the original name"
   ]
  },
  {
   "cell_type": "code",
   "execution_count": 1,
   "id": "b08788ca",
   "metadata": {},
   "outputs": [
    {
     "name": "stdout",
     "output_type": "stream",
     "text": [
      "True\n",
      "True\n",
      "True\n",
      "True\n"
     ]
    }
   ],
   "source": [
    "def anagram(name, words):\n",
    "    # Remove spaces and sort the letters in the name\n",
    "    name = sorted(name.replace(\" \", \"\").lower())\n",
    "    \n",
    "    # Check if each word can be made from the name\n",
    "    for word in words:\n",
    "        if sorted(word.lower()) != sorted(word.lower()):\n",
    "            return False\n",
    "    return True\n",
    "\n",
    "# Test cases\n",
    "print(anagram(\"Justin Bieber\", [\"injures\", \"ebb\", \"it\"]))  # ➞ True\n",
    "print(anagram(\"Natalie Portman\", [\"ornamental\", \"pita\"]))  # ➞ True\n",
    "print(anagram(\"Chris Pratt\", [\"chirps\", \"rat\"]))  # ➞ False\n",
    "print(anagram(\"Jeff Goldblum\", [\"jog\", \"meld\", \"bluffs\"]))  # ➞ False\n"
   ]
  },
  {
   "cell_type": "markdown",
   "id": "8efcd678",
   "metadata": {},
   "source": [
    "# 2. Given an array of users, each defined by an object with the following\n",
    "properties: name, score, reputation create a function that sorts the array to\n",
    "form the correct leaderboard.\n",
    "The leaderboard takes into consideration the score of each user of course,\n",
    "but an emphasis is put on their reputation in the community, so to get the\n",
    "trueScore, you should add the reputation multiplied by 2 to the score.\n",
    "Once you know the trueScore of each user, sort the array according to it in\n",
    "descending order.\n",
    "Examples\n",
    "leaderboards([\n",
    "{ &quot;name&quot;: &quot;a&quot;, &quot;score&quot;: 100, &quot;reputation&quot;: 20 },\n",
    "{ &quot;name&quot;: &quot;b&quot;, &quot;score&quot;: 90, &quot;reputation&quot;: 40 },\n",
    "{ &quot;name&quot;: &quot;c&quot;, &quot;score&quot;: 115, &quot;reputation&quot;: 30 },\n",
    "]) ➞ [\n",
    "{ &quot;name&quot;: &quot;c&quot;, &quot;score&quot;: 115, &quot;reputation&quot;: 30 }, # trueScore = 175\n",
    "{ &quot;name&quot;: &quot;b&quot;, &quot;score&quot;: 90, &quot;reputation&quot;: 40 }, # trueScore = 170\n",
    "{ &quot;name&quot;: &quot;a&quot;, &quot;score&quot;: 100, &quot;reputation&quot;: 20 } # trueScore = 140\n",
    "]"
   ]
  },
  {
   "cell_type": "code",
   "execution_count": 2,
   "id": "9d860945",
   "metadata": {},
   "outputs": [
    {
     "name": "stdout",
     "output_type": "stream",
     "text": [
      "[{'name': 'c', 'score': 115, 'reputation': 30}, {'name': 'b', 'score': 90, 'reputation': 40}, {'name': 'a', 'score': 100, 'reputation': 20}]\n"
     ]
    }
   ],
   "source": [
    "def leaderboards(users):\n",
    "    # Calculate trueScore for each user\n",
    "    for user in users:\n",
    "        user['trueScore'] = user['score'] + 2 * user['reputation']\n",
    "    \n",
    "    # Sort users based on trueScore in descending order\n",
    "    users.sort(key=lambda x: x['trueScore'], reverse=True)\n",
    "    \n",
    "    # Remove trueScore from the final output\n",
    "    for user in users:\n",
    "        del user['trueScore']\n",
    "    \n",
    "    return users\n",
    "\n",
    "# Test cases\n",
    "print(leaderboards([\n",
    "    { \"name\": \"a\", \"score\": 100, \"reputation\": 20 },\n",
    "    { \"name\": \"b\", \"score\": 90, \"reputation\": 40 },\n",
    "    { \"name\": \"c\", \"score\": 115, \"reputation\": 30 },\n",
    "]))  # ➞ [\n",
    "# { \"name\": \"c\", \"score\": 115, \"reputation\": 30 },\n",
    "# { \"name\": \"b\", \"score\": 90, \"reputation\": 40 },\n",
    "# { \"name\": \"a\", \"score\": 100, \"reputation\": 20 }\n",
    "# ]\n"
   ]
  },
  {
   "cell_type": "markdown",
   "id": "b8114b7d",
   "metadata": {},
   "source": [
    "# 3. Create a function that, given a phrase and a number of letters guessed,\n",
    "returns a string with hyphens - for every letter of the phrase not guessed, and\n",
    "each letter guessed in place.\n",
    "Examples\n",
    "hangman(&quot;helicopter&quot;, [&quot;o&quot;, &quot;e&quot;, &quot;s&quot;]) ➞ &quot;-e---o--e-&quot;\n",
    "\n",
    "hangman(&quot;tree&quot;, [&quot;r&quot;, &quot;t&quot;, &quot;e&quot;]) ➞ &quot;tree&quot;\n",
    "hangman(&quot;Python rules&quot;, [&quot;a&quot;, &quot;n&quot;, &quot;p&quot;, &quot;r&quot;, &quot;z&quot;]) ➞ &quot;P----n r----&quot;\n",
    "hangman(&quot;He&quot;s a very naughty boy!&quot;, [&quot;e&quot;, &quot;a&quot;, &quot;y&quot;]) ➞ &quot;-e&quot;- a -e-y -a----y –y!&quot;"
   ]
  },
  {
   "cell_type": "code",
   "execution_count": 3,
   "id": "89abe24f",
   "metadata": {},
   "outputs": [
    {
     "name": "stdout",
     "output_type": "stream",
     "text": [
      "-e---o--e-\n",
      "tree\n",
      "P----n r----\n",
      "-e-- a -e-y -a----y --y-\n"
     ]
    }
   ],
   "source": [
    "def hangman(phrase, guessed_letters):\n",
    "    result = []\n",
    "    \n",
    "    for char in phrase:\n",
    "        if char.lower() in guessed_letters:\n",
    "            result.append(char)\n",
    "        elif char == \" \":\n",
    "            result.append(\" \")\n",
    "        else:\n",
    "            result.append(\"-\")\n",
    "    \n",
    "    return \"\".join(result)\n",
    "\n",
    "# Test cases\n",
    "print(hangman(\"helicopter\", [\"o\", \"e\", \"s\"]))  # ➞ \"-e---o--e-\"\n",
    "print(hangman(\"tree\", [\"r\", \"t\", \"e\"]))  # ➞ \"tree\"\n",
    "print(hangman(\"Python rules\", [\"a\", \"n\", \"p\", \"r\", \"z\"]))  # ➞ \"P----n r----\"\n",
    "print(hangman(\"He's a very naughty boy!\", [\"e\", \"a\", \"y\"]))  # ➞ \"-e's a ve-y nau---y b-y!\"\n"
   ]
  },
  {
   "cell_type": "markdown",
   "id": "c4250fda",
   "metadata": {},
   "source": [
    "# 4. The Collatz sequence is as follows:\n",
    "- Start with some given integer n.\n",
    "- If it is even, the next number will be n divided by 2.\n",
    "- If it is odd, multiply it by 3 and add 1 to make the next number.\n",
    "- The sequence stops when it reaches 1.\n",
    "According to the Collatz conjecture, it will always reach 1. If that&#39;s true, you\n",
    "can construct a finite sequence following the aforementioned method for any\n",
    "given integer.\n",
    "Write a function that takes in an integer n and returns the highest integer in\n",
    "the corresponding Collatz sequence.\n",
    "Examples\n",
    "max_collatz(10) ➞ 16\n",
    "#Collatz sequence: 10, 5, 16, 8, 4, 2, 1\n",
    "max_collatz(32) ➞ 32\n",
    "#Collatz sequence: 32, 16, 8, 4, 2, 1\n",
    "max_collatz(85) ➞ 256\n",
    "#Collatz sequence: 85, 256, 128, 64, 32, 16, 8, 4, 2, 1"
   ]
  },
  {
   "cell_type": "code",
   "execution_count": null,
   "id": "a7f542b3",
   "metadata": {},
   "outputs": [],
   "source": [
    "def max_collatz(n):\n",
    "    highest = n\n",
    "    while n != 1:\n",
    "        if n % 2 == 0:\n",
    "            n //= 2\n",
    "        else:\n",
    "            n = 3 * n + 1\n",
    "        highest = max(highest, n)\n",
    "    return highest\n",
    "\n",
    "# Test cases\n",
    "print(max_collatz(10))  # ➞ 16\n",
    "print(max_collatz(32))  # ➞ 32\n",
    "print(max_collatz(85))  # ➞ 256\n"
   ]
  },
  {
   "cell_type": "markdown",
   "id": "f67fc314",
   "metadata": {},
   "source": [
    "# 5. Write a function that sorts a list of integers by their digit length in\n",
    "descending order, then settles ties by sorting numbers with the same digit\n",
    "length in ascending order.\n",
    "Examples\n",
    "digit_sort([77, 23, 5, 7, 101])\n",
    "➞ [101, 23, 77, 5, 7]\n",
    "digit_sort([1, 5, 9, 2, 789, 563, 444])\n",
    "➞ [444, 563, 789, 1, 2, 5, 9]\n",
    "digit_sort([53219, 3772, 564, 32, 1])\n",
    "\n",
    "➞ [53219, 3772, 564, 32, 1]"
   ]
  },
  {
   "cell_type": "code",
   "execution_count": null,
   "id": "ce8d96cd",
   "metadata": {},
   "outputs": [],
   "source": [
    "def digit_sort(lst):\n",
    "    return sorted(lst, key=lambda x: (len(str(x)), x), reverse=True)\n",
    "\n",
    "# Test cases\n",
    "print(digit_sort([77, 23, 5, 7, 101]))  # ➞ [101, 23, 77, 5, 7]\n",
    "print(digit_sort([1, 5, 9, 2, 789, 563, 444]))  # ➞ [444, 563, 789, 1, 2, 5, 9]\n",
    "print(digit_sort([53219, 3772, 564, 32, 1]))  # ➞ [53219, 3772, 564, 32, 1]\n"
   ]
  }
 ],
 "metadata": {
  "kernelspec": {
   "display_name": "Python 3 (ipykernel)",
   "language": "python",
   "name": "python3"
  },
  "language_info": {
   "codemirror_mode": {
    "name": "ipython",
    "version": 3
   },
   "file_extension": ".py",
   "mimetype": "text/x-python",
   "name": "python",
   "nbconvert_exporter": "python",
   "pygments_lexer": "ipython3",
   "version": "3.9.7"
  }
 },
 "nbformat": 4,
 "nbformat_minor": 5
}

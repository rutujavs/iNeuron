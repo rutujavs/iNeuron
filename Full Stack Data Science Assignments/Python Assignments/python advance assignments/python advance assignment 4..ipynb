{
 "cells": [
  {
   "cell_type": "code",
   "execution_count": 2,
   "id": "823ea506",
   "metadata": {},
   "outputs": [
    {
     "name": "stdout",
     "output_type": "stream",
     "text": [
      "5 6 7 8 9 10 11 12 13 14 15 "
     ]
    }
   ],
   "source": [
    "#Q1. Which two operator overloading methods can you use in your classes to support iteration?\n",
    "'''Ans - \n",
    " __iter__ and __next__ are the operator overloading methods in python that support iteration and are collectivelly\n",
    " called iteration protocol.\n",
    " \n",
    " __iter__ returns the iterator object and is called at the start of loop in our respective class.\n",
    " \n",
    " __next__is caleed at each loop increment, it returns the incremented value. Also Stopiteration is raised when \n",
    " there is no value to return.'''\n",
    "\n",
    "\n",
    "class Counter:\n",
    "    def __init__(self,low,high):\n",
    "        self.current = low \n",
    "        self.high = high\n",
    "    def __iter__(self):\n",
    "        return self \n",
    "    def __next__(self):\n",
    "        if self.current > self.high:\n",
    "            raise StopIteration\n",
    "        else:\n",
    "            self.current +=1\n",
    "            return self.current - 1\n",
    "for i in Counter(5,15):\n",
    "    print(i,end=\" \")\n",
    "    "
   ]
  },
  {
   "cell_type": "code",
   "execution_count": 3,
   "id": "a32ea297",
   "metadata": {},
   "outputs": [
    {
     "name": "stdout",
     "output_type": "stream",
     "text": [
      "<__main__.Student object at 0x7f78793ac160>\n",
      "Student Name: Jadhav Rutuja and Enrollment No: 1\n",
      "2022-03-07 11:36:54.577510\n",
      "Unable to convert back to original object\n",
      "datetime.datetime(2022, 3, 7, 11, 36, 54, 577510)\n",
      "2022-03-07 11:36:54.577510\n"
     ]
    }
   ],
   "source": [
    "#Q2. In what contexts do the two operator overloading methods manage printing?\n",
    "'''Ans - \n",
    " __str__ and __repr__ are two operator overloading methods that manage printing.\n",
    "\n",
    "In Short, the difference between both these operators is the goal of __repr__ is to be unambiguous and __str__ is\n",
    "to be readable.\n",
    "Whenever we are printing any object reference internally __str__ method will be called by default.\n",
    "The main purpose of __str__ is for readability. it prints the informal string representation of an object, one \n",
    "that is useful for printing the object. it may not be possible to convert result string to original object.\n",
    "__repr__ is used to print official string representation of an object, so it includes all information and \n",
    "development.'''\n",
    "\n",
    "\n",
    "class Student:\n",
    "    def __init__(self,name,enroll_no):\n",
    "        self.name = name\n",
    "        self.enroll_no = enroll_no\n",
    "        \n",
    "s1 = Student(\"Jadhav Rutuja\",1)\n",
    "print(str(s1))\n",
    "\n",
    "class Student:\n",
    "    def __init__(self,name,enroll_no):\n",
    "        self.name = name\n",
    "        self.enroll_no = enroll_no\n",
    "    def __str__(self):\n",
    "        return f'Student Name: {self.name} and Enrollment No: {self.enroll_no}'\n",
    "    \n",
    "s1 = Student(\"Jadhav Rutuja\",1)\n",
    "print(str(s1))\n",
    "\n",
    "import datetime\n",
    "today = datetime.datetime.now()\n",
    "\n",
    "s = str(today) # converting datetime object to presentable str\n",
    "print(s)\n",
    "try: d = eval(s) # converting str back to datetime object\n",
    "except: print(\"Unable to convert back to original object\")\n",
    "    \n",
    "u = repr(today) # converting datetime object to str\n",
    "print(u)\n",
    "e = eval(u) # converting str back to datetime object\n",
    "print(e)\n"
   ]
  },
  {
   "cell_type": "code",
   "execution_count": null,
   "id": "7069440f",
   "metadata": {},
   "outputs": [],
   "source": [
    "#Q3. In a class, how do you intercept slice operations?\n",
    "Ans- \n",
    "In a class use of slice() in __getitem__ method is used for intercept slice operation. This slice method is provided with start integer number, stop integer number and step integer number.\n",
    "\n",
    "Example: __getitem__(slice(start,stop,step))"
   ]
  },
  {
   "cell_type": "code",
   "execution_count": 4,
   "id": "2d040ca5",
   "metadata": {},
   "outputs": [
    {
     "name": "stdout",
     "output_type": "stream",
     "text": [
      "300\n"
     ]
    }
   ],
   "source": [
    "#Q4. In a class, how do you capture in-place addition?\n",
    "'''Ans-\n",
    "a+b is normal addition. Whereas a+=b is inplace addition operation. In this in-place addition a itself will store \n",
    "the value of addition. In a class __iadd__ method is used for this in-place operation'''\n",
    "\n",
    "\n",
    "class Book:\n",
    "    def __init__(self,pages):\n",
    "        self.pages = pages\n",
    "    def __iadd__(self,other):\n",
    "        self.pages += other.pages\n",
    "        return self.pages\n",
    "        \n",
    "b1 = Book(100)\n",
    "b2 = Book(200)\n",
    "b1+=b2\n",
    "print(b1)"
   ]
  },
  {
   "cell_type": "code",
   "execution_count": 5,
   "id": "64827000",
   "metadata": {},
   "outputs": [
    {
     "name": "stdout",
     "output_type": "stream",
     "text": [
      "Total Number of Pages -> 300\n"
     ]
    }
   ],
   "source": [
    "#Q5. When is it appropriate to use operator overloading?\n",
    "'''Ans-\n",
    "Operator overloading is used when we want to use an operator other than its normal operation to have different \n",
    "meaning according to the context required in user defined function.'''\n",
    "\n",
    "\n",
    "class Book:\n",
    "    def __init__(self,pages):\n",
    "        self.pages = pages\n",
    "    def __add__(self,other):\n",
    "        return self.pages+other.pages\n",
    "b1 = Book(100)\n",
    "b2 = Book(200)\n",
    "print(f'Total Number of Pages -> {b1+b2}')"
   ]
  },
  {
   "cell_type": "code",
   "execution_count": null,
   "id": "4ec78dcf",
   "metadata": {},
   "outputs": [],
   "source": []
  }
 ],
 "metadata": {
  "kernelspec": {
   "display_name": "Python 3 (ipykernel)",
   "language": "python",
   "name": "python3"
  },
  "language_info": {
   "codemirror_mode": {
    "name": "ipython",
    "version": 3
   },
   "file_extension": ".py",
   "mimetype": "text/x-python",
   "name": "python",
   "nbconvert_exporter": "python",
   "pygments_lexer": "ipython3",
   "version": "3.9.7"
  }
 },
 "nbformat": 4,
 "nbformat_minor": 5
}

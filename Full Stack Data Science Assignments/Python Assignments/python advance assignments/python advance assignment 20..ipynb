{
 "cells": [
  {
   "cell_type": "code",
   "execution_count": null,
   "id": "3748f05b",
   "metadata": {},
   "outputs": [],
   "source": [
    "#1. Compare and contrast the float and Decimal classes' benefits and drawbacks ?\n",
    "Ans-\n",
    "Both the float and decimal types store numerical values in Python.\n",
    "\n",
    "Use floats when convenience and speed matter. A float gives you an approximation of the number you declare.\n",
    "\n",
    "Use decimals when precision matters. Decimals can suffer from their own precision issues, but generally, decimals \n",
    "are more precise than floats. The performance difference between float and decimal, with Python 3, is not \n",
    "outlandish, and in my experience, the precision benefits of a decimal outweigh the performance benefits of a float.\n",
    "\n",
    "#2. Decimal('1.200') and Decimal('1.2') are two objects to consider. In what sense are these the same object? Are these just two ways of representing the exact same value, or do they correspond to different internal states ?\n",
    "Ans-\n",
    "Both values are same but internal representation at storage Is different. Precsion differs, Decimal('1.200') gives \n",
    "internally 1.200 and Decimal('1.2') gives 1.2.\n",
    "\n",
    "#3. What happens if the equality of Decimal('1.200') and Decimal('1.2') is checked ?\n",
    "Ans-\n",
    "Both values are checked to be equal , they only differ in precision.\n",
    "\n",
    "#4. Why is it preferable to start a Decimal object with a string rather than a floating-point value ?\n",
    "Ans-\n",
    "Floating-point value is converted to Decimal format. Decimal can store float value with absolute precision. But \n",
    "when float value is given as Decimal object,it first has to be converted from floating point value which might \n",
    "already have rounding error.\n",
    "Hence it is preferable to start a Decimal object with a string.\n",
    "\n",
    "#5. In an arithmetic phrase, how simple is it to combine Decimal objects with integers ?\n",
    "Ans-\n",
    "We can do it with use of Decimal().\n",
    "\n",
    "#6. Can Decimal objects and floating-point values be combined easily ?\n",
    "Ans-\n",
    "Arithmetic operfations like Adding,subtracting or multiplying a Decimal object by a floating-point value is \n",
    "generates an error.\n",
    "To do these operations, the floating point has to be converted to a Decimal.\n",
    "\n",
    "\n",
    "\n",
    "\n"
   ]
  },
  {
   "cell_type": "code",
   "execution_count": null,
   "id": "d931da0a",
   "metadata": {},
   "outputs": [],
   "source": []
  },
  {
   "cell_type": "code",
   "execution_count": null,
   "id": "06ce7d30",
   "metadata": {},
   "outputs": [],
   "source": []
  },
  {
   "cell_type": "code",
   "execution_count": null,
   "id": "debccc3a",
   "metadata": {},
   "outputs": [],
   "source": []
  },
  {
   "cell_type": "code",
   "execution_count": null,
   "id": "9b59e546",
   "metadata": {},
   "outputs": [],
   "source": []
  },
  {
   "cell_type": "code",
   "execution_count": null,
   "id": "cfe9be47",
   "metadata": {},
   "outputs": [],
   "source": []
  },
  {
   "cell_type": "code",
   "execution_count": null,
   "id": "0ff97bc8",
   "metadata": {},
   "outputs": [],
   "source": [
    "#7. Using the Fraction class but not the Decimal class, give an example of a quantity that can be expressed with \n",
    "#absolute precision ?\n",
    "Ans-\n",
    "Value of 0.5 will be represented as ½."
   ]
  },
  {
   "cell_type": "code",
   "execution_count": null,
   "id": "600468e6",
   "metadata": {},
   "outputs": [],
   "source": [
    "#8.Consider the following two fraction objects: Fraction(1, 2) and Fraction(1, 2). (5, 10). Is the internal state \n",
    "#of these two objects the same? Why do you think that is ?\n",
    "Ans-\n",
    "Both will be reduced to 1/2"
   ]
  },
  {
   "cell_type": "code",
   "execution_count": null,
   "id": "ea4bfbcd",
   "metadata": {},
   "outputs": [],
   "source": [
    "#9. How do the Fraction class and the integer type (int) relate to each other? Containment or inheritance ?\n",
    "Ans-\n",
    "Fraction class and integer type(int) are related in form of a container.It contains two ints, one the numerator \n",
    "and the other the denominator"
   ]
  }
 ],
 "metadata": {
  "kernelspec": {
   "display_name": "Python 3 (ipykernel)",
   "language": "python",
   "name": "python3"
  },
  "language_info": {
   "codemirror_mode": {
    "name": "ipython",
    "version": 3
   },
   "file_extension": ".py",
   "mimetype": "text/x-python",
   "name": "python",
   "nbconvert_exporter": "python",
   "pygments_lexer": "ipython3",
   "version": "3.9.7"
  }
 },
 "nbformat": 4,
 "nbformat_minor": 5
}

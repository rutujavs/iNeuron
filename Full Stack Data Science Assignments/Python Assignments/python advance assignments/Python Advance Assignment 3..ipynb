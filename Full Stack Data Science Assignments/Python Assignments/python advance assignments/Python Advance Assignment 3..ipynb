{
 "cells": [
  {
   "cell_type": "code",
   "execution_count": 1,
   "id": "bee72e30",
   "metadata": {},
   "outputs": [],
   "source": [
    " #1. What is the concept of an abstract superclass?\n",
    "\"\"\" Ans - \n",
    " An abstract class can be considered as a blueprint for other classes. \n",
    " It allows you to create a set of methods that must be created within  \n",
    "  any child classes built from the abstract class. \n",
    " A class which contains one or more abstract methods is called an abstract class.\"\"\"\n",
    "from abc import ABC, abstractmethod\n",
    "class Polygon(ABC): # Abstract Class\n",
    "    @abstractmethod\n",
    "    def noofsides(self): # Abstract Method\n",
    "        pass\n",
    "class Triangle(Polygon):\n",
    "    def noofsides(self):  # overriding abstract method in child class Triangle\n",
    "        print(\"I have 3 sides\")\n",
    "class Pentagon(Polygon):\n",
    "    def noofsides(self): # overriding abstract method in child class Pentagon\n",
    "        print(\"I have 5 sides\")"
   ]
  },
  {
   "cell_type": "code",
   "execution_count": 2,
   "id": "30da9edb",
   "metadata": {},
   "outputs": [],
   "source": [
    "#2. What happens when a class statement's top level contains a basic assignment statement?\n",
    "''' Ans - \n",
    " When a Class statement's top level contins a basic assignment statement , its usually treated as a class \n",
    " attribute or class level variable.\n",
    " \n",
    " Where as assignment statement's inside methods are treated as instance attributes or local attributes.\n",
    " \n",
    " When an instance of a class is created a single copy of class attributes is maintained and shared to all \n",
    " instances of class . where as each instance object maintains its own copy of instance variables. '''\n",
    "\n",
    "class person:\n",
    "    species = 'Homespecies' # class attribute\n",
    "    def __init__(self,name,gender):\n",
    "        self.name = name \n",
    "        self.gender = gender #instance attributes"
   ]
  },
  {
   "cell_type": "code",
   "execution_count": 4,
   "id": "bfd8e989",
   "metadata": {},
   "outputs": [
    {
     "name": "stdout",
     "output_type": "stream",
     "text": [
      "{'name': 'Vinayak', 'age': 29, 'salary': 45000}\n"
     ]
    }
   ],
   "source": [
    "#3. Why does a class need to manually call a superclass's __init__ method?\n",
    "'''Ans - __init__ method of the parent class .In other words \n",
    "the __init__ method of the child class overrides the __init__ \n",
    "method of the parent class . so we have to manually call a \n",
    "parent superclass's __init__ using super(method)'''\n",
    "\n",
    "class Person :\n",
    "    def __init__(self,name,age):\n",
    "        self.name = name \n",
    "        self.age = age \n",
    "class Employee(Person):\n",
    "    def __init__(self ,name,age, salary):\n",
    "        super().__init__(name ,age)\n",
    "        self.salary = salary\n",
    "emp_1 = Employee('Vinayak',29,45000)\n",
    "print(emp_1.__dict__)"
   ]
  },
  {
   "cell_type": "code",
   "execution_count": 6,
   "id": "a331f7db",
   "metadata": {},
   "outputs": [
    {
     "name": "stdout",
     "output_type": "stream",
     "text": [
      "{'name': 'vinayak', 'gender': 'Male', 'salary': 45000}\n"
     ]
    }
   ],
   "source": [
    "#4. How can you augment, instead of completely replacing, an inherited method?\n",
    "'''Ans - \n",
    " super() method can be used to augment , insted of completely replacing, an inherited method'''\n",
    "\n",
    "class Person:\n",
    "    def __init__(self,name,gender):\n",
    "        self.name = name\n",
    "        self.gender = gender\n",
    "class Employee(Person):\n",
    "    def __init__(self,name,gender,salary):\n",
    "        super().__init__(name,gender)\n",
    "        self.salary = salary\n",
    "\n",
    "emp_1 = Employee('vinayak','Male', 45000)\n",
    "print(emp_1.__dict__)"
   ]
  },
  {
   "cell_type": "code",
   "execution_count": 8,
   "id": "26139afc",
   "metadata": {},
   "outputs": [
    {
     "name": "stdout",
     "output_type": "stream",
     "text": [
      "you're name is sonawane Rutuja\n",
      "Name variable is not available outside test function scope\n",
      "Homespecies\n",
      "Homespecies\n"
     ]
    }
   ],
   "source": [
    "#5. How is the local scope of a class different from that of a function?\n",
    "\"\"\"Ans- \n",
    "A Variable which is defined inside a function is local to that function. it is accesible from the point at which it is defined until the end of the function, and exists for as long as the function is existing.\n",
    "\n",
    "Similary a variable inside of a class also has a local variable scope. Variables which are defined in the class body (but outside all methods) are called as class level variables or class attributes. they can be referenced by there bare names within the same scope, but they can also be accessed from outside this scope if we use the attribute access operator (.). on a class or an instance of the class.\"\"\"\n",
    "\n",
    "def test(name):\n",
    "    name = name\n",
    "    print(f'you\\'re name is {name}')\n",
    "test('sonawane Rutuja')\n",
    "try:\n",
    "    name\n",
    "except NameError:\n",
    "    print(\"Name variable is not available outside test function scope\")\n",
    "\n",
    "class Person:\n",
    "    species = 'Homespecies'\n",
    "    def __init__(self):\n",
    "        pass\n",
    "    \n",
    "print(Person.species) #Accessing species using class name\n",
    "male = Person()\n",
    "print(male.species) # Accessing species using instance of class"
   ]
  },
  {
   "cell_type": "code",
   "execution_count": null,
   "id": "29510601",
   "metadata": {},
   "outputs": [],
   "source": []
  }
 ],
 "metadata": {
  "kernelspec": {
   "display_name": "Python 3 (ipykernel)",
   "language": "python",
   "name": "python3"
  },
  "language_info": {
   "codemirror_mode": {
    "name": "ipython",
    "version": 3
   },
   "file_extension": ".py",
   "mimetype": "text/x-python",
   "name": "python",
   "nbconvert_exporter": "python",
   "pygments_lexer": "ipython3",
   "version": "3.9.7"
  }
 },
 "nbformat": 4,
 "nbformat_minor": 5
}

{
 "cells": [
  {
   "cell_type": "code",
   "execution_count": null,
   "id": "5f92d5f5",
   "metadata": {},
   "outputs": [],
   "source": [
    "#Q1. What is the relationship between classes and modules?\n",
    "Ans -\n",
    "   The relation between classes and modules in python is that class is used to define blueprint for a given object ,\n",
    "     Classes may generate instance object and instance variables . \n",
    "      Where as a module is used to reuse a given piece of code inside another programme , \n",
    "     Modules are collections of methods and constants.\n"
   ]
  },
  {
   "cell_type": "code",
   "execution_count": 2,
   "id": "7d548e1d",
   "metadata": {},
   "outputs": [],
   "source": [
    "#Q2. How do you make instances and classes?\n",
    "Ans - \n",
    "For creating a class instance. we call a class by its name and pass the arguments which its __init__ method accepts.\n",
    "Example: vinayak = employee('Male',20000), Here vinayak is an instance of class employee with attriubutes 'Male' and 20000.\n",
    "\n",
    "Whereas for creating a class, we use the Class keyword. Class keyword is followed by classname and semicolon.\n",
    "\n",
    "Example: Here Employee is a class created with class keyword with arguments gender and salary.\n",
    "\n",
    "class Employee:\n",
    "    def __init__(self, gender,salary):\n",
    "        self.gender = gender\n",
    "        self.salary = salary\n",
    "        "
   ]
  },
  {
   "cell_type": "code",
   "execution_count": 3,
   "id": "fe07101f",
   "metadata": {},
   "outputs": [],
   "source": [
    "#Q3. Where and how should be class attributes created?\n",
    "Ans: Class attributes or Class level Attributes belong to the class itself. \n",
    "these attributes will be shared by all the instances of the class. \n",
    " Hence these attributes are usually created/defined in the top of class definiation outside all methods.\n",
    "\n",
    "Example: In the below code we are defining a class attribute called  \n",
    "no_of_wheels which will be shared by all the instances of the class Car\n",
    "\n",
    "class Car:\n",
    "    no_of_wheels = 4; # this is a class attribute\n",
    "    def __init__(self,color,price,engine):\n",
    "        self.color = color # All this are instance attributes\n",
    "        self.price = price\n",
    "        self.engine = engine\n",
    "        "
   ]
  },
  {
   "cell_type": "code",
   "execution_count": 5,
   "id": "521dd4f4",
   "metadata": {},
   "outputs": [],
   "source": [
    "#Q4. Where and how are instance attributes created?\n",
    "\"\"\"Ans: Instances attributes are passed to the class when an object of the class is created. \n",
    " Unlike class attributes, instance attributes are not shared by all objects of the classs. \n",
    "  instead each object maintains its own copy of instance attributes at object level. \n",
    "   whereas incase of class attributes all instances of class refer to a single copy.  \n",
    "    Usually instance attributes are defined within the __init__ method of class\n",
    "\n",
    "Example: In the below sample code we are creating a class Car with instance varaibles  \n",
    " color, price, engine, which will be provided when an instance of class Car is created.\"\"\"\n",
    "\n",
    "class Car:\n",
    "    def __init__(self,color,price,engine):\n",
    "        self.color = color # All this are instance attributes\n",
    "        self.price = price\n",
    "        self.engine = engine\n",
    "\n",
    "nexon_ev = Car('Indigo Blue', 1400000, 'electric')\n",
    "safari = Car('Pearl White',2100000, 'petrol')\n",
    "\n",
    "\n",
    "nexon_ev, safari are both the instances of class Car with different instance variables."
   ]
  },
  {
   "cell_type": "code",
   "execution_count": 7,
   "id": "b965e4ee",
   "metadata": {},
   "outputs": [
    {
     "name": "stdout",
     "output_type": "stream",
     "text": [
      "{'color': 'Indigo Blue', 'price': 1400000, 'engine': 'electric'}\n",
      "{'color': 'Pearl White', 'price': 2100000, 'engine': 'petrol'}\n"
     ]
    }
   ],
   "source": [
    "#Q5. What does the term \"self\" in a Python class mean?\n",
    "\"\"\"Ans: self represents the instance of the class (it represents the object itself). \n",
    " By using the “self” keyword we can access the attributes and methods of the class with in the class in python.  \n",
    " It binds the attributes with the given arguments.\"\"\"\n",
    "\n",
    "class Car:\n",
    "    def __init__(self,color,price,engine):\n",
    "        self.color = color # All this are instance attributes\n",
    "        self.price = price\n",
    "        self.engine = engine\n",
    "\n",
    "nexon_ev = Car('Indigo Blue', 1400000, 'electric')\n",
    "safari = Car('Pearl White',2100000, 'petrol')\n",
    "\n",
    "print(nexon_ev.__dict__)\n",
    "print(safari.__dict__)\n"
   ]
  },
  {
   "cell_type": "code",
   "execution_count": 11,
   "id": "d0392778",
   "metadata": {},
   "outputs": [
    {
     "name": "stdout",
     "output_type": "stream",
     "text": [
      "The total number of pages in 2 books is 300\n"
     ]
    }
   ],
   "source": [
    "# Q6. How does a Python class handle operator overloading?\n",
    "\"\"\"Ans: Python Classes handle operator overloading by using special methods called Magic methods. these special methods usually begin and end with __ (double underscore)\n",
    "Example: Magic methods for basic arithmetic operators are:\"\"\"\n",
    "\n",
    "+ -> __add__()\n",
    "- -> __sub__()\n",
    "* -> __mul__()\n",
    "/ -> __div__()\n",
    "\n",
    "class Book:\n",
    "    def __init__(self,pages):\n",
    "        self.pages = pages\n",
    "    def __add__(self,other):\n",
    "        return self.pages + other.pages\n",
    "b1 = Book(100)\n",
    "b2 = Book(200)\n",
    "print(f'The total number of pages in 2 books is {b1+b2}')\n",
    "\n"
   ]
  },
  {
   "cell_type": "code",
   "execution_count": 13,
   "id": "85278766",
   "metadata": {},
   "outputs": [
    {
     "name": "stdout",
     "output_type": "stream",
     "text": [
      "Sum -> 3\n",
      "String Concatenation -> Mano Vishnu\n"
     ]
    }
   ],
   "source": [
    "#Q8. What is the most popular form of operator overloading?\n",
    "\"\"\"Ans: The most popular form of operator overloading in python is by special methods called Magic methods. \n",
    " Which usually beign and end with double underscore __<method name>__.\"\"\"\n",
    "\n",
    "class A:\n",
    "    def __init__(self,a):\n",
    "        self.a = a\n",
    "    def __add__(self,o):\n",
    "        return self.a+o.a\n",
    "obj1 = A(1)\n",
    "obj2 = A(2)\n",
    "obj3 = A('Mano')\n",
    "obj4 = A(' Vishnu')\n",
    "print(f'Sum -> {obj1+obj2}')\n",
    "print(f'String Concatenation -> {obj3+obj4}')\n",
    "\n"
   ]
  },
  {
   "cell_type": "code",
   "execution_count": null,
   "id": "64d20a59",
   "metadata": {},
   "outputs": [],
   "source": [
    "#Q9. What are the two most important concepts to grasp in order to comprehend Python OOP code?\n",
    "Ans: Classes and objects are the two concepts to comprehend \n",
    " python OOP code as more formally objects are entities that represent  \n",
    " instances of general abstract concept called class\n",
    "\n",
    "Along with classes and objects the important concepts to grasp are:\n",
    "\n",
    "Inheritence\n",
    "Abstraction\n",
    "Polymorphism\n",
    "Encapsulation"
   ]
  },
  {
   "cell_type": "code",
   "execution_count": null,
   "id": "8bbc7379",
   "metadata": {},
   "outputs": [],
   "source": []
  }
 ],
 "metadata": {
  "kernelspec": {
   "display_name": "Python 3 (ipykernel)",
   "language": "python",
   "name": "python3"
  },
  "language_info": {
   "codemirror_mode": {
    "name": "ipython",
    "version": 3
   },
   "file_extension": ".py",
   "mimetype": "text/x-python",
   "name": "python",
   "nbconvert_exporter": "python",
   "pygments_lexer": "ipython3",
   "version": "3.9.7"
  }
 },
 "nbformat": 4,
 "nbformat_minor": 5
}

{
 "cells": [
  {
   "cell_type": "code",
   "execution_count": 2,
   "id": "652e5843",
   "metadata": {},
   "outputs": [
    {
     "name": "stdout",
     "output_type": "stream",
     "text": [
      "['vvvvvv', '']\n",
      "['', 'v', '', 'v', '', 'v', '', 'v', '', 'v', '', 'v', '']\n"
     ]
    }
   ],
   "source": [
    "#Q1. Explain the difference between greedy and non-greedy syntax with visual terms in as few words as possible. What is the bare minimum effort required to transform a greedy pattern into a non-greedy one? What characters or characters can you introduce or change?\n",
    "\"\"\"Ans-\n",
    "The Main difference between Greedy and Non Greedy Match Syntax is The Greedy Match will try to match as many \n",
    "repetitions of the quantified pattern as possible Whereas The Non Greedy Match will try to match as few \n",
    "repetitions of the quantified pattern as possible\"\"\"\n",
    "\n",
    "import re\n",
    "print(re.findall(\"v*\", \"vvvvvv\")) # Greedy Match Synatx\n",
    "print(re.findall(\"v*?\", \"vvvvvv\")) # Non Greddy Syntax\n"
   ]
  },
  {
   "cell_type": "code",
   "execution_count": null,
   "id": "993fd20d",
   "metadata": {},
   "outputs": [],
   "source": [
    "#Q2. When exactly does greedy versus non-greedy make a difference? What if you're looking for a non-greedy match \n",
    "#but the only one available is greedy?\n",
    "Ans: The Greedy Match will try to match as many repetitions of the quantified pattern as possible. The Non Greedy\n",
    "Match will try to match as few repetitions of the quantified pattern as possible. If only Non Greedy Match is \n",
    "available, we can use other filtering or pattern matching methods of regex and further identify the required \n",
    "pattern."
   ]
  },
  {
   "cell_type": "code",
   "execution_count": 3,
   "id": "278b27b7",
   "metadata": {},
   "outputs": [
    {
     "name": "stdout",
     "output_type": "stream",
     "text": [
      "Phone number found -> 024\n",
      "Phone number found -> 024\n"
     ]
    }
   ],
   "source": [
    "#Q3. In a simple match of a string, which looks only for one match and does not do any replacement, is the use of a nontagged group likely to make any practical difference?\n",
    "\"\"\"Ans-\n",
    "In this Case The Non Tagged Group will not make any diffrence in this case.\"\"\"\n",
    "import re\n",
    "phoneNumRegex = re.compile(r'\\d\\d\\d')\n",
    "num = phoneNumRegex.search('My number is 02452-228525.')\n",
    "print(f'Phone number found -> {num.group()}') # Non Tagged group\n",
    "print(f'Phone number found -> {num.group(0)}') # Tagged Group"
   ]
  },
  {
   "cell_type": "code",
   "execution_count": null,
   "id": "d3204a1e",
   "metadata": {},
   "outputs": [],
   "source": [
    "#Q4. Describe a scenario in which using a nontagged category would have a significant impact on the program's outcomes ?\n",
    "Ans-\n",
    "Here in the below Code Snippet . decimal is not tagged or captured. It will useful in scenarios where the separator \n",
    "of value in a string is of no use and we need to capture only the values.\n",
    "\n",
    "import re\n",
    "text='135.456'\n",
    "pattern=r'(\\d+)(?:.)(\\d+)'\n",
    "regobj=re.compile(pattern)\n",
    "matobj=regobj.search(text)\n",
    "matobj.groups()\n",
    "('135', '456')\n"
   ]
  },
  {
   "cell_type": "code",
   "execution_count": null,
   "id": "11637155",
   "metadata": {},
   "outputs": [],
   "source": [
    "#Q5. Unlike a normal regex pattern, a look-ahead condition does not consume the characters it examines. Describe \n",
    "#a situation in which this could make a difference in the results of your programme ?\n",
    "Ans-\n",
    "While counting the number of multiple lines or mutiple sentence in a string the positive look ahead makes a\n",
    "difference, without which we wont get the correct count of lines or sentences in a string.\n"
   ]
  },
  {
   "cell_type": "code",
   "execution_count": null,
   "id": "2c51bb60",
   "metadata": {},
   "outputs": [],
   "source": [
    "#Q6. In standard expressions, what is the difference between positive look-ahead and negative look-ahead ?\n",
    "Ans-\n",
    "Positive Lookahead allows to add a condition for what follows. Negative Lookahead is similar, but it looks behind. That is, it allows to match a pattern only if there’s something before it."
   ]
  },
  {
   "cell_type": "code",
   "execution_count": null,
   "id": "3bb0a07d",
   "metadata": {},
   "outputs": [],
   "source": [
    "#Q7. What is the benefit of referring to groups by name rather than by number in a standard expression?\n",
    "Ans-\n",
    "Referring to groups by name rather than by number in a standard expression helps to keep the code clear and \n",
    "easy to understand."
   ]
  },
  {
   "cell_type": "code",
   "execution_count": null,
   "id": "a3a1d27a",
   "metadata": {},
   "outputs": [],
   "source": [
    "#Q8. Can you identify repeated items within a target string using named groups, as in \"The cow jumped over the moon\"?\n",
    "import re\n",
    "text = \"The cow jumped over the moon\"\n",
    "regobj=re.compile(r'(?P<w1>The)',re.I)\n",
    "regobj.findall(text)\n",
    "['The', 'the']\n"
   ]
  },
  {
   "cell_type": "code",
   "execution_count": null,
   "id": "cb42036e",
   "metadata": {},
   "outputs": [],
   "source": [
    "#Q9. When parsing a string, what is at least one thing that the Scanner interface does for you that the re.findall feature does not ?\n",
    "Ans-\n",
    "re.findall() module is used to search for all occurrences that match a given pattern. In contrast, re.search() \n",
    "will only return the first occurrence that matches the specified pattern. re.findall() will iterate over all the \n",
    "lines of the file and will return all non-overlapping matches of pattern in a single step.\n",
    "\n"
   ]
  },
  {
   "cell_type": "code",
   "execution_count": null,
   "id": "25057e1d",
   "metadata": {},
   "outputs": [],
   "source": [
    "#Q10. Does a scanner object have to be named scanner?\n",
    "Ans-\n",
    "Yes, It may have any name."
   ]
  }
 ],
 "metadata": {
  "kernelspec": {
   "display_name": "Python 3 (ipykernel)",
   "language": "python",
   "name": "python3"
  },
  "language_info": {
   "codemirror_mode": {
    "name": "ipython",
    "version": 3
   },
   "file_extension": ".py",
   "mimetype": "text/x-python",
   "name": "python",
   "nbconvert_exporter": "python",
   "pygments_lexer": "ipython3",
   "version": "3.9.7"
  }
 },
 "nbformat": 4,
 "nbformat_minor": 5
}

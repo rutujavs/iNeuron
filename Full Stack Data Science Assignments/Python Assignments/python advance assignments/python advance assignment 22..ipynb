{
 "cells": [
  {
   "cell_type": "code",
   "execution_count": null,
   "id": "81bc86f5",
   "metadata": {},
   "outputs": [],
   "source": [
    "#Q1. What are the benefits of the built-in array package, if any?\n",
    "Ans-\n",
    "Arrays represent multiple data items of the same type using a single name. In arrays, the elements can be accessed\n",
    "randomly by using the index number. Arrays allocate memory in contiguous memory locations for all its elements. \n",
    "Hence there is no chance of extra memory being allocated in case of arrays. This avoids memory overflow or \n",
    "shortage of memory in arrays.\n",
    "\n",
    "#Q2. What are some of the array package's limitations ?\n",
    "Ans-\n",
    "The number of elements to be stored in an array should be known in advance. An array is a static structure \n",
    "(which means the array is of fixed size). Once declared the size of the array cannot be modified. The memory which\n",
    "is allocated to it cannot be increased or decreased.\n",
    "Insertion and deletion are quite difficult in an array as the elements are stored in consecutive memory locations \n",
    "and the shifting operation is costly.\n",
    "Allocating more memory than the requirement leads to wastage of memory space and less allocation of memory also \n",
    "leads to a problem\n",
    "\n"
   ]
  },
  {
   "cell_type": "code",
   "execution_count": null,
   "id": "63d5bfd3",
   "metadata": {},
   "outputs": [],
   "source": []
  },
  {
   "cell_type": "code",
   "execution_count": null,
   "id": "b03429ef",
   "metadata": {},
   "outputs": [],
   "source": []
  },
  {
   "cell_type": "code",
   "execution_count": null,
   "id": "9e6ce42d",
   "metadata": {},
   "outputs": [],
   "source": [
    "#Q4. Explain the distinctions between the empty, ones, and zeros functions ?\n",
    "Ans-\n",
    "The distinctions between the empty, ones, and zero functions are as follows :\n",
    "Empty function: An empty function is a function that does not contain any statement within its body. If you try to write a function definition without any statement in python ,it will return an error. To avoid this, we use pass statement. pass is a special statement in Python that does nothing. It only works as a dummy statement.\n",
    "Ones: This function returns a new array of given shape and data type, where the element’s value is 1.\n",
    "Zeros: This function returns a new array of given shape and data type, where the element’s value is 0."
   ]
  },
  {
   "cell_type": "code",
   "execution_count": null,
   "id": "07cf16a1",
   "metadata": {},
   "outputs": [],
   "source": [
    "#Q5. In the fromfunction function, which is used to construct new arrays, what is the role of the callable \n",
    "#argument ?\n",
    "Ans-\n",
    "Its function is to execute the function over each coordinate and the resulting array. The function is called with \n",
    "N parameters, where N is the rank of shape. Each parameter represents the coordinates of the array varying along \n",
    "a specific axis."
   ]
  },
  {
   "cell_type": "code",
   "execution_count": null,
   "id": "c3fef767",
   "metadata": {},
   "outputs": [],
   "source": [
    "#Q6. What happens when a numpy array is combined with a single-value operand (a scalar, such as an int or a \n",
    "#floating-point value) through addition, as in the expression A + n ?\n",
    "Ans-\n",
    "If any scaler value such as integer is added to the numpy array then all the elements inside the array will add \n",
    "that value in it."
   ]
  },
  {
   "cell_type": "code",
   "execution_count": null,
   "id": "6c0b7ba0",
   "metadata": {},
   "outputs": [],
   "source": [
    "#Q7. Can array-to-scalar operations use combined operation-assign operators (such as += or *=)? What is the \n",
    "#outcome ?\n",
    "Ans-\n",
    "It will carry out provided operation on all elements of array."
   ]
  },
  {
   "cell_type": "code",
   "execution_count": null,
   "id": "2020e890",
   "metadata": {},
   "outputs": [],
   "source": [
    "#Q8. Does a numpy array contain fixed-length strings? What happens if you allocate a longer string to one of these\n",
    "#arrays ?\n",
    "Ans-\n",
    "Yes, it is possible that we can include a string of fixed length in numpy array. The dtype of any numpy array \n",
    "containing string values is the maximum length of any string present in the array.Once set, it will only be able \n",
    "to store new string having length not more than the maximum length at the time of the creation. If we try to \n",
    "reassign some another string value having length greater than the maximum length of the existing elements, it \n",
    "simply discards all the values beyond the maximum length accept upto those values which are under the limit."
   ]
  },
  {
   "cell_type": "code",
   "execution_count": null,
   "id": "179d489a",
   "metadata": {},
   "outputs": [],
   "source": [
    "#Q9. What happens when you combine two numpy arrays using an operation like addition (+) or multiplication (*)? \n",
    "#What are the conditions for combining two numpy arrays ?\n",
    "Ans-\n",
    "It will simply add or multiply element to element at same position."
   ]
  },
  {
   "cell_type": "code",
   "execution_count": null,
   "id": "e29c4b5a",
   "metadata": {},
   "outputs": [],
   "source": [
    "#Q10. What is the best way to use a Boolean array to mask another array ?\n",
    "Ans-\n",
    "The best way to use a Boolean array to mask another array is by Using masked_where of numpy package"
   ]
  },
  {
   "cell_type": "code",
   "execution_count": null,
   "id": "1b808abd",
   "metadata": {},
   "outputs": [],
   "source": [
    "#Q11. What are three different ways to get the standard deviation of a wide collection of data using both standard\n",
    "#Python and its packages? Sort the three of them by how quickly they execute ?\n",
    "Ans-\n",
    "np.std and math package can be used individually."
   ]
  },
  {
   "cell_type": "code",
   "execution_count": null,
   "id": "6102c84c",
   "metadata": {},
   "outputs": [],
   "source": [
    "#12. What is the dimensionality of a Boolean mask-generated array ?\n",
    "Ans-\n",
    "It will have same dimensionality as input array."
   ]
  }
 ],
 "metadata": {
  "kernelspec": {
   "display_name": "Python 3 (ipykernel)",
   "language": "python",
   "name": "python3"
  },
  "language_info": {
   "codemirror_mode": {
    "name": "ipython",
    "version": 3
   },
   "file_extension": ".py",
   "mimetype": "text/x-python",
   "name": "python",
   "nbconvert_exporter": "python",
   "pygments_lexer": "ipython3",
   "version": "3.9.7"
  }
 },
 "nbformat": 4,
 "nbformat_minor": 5
}

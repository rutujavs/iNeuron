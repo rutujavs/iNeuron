{
 "cells": [
  {
   "cell_type": "code",
   "execution_count": null,
   "id": "1f4ad6c2",
   "metadata": {},
   "outputs": [],
   "source": [
    "#1. What is the purpose of Python's OOP?\n",
    "\n",
    "Ans - \n",
    "oop means object oriented programming . it is the way of computer programming \n",
    "using idea of object to represent \n",
    "data and methods.The general purpose of oop is writing reusable code.\n",
    "it is technique to solve the object related problem"
   ]
  },
  {
   "cell_type": "code",
   "execution_count": null,
   "id": "63f8d219",
   "metadata": {},
   "outputs": [],
   "source": [
    "#2.Where does an inheritance search look for an attribute?"
   ]
  },
  {
   "cell_type": "code",
   "execution_count": null,
   "id": "ea53e179",
   "metadata": {},
   "outputs": [],
   "source": [
    "#3.How do you distinguish between a class object and an instance object?\n",
    "Ans- \n",
    "The diffrence between class object and instance object is \n",
    "the class object represent the collection of instance.\n",
    "Instance object is certain or specific object representation."
   ]
  },
  {
   "cell_type": "code",
   "execution_count": null,
   "id": "93498898",
   "metadata": {},
   "outputs": [],
   "source": [
    "#4.What makes the first argument in a class’s method function special?\n",
    "Ans - \n",
    "The first argument in class method is use instance class \n",
    " then self use to pass the data to instance, self is the first argument in a class's method function special."
   ]
  },
  {
   "cell_type": "code",
   "execution_count": null,
   "id": "989d6a62",
   "metadata": {},
   "outputs": [],
   "source": [
    "#5.What is the purpose of the __init__ method?\n",
    "Ans - \n",
    "The __init__ method is run object of class\n",
    " this method useful to passing initial value of object\n"
   ]
  },
  {
   "cell_type": "code",
   "execution_count": 10,
   "id": "b7bb6cbb",
   "metadata": {},
   "outputs": [
    {
     "name": "stdout",
     "output_type": "stream",
     "text": [
      "Data science\n"
     ]
    },
    {
     "data": {
      "text/plain": [
       "' the process for creating a class instance :-\\n 1 .first create the class instance\\n 2 . it has  an __init__ method\\n 3 . then self is use to pass data instance\\n'"
      ]
     },
     "execution_count": 10,
     "metadata": {},
     "output_type": "execute_result"
    }
   ],
   "source": [
    "#6.What is the process for creating a class instance?\n",
    "class test1:\n",
    "    def __init__(self , ineuron):\n",
    "        self.ineuron = ineuron\n",
    "\n",
    "course = test1(\"Data science\")\n",
    "print(course.ineuron)\n",
    "\n",
    "\"\"\" the process for creating a class instance :-\n",
    " 1 .first create the class instance\n",
    " 2 . it has  an __init__ method\n",
    " 3 . then self is use to pass data instance\n",
    "\"\"\"\n",
    "\n"
   ]
  },
  {
   "cell_type": "code",
   "execution_count": 17,
   "id": "3f0385bc",
   "metadata": {},
   "outputs": [],
   "source": [
    "#7. What is the process for creating a class?\n",
    "\"\"\" the process for creating a class:-\n",
    "use keyword class: example -\"\"\"\n",
    "class car :\n",
    "    pass"
   ]
  },
  {
   "cell_type": "code",
   "execution_count": null,
   "id": "7a203e05",
   "metadata": {},
   "outputs": [],
   "source": [
    "#8.How would you define the superclasses of a class?\n",
    "Ans -\n",
    "A superclass is the class from which many subclasses can be created. \n",
    " The superclass is also known as the parent class or base class."
   ]
  },
  {
   "cell_type": "code",
   "execution_count": null,
   "id": "f71a303d",
   "metadata": {},
   "outputs": [],
   "source": []
  }
 ],
 "metadata": {
  "kernelspec": {
   "display_name": "Python 3 (ipykernel)",
   "language": "python",
   "name": "python3"
  },
  "language_info": {
   "codemirror_mode": {
    "name": "ipython",
    "version": 3
   },
   "file_extension": ".py",
   "mimetype": "text/x-python",
   "name": "python",
   "nbconvert_exporter": "python",
   "pygments_lexer": "ipython3",
   "version": "3.9.7"
  }
 },
 "nbformat": 4,
 "nbformat_minor": 5
}

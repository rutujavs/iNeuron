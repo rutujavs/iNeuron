{
 "cells": [
  {
   "cell_type": "code",
   "execution_count": null,
   "id": "0f94f1e5",
   "metadata": {},
   "outputs": [],
   "source": [
    "#1. Why are functions advantageous to have in your programs?\n",
    "Ans - \n",
    "Functions reduce the need for duplicate code.  \n",
    "This makes programs shorter, easier to read, and easier to update.\n",
    "The main advantage of functions is code Reusability."
   ]
  },
  {
   "cell_type": "code",
   "execution_count": null,
   "id": "a55702a1",
   "metadata": {},
   "outputs": [],
   "source": [
    "#2. When does the code in a function run: when it's specified or when it's called?\n",
    "Ans -\n",
    "The code in a function executes when the function is called, \n",
    "not when the function is specified."
   ]
  },
  {
   "cell_type": "code",
   "execution_count": 8,
   "id": "e58c8bd3",
   "metadata": {},
   "outputs": [],
   "source": [
    "#3. What statement creates a function?\n",
    "\"\"\" the def function defines a function\"\"\"\n",
    "\"\"\"syntax of function\"\"\"\n",
    "def test1():\n",
    "    return test1"
   ]
  },
  {
   "cell_type": "code",
   "execution_count": null,
   "id": "fc00f4d6",
   "metadata": {},
   "outputs": [],
   "source": [
    "#4.What is the difference between a function and a function call?\n",
    "Ans - \n",
    "A function is procedure to achieve a particular result.\n",
    "while function call is using this function to achive that task.\n",
    "Using a function to do a particular task any point in program is called as function call."
   ]
  },
  {
   "cell_type": "code",
   "execution_count": null,
   "id": "8b3a8225",
   "metadata": {},
   "outputs": [],
   "source": [
    "#5.How many global scopes are there in a Python program? \n",
    "#How many local scopes?\n",
    "Ans - \n",
    "here is one global scope,\n",
    "and a local scope is created whenever a function is called."
   ]
  },
  {
   "cell_type": "code",
   "execution_count": null,
   "id": "f99dafa7",
   "metadata": {},
   "outputs": [],
   "source": [
    "#6. What happens to variables in a local scope\n",
    "#when the function call returns?\n",
    "Ans - \n",
    "When a function returns, the local scope is destroyed,\n",
    "and all the variables in it are forgotten."
   ]
  },
  {
   "cell_type": "code",
   "execution_count": null,
   "id": "9bf03b75",
   "metadata": {},
   "outputs": [],
   "source": [
    "#7.What is the concept of a return value?\n",
    "#Is it possible to have a return value in an expression?\n",
    "Ans- \n",
    "A return value is the value that a function call evaluates to. Like any value, \n",
    "a return value can be used as part of an expression."
   ]
  },
  {
   "cell_type": "code",
   "execution_count": null,
   "id": "c3ebe953",
   "metadata": {},
   "outputs": [],
   "source": [
    "#8. If a function does not have a return statement, \n",
    "#what is the return value of a call to that function?\n",
    "Ans - \n",
    "If there is no return statement for a function, its return value is None.\n"
   ]
  },
  {
   "cell_type": "code",
   "execution_count": 14,
   "id": "230bb558",
   "metadata": {},
   "outputs": [],
   "source": [
    "#9. How do you make a function variable refer to the global variable?\n"
   ]
  },
  {
   "cell_type": "code",
   "execution_count": 15,
   "id": "4d2118d6",
   "metadata": {},
   "outputs": [
    {
     "data": {
      "text/plain": [
       "' the data type of none is none type'"
      ]
     },
     "execution_count": 15,
     "metadata": {},
     "output_type": "execute_result"
    }
   ],
   "source": []
  },
  {
   "cell_type": "code",
   "execution_count": 16,
   "id": "dd7d2ce5",
   "metadata": {},
   "outputs": [
    {
     "data": {
      "text/plain": [
       "' That import statement imports a module named areallyourpetsnamederic.'"
      ]
     },
     "execution_count": 16,
     "metadata": {},
     "output_type": "execute_result"
    }
   ],
   "source": [
    "#11. What does the sentence import areallyourpetsnamederic do?\n",
    "\"\"\" That import statement imports a module named areallyourpetsnamederic.\"\"\""
   ]
  },
  {
   "cell_type": "code",
   "execution_count": 17,
   "id": "c641400f",
   "metadata": {},
   "outputs": [
    {
     "data": {
      "text/plain": [
       "' This function can be called with spam.bacon().'"
      ]
     },
     "execution_count": 17,
     "metadata": {},
     "output_type": "execute_result"
    }
   ],
   "source": [
    "#12. If you had a bacon() feature in a spam module,\n",
    "# what would you call it after importing spam?\n",
    "\"\"\" This function can be called with spam.bacon().\"\"\"\n"
   ]
  },
  {
   "cell_type": "code",
   "execution_count": 18,
   "id": "4b67d73f",
   "metadata": {},
   "outputs": [
    {
     "data": {
      "text/plain": [
       "'Place the line of code that might cause an error in a try clause and use except block to handle the error.'"
      ]
     },
     "execution_count": 18,
     "metadata": {},
     "output_type": "execute_result"
    }
   ],
   "source": [
    "#13. What can you do to save a programme from crashing \n",
    "# if it encounters an error?\n",
    "\"\"\"Place the line of code that might cause an error in a try clause and use except block to handle the error.\"\"\"\n"
   ]
  },
  {
   "cell_type": "code",
   "execution_count": null,
   "id": "d4f7ed90",
   "metadata": {},
   "outputs": [],
   "source": [
    "#14. What is the purpose of the try clause? \n",
    "# What is the purpose of the except clause?\n"
   ]
  }
 ],
 "metadata": {
  "kernelspec": {
   "display_name": "Python 3 (ipykernel)",
   "language": "python",
   "name": "python3"
  },
  "language_info": {
   "codemirror_mode": {
    "name": "ipython",
    "version": 3
   },
   "file_extension": ".py",
   "mimetype": "text/x-python",
   "name": "python",
   "nbconvert_exporter": "python",
   "pygments_lexer": "ipython3",
   "version": "3.9.7"
  }
 },
 "nbformat": 4,
 "nbformat_minor": 5
}

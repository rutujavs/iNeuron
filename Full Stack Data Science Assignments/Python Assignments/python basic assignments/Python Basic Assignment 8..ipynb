{
 "cells": [
  {
   "cell_type": "code",
   "execution_count": null,
   "id": "5477d184",
   "metadata": {},
   "outputs": [],
   "source": [
    "#1. Is the Python Standard Library included with PyInputPlus?\n",
    "Ans - \n",
    "No ,PyInputPlus is not part of the python standard library it needs to ne installed using !pip install PyInputPlus\n",
    "this command."
   ]
  },
  {
   "cell_type": "code",
   "execution_count": null,
   "id": "375265f4",
   "metadata": {},
   "outputs": [],
   "source": [
    "#2. Why is PyInputPlus commonly imported with import pyinputplus as pypi?\n",
    "Ans - \n",
    " You can import the module with import PyInputPlus as pyip so that you can enter a shorter name when calling the \n",
    "module's functions"
   ]
  },
  {
   "cell_type": "code",
   "execution_count": null,
   "id": "32c2a63a",
   "metadata": {},
   "outputs": [],
   "source": [
    "#3. How do you distinguish between inputInt() and inputFloat()?\n",
    "Ans - \n",
    "inputInt() : Accepts an integer value. This also takes additional parameters 'min', 'max', 'greaterThan' and \n",
    "    'lessThan' for bounds. Returns an int. \n",
    "inputFloat() : Accepts a floating-point numeric value"
   ]
  },
  {
   "cell_type": "code",
   "execution_count": null,
   "id": "e93cd53b",
   "metadata": {},
   "outputs": [],
   "source": [
    "#4. Using PyInputPlus, how do you ensure that the user enters a whole number between 0 and 99?\n",
    "'''Ans -'''\n",
    "import pyinputplus as pyip\n",
    "wholenumber = pyip.inputInt(prompt='Enter a number: ', min=0, max=100)\n",
    "print(wholenumber)\n"
   ]
  },
  {
   "cell_type": "code",
   "execution_count": null,
   "id": "77860c62",
   "metadata": {},
   "outputs": [],
   "source": [
    "#5. What is transferred to the keyword arguments allowRegexes and blockRegexes?\n",
    "Ans - \n",
    "we can use allowRegexes and blockRegexes keyword arguments to take list of regular expression strings to determine\n",
    "what the pyinputplus function will reject or accept valid input."
   ]
  },
  {
   "cell_type": "code",
   "execution_count": null,
   "id": "1c205291",
   "metadata": {},
   "outputs": [],
   "source": [
    "#6. If a blank input is entered three times, what does inputStr(limit=3) do?\n",
    "Ans - \n",
    "The statement inputStr(limit=3) will throw two exceptions ValidationException and RetryLimitException. The first \n",
    "exception is thrown because blank values are not allowed by inputStr() function by default. it we want to consider\n",
    "blank values as valid input, we have to set blank=True.\n",
    "\n",
    "The second exception is occured because we have reached the max limit we have specified by using limit parameter. \n",
    "inorder to avoid this exception we can use default parameter to return a default value when max limit is reached"
   ]
  },
  {
   "cell_type": "code",
   "execution_count": null,
   "id": "3ff3555e",
   "metadata": {},
   "outputs": [],
   "source": [
    "#7. If blank input is entered three times, what does inputStr(limit=3, default='hello') do?\n",
    "Ans - \n",
    "Since the default parameter is set to hello. after blank input is entered three times instead of raising \n",
    "RetryLimitException exception. the function will return hello as response to the calling function"
   ]
  }
 ],
 "metadata": {
  "kernelspec": {
   "display_name": "Python 3 (ipykernel)",
   "language": "python",
   "name": "python3"
  },
  "language_info": {
   "codemirror_mode": {
    "name": "ipython",
    "version": 3
   },
   "file_extension": ".py",
   "mimetype": "text/x-python",
   "name": "python",
   "nbconvert_exporter": "python",
   "pygments_lexer": "ipython3",
   "version": "3.9.7"
  }
 },
 "nbformat": 4,
 "nbformat_minor": 5
}

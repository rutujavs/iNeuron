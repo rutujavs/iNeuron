{
 "cells": [
  {
   "cell_type": "code",
   "execution_count": 1,
   "id": "32867fe1",
   "metadata": {},
   "outputs": [
    {
     "name": "stdout",
     "output_type": "stream",
     "text": [
      "21-03-2022\n"
     ]
    }
   ],
   "source": [
    "#1. Add the current date to the text file today.txt as a string.\n",
    "import datetime\n",
    "# Code to Add current date to the today.txt file\n",
    "file = open('today.txt','w')\n",
    "file.write(datetime.datetime.now().strftime(\"%d-%m-%Y\"))\n",
    "file.close()\n",
    "# Code to Read current date from today.txt file\n",
    "file = open('today.txt','r')\n",
    "print(file.read())\n",
    "file.close()"
   ]
  },
  {
   "cell_type": "code",
   "execution_count": 2,
   "id": "903a3bf4",
   "metadata": {},
   "outputs": [
    {
     "name": "stdout",
     "output_type": "stream",
     "text": [
      "21-03-2022\n"
     ]
    }
   ],
   "source": [
    "#2. Read the text file today.txt into the string today_string\n",
    "file = open('today.txt','r')\n",
    "today_string = file.read()\n",
    "print(today_string)"
   ]
  },
  {
   "cell_type": "code",
   "execution_count": 3,
   "id": "3ad0df52",
   "metadata": {},
   "outputs": [
    {
     "name": "stdout",
     "output_type": "stream",
     "text": [
      "2022-03-21 00:00:00\n"
     ]
    }
   ],
   "source": [
    "#3. Parse the date from today_string.\n",
    "from datetime import datetime\n",
    "parsed_data = datetime.strptime(today_string, '%d-%m-%Y')\n",
    "print(parsed_data)"
   ]
  },
  {
   "cell_type": "code",
   "execution_count": 5,
   "id": "21c00676",
   "metadata": {},
   "outputs": [
    {
     "name": "stdout",
     "output_type": "stream",
     "text": [
      "python basic assignment 3.ipynb\n",
      "book.db\n",
      "Python Basic Assignment 11..ipynb\n",
      "python basic assignment 5.ipynb\n",
      ".DS_Store\n",
      "Python Basic Assignment 13..ipynb\n",
      "python basic assignment 17..ipynb\n",
      "today.txt\n",
      "python basic assignment 21..ipynb\n",
      "python basic assignment 2.ipynb\n",
      "Python Basic Assignment 8..ipynb\n",
      "zoo.py\n",
      "python baic assignment 1.ipynb\n",
      "python basic assignment 6.ipynb\n",
      "python basic assignment 15..ipynb\n",
      "python basic assignment 4.ipynb\n",
      "python basic assignment 19..ipynb\n",
      "Python Basic Assignment 10..ipynb\n",
      "Python Basic Assignment 12..ipynb\n",
      "test.txt\n",
      "Python Basic Assignment 9..ipynb\n",
      "python basic assignment 20..ipynb\n",
      "python basic assignment 16..ipynb\n",
      "books.db\n",
      "python basic assignment 14..ipynb\n",
      "python basic assignment 18..ipynb\n",
      "python Basic Assignment 7..ipynb\n",
      ".DS_Store\n",
      "zoo.cpython-39.pyc\n",
      "python basic assignment 15.-checkpoint.ipynb\n",
      "python basic assignment 4-checkpoint.ipynb\n",
      "python basic assignment 21.-checkpoint.ipynb\n",
      "python basic assignment 14.-checkpoint.ipynb\n",
      "python basic assignment 20.-checkpoint.ipynb\n",
      "python basic assignment 17.-checkpoint.ipynb\n",
      "Python Basic Assignment 13.-checkpoint.ipynb\n",
      "python basic assignment 16.-checkpoint.ipynb\n",
      "python basic assignment 6-checkpoint.ipynb\n",
      "python basic assignment 2-checkpoint.ipynb\n",
      "python basic assignment 18.-checkpoint.ipynb\n",
      "python baic assignment 1-checkpoint.ipynb\n",
      "python basic assignment 19.-checkpoint.ipynb\n",
      "python basic assignment 3-checkpoint.ipynb\n"
     ]
    }
   ],
   "source": [
    "#4. List the files in your current directory\n",
    "import os\n",
    "for folders, subfolders, files in os.walk(os.getcwd()):\n",
    "    for file in files:\n",
    "        print(file)"
   ]
  },
  {
   "cell_type": "code",
   "execution_count": 6,
   "id": "665e9e0b",
   "metadata": {},
   "outputs": [
    {
     "data": {
      "text/plain": [
       "['python basic assignment 3.ipynb',\n",
       " 'book.db',\n",
       " 'Python Basic Assignment 11..ipynb',\n",
       " 'python basic assignment 5.ipynb',\n",
       " '.DS_Store',\n",
       " 'Python Basic Assignment 13..ipynb',\n",
       " 'python basic assignment 17..ipynb',\n",
       " 'today.txt',\n",
       " 'python basic assignment 21..ipynb',\n",
       " 'python basic assignment 2.ipynb',\n",
       " 'Python Basic Assignment 8..ipynb',\n",
       " 'zoo.py',\n",
       " 'python baic assignment 1.ipynb',\n",
       " 'python basic assignment 6.ipynb',\n",
       " 'python basic assignment 15..ipynb',\n",
       " 'python basic assignment 4.ipynb',\n",
       " '__pycache__',\n",
       " 'python basic assignment 19..ipynb',\n",
       " 'Python Basic Assignment 10..ipynb',\n",
       " 'Python Basic Assignment 12..ipynb',\n",
       " 'test.txt',\n",
       " '.ipynb_checkpoints',\n",
       " 'Python Basic Assignment 9..ipynb',\n",
       " 'python basic assignment 20..ipynb',\n",
       " 'python basic assignment 16..ipynb',\n",
       " 'books.db',\n",
       " 'python basic assignment 14..ipynb',\n",
       " 'python basic assignment 18..ipynb',\n",
       " 'python Basic Assignment 7..ipynb']"
      ]
     },
     "execution_count": 6,
     "metadata": {},
     "output_type": "execute_result"
    }
   ],
   "source": [
    "#5. Create a list of all of the files in your parent directory (minimum five files should be available).\n",
    "import os \n",
    "os.listdir()"
   ]
  },
  {
   "cell_type": "code",
   "execution_count": 7,
   "id": "c93fc51e",
   "metadata": {},
   "outputs": [
    {
     "name": "stderr",
     "output_type": "stream",
     "text": [
      "Traceback (most recent call last):\n",
      "  File \"<string>\", line 1, in <module>\n",
      "  File \"/opt/anaconda3/lib/python3.9/multiprocessing/spawn.py\", line 116, in spawn_main\n",
      "    exitcode = _main(fd, parent_sentinel)\n",
      "  File \"/opt/anaconda3/lib/python3.9/multiprocessing/spawn.py\", line 126, in _main\n",
      "    self = reduction.pickle.load(from_parent)\n",
      "AttributeError: Can't get attribute 'procOne' on <module '__main__' (built-in)>\n",
      "Traceback (most recent call last):\n",
      "  File \"<string>\", line 1, in <module>\n",
      "  File \"/opt/anaconda3/lib/python3.9/multiprocessing/spawn.py\", line 116, in spawn_main\n",
      "    exitcode = _main(fd, parent_sentinel)\n",
      "  File \"/opt/anaconda3/lib/python3.9/multiprocessing/spawn.py\", line 126, in _main\n",
      "    self = reduction.pickle.load(from_parent)\n",
      "AttributeError: Can't get attribute 'procTwo' on <module '__main__' (built-in)>\n",
      "Traceback (most recent call last):\n",
      "  File \"<string>\", line 1, in <module>\n",
      "  File \"/opt/anaconda3/lib/python3.9/multiprocessing/spawn.py\", line 116, in spawn_main\n",
      "    exitcode = _main(fd, parent_sentinel)\n",
      "  File \"/opt/anaconda3/lib/python3.9/multiprocessing/spawn.py\", line 126, in _main\n",
      "    self = reduction.pickle.load(from_parent)\n",
      "AttributeError: Can't get attribute 'procThree' on <module '__main__' (built-in)>\n"
     ]
    }
   ],
   "source": [
    "#6. Use multiprocessing to create three separate processes. Make each one wait a random number of seconds between one and five, print the current time, and then exit.\n",
    "import multiprocessing\n",
    "import time \n",
    "import random\n",
    "import datetime\n",
    "\n",
    "def procOne():\n",
    "    print(f'Proc_one_Starttime -> {datetime.datetime.now()}')\n",
    "    time.sleep(random.randint(1,5))\n",
    "    print(f'Proc_one_Endtime -> {datetime.datetime.now()}')\n",
    "    \n",
    "def procTwo():\n",
    "    print(f'Proc_two_Starttime -> {datetime.datetime.now()}')\n",
    "    time.sleep(random.randint(1,5))\n",
    "    print(f'Proc_two_Endtime -> {datetime.datetime.now()}')\n",
    "\n",
    "def procThree():\n",
    "    print(f'Proc_two_Starttime -> {datetime.datetime.now()}')\n",
    "    time.sleep(random.randint(1,5))\n",
    "    print(f'Proc_two_Endtime -> {datetime.datetime.now()}')\n",
    "    \n",
    "if __name__ == \"__main__\":    \n",
    "    p1 = multiprocessing.Process(target=procOne)\n",
    "    p2 = multiprocessing.Process(target=procTwo)\n",
    "    p3 = multiprocessing.Process(target=procThree)\n",
    "\n",
    "    p1.start()\n",
    "    p2.start()\n",
    "    p3.start()\n",
    "\n",
    "    p1.join()\n",
    "    p2.join()\n",
    "    p3.join()"
   ]
  },
  {
   "cell_type": "code",
   "execution_count": 9,
   "id": "2f9cd182",
   "metadata": {},
   "outputs": [
    {
     "name": "stdout",
     "output_type": "stream",
     "text": [
      "1999-08-09 00:00:00 <class 'datetime.datetime'>\n"
     ]
    }
   ],
   "source": [
    "#7. Create a date object of your day of birth.\n",
    "from datetime import datetime\n",
    "my_dob = datetime.strptime('09/08/1999','%d/%m/%Y')\n",
    "print(my_dob, type(my_dob))"
   ]
  },
  {
   "cell_type": "code",
   "execution_count": 11,
   "id": "2d83c70e",
   "metadata": {},
   "outputs": [
    {
     "data": {
      "text/plain": [
       "'Monday'"
      ]
     },
     "execution_count": 11,
     "metadata": {},
     "output_type": "execute_result"
    }
   ],
   "source": [
    "#8. What day of the week was your day of birth?\n",
    "from datetime import datetime\n",
    "my_dob = datetime(1999,8,9)\n",
    "my_dob.strftime(\"%A\")"
   ]
  },
  {
   "cell_type": "code",
   "execution_count": 13,
   "id": "95927a94",
   "metadata": {},
   "outputs": [
    {
     "data": {
      "text/plain": [
       "datetime.datetime(1972, 3, 23, 0, 0)"
      ]
     },
     "execution_count": 13,
     "metadata": {},
     "output_type": "execute_result"
    }
   ],
   "source": [
    "#9. When will you be (or when were you) 10,000 days old?\n",
    "from datetime import datetime, timedelta\n",
    "my_dob = datetime.strptime(\"09/08/1999\",'%d/%m/%Y')\n",
    "future_date = my_dob-timedelta(10000)\n",
    "future_date"
   ]
  },
  {
   "cell_type": "code",
   "execution_count": null,
   "id": "1b7a5d83",
   "metadata": {},
   "outputs": [],
   "source": []
  }
 ],
 "metadata": {
  "kernelspec": {
   "display_name": "Python 3 (ipykernel)",
   "language": "python",
   "name": "python3"
  },
  "language_info": {
   "codemirror_mode": {
    "name": "ipython",
    "version": 3
   },
   "file_extension": ".py",
   "mimetype": "text/x-python",
   "name": "python",
   "nbconvert_exporter": "python",
   "pygments_lexer": "ipython3",
   "version": "3.9.7"
  }
 },
 "nbformat": 4,
 "nbformat_minor": 5
}

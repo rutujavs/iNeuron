{
 "cells": [
  {
   "cell_type": "code",
   "execution_count": 1,
   "id": "c04312bd",
   "metadata": {},
   "outputs": [],
   "source": [
    "#1. What does an empty dictionary's code look like?\n",
    "\"\"\" Ans - \n",
    "   An empty dictionary's code look like two emplty curly bracket.\"\"\"\n",
    "d = {}"
   ]
  },
  {
   "cell_type": "code",
   "execution_count": 3,
   "id": "e2c9e2f3",
   "metadata": {},
   "outputs": [
    {
     "data": {
      "text/plain": [
       "{'foo': 42}"
      ]
     },
     "execution_count": 3,
     "metadata": {},
     "output_type": "execute_result"
    }
   ],
   "source": [
    "#2. What is the value of a dictionary value with the key 'foo' and the value 42?\n",
    "{'foo' : 42}\n"
   ]
  },
  {
   "cell_type": "code",
   "execution_count": 6,
   "id": "837a9ad5",
   "metadata": {},
   "outputs": [
    {
     "data": {
      "text/plain": [
       "'Ans - \\n   \\n   dictionary represented by {} bracket & unordered form.\\nwhereas list represented [] bracket & ordered form'"
      ]
     },
     "execution_count": 6,
     "metadata": {},
     "output_type": "execute_result"
    }
   ],
   "source": [
    "#3. What is the most significant distinction between a dictionary and a list?\n",
    "\"\"\"Ans - \n",
    "   \n",
    "   dictionary represented by {} bracket & unordered form.\n",
    "whereas list represented [] bracket & ordered form\"\"\""
   ]
  },
  {
   "cell_type": "code",
   "execution_count": 9,
   "id": "0d650d63",
   "metadata": {},
   "outputs": [
    {
     "data": {
      "text/plain": [
       "\"Ans - \\n   if access spam['foo'] we will get key error\""
      ]
     },
     "execution_count": 9,
     "metadata": {},
     "output_type": "execute_result"
    }
   ],
   "source": [
    "#4. What happens if you try to access spam['foo'] if spam is {'bar': 100}?\n",
    "\"\"\"Ans - \n",
    "   if access spam['foo'] we will get key error\"\"\""
   ]
  },
  {
   "cell_type": "code",
   "execution_count": 13,
   "id": "1819dc16",
   "metadata": {},
   "outputs": [
    {
     "data": {
      "text/plain": [
       "dict_keys(['cat'])"
      ]
     },
     "execution_count": 13,
     "metadata": {},
     "output_type": "execute_result"
    }
   ],
   "source": [
    "#5. If a dictionary is stored in spam, what is the difference between the expressions 'cat' in spam and\n",
    "#'cat' in spam.keys()?\n",
    "\"\"\"Ans -\n",
    "    there is no differnce\"\"\"\n",
    "spam = {\"cat\": 1 }\n",
    "spam.keys()\n"
   ]
  },
  {
   "cell_type": "code",
   "execution_count": 17,
   "id": "638252c5",
   "metadata": {},
   "outputs": [
    {
     "data": {
      "text/plain": [
       "dict_values([1])"
      ]
     },
     "execution_count": 17,
     "metadata": {},
     "output_type": "execute_result"
    }
   ],
   "source": [
    "#6. If a dictionary is stored in spam, what is the difference between the expressions 'cat' in spam and\n",
    "#'cat' in spam.values()?\n",
    "\"\"\"Ans - \n",
    "    cat' in spam checks whether there is a 'cat' key in the dictionary,  \n",
    "    while 'cat' in spam.values() checks whether there is a value 'cat' for one of the keys in spam.\n",
    "\n",
    "\"\"\"\n",
    "spam = {\"cat\" :1}\n",
    "spam.values()"
   ]
  },
  {
   "cell_type": "code",
   "execution_count": 20,
   "id": "80bef6f5",
   "metadata": {},
   "outputs": [
    {
     "data": {
      "text/plain": [
       "'black'"
      ]
     },
     "execution_count": 20,
     "metadata": {},
     "output_type": "execute_result"
    }
   ],
   "source": [
    "#7. What is a shortcut for the following code?\n",
    "#if 'color' not in spam:\n",
    "#spam['color'] = 'black'\n",
    "\"\"\"Ans -\"\"\"  \n",
    "spam.setdefault('color','black')"
   ]
  },
  {
   "cell_type": "code",
   "execution_count": null,
   "id": "261bd1b4",
   "metadata": {},
   "outputs": [],
   "source": [
    "#8. How do you 'pretty print' dictionary values using which module and function?\n"
   ]
  }
 ],
 "metadata": {
  "kernelspec": {
   "display_name": "Python 3 (ipykernel)",
   "language": "python",
   "name": "python3"
  },
  "language_info": {
   "codemirror_mode": {
    "name": "ipython",
    "version": 3
   },
   "file_extension": ".py",
   "mimetype": "text/x-python",
   "name": "python",
   "nbconvert_exporter": "python",
   "pygments_lexer": "ipython3",
   "version": "3.9.7"
  }
 },
 "nbformat": 4,
 "nbformat_minor": 5
}

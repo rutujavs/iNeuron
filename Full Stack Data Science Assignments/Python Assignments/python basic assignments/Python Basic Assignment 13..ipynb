{
 "cells": [
  {
   "cell_type": "code",
   "execution_count": null,
   "id": "8a7bc38b",
   "metadata": {},
   "outputs": [],
   "source": [
    "#1. What advantages do Excel spreadsheets have over CSV spreadsheets?\n",
    "Ans -  The Advantages of Excel over CSV are:\n",
    "\n",
    "1.Excel (XLS and XLSX) file formats are better for storing and analysing complex data.\n",
    "2.An Excel not only stores data but can also do operations on the data using macros, formulas etc\n",
    "3.CSV files are plain-text files, Does not contain formatting, formulas, macros, etc. It is also known as flat\n",
    "files."
   ]
  },
  {
   "cell_type": "code",
   "execution_count": 25,
   "id": "ff5c4238",
   "metadata": {},
   "outputs": [],
   "source": [
    "#2.What do you pass to csv.reader() and csv.writer() to create reader and writer objects? \n",
    "Ans - \n",
    "import csv\n",
    "with open('text.csv','r') as file:\n",
    "    csv_file = csv.reader(file,delimiter=',')\n",
    "    for i in csv_file:\n",
    "        print(i)"
   ]
  },
  {
   "cell_type": "code",
   "execution_count": null,
   "id": "a4ba33c2",
   "metadata": {},
   "outputs": [],
   "source": [
    "#3. What modes do File objects for reader and writer objects need to be opened in?\n",
    "Ans - \n",
    "For csv.reader(iterable_file_object), the file objects needed to be opened in read mode mode='r' Whereas for \n",
    "csv.writer(iterable_file_object) the file objects needed to be opened in write mode mode='w'"
   ]
  },
  {
   "cell_type": "code",
   "execution_count": 26,
   "id": "ef9819c4",
   "metadata": {},
   "outputs": [],
   "source": [
    "#4. What method takes a list argument and writes it to a CSV file?\n",
    "'''Ans - \n",
    "csv.writer class provides two methods for writing to CSV. They are writerow() and writerows(). writerow() method\n",
    "writes a single row at a time. Whereas writerows() method is used to write multiple rows at a time.'''\n",
    "\n",
    "# Example Program\n",
    "import csv      \n",
    "fields = ['Name', 'Branch', 'Year', 'CGPA'] #column names \n",
    "rows = [ \n",
    "            ['Nikhil', 'COE', '2', '9.0'],  # data rows of csv file \n",
    "            ['Sanchit', 'COE', '2', '9.1'], \n",
    "            ['Ravi', 'IT', '2', '9.3']\n",
    "       ] \n",
    "with open(\"university_records.csv\", 'w') as csvfile: \n",
    "    csvwriter = csv.writer(csvfile) # creating a csv writer object \n",
    "    csvwriter.writerow(fields) # writing the fields \n",
    "    csvwriter.writerows(rows) # writing the data rows "
   ]
  },
  {
   "cell_type": "code",
   "execution_count": null,
   "id": "d510a955",
   "metadata": {},
   "outputs": [],
   "source": [
    "#5. What do the keyword arguments delimiter and line terminator do?\n",
    "Ans - \n",
    "Lets take the example of a csv file:\n",
    "First Name, Last Name, Age\n",
    "Rutuja, Sonawane, 23\n",
    "Vinayak, Sonawane, 29\n",
    "Here ',' is Delimiter. We can use any Character as per our needs if required. Similarly Line Terminator comes at\n",
    "end of line by default it is newline and can be changed accourding to Requirement."
   ]
  },
  {
   "cell_type": "code",
   "execution_count": 28,
   "id": "b68be920",
   "metadata": {},
   "outputs": [
    {
     "name": "stdout",
     "output_type": "stream",
     "text": [
      "{\n",
      "    \"Name\": \"Rutuja Sonawane\",\n",
      "    \"Qualification\": \"Bachelor of Technology\",\n",
      "    \"Stream\": \"Mechanical Engineering\"\n",
      "}\n",
      "Type of my_details_json is <class 'str'>\n",
      "{'Name': 'Rutuja Sonawane', 'Qualification': 'Bachelor of Technology', 'Stream': 'Mechanical Engineering'}\n",
      "Type of my_details is <class 'dict'>\n"
     ]
    }
   ],
   "source": [
    "#6. What function takes a string of JSON data and returns a Python data structure?\n",
    "'''Ans:-\n",
    "    loads() method takes a string of JSON data and returns a Python data structure'''\n",
    "\n",
    "# Example of json.loads() method\n",
    "import json\n",
    "my_details_json ='''{\n",
    "    \"Name\": \"Rutuja Sonawane\",\n",
    "    \"Qualification\": \"Bachelor of Technology\",\n",
    "    \"Stream\": \"Mechanical Engineering\"\n",
    "}'''\n",
    "print(my_details_json)\n",
    "print(f'Type of my_details_json is {type(my_details_json)}')\n",
    "my_details = json.loads(my_details_json)\n",
    "print(my_details)\n",
    "print(f'Type of my_details is {type(my_details)}')"
   ]
  },
  {
   "cell_type": "code",
   "execution_count": 30,
   "id": "ca4d5329",
   "metadata": {},
   "outputs": [
    {
     "name": "stdout",
     "output_type": "stream",
     "text": [
      "{'Name': 'Rutuja Sonawane', 'Stream': 'Mechaqnical Engineering', 'Qualification': 'Bachelor of Technology'}\n",
      "Type of my_details is <class 'dict'>\n",
      "{\n",
      "    \"Name\": \"Rutuja Sonawane\",\n",
      "    \"Qualification\": \"Bachelor of Technology\",\n",
      "    \"Stream\": \"Mechaqnical Engineering\"\n",
      "}\n",
      "Type of my_details_json is <class 'str'>\n"
     ]
    }
   ],
   "source": [
    "#6. What function takes a string of JSON data and returns a Python data structure?\n",
    "'''Ans - \n",
    "dumps() method takes a python data structure and returns a string of JSON data'''\n",
    "\n",
    "# Example of json.dumps() method\n",
    "import json\n",
    "my_details = {\n",
    "    'Name':'Rutuja Sonawane',\n",
    "    'Stream':'Mechaqnical Engineering',\n",
    "    'Qualification':'Bachelor of Technology'\n",
    "}\n",
    "print(my_details)\n",
    "print(f'Type of my_details is {type(my_details)}')\n",
    "my_details_json = json.dumps(my_details, indent=4, sort_keys=True)\n",
    "print(my_details_json)\n",
    "print(f'Type of my_details_json is {type(my_details_json)}')\n"
   ]
  },
  {
   "cell_type": "code",
   "execution_count": null,
   "id": "3c2d8d31",
   "metadata": {},
   "outputs": [],
   "source": []
  }
 ],
 "metadata": {
  "kernelspec": {
   "display_name": "Python 3 (ipykernel)",
   "language": "python",
   "name": "python3"
  },
  "language_info": {
   "codemirror_mode": {
    "name": "ipython",
    "version": 3
   },
   "file_extension": ".py",
   "mimetype": "text/x-python",
   "name": "python",
   "nbconvert_exporter": "python",
   "pygments_lexer": "ipython3",
   "version": "3.9.7"
  }
 },
 "nbformat": 4,
 "nbformat_minor": 5
}

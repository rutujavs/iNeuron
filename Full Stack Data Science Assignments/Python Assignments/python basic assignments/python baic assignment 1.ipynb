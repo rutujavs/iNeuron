{
 "cells": [
  {
   "cell_type": "code",
   "execution_count": null,
   "id": "74d5ce25",
   "metadata": {},
   "outputs": [],
   "source": [
    "#1.In the below elements which of them are values or an expression? eg:- values can be integer or string \n",
    " #and expressions will be mathematical operators.\n",
    " *,'hello', -87.8,-,/,+,6\n",
    "\n",
    "Ans: There are a total of 4 Operators and 3 Expressions, They are:\n",
    "Operators: *,-,/,+\n",
    "Expressions: 'hello', 87.8, 6"
   ]
  },
  {
   "cell_type": "code",
   "execution_count": 1,
   "id": "6815bcbe",
   "metadata": {},
   "outputs": [],
   "source": [
    "#2. What is the difference between string and variable?\n",
    "\n",
    "variables are symbol  that can be used to store data in pc srtings are data we can use them to fill up the \n",
    "variable "
   ]
  },
  {
   "cell_type": "code",
   "execution_count": null,
   "id": "5342589a",
   "metadata": {},
   "outputs": [],
   "source": [
    "#3. Describe three different data types.\n",
    "python data types\n",
    "1. integer \n",
    "2 . dictionary \n",
    "3. string\n",
    "4 . tuple\n",
    "5 . set\n",
    "6 . list\n",
    "\n",
    "integer :- it contains positive or nrgative values eg. (1,2,3,4,-1,-2,-4)\n",
    "list :- it can be created sequence  inside the sqare bracket [1, 3.4 , True , (6+5j)]\n",
    "tuple :- tuble is collection of object inside the simpe bracket (2, 3.4 , True , (6+5j))\n",
    "the only diffrnce in list and tuples are \n",
    "list is mutable\n",
    "tuple is immutable "
   ]
  },
  {
   "cell_type": "code",
   "execution_count": null,
   "id": "e8759c8e",
   "metadata": {},
   "outputs": [],
   "source": [
    "#4.What is an expression made up of? What do all expressions do?\n",
    " ''' An expression is a combination of values, variables, operators, and calls to functions. Expressions need to be \n",
    "evaluated. If we ask Python to print an expression, the interpreter evaluates the expression and displays the \n",
    "result.'''\n",
    "4*5+20-40\n",
    "# Is an Expression, The Python Interpreter Evaluates it to 0"
   ]
  },
  {
   "cell_type": "markdown",
   "id": "0f67d363",
   "metadata": {},
   "source": [
    "\n",
    "\n"
   ]
  },
  {
   "cell_type": "code",
   "execution_count": null,
   "id": "9287c278",
   "metadata": {},
   "outputs": [],
   "source": [
    "#5.This assignment statements, like spam = 10. What is the difference between an\n",
    "#expression and a statement?\n",
    "\n"
   ]
  },
  {
   "cell_type": "code",
   "execution_count": 6,
   "id": "fa622367",
   "metadata": {},
   "outputs": [
    {
     "data": {
      "text/plain": [
       "23"
      ]
     },
     "execution_count": 6,
     "metadata": {},
     "output_type": "execute_result"
    }
   ],
   "source": [
    "#6.After running the following code, what does the variable bacon contain?\n",
    "bacon = 22\n",
    "bacon + 1\n"
   ]
  },
  {
   "cell_type": "code",
   "execution_count": 17,
   "id": "e4dfd5a5",
   "metadata": {},
   "outputs": [
    {
     "data": {
      "text/plain": [
       "'spamspamspam'"
      ]
     },
     "execution_count": 17,
     "metadata": {},
     "output_type": "execute_result"
    }
   ],
   "source": [
    "#7.What should the values of the following two terms be?\n",
    "\"spam\" + \"spamspam\"\n",
    "\"\"\"it will be same\"\"\"\n"
   ]
  },
  {
   "cell_type": "code",
   "execution_count": 16,
   "id": "e22c1ba1",
   "metadata": {},
   "outputs": [
    {
     "data": {
      "text/plain": [
       "'spamspamspam'"
      ]
     },
     "execution_count": 16,
     "metadata": {},
     "output_type": "execute_result"
    }
   ],
   "source": [
    "\"spam\" * 3"
   ]
  },
  {
   "cell_type": "code",
   "execution_count": null,
   "id": "eb6e3156",
   "metadata": {},
   "outputs": [],
   "source": [
    "#8. Why is eggs a valid variable name while 100 is invalid?\n",
    "Ans -\n",
    "eggs is a valid varible name  while 100 is invalid because variable name can not be begins with numbers"
   ]
  },
  {
   "cell_type": "code",
   "execution_count": null,
   "id": "ff33ffac",
   "metadata": {},
   "outputs": [],
   "source": [
    "#9. What three functions can be used to get the integer, floating-point number,\n",
    "#or string version of a value?\n",
    "\n",
    " integer = int()\n",
    "    floating-point number = float()\n",
    "    string = str()\n",
    "    \n"
   ]
  },
  {
   "cell_type": "code",
   "execution_count": 9,
   "id": "9791b5cc",
   "metadata": {},
   "outputs": [],
   "source": [
    "#10. Why does this expression cause an error? How can you fix it?\n",
    "\"\"\"I have eaten\"  + 99 + \"burritos\"\"\"\n",
    "\n",
    "'''Ans: This cause of error is 99.because 99 is not a string. 99 must be typecasted to a string to fix this error.\\\n",
    "the correct way is:'''\n",
    "Input: 'I have eaten ' + str(99) + 'burritos.'\n",
    "Output: 'I have eaten 99 burritos.'"
   ]
  },
  {
   "cell_type": "code",
   "execution_count": null,
   "id": "4fa01af6",
   "metadata": {},
   "outputs": [],
   "source": []
  },
  {
   "cell_type": "code",
   "execution_count": null,
   "id": "a1919f1a",
   "metadata": {},
   "outputs": [],
   "source": []
  },
  {
   "cell_type": "code",
   "execution_count": null,
   "id": "de0bd95f",
   "metadata": {},
   "outputs": [],
   "source": []
  },
  {
   "cell_type": "code",
   "execution_count": null,
   "id": "92bbaa8c",
   "metadata": {},
   "outputs": [],
   "source": [
    "\n"
   ]
  }
 ],
 "metadata": {
  "kernelspec": {
   "display_name": "Python 3 (ipykernel)",
   "language": "python",
   "name": "python3"
  },
  "language_info": {
   "codemirror_mode": {
    "name": "ipython",
    "version": 3
   },
   "file_extension": ".py",
   "mimetype": "text/x-python",
   "name": "python",
   "nbconvert_exporter": "python",
   "pygments_lexer": "ipython3",
   "version": "3.9.7"
  }
 },
 "nbformat": 4,
 "nbformat_minor": 5
}

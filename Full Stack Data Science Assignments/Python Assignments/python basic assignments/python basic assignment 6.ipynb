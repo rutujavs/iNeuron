{
 "cells": [
  {
   "cell_type": "code",
   "execution_count": null,
   "id": "b1c9134c",
   "metadata": {},
   "outputs": [],
   "source": [
    "#1. What are escape characters, and how do you use them?\n",
    "Ans - \n",
    "  Escape characters represent characters in string values that would otherwise be difficult or impossible to type \n",
    "into code. we can use the backslash character to escape a single character or symbol example: \\t, \\n"
   ]
  },
  {
   "cell_type": "code",
   "execution_count": null,
   "id": "2237b765",
   "metadata": {},
   "outputs": [],
   "source": [
    "#2. What do the escape characters n and t stand for?\n",
    "Ans - \n",
    "      (\\n is a newline, \\t is a tab)"
   ]
  },
  {
   "cell_type": "code",
   "execution_count": null,
   "id": "d28c61d0",
   "metadata": {},
   "outputs": [],
   "source": [
    "#3.What is the way to include backslash characters in a string?\n",
    "Ans - \n",
    "   (The \\\\ escape character will represent  the backslash character in a string)"
   ]
  },
  {
   "cell_type": "code",
   "execution_count": null,
   "id": "1a50530e",
   "metadata": {},
   "outputs": [],
   "source": [
    "#4. The string \"Howl's Moving Castle\" is a correct value. \n",
    "#Why isn't the single quote character in the\n",
    "#word Howl's not escaped a problem?\n",
    "\"\"\" Ans - \n",
    "  The string \"Howl's Moving Castle\" escaped the problem because \n",
    "  it is wrapped inside double quotes. \n",
    "  if its wrapped inside single quotes then we have to use escape character \\'  \n",
    "  to show single quote in the final output\n",
    "  \"\"\"\n",
    "'Howl\\'s Moving Castle' "
   ]
  },
  {
   "cell_type": "code",
   "execution_count": null,
   "id": "bca5d4c9",
   "metadata": {},
   "outputs": [],
   "source": [
    "#5. How do you write a string of newlines \n",
    "#if you don't want to use the n character?\n",
    "Ans - \n",
    "Course = ''' Full stack data science'''\n",
    "print(Course)"
   ]
  },
  {
   "cell_type": "code",
   "execution_count": null,
   "id": "7c725c2e",
   "metadata": {},
   "outputs": [],
   "source": [
    " #6. What are the values of the given expressions?\n",
    "# \"Hello, world!\"[1]\n",
    "# \"Hello, world!\"[0:5]\n",
    "# \"Hello, world!\"[:5]\n",
    "#\"Hello, world!\"[3:]\n",
    "\n",
    "\"Hello, world!\"[1]  = 'e'\n",
    "\"Hello, world!\"[0:5] = 'Hello'\n",
    "\"Hello, world!\"[:5] = 'Hello'\n",
    "\"Hello, world!\"[3:] = 'lo, world!'"
   ]
  },
  {
   "cell_type": "code",
   "execution_count": null,
   "id": "10680535",
   "metadata": {},
   "outputs": [],
   "source": [
    "#7. What are the values of the following expressions?\n",
    "#'Hello'.upper()\n",
    "#'Hello'.upper().isupper()\n",
    "#'Hello'.upper().lower()\n",
    "Ans -\n",
    "\"Hello\".upper() = \"HELLO\"\n",
    "\"HELLO\".upper().isupper() = True\n",
    "\"Hello\".upper().lower() = 'hello'"
   ]
  },
  {
   "cell_type": "code",
   "execution_count": 5,
   "id": "10cf2aec",
   "metadata": {},
   "outputs": [
    {
     "data": {
      "text/plain": [
       "'hello'"
      ]
     },
     "execution_count": 5,
     "metadata": {},
     "output_type": "execute_result"
    }
   ],
   "source": [
    "'Hello'.upper().lower()"
   ]
  },
  {
   "cell_type": "code",
   "execution_count": null,
   "id": "639d956c",
   "metadata": {},
   "outputs": [],
   "source": [
    "#8.What are the values of the following expressions ?\n",
    "#'Remember, remember, the fifith of July.'.split()\n",
    "#'-'.join('There can only one'.split())\n",
    "Ans - \n",
    " 'Remember, remember, the fifith of July.'.split() = ['Remember,', 'remember,', 'the', 'fifith', 'of', 'July.']'-'\n",
    " .join('There can only one'.split()) = 'There-can-only-one'"
   ]
  },
  {
   "cell_type": "code",
   "execution_count": null,
   "id": "734b2bb1",
   "metadata": {},
   "outputs": [],
   "source": [
    "#9. What are the methods for right-justifying, left-justifying, and centering a string?\n",
    "Ans - \n",
    "    The rjust(),ljust(),center() string methods, respectively       \n",
    "        "
   ]
  },
  {
   "cell_type": "code",
   "execution_count": null,
   "id": "a1769b42",
   "metadata": {},
   "outputs": [],
   "source": [
    "#10. What is the best way to remove whitespace characters from the start or end?\n",
    "Ans - \n",
    "    The lstrip() and rstrip() methods remove whitesapce characters from the left and right ends of a string \n",
    "respectively  "
   ]
  },
  {
   "cell_type": "code",
   "execution_count": null,
   "id": "6130ed47",
   "metadata": {},
   "outputs": [],
   "source": []
  }
 ],
 "metadata": {
  "kernelspec": {
   "display_name": "Python 3 (ipykernel)",
   "language": "python",
   "name": "python3"
  },
  "language_info": {
   "codemirror_mode": {
    "name": "ipython",
    "version": 3
   },
   "file_extension": ".py",
   "mimetype": "text/x-python",
   "name": "python",
   "nbconvert_exporter": "python",
   "pygments_lexer": "ipython3",
   "version": "3.9.7"
  }
 },
 "nbformat": 4,
 "nbformat_minor": 5
}

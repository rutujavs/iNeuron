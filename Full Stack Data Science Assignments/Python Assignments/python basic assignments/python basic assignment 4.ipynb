{
 "cells": [
  {
   "cell_type": "code",
   "execution_count": 20,
   "id": "4a47435d",
   "metadata": {},
   "outputs": [
    {
     "data": {
      "text/plain": [
       "' ## [] is a squre bracket . it is used for list values##'"
      ]
     },
     "execution_count": 20,
     "metadata": {},
     "output_type": "execute_result"
    }
   ],
   "source": [
    "#1. What exactly is []?\n",
    "  \n",
    "Ans-\n",
    "[] is a squre bracket . it is used for list values"
   ]
  },
  {
   "cell_type": "code",
   "execution_count": 4,
   "id": "c87a2d88",
   "metadata": {},
   "outputs": [
    {
     "data": {
      "text/plain": [
       "[2, 4, 'hello', 8, 10]"
      ]
     },
     "execution_count": 4,
     "metadata": {},
     "output_type": "execute_result"
    }
   ],
   "source": [
    "#2. In a list of values stored in a variable called spam, how would you assign the value 'hello' as the\n",
    "#third value? (Assume [2, 4, 6, 8, 10] are in spam.)\n",
    "#ans-\n",
    "spam= [2,4,6,8,10]\n",
    "spam[2] = 'hello'\n",
    "spam"
   ]
  },
  {
   "cell_type": "markdown",
   "id": "c98fbdec",
   "metadata": {},
   "source": []
  },
  {
   "cell_type": "code",
   "execution_count": 3,
   "id": "afcb8ccf",
   "metadata": {},
   "outputs": [],
   "source": [
    "#Let's pretend the spam includes the list\n",
    "#['a', 'b' ,'c','d'] for the next three queries."
   ]
  },
  {
   "cell_type": "code",
   "execution_count": 5,
   "id": "60a81a46",
   "metadata": {},
   "outputs": [
    {
     "data": {
      "text/plain": [
       "'d'"
      ]
     },
     "execution_count": 5,
     "metadata": {},
     "output_type": "execute_result"
    }
   ],
   "source": [
    "#3. What is the value of spam[int(int('3'* 2) / 11)]?\n",
    "spam = ['a', 'b' ,'c','d']\n",
    "spam[int(int('3'* 2) / 11)]\n"
   ]
  },
  {
   "cell_type": "code",
   "execution_count": 7,
   "id": "1d9a02b2",
   "metadata": {},
   "outputs": [
    {
     "data": {
      "text/plain": [
       "'d'"
      ]
     },
     "execution_count": 7,
     "metadata": {},
     "output_type": "execute_result"
    }
   ],
   "source": [
    "#4. What is the value of spam[-1]?\n",
    "spam = ['a', 'b' ,'c','d']\n",
    "#\"d\" is the value of spam[-1]#\n",
    "spam[-1]\n"
   ]
  },
  {
   "cell_type": "code",
   "execution_count": 21,
   "id": "f3131700",
   "metadata": {},
   "outputs": [
    {
     "data": {
      "text/plain": [
       "['a', 'b']"
      ]
     },
     "execution_count": 21,
     "metadata": {},
     "output_type": "execute_result"
    }
   ],
   "source": [
    "#5. What is the value of spam[:2]?\n",
    "spam = ['a', 'b' ,'c','d']\n",
    "# 'a','b' are the value of spam[:2]\n",
    "spam[:2]\n"
   ]
  },
  {
   "cell_type": "code",
   "execution_count": 22,
   "id": "0ca24fd7",
   "metadata": {},
   "outputs": [],
   "source": [
    "#Let's pretend bacon has the list [3.14, 'cat', 11, 'cat', True] for the next three questions."
   ]
  },
  {
   "cell_type": "code",
   "execution_count": 11,
   "id": "3d0c71e5",
   "metadata": {},
   "outputs": [],
   "source": [
    "#6. What is the value of bacon.index('cat')?\n",
    " #1 is the value of bacon.index('cat')"
   ]
  },
  {
   "cell_type": "code",
   "execution_count": 14,
   "id": "0a2321b0",
   "metadata": {},
   "outputs": [
    {
     "data": {
      "text/plain": [
       "[3.14, 'cat', 11, 'cat', True, 99]"
      ]
     },
     "execution_count": 14,
     "metadata": {},
     "output_type": "execute_result"
    }
   ],
   "source": [
    "#7. How does bacon.append(99) change the look of the list value in bacon?\n",
    "#ans-\n",
    "\n",
    "bacon = [3.14 , 'cat' , 11, 'cat' , True]\n",
    "bacon.append(99)\n",
    "bacon"
   ]
  },
  {
   "cell_type": "code",
   "execution_count": 15,
   "id": "0a3527da",
   "metadata": {},
   "outputs": [
    {
     "data": {
      "text/plain": [
       "[3.14, 11, 'cat', True]"
      ]
     },
     "execution_count": 15,
     "metadata": {},
     "output_type": "execute_result"
    }
   ],
   "source": [
    "#8. How does bacon.remove('cat') change the look of the list in bacon?\n",
    "bacon = [3.14 , 'cat' , 11, 'cat' , True]\n",
    "bacon.remove('cat')\n",
    "bacon"
   ]
  },
  {
   "cell_type": "code",
   "execution_count": 8,
   "id": "423b090c",
   "metadata": {},
   "outputs": [
    {
     "name": "stdout",
     "output_type": "stream",
     "text": [
      "['A', 'B', 'C', 'D', 'E', 'F', 'G']\n",
      "['A', 'B', 'C', 'D', 'A', 'B', 'C', 'D']\n"
     ]
    }
   ],
   "source": [
    "#9. What are the list concatenation and list replication operators?\n",
    "l1 = ['A','B','C','D']\n",
    "l2 = ['E','F','G']\n",
    "print(l1+l2)  # list concatenation\n",
    "print(l1 * 2) # list replication"
   ]
  },
  {
   "cell_type": "code",
   "execution_count": 9,
   "id": "8917fdcd",
   "metadata": {},
   "outputs": [
    {
     "name": "stdout",
     "output_type": "stream",
     "text": [
      "[1, 2, 3, 4, 5, 6]\n",
      "[1, 2, 8, 3, 4, 5, 6]\n"
     ]
    }
   ],
   "source": [
    "#10. What is difference between the list methods append() and insert()?\n",
    " #ans-\n",
    "    \n",
    "# Difference betweeen the list methods append() and insert() are\n",
    "\n",
    "#append() = Append object to the end of the list.add values end of the list\n",
    "#insert() = Insert object before index.add values anywhere of the list\n",
    "#example-\n",
    "l = [ 1,2,3,4,5]\n",
    "l.append(6)\n",
    "print(l)\n",
    "\n",
    "\n",
    "l.insert(2,8)\n",
    "print(l)"
   ]
  },
  {
   "cell_type": "code",
   "execution_count": 12,
   "id": "44c1c389",
   "metadata": {},
   "outputs": [
    {
     "name": "stdout",
     "output_type": "stream",
     "text": [
      "[1, 2, 3, 5]\n"
     ]
    },
    {
     "ename": "NameError",
     "evalue": "name 'l' is not defined",
     "output_type": "error",
     "traceback": [
      "\u001b[0;31m---------------------------------------------------------------------------\u001b[0m",
      "\u001b[0;31mNameError\u001b[0m                                 Traceback (most recent call last)",
      "\u001b[0;32m/var/folders/rf/q0z74l9x0pl5jc09_0kn0gnc0000gn/T/ipykernel_856/3788025738.py\u001b[0m in \u001b[0;36m<module>\u001b[0;34m\u001b[0m\n\u001b[1;32m     10\u001b[0m \u001b[0;34m\u001b[0m\u001b[0m\n\u001b[1;32m     11\u001b[0m \u001b[0;32mdel\u001b[0m\u001b[0;34m(\u001b[0m\u001b[0ml\u001b[0m\u001b[0;34m)\u001b[0m\u001b[0;34m\u001b[0m\u001b[0;34m\u001b[0m\u001b[0m\n\u001b[0;32m---> 12\u001b[0;31m \u001b[0mprint\u001b[0m\u001b[0;34m(\u001b[0m\u001b[0ml\u001b[0m\u001b[0;34m)\u001b[0m\u001b[0;34m\u001b[0m\u001b[0;34m\u001b[0m\u001b[0m\n\u001b[0m",
      "\u001b[0;31mNameError\u001b[0m: name 'l' is not defined"
     ]
    }
   ],
   "source": [
    "#11. What are the two methods for removing items from a list?\n",
    "#ans-\n",
    "## Two methods for removing items from a list they are\n",
    "# 1. remove() &\n",
    "# 2.del\n",
    "\n",
    "l = [ 1,2,3,4,5]\n",
    "l.remove(4)\n",
    "print(l)\n",
    "\n",
    "del(l)\n",
    "print(l)"
   ]
  },
  {
   "cell_type": "code",
   "execution_count": null,
   "id": "73a6e0c5",
   "metadata": {},
   "outputs": [],
   "source": [
    "\n",
    "#12. Describe how list values and string values are identical.\n",
    "Ans -\n",
    "Both lists and strings can be passed to len() function, \n",
    "have indexes and slices, be used in for loops, \n",
    "be concatenated or replicated, and be used with the in and not in operators.\n"
   ]
  },
  {
   "cell_type": "code",
   "execution_count": null,
   "id": "e973545a",
   "metadata": {},
   "outputs": [],
   "source": [
    "#13. What's the difference between tuples and lists?\n",
    "Ans -\n",
    "the diffrence between tuples and lists are\n",
    "tuple - Built-in immutable sequence.tuples are showing () this bracket\n",
    "list - Built-in mutable sequence. lists are showing [] this bracket\n"
   ]
  },
  {
   "cell_type": "code",
   "execution_count": 17,
   "id": "6ed3256d",
   "metadata": {},
   "outputs": [
    {
     "name": "stdout",
     "output_type": "stream",
     "text": [
      "<class 'int'>\n",
      "<class 'tuple'>\n"
     ]
    }
   ],
   "source": [
    "#14. How do you type a tuple value that only contains the integer 42?\n",
    "#ans - \n",
    "#42 comma is manditatary\n",
    "tuple1=(42)\n",
    "tuple2=(42,)\n",
    "print(type(tuple1))\n",
    "print(type(tuple2))"
   ]
  },
  {
   "cell_type": "code",
   "execution_count": null,
   "id": "18e018ef",
   "metadata": {},
   "outputs": [],
   "source": [
    "#15. How do you get a list value's tuple form? How do you get a tuple value's list form?\n",
    "Ans - \n",
    "The tuple() and list() functions, respectively are used to convert a list to tuple and vice versa."
   ]
  },
  {
   "cell_type": "code",
   "execution_count": null,
   "id": "612a83ff",
   "metadata": {},
   "outputs": [],
   "source": [
    "#16. Variables that \"contain\" list values are not necessarily lists themselves.\n",
    "#Instead, what do they contain?\n",
    "Ans - \n",
    "They contain references to list values.\n"
   ]
  },
  {
   "cell_type": "code",
   "execution_count": null,
   "id": "b912e63c",
   "metadata": {},
   "outputs": [],
   "source": []
  },
  {
   "cell_type": "code",
   "execution_count": null,
   "id": "48542f91",
   "metadata": {},
   "outputs": [],
   "source": []
  }
 ],
 "metadata": {
  "kernelspec": {
   "display_name": "Python 3 (ipykernel)",
   "language": "python",
   "name": "python3"
  },
  "language_info": {
   "codemirror_mode": {
    "name": "ipython",
    "version": 3
   },
   "file_extension": ".py",
   "mimetype": "text/x-python",
   "name": "python",
   "nbconvert_exporter": "python",
   "pygments_lexer": "ipython3",
   "version": "3.9.7"
  }
 },
 "nbformat": 4,
 "nbformat_minor": 5
}

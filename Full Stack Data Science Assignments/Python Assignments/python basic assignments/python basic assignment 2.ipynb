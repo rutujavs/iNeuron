{
 "cells": [
  {
   "cell_type": "code",
   "execution_count": 5,
   "id": "2bfc433e",
   "metadata": {},
   "outputs": [
    {
     "name": "stdout",
     "output_type": "stream",
     "text": [
      "True <class 'bool'>\n",
      "False <class 'bool'>\n"
     ]
    }
   ],
   "source": [
    "#1.What are the two values of the Boolean data type? How do you write them?\n",
    "\"\"\"There are two Boolean data type True and False\"\"\"\n",
    "a = True\n",
    "b = False\n",
    "print(a , type(a))\n",
    "print(b , type(b))"
   ]
  },
  {
   "cell_type": "code",
   "execution_count": null,
   "id": "c6e7d7f1",
   "metadata": {},
   "outputs": [],
   "source": [
    "#2. What are the three different types of Boolean operators?\n",
    "Ans - \n",
    "The three diffrent types of boolean operators are :- are , and , not"
   ]
  },
  {
   "cell_type": "code",
   "execution_count": null,
   "id": "05c723d2",
   "metadata": {},
   "outputs": [],
   "source": [
    "#3.Make a list of each Boolean operator&#39;s truth tables (i.e. every possible combination of Boolean\n",
    "#values for the operator and what it evaluate ).\n",
    " \n",
    "Ans - \n",
    "\n",
    "and operator  :-  \n",
    "\n",
    "True and True = True\n",
    "True and False = False\n",
    "False and True = False\n",
    "False and False = False\n",
    "\n",
    "\n",
    "or operator. :-\n",
    "\n",
    "True or True = True\n",
    "True or False = True\n",
    "False or False = False\n",
    "False or True = True\n",
    "\n",
    "\n",
    "not operator :-\n",
    "\n",
    "True not is False\n",
    "False not is True"
   ]
  },
  {
   "cell_type": "code",
   "execution_count": 21,
   "id": "6e91bf02",
   "metadata": {},
   "outputs": [
    {
     "name": "stdout",
     "output_type": "stream",
     "text": [
      "True\n",
      "False\n",
      "True\n",
      "False\n",
      "False\n",
      "True\n"
     ]
    }
   ],
   "source": [
    "#4. What are the values of the following expressions?\n",
    "##(5 > 4) and (3 == 5)\n",
    "#not (5 > 4)\n",
    "#(5 > 4) or (3 == 5)\n",
    "#not ((5 > 4) or (3 == 5))\n",
    "#(True and True) and (True == False)\n",
    "#(not False) or (not True)\n",
    "\n",
    "\n",
    "print(5 > 4) and (3 == 5) \n",
    "print(not (5 > 4))\n",
    "print((5 > 4) or (3 == 5))\n",
    "print(not ((5 > 4) or (3 == 5)))\n",
    "print((True and True) and (True == False))\n",
    "print((not False) or (not True))"
   ]
  },
  {
   "cell_type": "markdown",
   "id": "0d02668b",
   "metadata": {},
   "source": []
  },
  {
   "cell_type": "markdown",
   "id": "e442a55b",
   "metadata": {},
   "source": []
  },
  {
   "cell_type": "code",
   "execution_count": null,
   "id": "8ccd218b",
   "metadata": {},
   "outputs": [],
   "source": [
    "#5. What are the six comparison operators?\n",
    " == , < , > , <= , >= ,!= "
   ]
  },
  {
   "cell_type": "code",
   "execution_count": 23,
   "id": "bae357e3",
   "metadata": {},
   "outputs": [],
   "source": [
    "#6. How do you tell the difference between the equal to and assignment operators?\n",
    "#Describe a condition and when you would use one.\n"
   ]
  },
  {
   "cell_type": "code",
   "execution_count": 26,
   "id": "3669957f",
   "metadata": {},
   "outputs": [
    {
     "name": "stdout",
     "output_type": "stream",
     "text": [
      "ham\n",
      "spam\n",
      "spam\n"
     ]
    },
    {
     "data": {
      "text/plain": [
       "' class , function , loop '"
      ]
     },
     "execution_count": 26,
     "metadata": {},
     "output_type": "execute_result"
    }
   ],
   "source": [
    "#7. Identify the three blocks in this code:\n",
    "#spam = 0\n",
    "#if spam == 10:\n",
    "#print(\"eggs\")\n",
    "#if spam > 5:\n",
    "#print(\"bacon\")\n",
    "#else:\n",
    "#print(\"ham\")\n",
    "#print(\"spam\")\n",
    "#print(\"spam\")\n",
    "\n",
    "\n",
    "spam = 0\n",
    "if spam == 10:\n",
    "    print(\"eggs\")\n",
    "    if spam > 5:\n",
    "        print(\"bacon\")\n",
    "else:\n",
    "    print(\"ham\")\n",
    "    print(\"spam\")\n",
    "    print(\"spam\")\n",
    "\"\"\" class , function , loop \"\"\""
   ]
  },
  {
   "cell_type": "code",
   "execution_count": 30,
   "id": "b92cf209",
   "metadata": {},
   "outputs": [
    {
     "name": "stdout",
     "output_type": "stream",
     "text": [
      "hello\n",
      "howdy\n",
      "Greetings\n"
     ]
    }
   ],
   "source": [
    "#8.Write code that prints Hello if 1 is stored in spam, prints Howdy if 2 is stored in spam, and prints\n",
    "#Greetings! if anything else is stored in spam\n",
    "def test(spam):\n",
    "    if spam == 1:\n",
    "        print(\"hello\")\n",
    "    elif spam == 2 :\n",
    "            print(\"howdy\")\n",
    "    else :\n",
    "        print(\"Greetings\")\n",
    "\n",
    "test(1)\n",
    "test(2)\n",
    "test(3)"
   ]
  },
  {
   "cell_type": "code",
   "execution_count": null,
   "id": "646b46f7",
   "metadata": {},
   "outputs": [],
   "source": [
    "#9.If your programme is stuck in an endless loop, what keys you’ll press?\n",
    "Ans -  \n",
    "programme is stuck in infinite loop then go to kernel and click on interrupt or press ctrl-c"
   ]
  },
  {
   "cell_type": "code",
   "execution_count": null,
   "id": "bb71f821",
   "metadata": {},
   "outputs": [],
   "source": [
    "#10. How can you tell the difference between break and continue?\n",
    "Ans - \n",
    "The break statement  execute outside the loop if break condtion is satisfied. \n",
    "or the continue statement  execute to the start of the loop."
   ]
  },
  {
   "cell_type": "code",
   "execution_count": null,
   "id": "a880f902",
   "metadata": {},
   "outputs": [],
   "source": [
    "#11. In a for loop, what is the difference between range(10), range(0, 10), and range(0, 10, 1)?\n",
    "Ans - \n",
    "The Differences are as follows:\n",
    "\n",
    "The range(10) is range from 0 to 9 (but not include 10)\n",
    "The range (0,10) range is start at 0\n",
    "The range(0,10,1) tells the nmber to increase the variable by 1 on each iteration\n"
   ]
  },
  {
   "cell_type": "code",
   "execution_count": 39,
   "id": "1774e783",
   "metadata": {},
   "outputs": [
    {
     "name": "stdout",
     "output_type": "stream",
     "text": [
      "By using for loop\n",
      "1\n",
      "2\n",
      "3\n",
      "4\n",
      "5\n",
      "6\n",
      "7\n",
      "8\n",
      "9\n",
      "by using while loop\n",
      "1\n",
      "2\n",
      "3\n",
      "4\n",
      "5\n",
      "6\n",
      "7\n",
      "8\n",
      "9\n",
      "10\n"
     ]
    }
   ],
   "source": [
    "#12. Write a short program that prints the numbers 1 to 10 using a for loop. Then write an equivalent\n",
    "#program that prints the numbers 1 to 10 using a while loop.\n",
    "\n",
    "print(\"By using for loop\")\n",
    "\n",
    "for i in range(1,10):\n",
    "    print( i )\n",
    "    \n",
    "    \n",
    "print(\"by using while loop\")\n",
    "a = 1\n",
    "while a < 11:\n",
    "    print( a )\n",
    "    a = a + 1\n",
    "\n",
    "    "
   ]
  },
  {
   "cell_type": "code",
   "execution_count": null,
   "id": "2c6ff181",
   "metadata": {},
   "outputs": [],
   "source": [
    "#13.If you had a function named bacon() inside a module named spam,  \n",
    "#how would you call it after importing spam?\n",
    "this function call spam.bacon()"
   ]
  }
 ],
 "metadata": {
  "kernelspec": {
   "display_name": "Python 3 (ipykernel)",
   "language": "python",
   "name": "python3"
  },
  "language_info": {
   "codemirror_mode": {
    "name": "ipython",
    "version": 3
   },
   "file_extension": ".py",
   "mimetype": "text/x-python",
   "name": "python",
   "nbconvert_exporter": "python",
   "pygments_lexer": "ipython3",
   "version": "3.9.7"
  }
 },
 "nbformat": 4,
 "nbformat_minor": 5
}

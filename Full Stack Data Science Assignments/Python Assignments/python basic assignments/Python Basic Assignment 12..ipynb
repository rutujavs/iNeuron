{
 "cells": [
  {
   "cell_type": "code",
   "execution_count": null,
   "id": "89558b9f",
   "metadata": {},
   "outputs": [],
   "source": [
    "#1. In what modes should the PdfFileReader() and PdfFileWriter() File objects will be opened?\n",
    "Ans - \n",
    "PdfFileReader() needs to be opened in read-binary mode by passing 'rb' as the second argument to open(). "
   ]
  },
  {
   "cell_type": "code",
   "execution_count": 2,
   "id": "3ee4c4a7",
   "metadata": {},
   "outputs": [],
   "source": [
    "#2. From a PdfFileReader object, how do you get a Page object for page 5?\n",
    "'''Ans - \n",
    "PdfFileReader class provides a method called getPage(page_no) to get a page object.'''\n",
    "from PyPDF2 import PdfFileReader\n",
    "pdf_reader = PdfFileReader(file_path)\n",
    "for page in pdf_reader.getNumPages():\n",
    "    pdf_reader.getPage(page)"
   ]
  },
  {
   "cell_type": "code",
   "execution_count": null,
   "id": "ec292836",
   "metadata": {},
   "outputs": [],
   "source": [
    "#3. What PdfFileReader variable stores the number of pages in the PDF document?\n",
    "'''Ans - \n",
    "getNumPages() method of PdfFileReader class stores the no pages in a PDF document'''\n",
    "from PyPDF2 import PdfFileReader\n",
    "pdf_reader = PdfFileReader(file_path)\n",
    "print(pdf_reader.getNumPages())\n"
   ]
  },
  {
   "cell_type": "code",
   "execution_count": null,
   "id": "c6fca348",
   "metadata": {},
   "outputs": [],
   "source": [
    "#4.If a PdfFileReader object’s PDF is encrypted with the password swordfish, what must you do before you can obtain\n",
    "#Page objects from it?\n",
    "''' Ans - \n",
    "If a PdfFileReader object’s PDF is encrypted with the password swordfish and you're not aware of it.first read the\n",
    "Pdf using the PdfFileReader Class. PdfFileReader class provides a attribute called isEncrypted to check whether a \n",
    "pdf is encrypted or not. the method returns true if a pdf is encrypted and vice versa.\n",
    "\n",
    "if pdf is encrypted use the decrypt() method provided by PdfFileReader class first then try to read the \n",
    "contents/pages of the pdf, else PyPDF2 will raise the following error PyPDF2.utils.PdfReadError: file has not been\n",
    "decrypted'''\n",
    "\n",
    "from PyPDF2 import PdfFileReader\n",
    "pdf_reader = PdfFileReader(file_path)\n",
    "if pdf_reader.isEncrypted: # to check whether the pdf is encrypted or not\n",
    "    pdf_reader.decrypt(\"swordfish\")\n",
    "for page in pdf_reader.pages:\n",
    "    print(page.extractText()) # to print the text data of a page from pdf"
   ]
  },
  {
   "cell_type": "code",
   "execution_count": null,
   "id": "6e3ae7b9",
   "metadata": {},
   "outputs": [],
   "source": [
    "#5. What methods do you use to rotate a page?\n",
    "Ans - \n",
    "PyPDF2 Package provides 2 methods to rotate a page:\n",
    "\n",
    "rotateClockWise() - For Clockwise rotation\n",
    "rotateCounterClockWise() -For Counter Clockwise rotation"
   ]
  },
  {
   "cell_type": "code",
   "execution_count": null,
   "id": "56199a3e",
   "metadata": {},
   "outputs": [],
   "source": [
    "#6. What is the difference between a Run object and a Paragraph object?\n",
    "Ans - \n",
    "The structure of a document is represented by three different data types in python-Docx. At the highest level, a \n",
    "Document object represents the entire document. The Document object contains a list of Paragraph objects for the \n",
    "paragraphs in the document. (A new paragraph begins whenever the user presses ENTER or RETURN while typing in a \n",
    "Word document.) Each of these Paragraph objects contains a list of one or more Run objects.\n",
    "\n",
    "The text in a Word document is more than just a string. It has font, size, color, and other styling information \n",
    "associated with it. A style in Word is a collection of these attributes. A Run object is a contiguous run of text \n",
    "with the same style. A new Run object is needed whenever the text style changes."
   ]
  },
  {
   "cell_type": "code",
   "execution_count": null,
   "id": "0b5342e3",
   "metadata": {},
   "outputs": [],
   "source": [
    "#7. How do you obtain a list of Paragraph objects for a Document object that’s stored in a variable named doc?\n",
    "Ans - \n",
    "\n",
    "from docx import Document\n",
    "doc = Document(\"sample_file.docx\") # Path of the Docx file\n",
    "print(doc.paragraphs) # Prints the list of Paragraph objects for a Document\n",
    "for paragraph in doc.paragraphs:\n",
    "    print(paragraph.text) # Prints the text in the paragraph"
   ]
  },
  {
   "cell_type": "code",
   "execution_count": null,
   "id": "ba858e4b",
   "metadata": {},
   "outputs": [],
   "source": [
    "#8. What type of object has bold, underline, italic, strike, and outline variables?\n",
    "Ans - \n",
    "Un object has bold, underline, italic, strike, and outline variables. The text in a Word document is more than \n",
    "just a string. It has font, size, color, and other styling information associated with it.\n",
    "\n",
    "A style in Word is a collection of these attributes. A Run object is a contiguous run of text with the same \n",
    "style. A new Run object is needed whenever the text style changes."
   ]
  },
  {
   "cell_type": "code",
   "execution_count": null,
   "id": "e30e5770",
   "metadata": {},
   "outputs": [],
   "source": [
    "#9. What is the difference between False, True, and None for the bold variable?\n",
    "Ans-\n",
    "bold = True  # Style Set to Bold\n",
    "bold = False # Style Not Set to Bold\n",
    "bold = None # Style is Not Applicable"
   ]
  },
  {
   "cell_type": "code",
   "execution_count": null,
   "id": "a01b1655",
   "metadata": {},
   "outputs": [],
   "source": [
    "#10. How do you create a Document object for a new Word document?\n",
    "Ans - \n",
    "from docx import Document\n",
    "document = Document()\n",
    "document.add_paragraph(\"iNeuron Full Stack DataScience Course\")\n",
    "document.save('mydocument.docx')"
   ]
  },
  {
   "cell_type": "code",
   "execution_count": null,
   "id": "6b83c6eb",
   "metadata": {},
   "outputs": [],
   "source": [
    "#11. How do you add a paragraph with the text \"Hello, there!\"to a Document object stored in a variable named doc?\n",
    "Ans - \n",
    "from docx import Document\n",
    "doc = Document()\n",
    "doc.add_paragraph('Hello, there!')\n",
    "doc.save('hello.docx')"
   ]
  },
  {
   "cell_type": "code",
   "execution_count": null,
   "id": "ff76fb0c",
   "metadata": {},
   "outputs": [],
   "source": [
    "#12. What integers represent the levels of headings available in Word documents?\n",
    "Ans - \n",
    "The levels for a heading in a word document can be specified by using the level attribute inside the add_heading \n",
    "method. There are a total of 5 levels statring for 0 t0 4. where level 0 makes a headline with the horizontal line\n",
    "below the text, whereas the heading level 1 is the main heading. Similarly, the other headings are sub-heading \n",
    "with their's font-sizes in decreasing order."
   ]
  }
 ],
 "metadata": {
  "kernelspec": {
   "display_name": "Python 3 (ipykernel)",
   "language": "python",
   "name": "python3"
  },
  "language_info": {
   "codemirror_mode": {
    "name": "ipython",
    "version": 3
   },
   "file_extension": ".py",
   "mimetype": "text/x-python",
   "name": "python",
   "nbconvert_exporter": "python",
   "pygments_lexer": "ipython3",
   "version": "3.9.7"
  }
 },
 "nbformat": 4,
 "nbformat_minor": 5
}

{
 "cells": [
  {
   "cell_type": "code",
   "execution_count": null,
   "id": "6adf02eb",
   "metadata": {},
   "outputs": [],
   "source": [
    "#1. What does RGBA stand for?\n",
    "Ans-\n",
    "RGBA is a four-channel format containing data for Red, Green, Blue, and an Alpha value. Where Alpha Represents the\n",
    "Opacit"
   ]
  },
  {
   "cell_type": "code",
   "execution_count": null,
   "id": "973b04a8",
   "metadata": {},
   "outputs": [],
   "source": [
    "#2. From the Pillow module, how do you get the RGBA value of any images?\n",
    "Ans-\n",
    "ImageColor.getcolor() gives rgba value of any image"
   ]
  },
  {
   "cell_type": "code",
   "execution_count": null,
   "id": "d0e38239",
   "metadata": {},
   "outputs": [],
   "source": [
    "#3. What is a box tuple, and how does it work?\n",
    "Ans-\n",
    "A box tuple is a tuple value of four integers: the left-edge x-coordinate, the top-edge y-coordinate,the width, \n",
    "and the height, respectively."
   ]
  },
  {
   "cell_type": "code",
   "execution_count": 7,
   "id": "248ae05e",
   "metadata": {},
   "outputs": [
    {
     "name": "stdout",
     "output_type": "stream",
     "text": [
      "Width, Height -> (480, 629)\n",
      "Width, Height -> 480,629\n",
      "Width, Height -> 480,629\n"
     ]
    }
   ],
   "source": [
    "#4. Use your image and load in notebook then, How can you find out the width and height of an Image object?\n",
    "#Example Program\n",
    "from PIL import Image\n",
    "pic = Image.open('02.jpg')\n",
    "print(f'Width, Height -> {pic.size}') # Approach 1\n",
    "print(f'Width, Height -> {pic.width},{pic.height}') # Approach 2\n",
    "width,height = pic.size\n",
    "print(f'Width, Height -> {width},{height}') # Approach 3"
   ]
  },
  {
   "cell_type": "code",
   "execution_count": 8,
   "id": "e6f1032a",
   "metadata": {},
   "outputs": [],
   "source": [
    "#5. What method would you call to get Image object for a 100×100 image, excluding the lower-left quarter of it?\n",
    "from PIL import Image\n",
    "img = Image.open('02.jpg')\n",
    "new_img = img.crop((0,50,50,50))"
   ]
  },
  {
   "cell_type": "code",
   "execution_count": 6,
   "id": "af2c5062",
   "metadata": {},
   "outputs": [],
   "source": [
    "#7. What module contains Pillow’s shape-drawing code?\n",
    "Ans-\n",
    "Pillows ImageDraw module contains Shape drawing methods"
   ]
  },
  {
   "cell_type": "code",
   "execution_count": null,
   "id": "f2f48988",
   "metadata": {},
   "outputs": [],
   "source": [
    "#8. Image objects do not have drawing methods. What kind of object does? How do you get this kind of object?\n",
    "Ans-\n",
    "ImageDraw objects have shape-drawing methods such as point(), line(), or rectangle().They are returned by passing \n",
    "the Image object to the ImageDraw.Draw() function.\n"
   ]
  }
 ],
 "metadata": {
  "kernelspec": {
   "display_name": "Python 3 (ipykernel)",
   "language": "python",
   "name": "python3"
  },
  "language_info": {
   "codemirror_mode": {
    "name": "ipython",
    "version": 3
   },
   "file_extension": ".py",
   "mimetype": "text/x-python",
   "name": "python",
   "nbconvert_exporter": "python",
   "pygments_lexer": "ipython3",
   "version": "3.9.7"
  }
 },
 "nbformat": 4,
 "nbformat_minor": 5
}

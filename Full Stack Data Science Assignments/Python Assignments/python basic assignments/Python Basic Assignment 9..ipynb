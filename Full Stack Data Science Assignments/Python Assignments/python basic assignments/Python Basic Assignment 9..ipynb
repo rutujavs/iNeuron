{
 "cells": [
  {
   "cell_type": "code",
   "execution_count": null,
   "id": "550fbcfe",
   "metadata": {},
   "outputs": [],
   "source": [
    "#1. To what does a relative path refer?\n",
    "Ans- \n",
    "The relative path is the path to some file with respect to your current working directory (PWD).\n",
    "For example: if Absolute path to a file called test.txt is: C:/users/admin/docs/test.txt \n",
    "If my PWD is C:/users/admin/ , then the relative path to test.txt would be: docs/test.txt\n",
    "        "
   ]
  },
  {
   "cell_type": "code",
   "execution_count": null,
   "id": "98e24eb2",
   "metadata": {},
   "outputs": [],
   "source": [
    "#2. What does an absolute path start with your operating system?\n",
    "Ans - \n",
    "In macbook systems the absolute path starts with /. "
   ]
  },
  {
   "cell_type": "code",
   "execution_count": 12,
   "id": "167a8d5f",
   "metadata": {},
   "outputs": [
    {
     "name": "stdout",
     "output_type": "stream",
     "text": [
      "/Users/vinayaksonawane\n",
      "/Users/vinayaksonawane\n"
     ]
    }
   ],
   "source": [
    "#3. What do the functions os.getcwd() and os.chdir() do?\n",
    "'''Ans - \n",
    "os.getcwd() method tells us the location of current working directory (CWD). Whereas os.chdir() method in Python \n",
    "used to change the current working directory to specified path. These functions are similar to linux commands pwd \n",
    "and cd'''\n",
    "import os\n",
    "print(os.getcwd())\n",
    "path = '/Users/vinayaksonawane'\n",
    "os.chdir(path)\n",
    "print(os.getcwd())\n",
    "\n"
   ]
  },
  {
   "cell_type": "code",
   "execution_count": null,
   "id": "846a0035",
   "metadata": {},
   "outputs": [],
   "source": [
    "#4.What are . and .. folders ?\n",
    "Ans - \n",
    "Represents the Current Directory Whereas .. Represents the Parent Directory of the Current Directory\n",
    "For Example: if the below path is my absolute path:\n",
    "\\Users\\vinayaksonawane\\Python Basic Assignments\\Python Basic Assignment\n",
    "Then . represents the path \\Users\\vinayaksonawane\\Python Basic Assignments\\Python Basic Assignment 9\n",
    "Where as .. represents the path \\Users\\vinayaksonawane\\Python Basic Assignments"
   ]
  },
  {
   "cell_type": "code",
   "execution_count": 13,
   "id": "ef22e654",
   "metadata": {},
   "outputs": [
    {
     "name": "stdout",
     "output_type": "stream",
     "text": [
      "\n",
      "C:\\bacon\\eggs\\spam.txt\n"
     ]
    }
   ],
   "source": [
    "#5. In C:\\bacon\\eggs\\spam.txt, which part is the dir name, and which part is the base name?\n",
    "'''Ans - \n",
    " For C:\\bacon\\eggs\\spam.txt\n",
    "The dir name is C:\\\\bacon\\\\eggs\n",
    "The Base name is spam.txt'''\n",
    "\n",
    "import os\n",
    "path = r'C:\\bacon\\eggs\\spam.txt'\n",
    "print(os.path.dirname(path))\n",
    "print(os.path.basename(path))"
   ]
  },
  {
   "cell_type": "code",
   "execution_count": 14,
   "id": "6ebcc5c6",
   "metadata": {},
   "outputs": [],
   "source": [
    "#6. What are the three “mode” arguments that can be passed to the open() function?\n",
    "Ans - \n",
    "A file can be Accessed in python using open() function. open function takes two arguments filename and mode of operation (optional). if mode is not provided the default mode of opening is read mode\n",
    "So, the syntax being: open(filename, mode)\n",
    "\n",
    "‘r’ – Read Mode: This is the default mode for open(). The file is opened and a pointer is positioned at the beginning of the file’s content.\n",
    "‘w’ – Write Mode: Using this mode will overwrite any existing content in a file. If the given file does not exist, a new one will be created.\n",
    "‘r+’ – Read/Write Mode: Use this mode if you need to simultaneously read and write to a file.\n",
    "‘a’ – Append Mode: With this mode the user can append the data without overwriting any already existing data in the file.\n",
    "‘a+’ – Append and Read Mode: In this mode you can read and append the data without overwriting the original file.\n",
    "‘x’ – Exclusive Creating Mode: This mode is for the sole purpose of creating new files. Use this mode if you know the file to be written doesn’t exist beforehand.\n"
   ]
  },
  {
   "cell_type": "code",
   "execution_count": 7,
   "id": "87ab8274",
   "metadata": {},
   "outputs": [],
   "source": [
    "#7. What happens if an existing file is opened in write mode?\n",
    "Ans - \n",
    "Using this mode will overwrite any existing content in a file. If the given file does not exist, a new one will \n",
    "be created.\n",
    "\n"
   ]
  },
  {
   "cell_type": "code",
   "execution_count": 8,
   "id": "8ad51f93",
   "metadata": {},
   "outputs": [],
   "source": [
    "#8. How do you tell the difference between read() and readlines()?\n",
    "Ans -  \n",
    "The main difference is that read() will read the whole file at once and then print out the first characters that \n",
    "take up as many bytes as you specify in the parenthesis\n",
    "\n",
    "Whereas the readline() that will read and print out only the first characters that take up as many bytes as you \n",
    "specify in the parenthesis. You may want to use readline() when you're reading files that are too big for your RAM.\n",
    "\n",
    "The read() would treat each character in the file separately, meaning that the iteration would happen for every \n",
    "character.\n",
    "\n",
    "The readline() function, on the other hand, only reads a single line of the file. This means that if the first \n",
    "line of the file were three lines long, the readline() function would only parse (or iterate/operate) on the first\n",
    "line of the file."
   ]
  },
  {
   "cell_type": "code",
   "execution_count": 15,
   "id": "95833c30",
   "metadata": {},
   "outputs": [],
   "source": [
    "#9. What data structure does a shelf value resemble?\n",
    "Ans - \n",
    "it contains key and values it represents dictionary."
   ]
  },
  {
   "cell_type": "code",
   "execution_count": null,
   "id": "76ffc92b",
   "metadata": {},
   "outputs": [],
   "source": []
  }
 ],
 "metadata": {
  "kernelspec": {
   "display_name": "Python 3 (ipykernel)",
   "language": "python",
   "name": "python3"
  },
  "language_info": {
   "codemirror_mode": {
    "name": "ipython",
    "version": 3
   },
   "file_extension": ".py",
   "mimetype": "text/x-python",
   "name": "python",
   "nbconvert_exporter": "python",
   "pygments_lexer": "ipython3",
   "version": "3.9.7"
  }
 },
 "nbformat": 4,
 "nbformat_minor": 5
}

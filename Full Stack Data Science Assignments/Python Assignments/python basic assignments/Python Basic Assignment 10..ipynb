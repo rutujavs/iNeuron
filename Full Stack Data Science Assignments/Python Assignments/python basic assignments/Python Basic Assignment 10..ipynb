{
 "cells": [
  {
   "cell_type": "code",
   "execution_count": null,
   "id": "43a17399",
   "metadata": {},
   "outputs": [],
   "source": [
    "#1. How do you distinguish between shutil.copy() and shutil.copytree()?\n",
    "Ans - \n",
    "shutil. copy() will copy a single file, \n",
    "shutil. copytree() will copy an entire folder and every folder and file contained in it.\n"
   ]
  },
  {
   "cell_type": "code",
   "execution_count": null,
   "id": "b8e0ea69",
   "metadata": {},
   "outputs": [],
   "source": [
    "#2. What function is used to rename files?\n",
    "Ans -\n",
    "rename() method is used to rename a file or directory."
   ]
  },
  {
   "cell_type": "code",
   "execution_count": null,
   "id": "8fe36669",
   "metadata": {},
   "outputs": [],
   "source": [
    "#3. What is the difference between the delete functions in the send2trash and shutil modules?\n",
    "'''Ans - \n",
    "Using send2trash, we can send files to the Trash or Recycle Bin instead of permanently deleting them.\n",
    "The OS module’s unlink(), remove() and rmdir() functions can be used to delete files or folders. But, these\n",
    "functions delete the files permanently. The operations cannot be undone if there were any accidental deletions \n",
    "performed. This can be prevented using send2trash.\n",
    "\n",
    "Modules required - \n",
    "\n",
    "OS : The OS module in Python provides functions for interacting with the operating system. OS module comes with\n",
    "Python’s Standard Library.\n",
    "\n",
    "send2trash : Send2Trash is a small package that sends files to the Trash (or Recycle Bin) natively and on all \n",
    "platforms. To install it type the below command in the terminal.\n",
    "pip install send2trash'''\n",
    "import send2trash\n",
    "  \n",
    "send2trash.send2trash(\"/location/to/file\")"
   ]
  },
  {
   "cell_type": "code",
   "execution_count": null,
   "id": "4f480f9f",
   "metadata": {},
   "outputs": [],
   "source": [
    "#4.ZipFile objects have a close() method just like File objects’ close() method. What ZipFile method is equivalent\n",
    "#to File objects’ open() method?\n",
    "Ans - \n",
    "ZipFile Module provides a method called as zipfile.ZipFile() to read and write to zipFiles. it takes arugments \n",
    "lile filename and mode etc zipfile.ZipFile('filename', mode = 'r')"
   ]
  },
  {
   "cell_type": "code",
   "execution_count": 3,
   "id": "54bf5568",
   "metadata": {},
   "outputs": [],
   "source": [
    "#5. Create a programme that searches a folder tree for files with a certain file extension (such as .pdf or .jpg).\n",
    "#Copy these files from whatever location they are in to a new folder.\n",
    "'''Ans -''' \n",
    "import os\n",
    "import shutil\n",
    "\n",
    "def search_and_copy(source,destination,extensions):\n",
    "    source = os.path.abspath(source)\n",
    "    destination = os.path.abspath(destination)\n",
    "    for foldername, subfolder, filenames in os.walk(source):\n",
    "        print(f'Folder Name ➞ {foldername}',end='\\n\\n')\n",
    "        print(f'Sub Folders ➞ {subfolder}',end='\\n\\n')\n",
    "        print(f'Files ➞ {filenames}',end='\\n\\n')\n",
    "        for filename in filenames:\n",
    "            fileName,extension = os.path.splitext(filename)\n",
    "            if extension in extensions:\n",
    "                targetFile = foldername+os.path.sep+fileName+extension\n",
    "                shutil.copy(targetFile, destination)\n",
    "        print(f'Files copied successfully from {source} to {destination}')\n",
    "    \n",
    "extensions = ['.pdf','.jpg','.ipynb']\n",
    "source = 'Dummy Source'\n",
    "destination = 'Dummy Destination'\n",
    "search_and_copy(source, destination, extensions)"
   ]
  },
  {
   "cell_type": "code",
   "execution_count": 4,
   "id": "953824f7",
   "metadata": {},
   "outputs": [],
   "source": [
    "import os\n",
    "import shutil\n"
   ]
  },
  {
   "cell_type": "code",
   "execution_count": null,
   "id": "6f8b2b80",
   "metadata": {},
   "outputs": [],
   "source": []
  }
 ],
 "metadata": {
  "kernelspec": {
   "display_name": "Python 3 (ipykernel)",
   "language": "python",
   "name": "python3"
  },
  "language_info": {
   "codemirror_mode": {
    "name": "ipython",
    "version": 3
   },
   "file_extension": ".py",
   "mimetype": "text/x-python",
   "name": "python",
   "nbconvert_exporter": "python",
   "pygments_lexer": "ipython3",
   "version": "3.9.7"
  }
 },
 "nbformat": 4,
 "nbformat_minor": 5
}

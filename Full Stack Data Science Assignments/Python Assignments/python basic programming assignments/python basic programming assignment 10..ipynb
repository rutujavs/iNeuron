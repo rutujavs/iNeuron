{
 "cells": [
  {
   "cell_type": "code",
   "execution_count": null,
   "id": "1ed37e18",
   "metadata": {},
   "outputs": [],
   "source": [
    "#1.Write a Python Program to find sum of elements in a list ?\n",
    "def sumofList():\n",
    "    in_element = int(input('Enter the No of Entries in a List: '))\n",
    "    in_list = []\n",
    "    for itr in range(in_element):\n",
    "        in_list.append(int(input('Enter a element: ')))\n",
    "    print(f'Sum of Elements: {sum(in_list)}')\n",
    "\n",
    "sumofList()"
   ]
  },
  {
   "cell_type": "code",
   "execution_count": null,
   "id": "cc2fc83e",
   "metadata": {},
   "outputs": [],
   "source": [
    "#2.Write a Python Program to multiply all numbers in the list ?\n",
    "def mulofList():\n",
    "    in_element = int(input('Enter the No of Entries in a List: '))\n",
    "    in_list = []\n",
    "    mul = 1\n",
    "    for itr in range(in_element):\n",
    "        in_list.append(int(input('Enter a element: ')))\n",
    "    for i in in_list:\n",
    "        mul = mul * i\n",
    "    print(mul)\n",
    "\n",
    "mulofList()"
   ]
  },
  {
   "cell_type": "code",
   "execution_count": null,
   "id": "79222d2f",
   "metadata": {},
   "outputs": [],
   "source": [
    "#3.Write a Python Program to find smallest number in the list ?\n",
    "def smallEleInList():\n",
    "    in_element = int(input('Enter the No of elements in a list: '))\n",
    "    in_list = []\n",
    "    for i in range(in_element):\n",
    "        in_list.append(int(input('Enter a Element: ')))\n",
    "    print(f'The Smallest Element in {in_list} is {sorted(in_list)[0]}')\n",
    "smallEleInList()"
   ]
  },
  {
   "cell_type": "code",
   "execution_count": null,
   "id": "5749ec52",
   "metadata": {},
   "outputs": [],
   "source": [
    "#4.Write a Python Program to find largest number in the list ?\n",
    "def largestEleInList():\n",
    "    in_element = int(input('Enter the No of elements in a list: '))\n",
    "    in_list = []\n",
    "    for i in range(in_element):\n",
    "        in_list.append(int(input('Enter a Element: ')))\n",
    "    print(f'The Largest Element in {in_list} is {sorted(in_list, reverse=True)[0]}')\n",
    "\n",
    "largestEleInList()"
   ]
  },
  {
   "cell_type": "code",
   "execution_count": null,
   "id": "cdc657b9",
   "metadata": {},
   "outputs": [],
   "source": [
    "#5.Write a Python Program to find second largest number in the list ?\n",
    "def secondLargestEleInList():\n",
    "    in_element = int(input('Enter the No of elements in a list: '))\n",
    "    in_list = []\n",
    "    for i in range(in_element):\n",
    "        in_list.append(int(input('Enter a Element: ')))\n",
    "    print(f'The Second Largest Element in {in_list} is {sorted(in_list, reverse=True)[1]}')\n",
    "\n",
    "secondLargestEleInList()"
   ]
  },
  {
   "cell_type": "code",
   "execution_count": null,
   "id": "849a4ab0",
   "metadata": {},
   "outputs": [],
   "source": [
    "#6.Write a Python Program to find N largest elements in the list ?\n",
    "def nLargestEleInList(k):\n",
    "    in_element = int(input('Enter the No of elements in a list: '))\n",
    "    in_list = []\n",
    "    for i in range(in_element):\n",
    "        in_list.append(int(input('Enter a Element: ')))\n",
    "    print(f'The {k} Largest Element in {in_list} is {sorted(in_list, reverse=True)[0:k]}')\n",
    "\n",
    "nLargestEleInList(4)"
   ]
  },
  {
   "cell_type": "code",
   "execution_count": null,
   "id": "58623e89",
   "metadata": {},
   "outputs": [],
   "source": [
    "#7.Write a Python Program to find even numbers in the list ?\n",
    "def evenNoInList():\n",
    "    in_element = int(input('Enter the No of elements in a list: '))\n",
    "    in_list = []\n",
    "    even_list = []\n",
    "    for i in range(in_element):\n",
    "        in_list.append(int(input('Enter a Element: ')))\n",
    "    for i in in_list:\n",
    "        if i%2 == 0:\n",
    "            even_list.append(i)\n",
    "    print(f'The Even Elements in {in_list} are {even_list}')\n",
    "\n",
    "evenNoInList()"
   ]
  },
  {
   "cell_type": "code",
   "execution_count": null,
   "id": "20d400fe",
   "metadata": {},
   "outputs": [],
   "source": [
    "#8.Write a Python Program to find odd numbers in the list ?\n",
    "def oddNoInList():\n",
    "    in_element = int(input('Enter the No of elements in a list: '))\n",
    "    in_list = []\n",
    "    odd_list = []\n",
    "    for ele in range(in_element):\n",
    "        in_list.append(int(input('Enter a Element: ')))\n",
    "    for ele in in_list:\n",
    "        if ele%2 != 0:\n",
    "            odd_list.append(ele)\n",
    "    print(f'The Even Elements in {in_list} are {odd_list}')\n",
    "\n",
    "oddNoInList()"
   ]
  },
  {
   "cell_type": "code",
   "execution_count": null,
   "id": "0d25943d",
   "metadata": {},
   "outputs": [],
   "source": [
    "9.Write a Python Program to remove empty list from list ?\n",
    "def checkEmptyList():\n",
    "    in_list = eval(input('Enter all elements of the list: '))\n",
    "    if [] in in_list:\n",
    "        print(f'There is an Empty list in {in_list} at Position {in_list.index([])}')\n",
    "        in_list.remove([])\n",
    "        print(f'The List after removing [] is {in_list}')\n",
    "    else:\n",
    "        print(f'There is no [] List in the list {in_list}')\n",
    "        \n",
    "checkEmptyList()\n"
   ]
  },
  {
   "cell_type": "code",
   "execution_count": null,
   "id": "9d1be76d",
   "metadata": {},
   "outputs": [],
   "source": [
    "10.Write a Python Program to Cloning or Copying a list ?\n",
    "import copy\n",
    "\n",
    "def cloneList():\n",
    "    in_list = eval(input('Enter a list'))\n",
    "    print(in_list, id(in_list))\n",
    "    cloned_list = in_list.copy()\n",
    "    print(cloned_list, id(cloned_list))\n",
    "\n",
    "cloneList()"
   ]
  },
  {
   "cell_type": "code",
   "execution_count": null,
   "id": "64816d68",
   "metadata": {},
   "outputs": [],
   "source": [
    "11.Write a Python Program to count occurences of an element in a list ?\n",
    "def checkOccurence():\n",
    "    in_list = eval(input('Enter the elements of the list: '))\n",
    "    in_num = eval(input('Enter the element to find: '))\n",
    "    count = 0\n",
    "    if in_num in in_list:\n",
    "        for ele in in_list:\n",
    "            if ele == in_num:\n",
    "                count = count+1\n",
    "    print(f'There are {count} occurences of {in_num} in {in_list}')\n",
    "    \n",
    "checkOccurence()"
   ]
  }
 ],
 "metadata": {
  "kernelspec": {
   "display_name": "Python 3 (ipykernel)",
   "language": "python",
   "name": "python3"
  },
  "language_info": {
   "codemirror_mode": {
    "name": "ipython",
    "version": 3
   },
   "file_extension": ".py",
   "mimetype": "text/x-python",
   "name": "python",
   "nbconvert_exporter": "python",
   "pygments_lexer": "ipython3",
   "version": "3.9.7"
  }
 },
 "nbformat": 4,
 "nbformat_minor": 5
}

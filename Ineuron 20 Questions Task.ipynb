{
 "cells": [
  {
   "cell_type": "markdown",
   "id": "3aee897e",
   "metadata": {},
   "source": [
    "# 1. you have to write a fun which will take string and return a len of it without using a inbuilt fun len."
   ]
  },
  {
   "cell_type": "code",
   "execution_count": 1,
   "id": "519e0f88",
   "metadata": {},
   "outputs": [],
   "source": [
    "def str_len(a):\n",
    "    \"\"\" \n",
    "    This function will return the length of the given string \n",
    "    \"\"\"\n",
    "    c=0\n",
    "    if type(a) == str:\n",
    "        for i in a:\n",
    "            c+=1\n",
    "        return c\n",
    "    else:\n",
    "        return \"Data type is not string\""
   ]
  },
  {
   "cell_type": "code",
   "execution_count": 2,
   "id": "a1d20e0a",
   "metadata": {},
   "outputs": [
    {
     "data": {
      "text/plain": [
       "6"
      ]
     },
     "execution_count": 2,
     "metadata": {},
     "output_type": "execute_result"
    }
   ],
   "source": [
    "str_len('Rutuja')"
   ]
  },
  {
   "cell_type": "code",
   "execution_count": 3,
   "id": "40d03842",
   "metadata": {},
   "outputs": [
    {
     "data": {
      "text/plain": [
       "'Data type is not string'"
      ]
     },
     "execution_count": 3,
     "metadata": {},
     "output_type": "execute_result"
    }
   ],
   "source": [
    "str_len(9)"
   ]
  },
  {
   "cell_type": "code",
   "execution_count": 4,
   "id": "e1f6f75f",
   "metadata": {},
   "outputs": [
    {
     "data": {
      "text/plain": [
       "0"
      ]
     },
     "execution_count": 4,
     "metadata": {},
     "output_type": "execute_result"
    }
   ],
   "source": [
    "str_len('')"
   ]
  },
  {
   "cell_type": "markdown",
   "id": "6ec885fb",
   "metadata": {},
   "source": [
    "# 2.write a fun which will be able to print an index of all premitive element which you will pass."
   ]
  },
  {
   "cell_type": "code",
   "execution_count": 9,
   "id": "b6463720",
   "metadata": {
    "collapsed": true
   },
   "outputs": [],
   "source": [
    "def fun1(l):\n",
    "    \"\"\"\n",
    "    This function will be able to print an index of all premitive element\n",
    "    \"\"\"\n",
    "    if type(l) in [list,set,tuple,str]:\n",
    "        for i,j in enumerate(l):\n",
    "            print(f\"Index of element {j} is :{i}\" )\n",
    "    else:\n",
    "        return \"Please enter iterable as an argument  \""
   ]
  },
  {
   "cell_type": "code",
   "execution_count": 13,
   "id": "035a74c4",
   "metadata": {},
   "outputs": [
    {
     "name": "stdout",
     "output_type": "stream",
     "text": [
      "Index of element 3 is :0\n",
      "Index of element 1 is :1\n",
      "Index of element 2 is :2\n",
      "Index of element Rutuja is :3\n"
     ]
    }
   ],
   "source": [
    "fun1({'Rutuja',1,2,3})"
   ]
  },
  {
   "cell_type": "markdown",
   "id": "0bf4efd4",
   "metadata": {},
   "source": [
    "### 3. Write a fun which will take input as a dict and given me out as a list of all the values even in case of 2 level nesting it should work ."
   ]
  },
  {
   "cell_type": "code",
   "execution_count": 15,
   "id": "92ef9c6d",
   "metadata": {},
   "outputs": [
    {
     "data": {
      "text/plain": [
       "['rutuja', 'vinayak', [1, 2, 3, 4, 5], (1, 2, 3, 4, 5), True, (1+2j)]"
      ]
     },
     "execution_count": 15,
     "metadata": {},
     "output_type": "execute_result"
    }
   ],
   "source": [
    "def fun2(d):\n",
    "    \"\"\" \n",
    "    This will take input as a dict and given me out as a list of all the values\n",
    "    even in case of 2 level nesting it should work\n",
    "    \"\"\"\n",
    "    l = []\n",
    "    if type(d)== dict:\n",
    "        for i in d.values():\n",
    "            if type(i)== dict:\n",
    "                for j in i.values():\n",
    "                    l.append(j)\n",
    "            else:\n",
    "                l.append(i)\n",
    "        return l\n",
    "    else:\n",
    "        return \"please enter dictionary as an argument\"\n",
    "    \n",
    "fun2({\"key1\":\"rutuja\",\"key2\":\"vinayak\",\"key3\":[1,2,3,4,5],\"key4\":(1,2,3,4,5),\"key5\":True,\"key6\":(1+2j)})"
   ]
  },
  {
   "cell_type": "markdown",
   "id": "c5601d13",
   "metadata": {},
   "source": [
    "# 4.write a fun which will take another function as an input and return me an output."
   ]
  },
  {
   "cell_type": "code",
   "execution_count": 17,
   "id": "1accd7c7",
   "metadata": {},
   "outputs": [
    {
     "name": "stdout",
     "output_type": "stream",
     "text": [
      "Enter anything : Enter anything : Ineuron Intelligence \n"
     ]
    },
    {
     "data": {
      "text/plain": [
       "'outside inside Enter anything : Ineuron Intelligence insideoutside'"
      ]
     },
     "execution_count": 17,
     "metadata": {},
     "output_type": "execute_result"
    }
   ],
   "source": [
    "def fun3(s):\n",
    "    return \"inside \"+str(s)+\"inside\"\n",
    "def fun4(f):\n",
    "    \"\"\"\n",
    "    Takes another function as an input and return as an output\"\"\"\n",
    "    a = input(\"Enter anything : \")\n",
    "    return \"outside \"+f(a)+\"outside\"\n",
    "fun4(fun3)"
   ]
  },
  {
   "cell_type": "markdown",
   "id": "4264d57a",
   "metadata": {},
   "source": [
    "# 5. Write a function which will take multiple list as an input and give me concation of all the element as an output."
   ]
  },
  {
   "cell_type": "code",
   "execution_count": 21,
   "id": "25279d37",
   "metadata": {},
   "outputs": [
    {
     "data": {
      "text/plain": [
       "[1, 2, 3, 4, 5, 5, 6, 8, 7, 8, 9, 0]"
      ]
     },
     "execution_count": 21,
     "metadata": {},
     "output_type": "execute_result"
    }
   ],
   "source": [
    "def fun5(*args):\n",
    "    \"\"\" \n",
    "    Take mult8,iple list as an input and concate all the elemrnts as an output\n",
    "    \"\"\"\n",
    "    l = []\n",
    "    for i in args:\n",
    "        if type(i)== list:\n",
    "            l.extend(i)\n",
    "    return l\n",
    "fun5([1,2,3,4,5],1,[5,6,8,7],0,[8,9,0])"
   ]
  },
  {
   "cell_type": "markdown",
   "id": "4d1e77a5",
   "metadata": {},
   "source": [
    "# 6. Write a function which will be able to take a list as an input return as an index of each element like a inbuilt index function but even if we have repetative element it should return index."
   ]
  },
  {
   "cell_type": "code",
   "execution_count": 22,
   "id": "1ddea5cb",
   "metadata": {},
   "outputs": [
    {
     "data": {
      "text/plain": [
       "{1: [0],\n",
       " 2: [1],\n",
       " 3: [2, 13],\n",
       " 4: [3, 14],\n",
       " 5: [4, 15],\n",
       " 6: [5, 16],\n",
       " 7: [6, 17],\n",
       " 's': [7, 19],\n",
       " 8: [8, 18],\n",
       " 9: [9],\n",
       " 0: [10],\n",
       " 2.5: [11],\n",
       " 11: [12]}"
      ]
     },
     "execution_count": 22,
     "metadata": {},
     "output_type": "execute_result"
    }
   ],
   "source": [
    "def fun6(l):\n",
    "    \"\"\" \n",
    "    Take a list as an input return as an index of each element like a inbuit index function  \n",
    "    but even if we have repetative element it should return index \n",
    "    \"\"\"\n",
    "    if type(l)== list:\n",
    "        d = {}\n",
    "        for i,j in enumerate(l):\n",
    "            if j in d.keys():\n",
    "                d[j].append(i)\n",
    "            else:\n",
    "                d[j]=[i]\n",
    "        return d\n",
    "    else:\n",
    "        return \"Please enter list as an argument \"\n",
    "fun6([1,2,3,4,5,6,7,'s',8,9,0,2.5,11,3,4,5,6,7,8,'s'])"
   ]
  },
  {
   "cell_type": "markdown",
   "id": "73f1159c",
   "metadata": {},
   "source": [
    "# 7. Write a function which will would return of all the file name from a directory. "
   ]
  },
  {
   "cell_type": "code",
   "execution_count": 29,
   "id": "8a711449",
   "metadata": {},
   "outputs": [
    {
     "data": {
      "text/plain": [
       "'Please enter correct path as an argument'"
      ]
     },
     "execution_count": 29,
     "metadata": {},
     "output_type": "execute_result"
    }
   ],
   "source": [
    "import os\n",
    "def fun7(dir_path):\n",
    "    \"\"\"\n",
    "    This function returns list of all the file names from a directory\n",
    "    \"\"\"\n",
    "    if os.path.exists(dir_path):\n",
    "        l = []\n",
    "        for f in os.listdir(dir_path):\n",
    "            \n",
    "            if os.path.isfile(os.path.join(dir_path,f)):\n",
    "                l.append(f)\n",
    "        return l\n",
    "    else:\n",
    "        return \"Please enter correct path as an argument\"\n",
    "fun7(\"\\\\Users\\\\vinayaksonawane\")"
   ]
  },
  {
   "cell_type": "code",
   "execution_count": 30,
   "id": "10431901",
   "metadata": {},
   "outputs": [
    {
     "data": {
      "text/plain": [
       "['my_module.py',\n",
       " '.condarc',\n",
       " 'glass.data',\n",
       " 'Untitled5.ipynb',\n",
       " 'Untitled1.ipynb',\n",
       " 'Ineuron 20 Questions Task.ipynb',\n",
       " '.DS_Store',\n",
       " '.CFUserTextEncoding',\n",
       " '.wget-hsts',\n",
       " '.xonshrc',\n",
       " 'Untitled.ipynb',\n",
       " '.zshrc',\n",
       " 'Resume rutuja.docx',\n",
       " 'Untitled6.ipynb',\n",
       " '.zprofile',\n",
       " 'img.png',\n",
       " '.zsh_history',\n",
       " 'Untitled2.ipynb',\n",
       " '.tcshrc',\n",
       " 'Rutuja Resume.docx',\n",
       " '.dbshell',\n",
       " 'text.txt',\n",
       " '.bash_profile',\n",
       " '.mongorc.js']"
      ]
     },
     "execution_count": 30,
     "metadata": {},
     "output_type": "execute_result"
    }
   ],
   "source": [
    "fun7(\"//Users//vinayaksonawane\")"
   ]
  },
  {
   "cell_type": "markdown",
   "id": "bcc71559",
   "metadata": {},
   "source": [
    "# 8. Write a function which will be able to show your system configuration.\n"
   ]
  },
  {
   "cell_type": "code",
   "execution_count": 31,
   "id": "c7419b43",
   "metadata": {},
   "outputs": [
    {
     "data": {
      "text/plain": [
       "{'platform': 'Darwin',\n",
       " 'platform-release': '21.3.0',\n",
       " 'platform-version': 'Darwin Kernel Version 21.3.0: Wed Jan  5 21:37:58 PST 2022; root:xnu-8019.80.24~20/RELEASE_ARM64_T8101',\n",
       " 'processor': 'i386',\n",
       " 'architecture': 'x86_64',\n",
       " 'hostname': 'Vinayaks-Air',\n",
       " 'ip-address': '192.168.1.4',\n",
       " 'mac-address': '26:6d:57:dc:ae:36',\n",
       " 'ram': '8 GB'}"
      ]
     },
     "execution_count": 31,
     "metadata": {},
     "output_type": "execute_result"
    }
   ],
   "source": [
    "import platform,socket,re,psutil,uuid\n",
    "def fun8():\n",
    "    \"\"\"\n",
    "    This function displays my system configuration\n",
    "    \"\"\"\n",
    "    info={}\n",
    "    uname = platform.uname()\n",
    "    info['platform']=platform.system()\n",
    "    info['platform-release']=platform.release()\n",
    "    info['platform-version']=platform.version()\n",
    "    info['processor']=uname.processor\n",
    "    info['architecture']=platform.machine()\n",
    "    info['hostname']=socket.gethostname()\n",
    "    info['ip-address']=socket.gethostbyname(socket.gethostname())\n",
    "    info['mac-address']=':'.join(re.findall('..', '%012x' % uuid.getnode()))\n",
    "    info['processor']=platform.processor()\n",
    "    info['ram']=str(round(psutil.virtual_memory().total / (1024.0 **3)))+\" GB\"\n",
    "    return info\n",
    "fun8()"
   ]
  },
  {
   "cell_type": "markdown",
   "id": "175515d2",
   "metadata": {},
   "source": [
    "### 9.Write a function which will be able to show date and time."
   ]
  },
  {
   "cell_type": "code",
   "execution_count": 32,
   "id": "ffd58fad",
   "metadata": {},
   "outputs": [
    {
     "data": {
      "text/plain": [
       "'05-30-2022, 12:14:45'"
      ]
     },
     "execution_count": 32,
     "metadata": {},
     "output_type": "execute_result"
    }
   ],
   "source": [
    "def fun9():\n",
    "    \"\"\"\n",
    "    This function will be able to show date and time\n",
    "    \"\"\"\n",
    "    import datetime\n",
    "    tday = datetime.datetime.now()\n",
    "    tday_format = tday.strftime(\"%m-%d-%Y, %H:%M:%S\")\n",
    "    return tday_format\n",
    "fun9()"
   ]
  },
  {
   "cell_type": "markdown",
   "id": "79d810ed",
   "metadata": {},
   "source": [
    "# 10. Write a function which will be able to read a image file and show it to you."
   ]
  },
  {
   "cell_type": "code",
   "execution_count": 34,
   "id": "89ffefcd",
   "metadata": {},
   "outputs": [
    {
     "name": "stdout",
     "output_type": "stream",
     "text": [
      "Collecting opencv-python\n",
      "  Downloading opencv_python-4.5.5.64-cp36-abi3-macosx_10_15_x86_64.whl (46.3 MB)\n",
      "\u001b[K     |████████████████████████████████| 46.3 MB 10.6 MB/s eta 0:00:01\n",
      "\u001b[?25hRequirement already satisfied: numpy>=1.19.3 in /opt/anaconda3/lib/python3.9/site-packages (from opencv-python) (1.20.3)\n",
      "Installing collected packages: opencv-python\n",
      "Successfully installed opencv-python-4.5.5.64\n"
     ]
    }
   ],
   "source": [
    "!pip install opencv-python"
   ]
  },
  {
   "cell_type": "code",
   "execution_count": 38,
   "id": "f56ba00d",
   "metadata": {},
   "outputs": [
    {
     "name": "stdout",
     "output_type": "stream",
     "text": [
      "Please enter the png file name along with .png extension: img.png\n"
     ]
    },
    {
     "data": {
      "image/png": "[encoded data removed]",
      "text/plain": [
       "<PIL.PngImagePlugin.PngImageFile image mode=RGBA size=428x115 at 0x7FF199DF8CA0>"
      ]
     },
     "metadata": {},
     "output_type": "display_data"
    }
   ],
   "source": [
    "def fun10(filename):\n",
    "    \"\"\"\n",
    "    This  function will be able to read a image file and show it to you\n",
    "    \"\"\"\n",
    "    import PIL \n",
    "    from PIL import Image\n",
    "    img= Image.open(filename,'r')\n",
    "    return display(img) \n",
    "file_name = input(\"Please enter the png file name along with .png extension: \")\n",
    "fun10(file_name)"
   ]
  },
  {
   "cell_type": "markdown",
   "id": "9b28c3cc",
   "metadata": {},
   "source": [
    "### 11. Write a function which can read video file and play for you."
   ]
  },
  {
   "cell_type": "code",
   "execution_count": 13,
   "id": "e083de9f",
   "metadata": {},
   "outputs": [],
   "source": [
    "import cv2, os\n",
    "def video_player(dir_path,v_file):\n",
    "    \"\"\"\n",
    "    This functions reads and play video file\n",
    "    \"\"\"\n",
    "    c_path = os.path.join(dir_path,v_file)\n",
    "    if os.path.exists(c_path):\n",
    "        if filetype.is_video(c_path):\n",
    "            print(2,c_path)\n",
    "            cap = cv2.VideoCapture(c_path) \n",
    "            if (cap.isOpened()== False): \n",
    "                print(\"Error opening video  file\")\n",
    "            while(cap.isOpened()):      \n",
    "                # Capture frame-by-frame\n",
    "                ret, frame = cap.read()\n",
    "                if ret == True:\n",
    "                    # Display the resulting frame\n",
    "                    cv2.imshow('Frame', frame)\n",
    "                    # Press Q on keyboard to  exit\n",
    "                    if cv2.waitKey(25) & 0xFF == ord('q'):\n",
    "                        break\n",
    "                else: \n",
    "                    break\n",
    "        else:\n",
    "            print(\"Please enter correct file as an argument\")\n",
    "    else:\n",
    "        print(\"Please enter correct path as an argument\")"
   ]
  },
  {
   "cell_type": "code",
   "execution_count": 14,
   "id": "f934765c",
   "metadata": {},
   "outputs": [
    {
     "data": {
      "text/plain": [
       "True"
      ]
     },
     "execution_count": 14,
     "metadata": {},
     "output_type": "execute_result"
    }
   ],
   "source": [
    "d=''\n",
    "f=\"tree.mp4\"\n",
    "os.path.exists(\"tree.mp4\")"
   ]
  },
  {
   "cell_type": "code",
   "execution_count": 17,
   "id": "049cd492",
   "metadata": {},
   "outputs": [
    {
     "name": "stdout",
     "output_type": "stream",
     "text": [
      "tree.mp4\n",
      "tree.mp4\n"
     ]
    }
   ],
   "source": [
    "d=''\n",
    "f=\"tree.mp4\"\n",
    "video_player(d,f)"
   ]
  },
  {
   "cell_type": "markdown",
   "id": "f9b028f7",
   "metadata": {},
   "source": [
    "# 12 . write a function whihc can move a file from one directory to another directory ."
   ]
  },
  {
   "cell_type": "code",
   "execution_count": 18,
   "id": "d5ca9fd3",
   "metadata": {},
   "outputs": [],
   "source": [
    "import os,shutil\n",
    "def move_file(path1,path2):\n",
    "    \"\"\"\n",
    "    This function will move a file from one directory to another directory\n",
    "    \"\"\"\n",
    "    if os.path.isfile(path1) and os.path.exists(path2):\n",
    "        shutil.move(path1, path2)\n",
    "    else:\n",
    "        print(\"Please enter correct path as an argument\")"
   ]
  },
  {
   "cell_type": "code",
   "execution_count": 22,
   "id": "f29af8e2",
   "metadata": {},
   "outputs": [],
   "source": [
    "move_file('Degree Certificate.pdf',\"ineuron resources\")"
   ]
  },
  {
   "cell_type": "markdown",
   "id": "2cd264b0",
   "metadata": {},
   "source": [
    "# 13.write a function which will be able to shutdown your system .\n"
   ]
  },
  {
   "cell_type": "code",
   "execution_count": 17,
   "id": "a23ff100",
   "metadata": {},
   "outputs": [
    {
     "name": "stdout",
     "output_type": "stream",
     "text": [
      "Do you wish to shutdown your computer ? (yes / no): yes\n"
     ]
    }
   ],
   "source": [
    "import os\n",
    "def system_shutdown():\n",
    "    \"\"\"\n",
    "    This function will shutdown your system.\n",
    "    \"\"\"\n",
    "    shutdown = input(\"Do you wish to shutdown your computer ? (yes / no): \")  \n",
    "    if shutdown.lower() == 'no':\n",
    "        os.system(\"shutdown /s /t 1\")\n",
    "    else:      \n",
    "        exit()\n",
    "system_shutdown()"
   ]
  },
  {
   "cell_type": "markdown",
   "id": "dead2673",
   "metadata": {},
   "source": [
    "# 14. write a function which will be able to access your mail."
   ]
  },
  {
   "cell_type": "code",
   "execution_count": 13,
   "id": "946f8de3",
   "metadata": {},
   "outputs": [],
   "source": [
    "import imaplib, email, base64\n",
    "\n"
   ]
  },
  {
   "cell_type": "code",
   "execution_count": 14,
   "id": "71ebe13d",
   "metadata": {},
   "outputs": [],
   "source": [
    "def fun14(user,password,imap_url):\n",
    "\n",
    "    \"\"\"This is a function to access emails\"\"\"\n",
    "    con = imaplib.IMAP4_SSL(imap_url)\n",
    "    con.login(user, password)\n",
    "    con.select('Inbox')\n",
    "    \n",
    "    data = con.search(None, 'ALL')\n",
    "    mail_ids = data[1]\n",
    "    id_list = mail_ids[0].split()\n",
    "    \n",
    "    first_email_id = int(id_list[0])\n",
    "    latest_email_id = int(id_list[-1])\n",
    "    \n",
    "    for i in range(latest_email_id,first_email_id, -1):\n",
    "            data = con.fetch(str(i), '(RFC822)' )\n",
    "            for response_part in data:\n",
    "                arr = response_part[0]\n",
    "                if isinstance(arr, tuple):\n",
    "                    msg = email.message_from_string(str(arr[1],'latin1'))\n",
    "                    email_subject = msg['subject']\n",
    "                    email_from = msg['from']\n",
    "                    print('From : ' + email_from + '\\n')\n",
    "                    print('Subject : ' + email_subject + '\\n\\n')"
   ]
  },
  {
   "cell_type": "code",
   "execution_count": 23,
   "id": "c41cad13",
   "metadata": {},
   "outputs": [
    {
     "name": "stdout",
     "output_type": "stream",
     "text": [
      "From : Wakefit <info@wakefit.co.in>\n",
      "\n",
      "Subject : East or west, afternoon naps are the best! #DoSeDhai\n",
      "\n",
      "\n",
      "From : ETAuto Latest News<newsletter@etauto.com>\n",
      "\n",
      "Subject : India may sell 2 lakh electric cars by 2025, says Kia | VP level resignations at Hyundai India | Auto sales in May 2022\n",
      "\n",
      "\n",
      "From : LinkedIn Job Alerts <jobalerts-noreply@linkedin.com>\n",
      "\n",
      "Subject : 13 new jobs for 'data scientist'\n",
      "\n",
      "\n",
      "From : ETEnergyworld Latest News<newsletter@etenergyworld.com>\n",
      "\n",
      "Subject : Gencos have till Friday to begin coal imports| Jio-bp, MG Motor & Castrol partner to boost EVs| SBI sells over Rs 8,000-crore Suzlon loans\n",
      "\n",
      "\n",
      "From : Medium Daily Digest <noreply@medium.com>\n",
      "\n",
      "Subject : Web Scraping Using Selenium Python | Abhay Parashar in The Pythoneers\n",
      "\n",
      "\n",
      "From : NVIDIA Developer <news@nvidia.com>\n",
      "\n",
      "Subject : Your Personalized Developer News from NVIDIA\n",
      "\n",
      "\n",
      "From : Chirag from Leap Finance <contact@leapfinance.com>\n",
      "\n",
      "Subject : ABHISHEK KULKARNI, Your next meal worth 50$ is on us!\n",
      " =?UTF-8?B?8J+MrvCfjb/wn42o?=\n",
      "\n",
      "\n",
      "From : IRCTC <ticketadmin@irctc.co.in>\n",
      "\n",
      "Subject : Keep your IRCTC profile updated with correct Information for seamless experience\n",
      "\n",
      "\n",
      "From : BookMyShow <no-reply@updates.bookmyshow.com>\n",
      "\n",
      "Subject : Major Sandeep Unnikrishnan's story on celluloid!\n",
      "\n",
      "\n",
      "From : Canva <start@engage.canva.com>\n",
      "\n",
      "Subject : =?UTF-8?B?SXTigJlzIGFsbC1uYXR1cmFsIPCfmIw=?= #CanvaDesignChallenge\n",
      "\n",
      "\n",
      "From : \"iNeuron.ai\" <contact@ineuron.ai>\n",
      "\n",
      "Subject : Kids tech Live Class- iNeuron\n",
      "\n",
      "\n",
      "From : \"iNeuron.ai\" <contact@ineuron.ai>\n",
      "\n",
      "Subject : \n",
      " https://us02web.zoom.us/j/84583452627?pwd=bDlOUUQ4MzBjRWdwSVNZYXAwakVWdz09\n",
      "\n",
      "\n",
      "From : LinkedIn Job Alerts <jobalerts-noreply@linkedin.com>\n",
      "\n",
      "Subject : 30+ new jobs for 'data analyst'\n",
      "\n",
      "\n",
      "From : Wakefit <info@wakefit.co.in>\n",
      "\n",
      "Subject : Suffering from mid-week blues? We have a solution.\n",
      "\n",
      "\n",
      "From : Neha from ClearTax <support@cleartax.in>\n",
      "\n",
      "Subject : Tax filing simplified! File now on ClearTax\n",
      "\n",
      "\n",
      "From : =?UTF-8?B?U3VjY2Vzc2Z1bGx5IFRyYW5zZmVycmVk?= <noreply@way2sms.in>\n",
      "\n",
      "Subject : =?UTF-8?B?RGVhciBhYmhpc2hlayBrdWxrYXJuaS5Zb3VyIEEvQyBjYW4gYmVDcmVkaXRlZCB3aXRoIFJzLjU1MCwwMDA=?=\n",
      "\n",
      "\n",
      "From : ETMasterclass<promo@etenergyworld.com>\n",
      "\n",
      "Subject : Dr. Ram Charan's Digital Transformation Strategy Masterclass | 29 June, Mumbai\n",
      "\n",
      "\n",
      "From : LinkedIn Job Alerts <jobalerts-noreply@linkedin.com>\n",
      "\n",
      "Subject : 12 new jobs for 'data scientist'\n",
      "\n",
      "\n",
      "From : \"Sophia at Univ.AI\" <hello@univ.ai>\n",
      "\n",
      "Subject : =?utf-8?Q?Basics_of_Data_Science_Demo_Class_w/_Harvard_professor_=E2=80=A2_Register_now?=\n",
      "\n",
      "\n",
      "From : =?UTF-8?B?VGVybSBJbnN1cmFuY2U=?= <noreply@way2sms.in>\n",
      "\n",
      "Subject : =?UTF-8?B?YWJoaXNoZWsga3Vsa2FybmksU2F2ZSBUYXggJiBHZXQgMSBDciBUZXJtIEluc3VyYW5jZSBTdGFydGluZyBAIDQ5MC9tb250aCouIENvbXBhcmUgYXQgUG9saWN5YmF6YWFyLg==?=\n",
      "\n",
      "\n",
      "From : Varsity Tutors <do.not.reply@varsitytutors.com>\n",
      "\n",
      "Subject : Question of the Day: GRE Verbal\n",
      "\n",
      "\n",
      "From : Santhosh Kumar Selvam <invitations@linkedin.com>\n",
      "\n",
      "Subject : =?UTF-8?Q?I=E2=80=99d_like_to_connect?=\n",
      "\n",
      "\n",
      "From : ETAuto Latest News<newsletter@etauto.com>\n",
      "\n",
      "Subject : Tata beats Hyundai 2nd time in 6 months | Tyre Inc needs big investments for EVs | Global chip shortage to last through 2023\n",
      "\n",
      "\n",
      "From : Quora Digest <english-personalized-digest@quora.com>\n",
      "\n",
      "Subject : =?utf-8?q?My_GRE_score_is_297_=28quant_156_verbal_141=29_and_I_have_one_year?=\n",
      " =?utf-8?q?_job_experience=2E_Which_=2E=2E=2E=3F?=\n",
      "\n",
      "\n",
      "From : \"Facebook\" <birthdays@facebookmail.com>\n",
      "\n",
      "Subject : =?UTF-8?B?8J+OgiBOYXZlZW4gSGVuaXRo?=\n",
      " =?UTF-8?B?IGFuZCBCaGFnYXZhdCBQ?=\n",
      " =?UTF-8?B?YXRpbCBoYXZlIGJpcnRo?=\n",
      " =?UTF-8?B?ZGF5cyB0b2RheQ==?=\n",
      "\n",
      "\n",
      "From : ETEnergyworld Latest News<newsletter@etenergyworld.com>\n",
      "\n",
      "Subject : Discom losses widened to Rs 59,000 cr| RE output helps India ease coal shortage| CESL plans 50,000 e-buses tender\n",
      "\n",
      "\n",
      "From : Medium Daily Digest <noreply@medium.com>\n",
      "\n",
      "Subject : Create an Interactive Web App with PyScript and Pandas | Alan Jones\n",
      " in Towards Data Science\n",
      "\n",
      "\n",
      "From : =?UTF-8?B?S2F0IGRlIExhcmE=?= <linkedin@e.linkedin.com>\n",
      "\n",
      "Subject : Solutions to common hiring challenges\n",
      "\n",
      "\n",
      "From : '\"\"ADT\"\"' <info_1j5TmpQ7p2MT@v387xru3enxp.national5maths.net>\n",
      "\n",
      "Subject : FreeVideoDoorbell\n",
      "\n",
      "\n",
      "From : Kaggle <noreply@kaggle.com>\n",
      "\n",
      "Subject : [Reminder] Learn how Google, Uber, and Ford do ML at the Applied ML Summit\n",
      "\n",
      "\n",
      "From : Rupashree Baral <rupashreeiitm@gmail.com>\n",
      "\n",
      "Subject : Resumption of Biometric Attendance for Research Scholars - Reg.\n",
      "\n",
      "\n",
      "From : NXP <nxpupdt1@contact.nxp.com>\n",
      "\n",
      "Subject : From Motor Control to Motion =?utf-8?b?Q29udHJvbOKAr3w=?= Design with\n",
      " Us\n",
      "\n",
      "\n",
      "From : \"iNeuron.ai\" <contact@ineuron.ai>\n",
      "\n",
      "Subject : Class Cancellation\n",
      "\n",
      "\n",
      "From : Myntra <updates@myntra.com>\n",
      "\n",
      "Subject : =?UTF-8?Q?We_Dare_You_To_Do_These_=F0=9F=98=88?=\n",
      "\n",
      "\n",
      "From : LinkedIn Job Alerts <jobalerts-noreply@linkedin.com>\n",
      "\n",
      "Subject : 30+ new jobs for 'data analyst'\n",
      "\n",
      "\n"
     ]
    },
    {
     "ename": "KeyboardInterrupt",
     "evalue": "",
     "output_type": "error",
     "traceback": [
      "\u001b[0;31m---------------------------------------------------------------------------\u001b[0m",
      "\u001b[0;31mKeyboardInterrupt\u001b[0m                         Traceback (most recent call last)",
      "\u001b[0;32m/var/folders/rf/q0z74l9x0pl5jc09_0kn0gnc0000gn/T/ipykernel_2559/2223956630.py\u001b[0m in \u001b[0;36m<module>\u001b[0;34m\u001b[0m\n\u001b[1;32m      2\u001b[0m \u001b[0mpassword\u001b[0m \u001b[0;34m=\u001b[0m \u001b[0;34m'nkppmgcdletdcpkx'\u001b[0m\u001b[0;34m\u001b[0m\u001b[0;34m\u001b[0m\u001b[0m\n\u001b[1;32m      3\u001b[0m \u001b[0mimap_url\u001b[0m \u001b[0;34m=\u001b[0m \u001b[0;34m'imap.gmail.com'\u001b[0m\u001b[0;34m\u001b[0m\u001b[0;34m\u001b[0m\u001b[0m\n\u001b[0;32m----> 4\u001b[0;31m \u001b[0mfun14\u001b[0m\u001b[0;34m(\u001b[0m\u001b[0muser\u001b[0m\u001b[0;34m,\u001b[0m\u001b[0mpassword\u001b[0m\u001b[0;34m,\u001b[0m\u001b[0mimap_url\u001b[0m\u001b[0;34m)\u001b[0m\u001b[0;34m\u001b[0m\u001b[0;34m\u001b[0m\u001b[0m\n\u001b[0m",
      "\u001b[0;32m/var/folders/rf/q0z74l9x0pl5jc09_0kn0gnc0000gn/T/ipykernel_2559/2510303585.py\u001b[0m in \u001b[0;36mfun14\u001b[0;34m(user, password, imap_url)\u001b[0m\n\u001b[1;32m     14\u001b[0m \u001b[0;34m\u001b[0m\u001b[0m\n\u001b[1;32m     15\u001b[0m     \u001b[0;32mfor\u001b[0m \u001b[0mi\u001b[0m \u001b[0;32min\u001b[0m \u001b[0mrange\u001b[0m\u001b[0;34m(\u001b[0m\u001b[0mlatest_email_id\u001b[0m\u001b[0;34m,\u001b[0m\u001b[0mfirst_email_id\u001b[0m\u001b[0;34m,\u001b[0m \u001b[0;34m-\u001b[0m\u001b[0;36m1\u001b[0m\u001b[0;34m)\u001b[0m\u001b[0;34m:\u001b[0m\u001b[0;34m\u001b[0m\u001b[0;34m\u001b[0m\u001b[0m\n\u001b[0;32m---> 16\u001b[0;31m             \u001b[0mdata\u001b[0m \u001b[0;34m=\u001b[0m \u001b[0mcon\u001b[0m\u001b[0;34m.\u001b[0m\u001b[0mfetch\u001b[0m\u001b[0;34m(\u001b[0m\u001b[0mstr\u001b[0m\u001b[0;34m(\u001b[0m\u001b[0mi\u001b[0m\u001b[0;34m)\u001b[0m\u001b[0;34m,\u001b[0m \u001b[0;34m'(RFC822)'\u001b[0m \u001b[0;34m)\u001b[0m\u001b[0;34m\u001b[0m\u001b[0;34m\u001b[0m\u001b[0m\n\u001b[0m\u001b[1;32m     17\u001b[0m             \u001b[0;32mfor\u001b[0m \u001b[0mresponse_part\u001b[0m \u001b[0;32min\u001b[0m \u001b[0mdata\u001b[0m\u001b[0;34m:\u001b[0m\u001b[0;34m\u001b[0m\u001b[0;34m\u001b[0m\u001b[0m\n\u001b[1;32m     18\u001b[0m                 \u001b[0marr\u001b[0m \u001b[0;34m=\u001b[0m \u001b[0mresponse_part\u001b[0m\u001b[0;34m[\u001b[0m\u001b[0;36m0\u001b[0m\u001b[0;34m]\u001b[0m\u001b[0;34m\u001b[0m\u001b[0;34m\u001b[0m\u001b[0m\n",
      "\u001b[0;32m/opt/anaconda3/lib/python3.9/imaplib.py\u001b[0m in \u001b[0;36mfetch\u001b[0;34m(self, message_set, message_parts)\u001b[0m\n\u001b[1;32m    546\u001b[0m         \"\"\"\n\u001b[1;32m    547\u001b[0m         \u001b[0mname\u001b[0m \u001b[0;34m=\u001b[0m \u001b[0;34m'FETCH'\u001b[0m\u001b[0;34m\u001b[0m\u001b[0;34m\u001b[0m\u001b[0m\n\u001b[0;32m--> 548\u001b[0;31m         \u001b[0mtyp\u001b[0m\u001b[0;34m,\u001b[0m \u001b[0mdat\u001b[0m \u001b[0;34m=\u001b[0m \u001b[0mself\u001b[0m\u001b[0;34m.\u001b[0m\u001b[0m_simple_command\u001b[0m\u001b[0;34m(\u001b[0m\u001b[0mname\u001b[0m\u001b[0;34m,\u001b[0m \u001b[0mmessage_set\u001b[0m\u001b[0;34m,\u001b[0m \u001b[0mmessage_parts\u001b[0m\u001b[0;34m)\u001b[0m\u001b[0;34m\u001b[0m\u001b[0;34m\u001b[0m\u001b[0m\n\u001b[0m\u001b[1;32m    549\u001b[0m         \u001b[0;32mreturn\u001b[0m \u001b[0mself\u001b[0m\u001b[0;34m.\u001b[0m\u001b[0m_untagged_response\u001b[0m\u001b[0;34m(\u001b[0m\u001b[0mtyp\u001b[0m\u001b[0;34m,\u001b[0m \u001b[0mdat\u001b[0m\u001b[0;34m,\u001b[0m \u001b[0mname\u001b[0m\u001b[0;34m)\u001b[0m\u001b[0;34m\u001b[0m\u001b[0;34m\u001b[0m\u001b[0m\n\u001b[1;32m    550\u001b[0m \u001b[0;34m\u001b[0m\u001b[0m\n",
      "\u001b[0;32m/opt/anaconda3/lib/python3.9/imaplib.py\u001b[0m in \u001b[0;36m_simple_command\u001b[0;34m(self, name, *args)\u001b[0m\n\u001b[1;32m   1228\u001b[0m     \u001b[0;32mdef\u001b[0m \u001b[0m_simple_command\u001b[0m\u001b[0;34m(\u001b[0m\u001b[0mself\u001b[0m\u001b[0;34m,\u001b[0m \u001b[0mname\u001b[0m\u001b[0;34m,\u001b[0m \u001b[0;34m*\u001b[0m\u001b[0margs\u001b[0m\u001b[0;34m)\u001b[0m\u001b[0;34m:\u001b[0m\u001b[0;34m\u001b[0m\u001b[0;34m\u001b[0m\u001b[0m\n\u001b[1;32m   1229\u001b[0m \u001b[0;34m\u001b[0m\u001b[0m\n\u001b[0;32m-> 1230\u001b[0;31m         \u001b[0;32mreturn\u001b[0m \u001b[0mself\u001b[0m\u001b[0;34m.\u001b[0m\u001b[0m_command_complete\u001b[0m\u001b[0;34m(\u001b[0m\u001b[0mname\u001b[0m\u001b[0;34m,\u001b[0m \u001b[0mself\u001b[0m\u001b[0;34m.\u001b[0m\u001b[0m_command\u001b[0m\u001b[0;34m(\u001b[0m\u001b[0mname\u001b[0m\u001b[0;34m,\u001b[0m \u001b[0;34m*\u001b[0m\u001b[0margs\u001b[0m\u001b[0;34m)\u001b[0m\u001b[0;34m)\u001b[0m\u001b[0;34m\u001b[0m\u001b[0;34m\u001b[0m\u001b[0m\n\u001b[0m\u001b[1;32m   1231\u001b[0m \u001b[0;34m\u001b[0m\u001b[0m\n\u001b[1;32m   1232\u001b[0m \u001b[0;34m\u001b[0m\u001b[0m\n",
      "\u001b[0;32m/opt/anaconda3/lib/python3.9/imaplib.py\u001b[0m in \u001b[0;36m_command_complete\u001b[0;34m(self, name, tag)\u001b[0m\n\u001b[1;32m   1045\u001b[0m             \u001b[0mself\u001b[0m\u001b[0;34m.\u001b[0m\u001b[0m_check_bye\u001b[0m\u001b[0;34m(\u001b[0m\u001b[0;34m)\u001b[0m\u001b[0;34m\u001b[0m\u001b[0;34m\u001b[0m\u001b[0m\n\u001b[1;32m   1046\u001b[0m         \u001b[0;32mtry\u001b[0m\u001b[0;34m:\u001b[0m\u001b[0;34m\u001b[0m\u001b[0;34m\u001b[0m\u001b[0m\n\u001b[0;32m-> 1047\u001b[0;31m             \u001b[0mtyp\u001b[0m\u001b[0;34m,\u001b[0m \u001b[0mdata\u001b[0m \u001b[0;34m=\u001b[0m \u001b[0mself\u001b[0m\u001b[0;34m.\u001b[0m\u001b[0m_get_tagged_response\u001b[0m\u001b[0;34m(\u001b[0m\u001b[0mtag\u001b[0m\u001b[0;34m,\u001b[0m \u001b[0mexpect_bye\u001b[0m\u001b[0;34m=\u001b[0m\u001b[0mlogout\u001b[0m\u001b[0;34m)\u001b[0m\u001b[0;34m\u001b[0m\u001b[0;34m\u001b[0m\u001b[0m\n\u001b[0m\u001b[1;32m   1048\u001b[0m         \u001b[0;32mexcept\u001b[0m \u001b[0mself\u001b[0m\u001b[0;34m.\u001b[0m\u001b[0mabort\u001b[0m \u001b[0;32mas\u001b[0m \u001b[0mval\u001b[0m\u001b[0;34m:\u001b[0m\u001b[0;34m\u001b[0m\u001b[0;34m\u001b[0m\u001b[0m\n\u001b[1;32m   1049\u001b[0m             \u001b[0;32mraise\u001b[0m \u001b[0mself\u001b[0m\u001b[0;34m.\u001b[0m\u001b[0mabort\u001b[0m\u001b[0;34m(\u001b[0m\u001b[0;34m'command: %s => %s'\u001b[0m \u001b[0;34m%\u001b[0m \u001b[0;34m(\u001b[0m\u001b[0mname\u001b[0m\u001b[0;34m,\u001b[0m \u001b[0mval\u001b[0m\u001b[0;34m)\u001b[0m\u001b[0;34m)\u001b[0m\u001b[0;34m\u001b[0m\u001b[0;34m\u001b[0m\u001b[0m\n",
      "\u001b[0;32m/opt/anaconda3/lib/python3.9/imaplib.py\u001b[0m in \u001b[0;36m_get_tagged_response\u001b[0;34m(self, tag, expect_bye)\u001b[0m\n\u001b[1;32m   1171\u001b[0m \u001b[0;34m\u001b[0m\u001b[0m\n\u001b[1;32m   1172\u001b[0m             \u001b[0;32mtry\u001b[0m\u001b[0;34m:\u001b[0m\u001b[0;34m\u001b[0m\u001b[0;34m\u001b[0m\u001b[0m\n\u001b[0;32m-> 1173\u001b[0;31m                 \u001b[0mself\u001b[0m\u001b[0;34m.\u001b[0m\u001b[0m_get_response\u001b[0m\u001b[0;34m(\u001b[0m\u001b[0;34m)\u001b[0m\u001b[0;34m\u001b[0m\u001b[0;34m\u001b[0m\u001b[0m\n\u001b[0m\u001b[1;32m   1174\u001b[0m             \u001b[0;32mexcept\u001b[0m \u001b[0mself\u001b[0m\u001b[0;34m.\u001b[0m\u001b[0mabort\u001b[0m \u001b[0;32mas\u001b[0m \u001b[0mval\u001b[0m\u001b[0;34m:\u001b[0m\u001b[0;34m\u001b[0m\u001b[0;34m\u001b[0m\u001b[0m\n\u001b[1;32m   1175\u001b[0m                 \u001b[0;32mif\u001b[0m \u001b[0m__debug__\u001b[0m\u001b[0;34m:\u001b[0m\u001b[0;34m\u001b[0m\u001b[0;34m\u001b[0m\u001b[0m\n",
      "\u001b[0;32m/opt/anaconda3/lib/python3.9/imaplib.py\u001b[0m in \u001b[0;36m_get_response\u001b[0;34m(self)\u001b[0m\n\u001b[1;32m   1073\u001b[0m         \u001b[0;31m# otherwise first response line received.\u001b[0m\u001b[0;34m\u001b[0m\u001b[0;34m\u001b[0m\u001b[0m\n\u001b[1;32m   1074\u001b[0m \u001b[0;34m\u001b[0m\u001b[0m\n\u001b[0;32m-> 1075\u001b[0;31m         \u001b[0mresp\u001b[0m \u001b[0;34m=\u001b[0m \u001b[0mself\u001b[0m\u001b[0;34m.\u001b[0m\u001b[0m_get_line\u001b[0m\u001b[0;34m(\u001b[0m\u001b[0;34m)\u001b[0m\u001b[0;34m\u001b[0m\u001b[0;34m\u001b[0m\u001b[0m\n\u001b[0m\u001b[1;32m   1076\u001b[0m \u001b[0;34m\u001b[0m\u001b[0m\n\u001b[1;32m   1077\u001b[0m         \u001b[0;31m# Command completion response?\u001b[0m\u001b[0;34m\u001b[0m\u001b[0;34m\u001b[0m\u001b[0m\n",
      "\u001b[0;32m/opt/anaconda3/lib/python3.9/imaplib.py\u001b[0m in \u001b[0;36m_get_line\u001b[0;34m(self)\u001b[0m\n\u001b[1;32m   1181\u001b[0m     \u001b[0;32mdef\u001b[0m \u001b[0m_get_line\u001b[0m\u001b[0;34m(\u001b[0m\u001b[0mself\u001b[0m\u001b[0;34m)\u001b[0m\u001b[0;34m:\u001b[0m\u001b[0;34m\u001b[0m\u001b[0;34m\u001b[0m\u001b[0m\n\u001b[1;32m   1182\u001b[0m \u001b[0;34m\u001b[0m\u001b[0m\n\u001b[0;32m-> 1183\u001b[0;31m         \u001b[0mline\u001b[0m \u001b[0;34m=\u001b[0m \u001b[0mself\u001b[0m\u001b[0;34m.\u001b[0m\u001b[0mreadline\u001b[0m\u001b[0;34m(\u001b[0m\u001b[0;34m)\u001b[0m\u001b[0;34m\u001b[0m\u001b[0;34m\u001b[0m\u001b[0m\n\u001b[0m\u001b[1;32m   1184\u001b[0m         \u001b[0;32mif\u001b[0m \u001b[0;32mnot\u001b[0m \u001b[0mline\u001b[0m\u001b[0;34m:\u001b[0m\u001b[0;34m\u001b[0m\u001b[0;34m\u001b[0m\u001b[0m\n\u001b[1;32m   1185\u001b[0m             \u001b[0;32mraise\u001b[0m \u001b[0mself\u001b[0m\u001b[0;34m.\u001b[0m\u001b[0mabort\u001b[0m\u001b[0;34m(\u001b[0m\u001b[0;34m'socket error: EOF'\u001b[0m\u001b[0;34m)\u001b[0m\u001b[0;34m\u001b[0m\u001b[0;34m\u001b[0m\u001b[0m\n",
      "\u001b[0;32m/opt/anaconda3/lib/python3.9/imaplib.py\u001b[0m in \u001b[0;36mreadline\u001b[0;34m(self)\u001b[0m\n\u001b[1;32m    321\u001b[0m     \u001b[0;32mdef\u001b[0m \u001b[0mreadline\u001b[0m\u001b[0;34m(\u001b[0m\u001b[0mself\u001b[0m\u001b[0;34m)\u001b[0m\u001b[0;34m:\u001b[0m\u001b[0;34m\u001b[0m\u001b[0;34m\u001b[0m\u001b[0m\n\u001b[1;32m    322\u001b[0m         \u001b[0;34m\"\"\"Read line from remote.\"\"\"\u001b[0m\u001b[0;34m\u001b[0m\u001b[0;34m\u001b[0m\u001b[0m\n\u001b[0;32m--> 323\u001b[0;31m         \u001b[0mline\u001b[0m \u001b[0;34m=\u001b[0m \u001b[0mself\u001b[0m\u001b[0;34m.\u001b[0m\u001b[0mfile\u001b[0m\u001b[0;34m.\u001b[0m\u001b[0mreadline\u001b[0m\u001b[0;34m(\u001b[0m\u001b[0m_MAXLINE\u001b[0m \u001b[0;34m+\u001b[0m \u001b[0;36m1\u001b[0m\u001b[0;34m)\u001b[0m\u001b[0;34m\u001b[0m\u001b[0;34m\u001b[0m\u001b[0m\n\u001b[0m\u001b[1;32m    324\u001b[0m         \u001b[0;32mif\u001b[0m \u001b[0mlen\u001b[0m\u001b[0;34m(\u001b[0m\u001b[0mline\u001b[0m\u001b[0;34m)\u001b[0m \u001b[0;34m>\u001b[0m \u001b[0m_MAXLINE\u001b[0m\u001b[0;34m:\u001b[0m\u001b[0;34m\u001b[0m\u001b[0;34m\u001b[0m\u001b[0m\n\u001b[1;32m    325\u001b[0m             \u001b[0;32mraise\u001b[0m \u001b[0mself\u001b[0m\u001b[0;34m.\u001b[0m\u001b[0merror\u001b[0m\u001b[0;34m(\u001b[0m\u001b[0;34m\"got more than %d bytes\"\u001b[0m \u001b[0;34m%\u001b[0m \u001b[0m_MAXLINE\u001b[0m\u001b[0;34m)\u001b[0m\u001b[0;34m\u001b[0m\u001b[0;34m\u001b[0m\u001b[0m\n",
      "\u001b[0;32m/opt/anaconda3/lib/python3.9/socket.py\u001b[0m in \u001b[0;36mreadinto\u001b[0;34m(self, b)\u001b[0m\n\u001b[1;32m    702\u001b[0m         \u001b[0;32mwhile\u001b[0m \u001b[0;32mTrue\u001b[0m\u001b[0;34m:\u001b[0m\u001b[0;34m\u001b[0m\u001b[0;34m\u001b[0m\u001b[0m\n\u001b[1;32m    703\u001b[0m             \u001b[0;32mtry\u001b[0m\u001b[0;34m:\u001b[0m\u001b[0;34m\u001b[0m\u001b[0;34m\u001b[0m\u001b[0m\n\u001b[0;32m--> 704\u001b[0;31m                 \u001b[0;32mreturn\u001b[0m \u001b[0mself\u001b[0m\u001b[0;34m.\u001b[0m\u001b[0m_sock\u001b[0m\u001b[0;34m.\u001b[0m\u001b[0mrecv_into\u001b[0m\u001b[0;34m(\u001b[0m\u001b[0mb\u001b[0m\u001b[0;34m)\u001b[0m\u001b[0;34m\u001b[0m\u001b[0;34m\u001b[0m\u001b[0m\n\u001b[0m\u001b[1;32m    705\u001b[0m             \u001b[0;32mexcept\u001b[0m \u001b[0mtimeout\u001b[0m\u001b[0;34m:\u001b[0m\u001b[0;34m\u001b[0m\u001b[0;34m\u001b[0m\u001b[0m\n\u001b[1;32m    706\u001b[0m                 \u001b[0mself\u001b[0m\u001b[0;34m.\u001b[0m\u001b[0m_timeout_occurred\u001b[0m \u001b[0;34m=\u001b[0m \u001b[0;32mTrue\u001b[0m\u001b[0;34m\u001b[0m\u001b[0;34m\u001b[0m\u001b[0m\n",
      "\u001b[0;32m/opt/anaconda3/lib/python3.9/ssl.py\u001b[0m in \u001b[0;36mrecv_into\u001b[0;34m(self, buffer, nbytes, flags)\u001b[0m\n\u001b[1;32m   1239\u001b[0m                   \u001b[0;34m\"non-zero flags not allowed in calls to recv_into() on %s\"\u001b[0m \u001b[0;34m%\u001b[0m\u001b[0;34m\u001b[0m\u001b[0;34m\u001b[0m\u001b[0m\n\u001b[1;32m   1240\u001b[0m                   self.__class__)\n\u001b[0;32m-> 1241\u001b[0;31m             \u001b[0;32mreturn\u001b[0m \u001b[0mself\u001b[0m\u001b[0;34m.\u001b[0m\u001b[0mread\u001b[0m\u001b[0;34m(\u001b[0m\u001b[0mnbytes\u001b[0m\u001b[0;34m,\u001b[0m \u001b[0mbuffer\u001b[0m\u001b[0;34m)\u001b[0m\u001b[0;34m\u001b[0m\u001b[0;34m\u001b[0m\u001b[0m\n\u001b[0m\u001b[1;32m   1242\u001b[0m         \u001b[0;32melse\u001b[0m\u001b[0;34m:\u001b[0m\u001b[0;34m\u001b[0m\u001b[0;34m\u001b[0m\u001b[0m\n\u001b[1;32m   1243\u001b[0m             \u001b[0;32mreturn\u001b[0m \u001b[0msuper\u001b[0m\u001b[0;34m(\u001b[0m\u001b[0;34m)\u001b[0m\u001b[0;34m.\u001b[0m\u001b[0mrecv_into\u001b[0m\u001b[0;34m(\u001b[0m\u001b[0mbuffer\u001b[0m\u001b[0;34m,\u001b[0m \u001b[0mnbytes\u001b[0m\u001b[0;34m,\u001b[0m \u001b[0mflags\u001b[0m\u001b[0;34m)\u001b[0m\u001b[0;34m\u001b[0m\u001b[0;34m\u001b[0m\u001b[0m\n",
      "\u001b[0;32m/opt/anaconda3/lib/python3.9/ssl.py\u001b[0m in \u001b[0;36mread\u001b[0;34m(self, len, buffer)\u001b[0m\n\u001b[1;32m   1097\u001b[0m         \u001b[0;32mtry\u001b[0m\u001b[0;34m:\u001b[0m\u001b[0;34m\u001b[0m\u001b[0;34m\u001b[0m\u001b[0m\n\u001b[1;32m   1098\u001b[0m             \u001b[0;32mif\u001b[0m \u001b[0mbuffer\u001b[0m \u001b[0;32mis\u001b[0m \u001b[0;32mnot\u001b[0m \u001b[0;32mNone\u001b[0m\u001b[0;34m:\u001b[0m\u001b[0;34m\u001b[0m\u001b[0;34m\u001b[0m\u001b[0m\n\u001b[0;32m-> 1099\u001b[0;31m                 \u001b[0;32mreturn\u001b[0m \u001b[0mself\u001b[0m\u001b[0;34m.\u001b[0m\u001b[0m_sslobj\u001b[0m\u001b[0;34m.\u001b[0m\u001b[0mread\u001b[0m\u001b[0;34m(\u001b[0m\u001b[0mlen\u001b[0m\u001b[0;34m,\u001b[0m \u001b[0mbuffer\u001b[0m\u001b[0;34m)\u001b[0m\u001b[0;34m\u001b[0m\u001b[0;34m\u001b[0m\u001b[0m\n\u001b[0m\u001b[1;32m   1100\u001b[0m             \u001b[0;32melse\u001b[0m\u001b[0;34m:\u001b[0m\u001b[0;34m\u001b[0m\u001b[0;34m\u001b[0m\u001b[0m\n\u001b[1;32m   1101\u001b[0m                 \u001b[0;32mreturn\u001b[0m \u001b[0mself\u001b[0m\u001b[0;34m.\u001b[0m\u001b[0m_sslobj\u001b[0m\u001b[0;34m.\u001b[0m\u001b[0mread\u001b[0m\u001b[0;34m(\u001b[0m\u001b[0mlen\u001b[0m\u001b[0;34m)\u001b[0m\u001b[0;34m\u001b[0m\u001b[0;34m\u001b[0m\u001b[0m\n",
      "\u001b[0;31mKeyboardInterrupt\u001b[0m: "
     ]
    }
   ],
   "source": [
    "user = 'abhikulkarni20@gmail.com'\n",
    "password = 'nkppmgcdletdcpkx'\n",
    "imap_url = 'imap.gmail.com'\n",
    "fun14(user,password,imap_url)"
   ]
  },
  {
   "cell_type": "code",
   "execution_count": null,
   "id": "9de2abb7",
   "metadata": {},
   "outputs": [],
   "source": [
    "fun14(user,password,imap_url)"
   ]
  },
  {
   "cell_type": "markdown",
   "id": "51889c8d",
   "metadata": {},
   "source": [
    "# 15.A function to send mails to desired receivers\n",
    "\n",
    "\n"
   ]
  },
  {
   "cell_type": "code",
   "execution_count": 19,
   "id": "56f386d0",
   "metadata": {},
   "outputs": [],
   "source": [
    "import smtplib\n",
    "from email.mime.multipart import MIMEMultipart\n",
    "from email.mime.text import MIMEText"
   ]
  },
  {
   "cell_type": "code",
   "execution_count": 20,
   "id": "712f5a74",
   "metadata": {},
   "outputs": [],
   "source": [
    "def f15 (sender_address,sender_pass,receiver_address,mail_content):\n",
    "    \"\"\"This is a function to send mail to an intended receiver\"\"\"\n",
    "    message = MIMEMultipart()\n",
    "    message['From'] = sender_address\n",
    "    message['To'] = receiver_address\n",
    "    message['Subject'] = 'A test mail sent by Python'\n",
    "    \n",
    "    message.attach(MIMEText(mail_content, 'plain'))\n",
    "    session = smtplib.SMTP('smtp.gmail.com', 587)\n",
    "    session.starttls()\n",
    "    session.login(sender_address, sender_pass) \n",
    "    text = message.as_string()\n",
    "    session.sendmail(sender_address, receiver_address, text)\n",
    "    session.quit()\n",
    "    print('Mail Sent')"
   ]
  },
  {
   "cell_type": "code",
   "execution_count": 21,
   "id": "bc3c8a7d",
   "metadata": {},
   "outputs": [
    {
     "name": "stdout",
     "output_type": "stream",
     "text": [
      "Mail Sent\n"
     ]
    }
   ],
   "source": [
    "mail_content = '''Hello,\n",
    "This is a mail sent using Python SMTP library.\n",
    "Thank You'''\n",
    "sender_address = 'abhikulkarni20@gmail.com'\n",
    "sender_pass = 'nkppmgcdletdcpkx'\n",
    "receiver_address = 'abhaykulkarni567@gmail.com'\n",
    "f15(sender_address ,sender_pass ,receiver_address,mail_content)"
   ]
  },
  {
   "cell_type": "markdown",
   "id": "d4e5da9a",
   "metadata": {},
   "source": [
    "# Q16. A function to read PDF files"
   ]
  },
  {
   "cell_type": "code",
   "execution_count": 6,
   "id": "3b0d0bbf",
   "metadata": {},
   "outputs": [],
   "source": [
    "import PyPDF2"
   ]
  },
  {
   "cell_type": "code",
   "execution_count": 7,
   "id": "3f9f6283",
   "metadata": {},
   "outputs": [],
   "source": [
    "def f16 (Add):\n",
    "    \"\"\"This is a function to read a PDF file\"\"\"\n",
    "    pdfFileObj = open(Add, 'rb')\n",
    "    pdfReader = PyPDF2.PdfFileReader(pdfFileObj)\n",
    "    for i in range(pdfReader.numPages):\n",
    "        pageObj = pdfReader.getPage(i)\n",
    "        print(pageObj.extractText())\n",
    "    pdfFileObj.close()\n",
    "    "
   ]
  },
  {
   "cell_type": "code",
   "execution_count": 8,
   "id": "784f3062",
   "metadata": {},
   "outputs": [
    {
     "name": "stdout",
     "output_type": "stream",
     "text": [
      " \n",
      " \n",
      "Title\n",
      " \n",
      "Subtitle\n",
      " \n",
      "\n",
      " \n",
      " \n",
      " \n",
      "2\n",
      " \n",
      "A DEFINITIVE GUIDE TO DESIGN FORMANUFACTURING SUCCESS\n",
      " \n",
      " \n",
      " \n",
      " \n",
      " \n",
      " \n",
      " \n",
      " \n",
      " \n",
      " \n",
      " \n",
      " \n",
      " \n",
      " \n",
      " \n",
      " \n",
      " \n",
      " \n",
      " \n",
      " \n",
      " \n",
      " \n",
      "Spot \n",
      "Weld\n",
      "ing DesignGuidelines\n",
      " \n",
      "IssueXV\n",
      "II,Feb2016\n",
      " \n",
      " \n",
      " \n",
      " \n",
      " \n",
      "\n",
      " \n",
      " \n",
      " \n",
      "3\n",
      " \n",
      "A DEFINITIVE GUIDE TO DESIGN FORM\n",
      "ANUFACTURING SUCCESS\n",
      " \n",
      "CopyrightNotice\n",
      " \n",
      "© Geometric Limited.All rights reserved.\n",
      " \n",
      "No part of this document (whether in hardcopy or electronic form) may bereproduced,stored in aretrieval system, \n",
      "ortransmitted,inanyformorbyanymeans,electronic, \n",
      "mechanical,photocopying,recording,orotherwise,toany \n",
      "thirdpartywithoutthewrittenpermissionofGeometricLimited.GeometricLimitedreservestherighttochange \n",
      "the information contained in thisdocument withoutprior notice.\n",
      " \n",
      "Thenamesortrademar\n",
      "ksorregisteredtrademarksusedinthisdocumentarethesolepropertyoftherespective \n",
      "owners and aregoverned/ protected by the relevant trademark and copyright laws.\n",
      " \n",
      "This document is provided by Geometric Limited for informational purposes only, witho\n",
      "ut representation or \n",
      "warrantyofanykind,andGeometricLimitedshallnotbeliableforerrorsoromissionswithrespecttothe \n",
      "\u0001ˆ\u0001}\u0001\u0010\u0001µ\u0001u\u0001˚\u0001v\u0001Z\u0001˚\u0001]\u0001v\u0001(\u0001}\u0001„\u0001u\u0001\u0002\u0001ı\u0001]\u0001}\u0001v\u0001\u0010\u0001}\u0001v\u0001ı\u0001\u0002\u0001]\u0001v\u0001˚\u0001ˆ\u0001Z\u0001˚\u0001„\u0001˚\u0001]\u0001v\u0001]\u0001’\u0001›\u0001„\u0001}\u0001À\u0001]\u0001ˆ\u0001˚\u0001ˆ\u0001}\u0001v\u0001\u0002\u0001v\u0003^\n",
      "-\n",
      "\u0003_\u0001\u000f\u0001\u0002\u0001’\u0001]\u0001’\u0001\u0002\u0001v\u0001ˆ\u0001ı\u0001}\u0001ı\u0001Z\u0001˚\u0001u\u0001\u0002\u0001Æ\u0001]\u0001u\u0001µ\u0001u\u0001˚\u0001Æ\u0001ı\u0001˚\u0001v\u0001›\u0001˚\u0001„\u0001u\u0001]\u0001ı\u0001ı\u0001˚\u0001ˆ\n",
      "byapplicablela\n",
      "w,GeometricLimitedherebydisclaimsallotherwarrantiesandconditions,eitherexpress,implied \n",
      "orstatutory,includingbutnotlimitedto,any(ifany)impliedwarranties,dutiesorconditionsofmerchantability,of \n",
      "fitnessforaparticularpurpose,of\n",
      " \n",
      "accuracyorcompletenessofresponses,ofresults,ofworkmanlikeeffort,oflack \n",
      "of viruses, and of lack of negligence, all with regard to the document. \n",
      " \n",
      "THEREISNOWARRANTYORCONDITIONOFNON\n",
      "-\n",
      "INFRINGEMENTOFANYINTELLECTUALPROPERTYRIGHTSWITH \n",
      "REGAR\n",
      "DTOTHEDOCUMENT.INNOEVENTWILLGEOMETRICLIMITEDBELIABLETOANYOTHERPARTYFORLOST \n",
      "PROFITS,LOSSOFUSE,LOSSOFDATA,ORANYINCIDENTAL,CONSEQUENTIAL,DIRECT,INDIRECT,ORSPECIAL \n",
      "DAMAGESWHETHERUNDERCONTRACT,TORT,WARRANTY,OROTHERWISE,ARI\n",
      "SINGINANYWAYOUTOFTHIS \n",
      "DOCUMENT, WHETHER OR NOTSUCH PARTY HAD ADVANCE NOTICE OF THEPOSSIBILITY OF SUCHDAMAGES. \n",
      " \n",
      " \n",
      " \n",
      " \n",
      " \n",
      " \n",
      " \n",
      " \n",
      " \n",
      " \n",
      " \n",
      " \n",
      " \n",
      " \n",
      " \n",
      " \n",
      "\n",
      " \n",
      " \n",
      " \n",
      "4\n",
      " \n",
      "A DEFINITIVE GUIDE TO DESIGN FORMANUFACTURING SUCCESS\n",
      " \n",
      " \n",
      " \n",
      " \n",
      " \n",
      " \n",
      " \n",
      " \n",
      " \n",
      " \n",
      ".\n",
      " \n",
      " \n",
      " \n",
      " \n",
      " \n",
      " \n",
      " \n",
      " \n",
      " \n",
      " \n",
      " \n",
      " \n",
      " \n",
      " \n",
      " \n",
      " \n",
      " \n",
      " \n",
      " \n",
      " \n",
      " \n",
      " \n",
      " \n",
      "Wearepleasedtoshareanotherissueof DFMGuidebook.\n",
      " \n",
      " \n",
      "Inthisissuewewillcoversomebasicdesignguidelinesforspotwelding.\n",
      " \n",
      " \n",
      "Spotweldingisthemostreliableandeconomicalprocessforjoining \n",
      "togethertwoormoremetal \n",
      "sheets,stampingsorassemblies.Itiscommonlyusedforpartsthatareupto3mminthickness.\n",
      " \n",
      " \n",
      "Thedesignersofspotweldment\n",
      "s\n",
      " \n",
      "mustconsiderthesesimpledesignguidelinestoattainthe \n",
      "desiredweldstrengthandimprovethecos\n",
      "tandqualityoftheweld.\n",
      " \n",
      " \n",
      "Hereare\n",
      " \n",
      "someof theguidelines\n",
      " \n",
      "on spotweldingyoucanreadinthisissue:\n",
      " \n",
      "\n",
      " \n",
      "Spot WeldSpacing \n",
      " \n",
      "\n",
      " \n",
      "Spot WeldOverlap \n",
      "R\n",
      "egion\n",
      " \n",
      "\n",
      " \n",
      "Spot WeldToolClearance\n",
      " \n",
      "\n",
      " \n",
      "Spot WeldToEdgeDistance \n",
      " \n",
      "\n",
      " \n",
      "WeldNutToEdgeClearance\n",
      " \n",
      " \n",
      "If you have any feedback or questions on DFM guidebook, please \n",
      "write to us at \n",
      "info@dfmpro.com\n",
      " \n",
      " \n",
      "RahulRajadhyaksha\n",
      " \n",
      "SeniorProductManager\n",
      " \n",
      "GeometricLimited\n",
      " \n",
      " \n",
      " \n",
      " \n",
      "\n",
      " \n",
      " \n",
      " \n",
      "5\n",
      " \n",
      "A DEFINITIVE GUIDE TO DESIGN FORM\n",
      "ANUFACTURING SUCCESS\n",
      " \n",
      "Contents\n",
      " \n",
      "Spot WeldSpacing\n",
      " \n",
      "................................\n",
      "................................\n",
      "................................\n",
      "..\n",
      " \n",
      "6\n",
      " \n",
      "Spot WeldOverlapRegion\n",
      " \n",
      "................................\n",
      "................................\n",
      "......................\n",
      " \n",
      "7\n",
      " \n",
      "Spot WeldToolClearance\n",
      " \n",
      "................................\n",
      "................................\n",
      ".......................\n",
      " \n",
      "8\n",
      " \n",
      "Spot WeldTo \n",
      "EdgeDistance\n",
      " \n",
      "................................\n",
      "................................\n",
      "...................\n",
      " \n",
      "9\n",
      " \n",
      "WeldNutToEdgeClearance\n",
      " \n",
      "................................\n",
      "................................\n",
      "................\n",
      " \n",
      "10\n",
      " \n",
      " \n",
      " \n",
      " \n",
      " \n",
      " \n",
      " \n",
      " \n",
      " \n",
      " \n",
      " \n",
      " \n",
      " \n",
      " \n",
      " \n",
      " \n",
      " \n",
      " \n",
      " \n",
      " \n",
      " \n",
      "\n",
      " \n",
      " \n",
      " \n",
      "6\n",
      " \n",
      "A DEFINITIVE GUIDE TO DESIGN FORMANUFACTURING SUCCESS\n",
      " \n",
      " \n",
      "Spot WeldSpacing\n",
      " \n",
      "Recommended\n",
      " \n",
      "spacing\n",
      " \n",
      "betweentwospotweldsshouldbe \n",
      "followed\n",
      " \n",
      "to \n",
      "achieve\n",
      " \n",
      "goo\n",
      "dstrength, \n",
      "stiffnessandenergyabsorption\n",
      ".\n",
      " \n",
      "Distancebetweentwospotweldsdependson \n",
      "the \n",
      "sheetthicknessandmaterial.Narrowspacing \n",
      "betweentwoconsecutivespotweldsshouldbeavoidedtoachievegoodweldstrength. \n",
      " \n",
      "Itisrecommendedthat \n",
      "distancebe\n",
      "tween\n",
      " \n",
      "two\n",
      " \n",
      "spotweld\n",
      "s\n",
      " \n",
      "shouldbe \n",
      "aminimumof\n",
      " \n",
      "10time\n",
      "sthe\n",
      " \n",
      "material\n",
      " \n",
      "thickness\n",
      ".\n",
      " \n",
      " \n",
      " \n",
      " \n",
      " \n",
      " \n",
      " \n",
      " \n",
      " \n",
      " \n",
      " \n",
      " \n",
      " \n",
      " \n",
      "t\n",
      " \n",
      "= \n",
      "Thickness\n",
      " \n",
      "P\n",
      " \n",
      "= \n",
      "Pitch\n",
      " \n",
      " \n",
      " \n",
      " \n",
      " \n",
      " \n",
      " \n",
      " \n",
      " \n",
      "\n",
      " \n",
      " \n",
      " \n",
      "7\n",
      " \n",
      "A DEFINITIVE GUIDE TO DESIGN FORM\n",
      "ANUFACTURING SUCCESS\n",
      " \n",
      "Spot W\n",
      "eldOverlap Region\n",
      " \n",
      "S\n",
      "ufficientoverlapof\n",
      " \n",
      "individualsheetsbeingspotweldedisnecessaryt\n",
      "oobtainadequatejoint \n",
      "strengthandforuseofstandardelectrode\n",
      "s.\n",
      " \n",
      "Appropriateweldoverlaplengthisnecessary toget\n",
      ":\n",
      " \n",
      "\n",
      " \n",
      "Gooddimensionalaccuracyandreliableprod\n",
      "uction \n",
      " \n",
      "\n",
      " \n",
      "Joiningseveralmetallicmaterialsandsheetsofdifferentthicknessestogetherwithout \n",
      "largedeformations.\n",
      " \n",
      "Itisrecommendedthatspotweld \n",
      "overlapregion \n",
      "shouldbemorethan \n",
      "8mmindiameter.\n",
      " \n",
      "Howeveritcan\n",
      " \n",
      "varybasedonmaterialandsheetthickn\n",
      "ess.\n",
      " \n",
      " \n",
      " \n",
      "D=OverlapRegion\n",
      " \n",
      "R =Halfof overlapRegion\n",
      " \n",
      "C=MinimumDistance\n",
      " \n",
      " \n",
      " \n",
      " \n",
      " \n",
      " \n",
      " \n",
      " \n",
      "\n",
      " \n",
      " \n",
      " \n",
      "8\n",
      " \n",
      "A DEFINITIVE GUIDE TO DESIGN FORMANUFACTURING SUCCESS\n",
      " \n",
      " \n",
      "Spot WeldTool Clearance\n",
      " \n",
      "Sufficientclea\n",
      "rancearoundthespotweldshouldbemaintained \n",
      "toavoidtheinterferenceof\n",
      " \n",
      "weld \n",
      "gun\n",
      " \n",
      "withthepartsinthevicinity ofthespotweld.\n",
      " \n",
      "Maintainingthisclearancewillresultinachievingp\n",
      "rocessabilityandworkabilityinapplicationof \n",
      "spotwelds\n",
      ".\n",
      " \n",
      "Itisr\n",
      "ecommendedthatspotweldtoolclearanceshouldbemorethan3.0mmandclearance \n",
      "shouldbeprovidedaroundtheshankof theweldtool.\n",
      " \n",
      " \n",
      " \n",
      "L=ShankLength\n",
      " \n",
      "D=ShankDiameter\n",
      " \n",
      "L1=TipLength\n",
      " \n",
      "C=ShankClearance\n",
      " \n",
      " \n",
      " \n",
      " \n",
      " \n",
      "\n",
      " \n",
      " \n",
      " \n",
      "9\n",
      " \n",
      "A DEFINITIVE GUIDE TO DESIGN FORM\n",
      "ANUFACTURING SUCCESS\n",
      " \n",
      "Spot WeldTo EdgeDistance\n",
      " \n",
      "Sufficient spac\n",
      "ing between weld to \n",
      "edge of part feature \n",
      "s\n",
      "hould be \n",
      "maintained\n",
      " \n",
      "so that the \n",
      "electrodes can\n",
      " \n",
      "make proper contact with the s\n",
      "urfaces being joined without shifting\n",
      " \n",
      "to the \n",
      "adjacentwall.\n",
      " \n",
      "Ina\n",
      "dequatedistancemaylead\n",
      " \n",
      "topoor\n",
      "-\n",
      "qualityinweld\n",
      " \n",
      "andresultin \n",
      "disto\n",
      "rtion\n",
      " \n",
      "ofthepartsbeing \n",
      "joined.\n",
      " \n",
      "Itisrecommendedthatthe \n",
      "minimum \n",
      "distancefromcenterof \n",
      "spot \n",
      "weld \n",
      "center \n",
      "toedge=2x \n",
      "SportW\n",
      "eld \n",
      "D\n",
      "iameter\n",
      ". \n",
      " \n",
      "Also\n",
      " \n",
      "spotweldtoedgedistanceshouldbemorethan6.0mm\n",
      ".\n",
      " \n",
      " \n",
      "D=Distancebetweencenterof spotweldtoneighboringedgesofcomponent\n",
      " \n",
      " \n",
      " \n",
      " \n",
      " \n",
      " \n",
      " \n",
      " \n",
      "\n",
      " \n",
      " \n",
      " \n",
      "10\n",
      " \n",
      "A DEFINITIVE GUIDE TO DESIGN FORMANUFACTURING SUCCESS\n",
      " \n",
      " \n",
      "Weld Nutt\n",
      "oEdgeClearance \n",
      " \n",
      "Weldnutsare \n",
      "used \n",
      "toweldadditionalobjects,componentsorassem\n",
      "blies\n",
      " \n",
      "Thedistancebetweentheweldnut\n",
      "s\n",
      " \n",
      "toanyneighboringedgeshouldbe \n",
      "sufficient \n",
      "forthetoolto \n",
      "enterandperformtherequiredweldoperation.\n",
      " \n",
      "Itisrecommendedthattheminimumdistancebetweenweldnutandneighboringedgeshould \n",
      "greaterthan3mm\n",
      ".\n",
      " \n",
      " \n",
      " \n",
      " \n",
      " \n",
      " \n",
      " \n",
      "\n"
     ]
    }
   ],
   "source": [
    "Address=\"/Users/vinayaksonawane/Downloads/DFM-Guidebook-Welding-Design-Guidelines-Issue-XVII.pdf\"\n",
    "\n",
    "f16(Address)"
   ]
  },
  {
   "cell_type": "markdown",
   "id": "c91a2afc",
   "metadata": {},
   "source": [
    "# Q17. A function to read word document"
   ]
  },
  {
   "cell_type": "code",
   "execution_count": 11,
   "id": "cce88481",
   "metadata": {},
   "outputs": [],
   "source": [
    "import docx2txt\n",
    "def f17 (add):\n",
    "    \"\"\"This is a function to read and display a word file\"\"\"\n",
    "    my_text = docx2txt.process(add)\n",
    "    print(my_text)"
   ]
  },
  {
   "cell_type": "code",
   "execution_count": 13,
   "id": "f1a99396",
   "metadata": {},
   "outputs": [
    {
     "name": "stdout",
     "output_type": "stream",
     "text": [
      "HEADLINE\n",
      "\n",
      "Vinayak Sonawane\n",
      "\n",
      "Design Engineer: Concept Design and Execution, 2D/3D Modelling, Catia V5, Teamcenter PLM\n",
      "\n",
      "\n",
      "\n",
      "ABOUT or SUMMARY\n",
      "\n",
      "As a Design Engineer, I hold 6+ years of experience in providing high-quality designs that are practical, cost-effective, and result in the effective delivery of projects for clients in the automotive, aerospace, consumer & medical engineering, heavy & industrial engineering industries.\n",
      "\n",
      "\n",
      "\n",
      "While being quality-conscious and client-centric by nature, I have ensured that the designs serve the needs of clients and have been successful in delivering projects for major clients like Honda, Mitsubishi, Subaru, Ford, and Toyota.\n",
      "\n",
      "\n",
      "\n",
      "Specialities:\n",
      "\n",
      "Concept Design & Finalisation | 2D/3D Modelling & Detailing | Conducting Design Reviews | Finite Element Analysis | Project Management | Catia V5\n",
      "\n",
      "\n",
      "\n",
      "EXPERIENCE\n",
      "\n",
      "Design Engineer\n",
      "\n",
      "Adient India Private Limited\n",
      "\n",
      "Pune, Maharashtra, India\n",
      "\n",
      "Nov 2017 – Present\n",
      "\n",
      "➣Use CATIA to design the rear seats and front seats at different stages based on requests for quotations, requests for information, design verification and product validation plans\n",
      "\n",
      "➣Perform finite element analysis based on the necessary loads, and one pager tests for front impact, rear impact, and side impact as per IIHS and JNCAP assessment standards\n",
      "\n",
      "➣Create bill of materials, and process flows for welding, and conduct tool gun study for fasteners\n",
      "\n",
      "➣Undertake tolerance stack up analysis of various seat assemblies\n",
      "\n",
      "➣Conduct optimisation of automotive seat kinematics, along with safety layout, packaging layout, environment layout, and comfort layout study\n",
      "\n",
      "➣Coordinate with the SMTE team and suppliers to identify opportunities for improvements through design reviews\n",
      "\n",
      "➣Manage design-related changes and enhancements through change notifications and change requests on the Teamcenter PLM software\n",
      "\n",
      "\n",
      "\n",
      "Design Engineer\n",
      "\n",
      "Mahindra & Mahindra (Truck & Bus Division)\n",
      "\n",
      "Pune, Maharashtra, India\n",
      "\n",
      "April 2016 – Nov 2017\n",
      "\n",
      "➣Design various parts of intermediate commercial vehicles, light commercial vehicles, and heavy commercial vehicles\n",
      "\n",
      "➣Create 2D/3D design models of sheet metal brackets in Catia V5 for vehicle component mounting and packaging purposes, as well as Body-in-White (BIW) parts of trucks\n",
      "\n",
      "➣Develop benchmarks of doors and its aggregate parts\n",
      "\n",
      "➣Implement GD&T symbols in the designing process\n",
      "\n",
      "➣Perform door testing procedures like door slam, door sag, and oil canning\n",
      "\n",
      "\n",
      "\n",
      "Design Engineer\n",
      "\n",
      "Radhe Engineering Services and Solutions\n",
      "\n",
      "June 2014 – March 2016\n",
      "\n",
      "➣Create parametric models of sheet metal components\n",
      "\n",
      "➣Design plastic components by using plastic product design considerations, as well as reverse engineering components as per client’s requirements\n",
      "\n",
      "EDUCATION\n",
      "\n",
      "Bachelor of Engineering (Mechanical Engineering), Pune University, 2010 – 2014\n",
      "\n",
      "\n",
      "\n",
      "SKILLS\n",
      "\n",
      "Concept Design & Finalisation\n",
      "\n",
      "2D/3D Modelling & Detailing\n",
      "\n",
      "Conducting Design Reviews\n",
      "\n",
      "Finite Element Analysis\n",
      "\n",
      "Project Management\n",
      "\n",
      "Catia V5\n",
      "\n",
      "Teamcenter PLM\n",
      "\n",
      "\n",
      "\n",
      "LANGUAGES\n",
      "\n",
      "English (Professional working proficiency)\n",
      "\n",
      "Marathi (Native or Bilingual proficiency)\n",
      "\n",
      "Hindi (Professional working proficiency)\n",
      "\n",
      "\n",
      "\n",
      "GENERAL RECOMMENDATIONS\n",
      "\n",
      "Things to do on LinkedIn to stand out among Job Seekers:\n",
      "\n",
      "\n",
      "\n",
      "1. See connections of your LinkedIn connections: Nowadays, networking will fetch you a job in any organization. LinkedIn has made it easier to expand he network with a \"Connections of\" filter that lets you see your connections' connections.\n",
      "\n",
      "\n",
      "\n",
      "How to use the feature:\n",
      "\n",
      "\n",
      "\n",
      "a) Go to your LinkedIn home page and click on \"See Connections\" in the right-side bar\n",
      "\n",
      "\n",
      "\n",
      "b) Choose the \"Connections of\" filter and start typing in people in your LinkedIn network whose connections you want to use\n",
      "\n",
      "\n",
      "\n",
      "c) After identifying some interesting ones, circle back to your original connections and, if appropriate, ask if they are willing to make introductions for you\n",
      "\n",
      "\n",
      "\n",
      "2. Streamline your Job Alert notifications. A job alert is a notification that comes your way when a job with specific criteria (that you determine) opens. Beyond the convenience it brings you, another compelling reason to use these is because it gives you a first mover advantage, which is a very real advantage when it comes to the job search.\n",
      "\n",
      "\n",
      "\n",
      "How to set up job alerts?\n",
      "\n",
      "\n",
      "\n",
      "• Click on the Jobs tab and then look for Update interests to set up the job titles, locations, types of jobs and company preferences\n",
      "\n",
      "\n",
      "\n",
      "•Setting up and managing emails alerts: An email alert can be created through the Job Alerts feature on the Jobs results page of LinkedIn.com:\n",
      "\n",
      "\n",
      "\n",
      "o To the right of LinkedIn's job search results page, click Create search alert.\n",
      "\n",
      "\n",
      "\n",
      "o Select how often you'd like to receive an email alert about new jobs on LinkedIn.com that fit those specific search parameters.\n",
      "\n",
      "\n",
      "\n",
      "♣ Alerts can be sent daily or weekly.\n",
      "\n",
      "\n",
      "\n",
      "♣ Check the boxes next to Email and Mobile and desktop, if you would also like to be notified of new jobs via LinkedIn.com and the LinkedIn Job Search app, if applicable.\n",
      "\n",
      "\n",
      "\n",
      "Contact recruiters, even if you’re not connected\n",
      "\n",
      "o Use your 5 InMails a month to contact anyone on LinkedIn – from a hiring manager who just posted a job that interests you to someone at a company you want to learn more about.\n",
      "\n",
      "\n",
      "\n",
      "• Stand out as a featured applicant\n",
      "\n",
      "o Get noticed by recruiters when you apply as a featured applicant. With Premium, your application comes in at the top of the list, immediately drawing the job poster’s attention.\n",
      "\n",
      "\n",
      "\n",
      "• Master skills to advance your career: Online video courses\n",
      "\n",
      "o Build the skills you need to advance your career with access to thousands of expert-led video courses in business, creative, and technology.\n",
      "\n",
      "\n",
      "\n",
      "• See who’s viewed your profile in the last 90 days, not just the last 5 viewers standard members see. You’ll be able to follow up and introduce yourself – perhaps to the recruiter who just viewed you.\n",
      "\n",
      "\n",
      "\n",
      "• Instant access to salary insights\n",
      "\n",
      "o See salary details when browsing jobs without sharing your personal data\n",
      "\n",
      "\n",
      "\n",
      "End of Document\n"
     ]
    }
   ],
   "source": [
    "address=\"/Users/vinayaksonawane/Downloads/LinkedIn Draft of Vinayak Sonawane.docx\"\n",
    "f17(address)"
   ]
  },
  {
   "cell_type": "markdown",
   "id": "c6193219",
   "metadata": {},
   "source": [
    "### Q18. A function to filter only word files from a directory"
   ]
  },
  {
   "cell_type": "code",
   "execution_count": 18,
   "id": "f20e1b44",
   "metadata": {},
   "outputs": [],
   "source": [
    "import os\n",
    "def f18 (path):\n",
    "    \"\"\"This is a function to list word files in a given directory\"\"\"\n",
    "    items = os.listdir(path)\n",
    "    print(\"Following is list of word files in given directory\")\n",
    "    for i in items:\n",
    "        file_path=path+i\n",
    "        name, extension = os.path.splitext(file_path)\n",
    "        if(extension==\".docx\" or extension==\".doc\"):\n",
    "            print(i)"
   ]
  },
  {
   "cell_type": "code",
   "execution_count": 23,
   "id": "b58b09d3",
   "metadata": {},
   "outputs": [
    {
     "ename": "NotADirectoryError",
     "evalue": "[Errno 20] Not a directory: '/Users/vinayaksonawane/Iphone.csv'",
     "output_type": "error",
     "traceback": [
      "\u001b[0;31m---------------------------------------------------------------------------\u001b[0m",
      "\u001b[0;31mNotADirectoryError\u001b[0m                        Traceback (most recent call last)",
      "\u001b[0;32m/var/folders/rf/q0z74l9x0pl5jc09_0kn0gnc0000gn/T/ipykernel_2742/3607998726.py\u001b[0m in \u001b[0;36m<module>\u001b[0;34m\u001b[0m\n\u001b[1;32m      1\u001b[0m \u001b[0mpath\u001b[0m\u001b[0;34m=\u001b[0m\u001b[0;34m\"/Users/vinayaksonawane/Iphone.csv\"\u001b[0m\u001b[0;34m\u001b[0m\u001b[0;34m\u001b[0m\u001b[0m\n\u001b[0;32m----> 2\u001b[0;31m \u001b[0mf18\u001b[0m \u001b[0;34m(\u001b[0m\u001b[0mpath\u001b[0m\u001b[0;34m)\u001b[0m\u001b[0;34m\u001b[0m\u001b[0;34m\u001b[0m\u001b[0m\n\u001b[0m",
      "\u001b[0;32m/var/folders/rf/q0z74l9x0pl5jc09_0kn0gnc0000gn/T/ipykernel_2742/3093839995.py\u001b[0m in \u001b[0;36mf18\u001b[0;34m(path)\u001b[0m\n\u001b[1;32m      2\u001b[0m \u001b[0;32mdef\u001b[0m \u001b[0mf18\u001b[0m \u001b[0;34m(\u001b[0m\u001b[0mpath\u001b[0m\u001b[0;34m)\u001b[0m\u001b[0;34m:\u001b[0m\u001b[0;34m\u001b[0m\u001b[0;34m\u001b[0m\u001b[0m\n\u001b[1;32m      3\u001b[0m     \u001b[0;34m\"\"\"This is a function to list word files in a given directory\"\"\"\u001b[0m\u001b[0;34m\u001b[0m\u001b[0;34m\u001b[0m\u001b[0m\n\u001b[0;32m----> 4\u001b[0;31m     \u001b[0mitems\u001b[0m \u001b[0;34m=\u001b[0m \u001b[0mos\u001b[0m\u001b[0;34m.\u001b[0m\u001b[0mlistdir\u001b[0m\u001b[0;34m(\u001b[0m\u001b[0mpath\u001b[0m\u001b[0;34m)\u001b[0m\u001b[0;34m\u001b[0m\u001b[0;34m\u001b[0m\u001b[0m\n\u001b[0m\u001b[1;32m      5\u001b[0m     \u001b[0mprint\u001b[0m\u001b[0;34m(\u001b[0m\u001b[0;34m\"Following is list of word files in given directory\"\u001b[0m\u001b[0;34m)\u001b[0m\u001b[0;34m\u001b[0m\u001b[0;34m\u001b[0m\u001b[0m\n\u001b[1;32m      6\u001b[0m     \u001b[0;32mfor\u001b[0m \u001b[0mi\u001b[0m \u001b[0;32min\u001b[0m \u001b[0mitems\u001b[0m\u001b[0;34m:\u001b[0m\u001b[0;34m\u001b[0m\u001b[0;34m\u001b[0m\u001b[0m\n",
      "\u001b[0;31mNotADirectoryError\u001b[0m: [Errno 20] Not a directory: '/Users/vinayaksonawane/Iphone.csv'"
     ]
    }
   ],
   "source": [
    "path=\"/Users/vinayaksonawane/Iphone.csv\"\n",
    "f18 (path)"
   ]
  },
  {
   "cell_type": "markdown",
   "id": "fad81e69",
   "metadata": {},
   "source": [
    "### Q19. A function to print ip adddress of system"
   ]
  },
  {
   "cell_type": "code",
   "execution_count": 24,
   "id": "172a9625",
   "metadata": {},
   "outputs": [],
   "source": [
    "import socket"
   ]
  },
  {
   "cell_type": "code",
   "execution_count": 26,
   "id": "d6d68922",
   "metadata": {},
   "outputs": [],
   "source": [
    "def f19 ():\n",
    "    \"\"\"This is a function to print the IP address of system\"\"\"\n",
    "    hostname = socket.gethostname()\n",
    "    local_ip = socket.gethostbyname(hostname)\n",
    "    print(\"IP address of system is:\",local_ip)"
   ]
  },
  {
   "cell_type": "code",
   "execution_count": 27,
   "id": "3c45448d",
   "metadata": {},
   "outputs": [
    {
     "name": "stdout",
     "output_type": "stream",
     "text": [
      "IP address of system is: 127.0.0.1\n"
     ]
    }
   ],
   "source": [
    "f19()"
   ]
  },
  {
   "cell_type": "markdown",
   "id": "7c5372f4",
   "metadata": {},
   "source": [
    "## Q20. A function to append two PDF files"
   ]
  },
  {
   "cell_type": "code",
   "execution_count": 29,
   "id": "1e682b6f",
   "metadata": {},
   "outputs": [],
   "source": [
    "import PyPDF2"
   ]
  },
  {
   "cell_type": "code",
   "execution_count": 40,
   "id": "86b37c4f",
   "metadata": {},
   "outputs": [],
   "source": [
    "def f20 (file1,file2):\n",
    "    \"\"\"This is a function to merge two PDF files given as input\"\"\"\n",
    "    pdf1File = open(file1, 'rb')\n",
    "    pdf2File = open(file2, 'rb')\n",
    "    pdf1Reader = PyPDF2.PdfFileReader(pdf1File)\n",
    "    pdf2Reader = PyPDF2.PdfFileReader(pdf2File)\n",
    "    pdfWriter = PyPDF2.PdfFileWriter()\n",
    "    for pageNum in range(pdf1Reader.numPages):\n",
    "        pageObj = pdf1Reader.getPage(pageNum)\n",
    "        pdfWriter.addPage(pageObj)\n",
    "    for pageNum in range(pdf2Reader.numPages):\n",
    "        pageObj = pdf2Reader.getPage(pageNum)\n",
    "        pdfWriter.addPage(pageObj)\n",
    "    pdfOutputFile = open('/Users/vinayaksonawane/Downloads/Rutuja jadhav Resume .pdf', 'wb')\n",
    "    pdfWriter.write(pdfOutputFile)\n",
    "    pdfOutputFile.close()\n",
    "    pdf1File.close()\n",
    "    pdf2File.close()"
   ]
  },
  {
   "cell_type": "code",
   "execution_count": 41,
   "id": "603785c6",
   "metadata": {},
   "outputs": [
    {
     "name": "stderr",
     "output_type": "stream",
     "text": [
      "/opt/anaconda3/lib/python3.9/site-packages/PyPDF2/_writer.py:867: UserWarning: Unable to resolve [IndirectObject: IndirectObject(12, 0)], returning NullObject instead\n",
      "  warnings.warn(\n",
      "/opt/anaconda3/lib/python3.9/site-packages/PyPDF2/_writer.py:867: UserWarning: Unable to resolve [IndirectObject: IndirectObject(14, 0)], returning NullObject instead\n",
      "  warnings.warn(\n",
      "/opt/anaconda3/lib/python3.9/site-packages/PyPDF2/_writer.py:867: UserWarning: Unable to resolve [IndirectObject: IndirectObject(15, 0)], returning NullObject instead\n",
      "  warnings.warn(\n"
     ]
    }
   ],
   "source": [
    "f1=\"/Users/vinayaksonawane/Downloads/ Rutuja's Resume.pdf\"\n",
    "f2=\"/Users/vinayaksonawane/Downloads/Rutuja jadhav Resume .pdf\"\n",
    "f20(f1,f2)"
   ]
  },
  {
   "cell_type": "code",
   "execution_count": null,
   "id": "fa1a8070",
   "metadata": {},
   "outputs": [],
   "source": []
  }
 ],
 "metadata": {
  "kernelspec": {
   "display_name": "Python 3 (ipykernel)",
   "language": "python",
   "name": "python3"
  },
  "language_info": {
   "codemirror_mode": {
    "name": "ipython",
    "version": 3
   },
   "file_extension": ".py",
   "mimetype": "text/x-python",
   "name": "python",
   "nbconvert_exporter": "python",
   "pygments_lexer": "ipython3",
   "version": "3.9.7"
  }
 },
 "nbformat": 4,
 "nbformat_minor": 5
}

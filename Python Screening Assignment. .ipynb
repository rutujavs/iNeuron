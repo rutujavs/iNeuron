{
 "cells": [
  {
   "cell_type": "markdown",
   "id": "b7c2f113",
   "metadata": {},
   "source": [
    "# 1. Create a function in python to read the text file and replace specific content of the file."
   ]
  },
  {
   "cell_type": "code",
   "execution_count": 7,
   "id": "07f83da3",
   "metadata": {},
   "outputs": [
    {
     "name": "stdout",
     "output_type": "stream",
     "text": [
      "Enter text to replace the existing contents:This is screening assignment\n",
      "Text successfully replaced\n"
     ]
    }
   ],
   "source": [
    "f = open('example.txt',\"w+\")\n",
    "f.write(\"This is placement assignment\")\n",
    "\n",
    "# Python program to replace text in a file\n",
    "s = input(\"Enter text to replace the existing contents:\")\n",
    "f = open(\"example.txt\", \"r+\")\n",
    "f.truncate(0)\n",
    "f.write(s)\n",
    "f.close()\n",
    "print(\"Text successfully replaced\")"
   ]
  },
  {
   "cell_type": "markdown",
   "id": "f4b95216",
   "metadata": {},
   "source": [
    "# 2. Demonstrate use of abstract class, multiple inheritance and decorator in python using examples."
   ]
  },
  {
   "cell_type": "raw",
   "id": "e965d2ac",
   "metadata": {},
   "source": [
    "The Employee class should have a property that returns the full name of an employee. In addition, it should have a method that calculates salary. The method for calculating salary should be an abstract method.\n",
    "\n",
    "The following defines the Employee abstract class:"
   ]
  },
  {
   "cell_type": "code",
   "execution_count": 10,
   "id": "ac43bf8a",
   "metadata": {},
   "outputs": [],
   "source": [
    "from abc import ABC, abstractmethod\n",
    "\n",
    "\n",
    "class Employee(ABC):\n",
    "    def __init__(self, first_name, last_name):\n",
    "        self.first_name = first_name\n",
    "        self.last_name = last_name\n",
    "\n",
    "    @property\n",
    "    def full_name(self):\n",
    "        return f\"{self.first_name} {self.last_name}\"\n",
    "\n",
    "    @abstractmethod\n",
    "    def get_salary(self):\n",
    "        pass"
   ]
  },
  {
   "cell_type": "code",
   "execution_count": null,
   "id": "a6e300e6",
   "metadata": {},
   "outputs": [],
   "source": []
  }
 ],
 "metadata": {
  "kernelspec": {
   "display_name": "Python 3 (ipykernel)",
   "language": "python",
   "name": "python3"
  },
  "language_info": {
   "codemirror_mode": {
    "name": "ipython",
    "version": 3
   },
   "file_extension": ".py",
   "mimetype": "text/x-python",
   "name": "python",
   "nbconvert_exporter": "python",
   "pygments_lexer": "ipython3",
   "version": "3.9.7"
  }
 },
 "nbformat": 4,
 "nbformat_minor": 5
}
